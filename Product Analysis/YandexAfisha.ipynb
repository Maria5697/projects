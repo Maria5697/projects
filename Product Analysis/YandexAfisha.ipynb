{
 "cells": [
  {
   "cell_type": "markdown",
   "metadata": {},
   "source": [
    "# Аналитика в Яндекс.Афише"
   ]
  },
  {
   "cell_type": "markdown",
   "metadata": {},
   "source": [
    "Яндекс.Афиша — это сервис, где можно узнать о событиях в городе и купить билеты в кино и на мероприятие. Расписание, анонсы и описание мероприятий предоставляют партнеры Яндекса и организаторы мероприятий. \n",
    "\n",
    "Имеются в распоряжении данные сервиса с июня 2017 по конец мая 2018 года:\n",
    "\n",
    "* лог сервера с данными о посещениях сайта Яндекс.Афиши,\n",
    "* выгрузка всех заказов за этот период,\n",
    "* статистика рекламных расходов.\n",
    "\n",
    "Необходимо изучить:\n",
    "\n",
    "* как люди пользуются продуктом,\n",
    "* когда они начинают покупать,\n",
    "* сколько денег приносит каждый клиент,\n",
    "* на сколько эффективны рекламные источники.\n"
   ]
  },
  {
   "cell_type": "markdown",
   "metadata": {},
   "source": [
    "## Содержание"
   ]
  },
  {
   "cell_type": "markdown",
   "metadata": {},
   "source": [
    " 1. [Описание данных](#step1)  \n",
    " 2. [Изучение данных](#step2)  \n",
    " 3. [Предобработка данных](#step3)    \n",
    " 4. [Анализ данных](#step4)\n",
    " 5. [Портрет пользователей](#step5)\n",
    " 6. [Проверка гипотез](#step6)  \n",
    " 7. [Общие выводы](#step7)"
   ]
  },
  {
   "cell_type": "markdown",
   "metadata": {},
   "source": [
    "## Описание данных<a id=\"step1\"></a> "
   ]
  },
  {
   "cell_type": "markdown",
   "metadata": {},
   "source": [
    "**Лог сервера с информацией о посещениях сайта**\n",
    "\n",
    "\n",
    "* ***Uid*** — уникальный идентификатор пользователя\n",
    "* ***Device*** — категория устройства пользователя\n",
    "* ***Start Ts*** — дата и время начала сессии\n",
    "* ***End Ts*** — дата и время окончания сессии\n",
    "* ***Source Id*** — идентификатор рекламного источника, из которого пришел пользователь\n",
    "\n",
    "\n",
    "**Информация о заказах:**\n",
    "\n",
    "\n",
    "* ***Uid*** — уникальный id пользователя, который сделал заказ\n",
    "* ***Buy Ts*** — дата и время заказа\n",
    "* ***Revenue*** — выручка Яндекс.Афиши с этого заказа\n",
    "\n",
    "\n",
    "**Информация о затратах на маркетинг:**\n",
    "\n",
    "\n",
    "* ***source_id*** — идентификатор рекламного источника\n",
    "* ***dt*** — дата\n",
    "* ***costs*** — затраты на этот рекламный источник в этот день"
   ]
  },
  {
   "cell_type": "markdown",
   "metadata": {},
   "source": [
    "## Изучение данных <a id=\"step2\"></a> "
   ]
  },
  {
   "cell_type": "code",
   "execution_count": 1,
   "metadata": {},
   "outputs": [],
   "source": [
    "#импорт необходимых библиотек\n",
    "import pandas as pd\n",
    "import numpy as np\n",
    "import matplotlib.pyplot as plt\n",
    "from scipy import stats as st\n",
    "import seaborn as sns\n",
    "from scipy import stats\n",
    "import warnings\n",
    "warnings.filterwarnings(\"ignore\")"
   ]
  },
  {
   "cell_type": "code",
   "execution_count": 2,
   "metadata": {},
   "outputs": [],
   "source": [
    "#загружаем данные\n",
    "visits=pd.read_csv('/datasets/visits_log.csv')\n",
    "orders=pd.read_csv('/datasets/orders_log.csv')\n",
    "costs=pd.read_csv('/datasets/costs.csv')"
   ]
  },
  {
   "cell_type": "code",
   "execution_count": 3,
   "metadata": {},
   "outputs": [
    {
     "data": {
      "text/html": [
       "<div>\n",
       "<style scoped>\n",
       "    .dataframe tbody tr th:only-of-type {\n",
       "        vertical-align: middle;\n",
       "    }\n",
       "\n",
       "    .dataframe tbody tr th {\n",
       "        vertical-align: top;\n",
       "    }\n",
       "\n",
       "    .dataframe thead th {\n",
       "        text-align: right;\n",
       "    }\n",
       "</style>\n",
       "<table border=\"1\" class=\"dataframe\">\n",
       "  <thead>\n",
       "    <tr style=\"text-align: right;\">\n",
       "      <th></th>\n",
       "      <th>Device</th>\n",
       "      <th>End Ts</th>\n",
       "      <th>Source Id</th>\n",
       "      <th>Start Ts</th>\n",
       "      <th>Uid</th>\n",
       "    </tr>\n",
       "  </thead>\n",
       "  <tbody>\n",
       "    <tr>\n",
       "      <td>0</td>\n",
       "      <td>touch</td>\n",
       "      <td>2017-12-20 17:38:00</td>\n",
       "      <td>4</td>\n",
       "      <td>2017-12-20 17:20:00</td>\n",
       "      <td>16879256277535980062</td>\n",
       "    </tr>\n",
       "    <tr>\n",
       "      <td>1</td>\n",
       "      <td>desktop</td>\n",
       "      <td>2018-02-19 17:21:00</td>\n",
       "      <td>2</td>\n",
       "      <td>2018-02-19 16:53:00</td>\n",
       "      <td>104060357244891740</td>\n",
       "    </tr>\n",
       "    <tr>\n",
       "      <td>2</td>\n",
       "      <td>touch</td>\n",
       "      <td>2017-07-01 01:54:00</td>\n",
       "      <td>5</td>\n",
       "      <td>2017-07-01 01:54:00</td>\n",
       "      <td>7459035603376831527</td>\n",
       "    </tr>\n",
       "    <tr>\n",
       "      <td>3</td>\n",
       "      <td>desktop</td>\n",
       "      <td>2018-05-20 11:23:00</td>\n",
       "      <td>9</td>\n",
       "      <td>2018-05-20 10:59:00</td>\n",
       "      <td>16174680259334210214</td>\n",
       "    </tr>\n",
       "    <tr>\n",
       "      <td>4</td>\n",
       "      <td>desktop</td>\n",
       "      <td>2017-12-27 14:06:00</td>\n",
       "      <td>3</td>\n",
       "      <td>2017-12-27 14:06:00</td>\n",
       "      <td>9969694820036681168</td>\n",
       "    </tr>\n",
       "  </tbody>\n",
       "</table>\n",
       "</div>"
      ],
      "text/plain": [
       "    Device               End Ts  Source Id             Start Ts  \\\n",
       "0    touch  2017-12-20 17:38:00          4  2017-12-20 17:20:00   \n",
       "1  desktop  2018-02-19 17:21:00          2  2018-02-19 16:53:00   \n",
       "2    touch  2017-07-01 01:54:00          5  2017-07-01 01:54:00   \n",
       "3  desktop  2018-05-20 11:23:00          9  2018-05-20 10:59:00   \n",
       "4  desktop  2017-12-27 14:06:00          3  2017-12-27 14:06:00   \n",
       "\n",
       "                    Uid  \n",
       "0  16879256277535980062  \n",
       "1    104060357244891740  \n",
       "2   7459035603376831527  \n",
       "3  16174680259334210214  \n",
       "4   9969694820036681168  "
      ]
     },
     "execution_count": 3,
     "metadata": {},
     "output_type": "execute_result"
    }
   ],
   "source": [
    "visits.head()"
   ]
  },
  {
   "cell_type": "markdown",
   "metadata": {},
   "source": [
    "Наименования перменных начинаются с верхнего регистра, для дальнейшего удобства работы с данными необходимо будет привести названия столбцов к нижнему регистру, а также избавиться от пробелов."
   ]
  },
  {
   "cell_type": "code",
   "execution_count": 4,
   "metadata": {},
   "outputs": [
    {
     "name": "stdout",
     "output_type": "stream",
     "text": [
      "<class 'pandas.core.frame.DataFrame'>\n",
      "RangeIndex: 359400 entries, 0 to 359399\n",
      "Data columns (total 5 columns):\n",
      "Device       359400 non-null object\n",
      "End Ts       359400 non-null object\n",
      "Source Id    359400 non-null int64\n",
      "Start Ts     359400 non-null object\n",
      "Uid          359400 non-null uint64\n",
      "dtypes: int64(1), object(3), uint64(1)\n",
      "memory usage: 13.7+ MB\n"
     ]
    }
   ],
   "source": [
    "visits.info()"
   ]
  },
  {
   "cell_type": "markdown",
   "metadata": {},
   "source": [
    "Переменные даты и времени начала и окнчания сессии необходимо будет привести к соответсвующему типу данных *date time*. Пропущенные значения отсутствуют."
   ]
  },
  {
   "cell_type": "code",
   "execution_count": 5,
   "metadata": {},
   "outputs": [
    {
     "data": {
      "text/plain": [
       "0"
      ]
     },
     "execution_count": 5,
     "metadata": {},
     "output_type": "execute_result"
    }
   ],
   "source": [
    "#проверка наличия дублирующих строк\n",
    "visits.duplicated().sum()"
   ]
  },
  {
   "cell_type": "code",
   "execution_count": 6,
   "metadata": {},
   "outputs": [
    {
     "data": {
      "text/plain": [
       "array(['touch', 'desktop'], dtype=object)"
      ]
     },
     "execution_count": 6,
     "metadata": {},
     "output_type": "execute_result"
    }
   ],
   "source": [
    "#проверка дублирующих значений в наименовании категории устройства\n",
    "visits['Device'].unique()"
   ]
  },
  {
   "cell_type": "markdown",
   "metadata": {},
   "source": [
    "Дублирующие строки и значения отсутсвуют."
   ]
  },
  {
   "cell_type": "code",
   "execution_count": 7,
   "metadata": {},
   "outputs": [
    {
     "data": {
      "text/html": [
       "<div>\n",
       "<style scoped>\n",
       "    .dataframe tbody tr th:only-of-type {\n",
       "        vertical-align: middle;\n",
       "    }\n",
       "\n",
       "    .dataframe tbody tr th {\n",
       "        vertical-align: top;\n",
       "    }\n",
       "\n",
       "    .dataframe thead th {\n",
       "        text-align: right;\n",
       "    }\n",
       "</style>\n",
       "<table border=\"1\" class=\"dataframe\">\n",
       "  <thead>\n",
       "    <tr style=\"text-align: right;\">\n",
       "      <th></th>\n",
       "      <th>Device</th>\n",
       "      <th>End Ts</th>\n",
       "      <th>Source Id</th>\n",
       "      <th>Start Ts</th>\n",
       "      <th>Uid</th>\n",
       "    </tr>\n",
       "  </thead>\n",
       "  <tbody>\n",
       "    <tr>\n",
       "      <td>4181</td>\n",
       "      <td>desktop</td>\n",
       "      <td>2018-03-25 03:18:00</td>\n",
       "      <td>3</td>\n",
       "      <td>2018-03-25 03:50:00</td>\n",
       "      <td>13092152539246794986</td>\n",
       "    </tr>\n",
       "    <tr>\n",
       "      <td>177972</td>\n",
       "      <td>desktop</td>\n",
       "      <td>2018-03-25 03:09:00</td>\n",
       "      <td>9</td>\n",
       "      <td>2018-03-25 03:55:00</td>\n",
       "      <td>4621202742905035453</td>\n",
       "    </tr>\n",
       "  </tbody>\n",
       "</table>\n",
       "</div>"
      ],
      "text/plain": [
       "         Device               End Ts  Source Id             Start Ts  \\\n",
       "4181    desktop  2018-03-25 03:18:00          3  2018-03-25 03:50:00   \n",
       "177972  desktop  2018-03-25 03:09:00          9  2018-03-25 03:55:00   \n",
       "\n",
       "                         Uid  \n",
       "4181    13092152539246794986  \n",
       "177972   4621202742905035453  "
      ]
     },
     "execution_count": 7,
     "metadata": {},
     "output_type": "execute_result"
    }
   ],
   "source": [
    "#проверка наличия аномальных значений\n",
    "visits[visits['End Ts'] < visits['Start Ts']]"
   ]
  },
  {
   "cell_type": "markdown",
   "metadata": {},
   "source": [
    "В данных о посещениях сайта есть два наблюдения, где время начала сеанса позже времени его окончания, что не может отражать реальную картину. Вероятно, при выгрузке данных произошла техническая ошибка. Учитывая, что таких строк всего 2 из 359400, данные наблюдения можно удалить без какого-либо сущетсвенного искажения дальнейших результатов исследования."
   ]
  },
  {
   "cell_type": "code",
   "execution_count": 8,
   "metadata": {},
   "outputs": [
    {
     "data": {
      "text/html": [
       "<div>\n",
       "<style scoped>\n",
       "    .dataframe tbody tr th:only-of-type {\n",
       "        vertical-align: middle;\n",
       "    }\n",
       "\n",
       "    .dataframe tbody tr th {\n",
       "        vertical-align: top;\n",
       "    }\n",
       "\n",
       "    .dataframe thead th {\n",
       "        text-align: right;\n",
       "    }\n",
       "</style>\n",
       "<table border=\"1\" class=\"dataframe\">\n",
       "  <thead>\n",
       "    <tr style=\"text-align: right;\">\n",
       "      <th></th>\n",
       "      <th>Buy Ts</th>\n",
       "      <th>Revenue</th>\n",
       "      <th>Uid</th>\n",
       "    </tr>\n",
       "  </thead>\n",
       "  <tbody>\n",
       "    <tr>\n",
       "      <td>0</td>\n",
       "      <td>2017-06-01 00:10:00</td>\n",
       "      <td>17.00</td>\n",
       "      <td>10329302124590727494</td>\n",
       "    </tr>\n",
       "    <tr>\n",
       "      <td>1</td>\n",
       "      <td>2017-06-01 00:25:00</td>\n",
       "      <td>0.55</td>\n",
       "      <td>11627257723692907447</td>\n",
       "    </tr>\n",
       "    <tr>\n",
       "      <td>2</td>\n",
       "      <td>2017-06-01 00:27:00</td>\n",
       "      <td>0.37</td>\n",
       "      <td>17903680561304213844</td>\n",
       "    </tr>\n",
       "    <tr>\n",
       "      <td>3</td>\n",
       "      <td>2017-06-01 00:29:00</td>\n",
       "      <td>0.55</td>\n",
       "      <td>16109239769442553005</td>\n",
       "    </tr>\n",
       "    <tr>\n",
       "      <td>4</td>\n",
       "      <td>2017-06-01 07:58:00</td>\n",
       "      <td>0.37</td>\n",
       "      <td>14200605875248379450</td>\n",
       "    </tr>\n",
       "  </tbody>\n",
       "</table>\n",
       "</div>"
      ],
      "text/plain": [
       "                Buy Ts  Revenue                   Uid\n",
       "0  2017-06-01 00:10:00    17.00  10329302124590727494\n",
       "1  2017-06-01 00:25:00     0.55  11627257723692907447\n",
       "2  2017-06-01 00:27:00     0.37  17903680561304213844\n",
       "3  2017-06-01 00:29:00     0.55  16109239769442553005\n",
       "4  2017-06-01 07:58:00     0.37  14200605875248379450"
      ]
     },
     "execution_count": 8,
     "metadata": {},
     "output_type": "execute_result"
    }
   ],
   "source": [
    "orders.head()"
   ]
  },
  {
   "cell_type": "markdown",
   "metadata": {},
   "source": [
    "Наименования перменных начинаются с верхнего регистра, для дальнейшего удобства работы с данными необходимо будет привести названия столбцов к нижнему регистру."
   ]
  },
  {
   "cell_type": "code",
   "execution_count": 9,
   "metadata": {},
   "outputs": [
    {
     "name": "stdout",
     "output_type": "stream",
     "text": [
      "<class 'pandas.core.frame.DataFrame'>\n",
      "RangeIndex: 50415 entries, 0 to 50414\n",
      "Data columns (total 3 columns):\n",
      "Buy Ts     50415 non-null object\n",
      "Revenue    50415 non-null float64\n",
      "Uid        50415 non-null uint64\n",
      "dtypes: float64(1), object(1), uint64(1)\n",
      "memory usage: 1.2+ MB\n"
     ]
    }
   ],
   "source": [
    "orders.info()"
   ]
  },
  {
   "cell_type": "markdown",
   "metadata": {},
   "source": [
    "Переменную даты и времени покупки необходимо будет привести к соответсвующему типу данных *date time*. Пропущенные значения отсутствуют."
   ]
  },
  {
   "cell_type": "code",
   "execution_count": 10,
   "metadata": {},
   "outputs": [
    {
     "data": {
      "text/plain": [
       "0"
      ]
     },
     "execution_count": 10,
     "metadata": {},
     "output_type": "execute_result"
    }
   ],
   "source": [
    "#проверка наличия дублирующих строк\n",
    "visits.duplicated().sum()"
   ]
  },
  {
   "cell_type": "markdown",
   "metadata": {},
   "source": [
    "Дублирующие строки отсутствуют."
   ]
  },
  {
   "cell_type": "code",
   "execution_count": 11,
   "metadata": {},
   "outputs": [
    {
     "data": {
      "text/html": [
       "<div>\n",
       "<style scoped>\n",
       "    .dataframe tbody tr th:only-of-type {\n",
       "        vertical-align: middle;\n",
       "    }\n",
       "\n",
       "    .dataframe tbody tr th {\n",
       "        vertical-align: top;\n",
       "    }\n",
       "\n",
       "    .dataframe thead th {\n",
       "        text-align: right;\n",
       "    }\n",
       "</style>\n",
       "<table border=\"1\" class=\"dataframe\">\n",
       "  <thead>\n",
       "    <tr style=\"text-align: right;\">\n",
       "      <th></th>\n",
       "      <th>source_id</th>\n",
       "      <th>dt</th>\n",
       "      <th>costs</th>\n",
       "    </tr>\n",
       "  </thead>\n",
       "  <tbody>\n",
       "    <tr>\n",
       "      <td>0</td>\n",
       "      <td>1</td>\n",
       "      <td>2017-06-01</td>\n",
       "      <td>75.20</td>\n",
       "    </tr>\n",
       "    <tr>\n",
       "      <td>1</td>\n",
       "      <td>1</td>\n",
       "      <td>2017-06-02</td>\n",
       "      <td>62.25</td>\n",
       "    </tr>\n",
       "    <tr>\n",
       "      <td>2</td>\n",
       "      <td>1</td>\n",
       "      <td>2017-06-03</td>\n",
       "      <td>36.53</td>\n",
       "    </tr>\n",
       "    <tr>\n",
       "      <td>3</td>\n",
       "      <td>1</td>\n",
       "      <td>2017-06-04</td>\n",
       "      <td>55.00</td>\n",
       "    </tr>\n",
       "    <tr>\n",
       "      <td>4</td>\n",
       "      <td>1</td>\n",
       "      <td>2017-06-05</td>\n",
       "      <td>57.08</td>\n",
       "    </tr>\n",
       "  </tbody>\n",
       "</table>\n",
       "</div>"
      ],
      "text/plain": [
       "   source_id          dt  costs\n",
       "0          1  2017-06-01  75.20\n",
       "1          1  2017-06-02  62.25\n",
       "2          1  2017-06-03  36.53\n",
       "3          1  2017-06-04  55.00\n",
       "4          1  2017-06-05  57.08"
      ]
     },
     "execution_count": 11,
     "metadata": {},
     "output_type": "execute_result"
    }
   ],
   "source": [
    "costs.head()"
   ]
  },
  {
   "cell_type": "code",
   "execution_count": 12,
   "metadata": {},
   "outputs": [
    {
     "name": "stdout",
     "output_type": "stream",
     "text": [
      "<class 'pandas.core.frame.DataFrame'>\n",
      "RangeIndex: 2542 entries, 0 to 2541\n",
      "Data columns (total 3 columns):\n",
      "source_id    2542 non-null int64\n",
      "dt           2542 non-null object\n",
      "costs        2542 non-null float64\n",
      "dtypes: float64(1), int64(1), object(1)\n",
      "memory usage: 59.7+ KB\n"
     ]
    }
   ],
   "source": [
    "costs.info()"
   ]
  },
  {
   "cell_type": "markdown",
   "metadata": {},
   "source": [
    "Переменную даты необходимо привести к соответсвующему типу данных date time."
   ]
  },
  {
   "cell_type": "code",
   "execution_count": 13,
   "metadata": {},
   "outputs": [
    {
     "data": {
      "text/plain": [
       "0"
      ]
     },
     "execution_count": 13,
     "metadata": {},
     "output_type": "execute_result"
    }
   ],
   "source": [
    "costs.duplicated().sum()"
   ]
  },
  {
   "cell_type": "markdown",
   "metadata": {},
   "source": [
    "Дублирующие строки отсутствуют."
   ]
  },
  {
   "cell_type": "markdown",
   "metadata": {},
   "source": [
    "### Вывод"
   ]
  },
  {
   "cell_type": "markdown",
   "metadata": {},
   "source": [
    "В результате первичного изучения данных таблиц пропущенные и дублирующие значения не были обнаружены, однако на этапе предобработки необходимо:\n",
    "\n",
    "   - наименования переменных, где необходимо, привести к нижнему регистру;\n",
    "   - перменнные даты  привести к соответсвующему типу данных;\n",
    "   - удалить аномальные значения, где время начала сессии позже её окончания\n",
    "  "
   ]
  },
  {
   "cell_type": "markdown",
   "metadata": {},
   "source": [
    "## Предобработка данных <a id=\"step3\"></a> "
   ]
  },
  {
   "cell_type": "markdown",
   "metadata": {},
   "source": [
    "* **Приведение наименования перменных к нижнему регистру и замена пробелов**"
   ]
  },
  {
   "cell_type": "code",
   "execution_count": 14,
   "metadata": {},
   "outputs": [],
   "source": [
    "visits.columns = visits.columns.str.lower()\n",
    "orders.columns = orders.columns.str.lower()"
   ]
  },
  {
   "cell_type": "code",
   "execution_count": 15,
   "metadata": {},
   "outputs": [],
   "source": [
    "visits.columns = ['device', 'end_ts', 'source_id', 'start_ts', 'uid']"
   ]
  },
  {
   "cell_type": "code",
   "execution_count": 16,
   "metadata": {},
   "outputs": [],
   "source": [
    "orders.columns = ['buy_ts', 'revenue', 'uid']"
   ]
  },
  {
   "cell_type": "markdown",
   "metadata": {},
   "source": [
    "* **Замена типа данных на соответсвующий**"
   ]
  },
  {
   "cell_type": "code",
   "execution_count": 17,
   "metadata": {},
   "outputs": [],
   "source": [
    "visits['end_ts']=pd.to_datetime(visits['end_ts'])\n",
    "visits['start_ts']=pd.to_datetime(visits['start_ts'])\n",
    "orders['buy_ts']=pd.to_datetime(orders['buy_ts'])\n",
    "costs['dt']=pd.to_datetime(costs['dt'])"
   ]
  },
  {
   "cell_type": "markdown",
   "metadata": {},
   "source": [
    "* **Удаление аномальных значений**"
   ]
  },
  {
   "cell_type": "code",
   "execution_count": 18,
   "metadata": {},
   "outputs": [],
   "source": [
    "#создаем срез, который включает только корректные наблюдения\n",
    "visits=visits.query('end_ts>=start_ts')"
   ]
  },
  {
   "cell_type": "markdown",
   "metadata": {},
   "source": [
    "### Вывод"
   ]
  },
  {
   "cell_type": "markdown",
   "metadata": {},
   "source": [
    "На данном этапе мы переименовали названия переменных для дальнейшего удобства их использования, заменили тип данных, где это было необходимо, а также исключили наблюдения с аномальными значениями. Теперь, данные подготовлены для дальнейшего исследования и анализа."
   ]
  },
  {
   "cell_type": "markdown",
   "metadata": {},
   "source": [
    "## Анализ данных<a id=\"step4\"></a> "
   ]
  },
  {
   "cell_type": "code",
   "execution_count": 19,
   "metadata": {},
   "outputs": [
    {
     "data": {
      "text/plain": [
       "count                  359398\n",
       "unique                 224301\n",
       "top       2017-11-24 16:06:00\n",
       "freq                       19\n",
       "first     2017-06-01 00:01:00\n",
       "last      2018-05-31 23:59:00\n",
       "Name: start_ts, dtype: object"
      ]
     },
     "execution_count": 19,
     "metadata": {},
     "output_type": "execute_result"
    }
   ],
   "source": [
    "visits['start_ts'].describe()"
   ]
  },
  {
   "cell_type": "markdown",
   "metadata": {},
   "source": [
    "В базе содержатся данные о посещениях сайта в период с 1 июня 2017 по 31 мая 2018 года, то есть в течение 1 года. "
   ]
  },
  {
   "cell_type": "code",
   "execution_count": 20,
   "metadata": {},
   "outputs": [],
   "source": [
    "#извлекем из даты посещений необходимые единицы\n",
    "visits['date']= visits['start_ts'].dt.date\n",
    "visits['day'] = visits['start_ts'].dt.weekday\n",
    "visits['month'] = visits['start_ts'].dt.strftime('%Y-%m') \n",
    "visits['week'] = visits['start_ts'].dt.week"
   ]
  },
  {
   "cell_type": "code",
   "execution_count": 21,
   "metadata": {},
   "outputs": [
    {
     "data": {
      "image/png": "[encoded data removed]",
      "text/plain": [
       "<Figure size 720x432 with 1 Axes>"
      ]
     },
     "metadata": {
      "needs_background": "light"
     },
     "output_type": "display_data"
    },
    {
     "data": {
      "image/png": "[encoded data removed]",
      "text/plain": [
       "<Figure size 720x432 with 1 Axes>"
      ]
     },
     "metadata": {
      "needs_background": "light"
     },
     "output_type": "display_data"
    }
   ],
   "source": [
    "dict_label= {'day':{'title':'Количество посещений по дням','xlabel':'Дням недели'},\n",
    "             'month':{'title':'Количество посещений по месяцам','xlabel':'Месяц'}}           \n",
    "\n",
    "for key, value in dict_label.items():\n",
    "    visits.groupby([key]).agg({'uid': 'nunique'}).plot(kind='bar',figsize=(10,6))\n",
    "    plt.xlabel(value['xlabel'])\n",
    "    plt.ylabel('Количество уникальных посетителей')\n",
    "    plt.title(value['title'])\n",
    "    plt.legend().remove()\n",
    "    plt.show()"
   ]
  },
  {
   "cell_type": "markdown",
   "metadata": {},
   "source": [
    "На графике можно заметить, что наибольшее количество посещений обычно наблюдается в четверг, что ожидаемо, так как люди примерно к концу рабочей недели начинают задумываться, о том как организовать свой досуг в пятницу вечером и на выходных, а значит спрос на сервис Яндекс.Афиша заметно увеличивается. В выходные, также ожидаемо наблюдается снижение спроса, потому что как правило пользователи редко покупают билеты на мероприятия день в день.\n",
    "\n",
    "Что касается спроса в течение года, то сервисом больше всего пользуются с октября по декабрь, самая низкая востребованность зафиксирована в летний период. Вероятно, с октября по декабрь пользователи планируют педпразничный и праздничный новогодний досуг, что же касается летнего периода, обычно в это время проводится достаточно много фестивалей, билеты на которые чаще всего раскупаются еще весной и нет каких либо предпосылок ожидать высокого интереса со стороны пользователей в данное время года."
   ]
  },
  {
   "cell_type": "markdown",
   "metadata": {},
   "source": [
    "### Продукт"
   ]
  },
  {
   "cell_type": "markdown",
   "metadata": {},
   "source": [
    "* **Сколько людей пользуются в день, неделю, месяц?**"
   ]
  },
  {
   "cell_type": "code",
   "execution_count": 22,
   "metadata": {},
   "outputs": [
    {
     "name": "stdout",
     "output_type": "stream",
     "text": [
      "Среднее количество пользователей в день (DAU): 908\n",
      "Среднее количество пользователей в неделю (WAU): 5825\n",
      "Среднее количество пользователей в месяц (MAU): 23228\n"
     ]
    }
   ],
   "source": [
    "dau_total = visits.groupby(['date']).agg({'uid': 'nunique'}).mean()\n",
    "print('Среднее количество пользователей в день (DAU): {0:.0f}'.format(dau_total[0]))\n",
    "\n",
    "wau_total = visits.groupby(['week']).agg({'uid': 'nunique'}).mean()\n",
    "print('Среднее количество пользователей в неделю (WAU): {0:.0f}'.format(wau_total[0]))\n",
    "\n",
    "mau_total = visits.groupby(['month']).agg({'uid': 'nunique'}).mean()\n",
    "print('Среднее количество пользователей в месяц (MAU): {0:.0f}'.format(mau_total[0]))\n"
   ]
  },
  {
   "cell_type": "code",
   "execution_count": 23,
   "metadata": {},
   "outputs": [
    {
     "name": "stdout",
     "output_type": "stream",
     "text": [
      "DAU/MAU: 3.9%\n",
      "DAU/WAU: 15.6%\n"
     ]
    }
   ],
   "source": [
    "sticky_mau = dau_total/mau_total\n",
    "sticky_wau = dau_total/wau_total\n",
    "print('DAU/MAU: {0:.1%}'.format( sticky_mau[0]))\n",
    "print('DAU/WAU: {0:.1%}'.format(sticky_wau[0]))"
   ]
  },
  {
   "cell_type": "markdown",
   "metadata": {},
   "source": [
    "В месяц около 3.9% пользователей, который пользуются сервисом Яндекс.Афиша каждый день. В неделю же - около 15.6% пользователей, заходящих на сайт на ежедневной основе. \n",
    "\n",
    "\n",
    "Посмотрим на sticky factor в разрезе используемого устройства. Для начала для каждого типа устройства рассчитаем DAU, WAU, MAU."
   ]
  },
  {
   "cell_type": "code",
   "execution_count": 24,
   "metadata": {},
   "outputs": [
    {
     "name": "stdout",
     "output_type": "stream",
     "text": [
      "Среднее количество пользователей в день на десктопе (DAU): 908\n",
      "Среднее количество пользователей в неделю на десктопе (WAU): 5825\n",
      "Среднее количество пользователей в месяц на десктопе (MAU): 23228\n"
     ]
    }
   ],
   "source": [
    "dau_total_d = visits.query('device==\"desktop\"').groupby(['date']).agg({'uid': 'nunique'}).mean()\n",
    "print('Среднее количество пользователей в день на десктопе (DAU): {0:.0f}'.format(dau_total[0]))\n",
    "\n",
    "wau_total_d = visits.query('device==\"desktop\"').groupby(['week']).agg({'uid': 'nunique'}).mean()\n",
    "print('Среднее количество пользователей в неделю на десктопе (WAU): {0:.0f}'.format(wau_total[0]))\n",
    "\n",
    "mau_total_d = visits.query('device==\"desktop\"').groupby(['month']).agg({'uid': 'nunique'}).mean()\n",
    "print('Среднее количество пользователей в месяц на десктопе (MAU): {0:.0f}'.format(mau_total[0]))\n"
   ]
  },
  {
   "cell_type": "code",
   "execution_count": 25,
   "metadata": {},
   "outputs": [
    {
     "name": "stdout",
     "output_type": "stream",
     "text": [
      "Среднее количество пользователей в день на touch (DAU): 908\n",
      "Среднее количество пользователей в неделю на touch  (WAU): 5825\n",
      "Среднее количество пользователей в месяц на touch (MAU): 23228\n"
     ]
    }
   ],
   "source": [
    "dau_total_t = visits.query('device==\"touch\"').groupby(['date']).agg({'uid': 'nunique'}).mean()\n",
    "print('Среднее количество пользователей в день на touch (DAU): {0:.0f}'.format(dau_total[0]))\n",
    "\n",
    "wau_total_t = visits.query('device==\"touch\"').groupby(['week']).agg({'uid': 'nunique'}).mean()\n",
    "print('Среднее количество пользователей в неделю на touch  (WAU): {0:.0f}'.format(wau_total[0]))\n",
    "\n",
    "mau_total_t = visits.query('device==\"touch\"').groupby(['month']).agg({'uid': 'nunique'}).mean()\n",
    "print('Среднее количество пользователей в месяц на touch (MAU): {0:.0f}'.format(mau_total[0]))\n"
   ]
  },
  {
   "cell_type": "code",
   "execution_count": 26,
   "metadata": {},
   "outputs": [
    {
     "name": "stdout",
     "output_type": "stream",
     "text": [
      "DAU/MAU desktop: 3.9%\n",
      "DAU/WAU desktop: 15.7%\n"
     ]
    }
   ],
   "source": [
    "sticky_mau_d = dau_total_d/mau_total_d\n",
    "sticky_wau_d = dau_total_d/wau_total_d\n",
    "print('DAU/MAU desktop: {0:.1%}'.format( sticky_mau_d[0]))\n",
    "print('DAU/WAU desktop: {0:.1%}'.format(sticky_wau_d[0]))"
   ]
  },
  {
   "cell_type": "code",
   "execution_count": 27,
   "metadata": {},
   "outputs": [
    {
     "name": "stdout",
     "output_type": "stream",
     "text": [
      "DAU/MAU touch: 3.7%\n",
      "DAU/WAU touch: 15.2%\n"
     ]
    }
   ],
   "source": [
    "sticky_mau_t = dau_total_t/mau_total_t\n",
    "sticky_wau_t = dau_total_t/wau_total_t\n",
    "print('DAU/MAU touch: {0:.1%}'.format( sticky_mau_t[0]))\n",
    "print('DAU/WAU touch: {0:.1%}'.format(sticky_wau_t[0]))"
   ]
  },
  {
   "cell_type": "markdown",
   "metadata": {},
   "source": [
    "Процент пользоваталей,использующих сервис каждый день в месяц (неделю) на мобильных устройствах ниже в сравнении с десктопом, однако не значительно."
   ]
  },
  {
   "cell_type": "markdown",
   "metadata": {},
   "source": [
    "* **Сколько сессий в день?**"
   ]
  },
  {
   "cell_type": "code",
   "execution_count": 28,
   "metadata": {},
   "outputs": [
    {
     "name": "stdout",
     "output_type": "stream",
     "text": [
      "Среднее количество сессий в день: 987.36\n"
     ]
    }
   ],
   "source": [
    "session=visits.groupby('date').agg({'uid': 'count'}).mean()\n",
    "print('Среднее количество сессий в день: {0:.2f}'.format(session[0]))\n"
   ]
  },
  {
   "cell_type": "code",
   "execution_count": 29,
   "metadata": {},
   "outputs": [
    {
     "name": "stdout",
     "output_type": "stream",
     "text": [
      "Среднее количество сессий в день на мобильных устройствах: 266.76\n"
     ]
    }
   ],
   "source": [
    "session_touch=visits.query('device==\"touch\"').groupby('date').agg({'uid': 'count'}).mean()\n",
    "print('Среднее количество сессий в день на мобильных устройствах: {0:.2f}'.format(session_touch[0]))"
   ]
  },
  {
   "cell_type": "code",
   "execution_count": 30,
   "metadata": {},
   "outputs": [
    {
     "name": "stdout",
     "output_type": "stream",
     "text": [
      "Среднее количество сессий в день на десктопе: 721.33\n"
     ]
    }
   ],
   "source": [
    "session_desk=visits.query('device==\"desktop\"').groupby('date').agg({'uid': 'count'}).mean()\n",
    "print('Среднее количество сессий в день на десктопе: {0:.2f}'.format(session_desk[0]))"
   ]
  },
  {
   "cell_type": "code",
   "execution_count": 31,
   "metadata": {},
   "outputs": [],
   "source": [
    "desk_share=session_desk/session*100\n",
    "touch_share=100-desk_share"
   ]
  },
  {
   "cell_type": "code",
   "execution_count": 32,
   "metadata": {},
   "outputs": [
    {
     "data": {
      "image/png": "[encoded data removed]",
      "text/plain": [
       "<Figure size 720x504 with 1 Axes>"
      ]
     },
     "metadata": {},
     "output_type": "display_data"
    }
   ],
   "source": [
    "names = ['Desktop', 'Touch'] \n",
    "  \n",
    "data = [desk_share,touch_share] \n",
    "  \n",
    "fig = plt.figure(figsize =(10, 7)) \n",
    "explode = (0, 0.1)\n",
    "plt.pie(data, labels = names, autopct='%1.1f%%',\n",
    "        shadow=True, startangle=90, explode=explode) \n",
    "  \n",
    "plt.title('Соотношение количества сессий на устройствах')\n",
    "plt.show()"
   ]
  },
  {
   "cell_type": "markdown",
   "metadata": {},
   "source": [
    "Несмотря на то, что в последнее время идет общий тренд на рост использования сервисов с мобильных устройств, около 73% всех сессий Яндекс.Афиши проходят на десктопе. Возможно, интерфейс мобильного сайта не очень удобен для пользователя, например, с точки зрения выбора мест на схемах больших концертных залов."
   ]
  },
  {
   "cell_type": "markdown",
   "metadata": {},
   "source": [
    "* **Сколько длится одна сессия?**"
   ]
  },
  {
   "cell_type": "code",
   "execution_count": 33,
   "metadata": {},
   "outputs": [
    {
     "data": {
      "image/png": "[encoded data removed]",
      "text/plain": [
       "<Figure size 504x360 with 1 Axes>"
      ]
     },
     "metadata": {
      "needs_background": "light"
     },
     "output_type": "display_data"
    }
   ],
   "source": [
    "visits['duration'] = (visits['end_ts'] - visits['start_ts']).dt.seconds\n",
    "visits['duration'].hist(bins=50, figsize=(7,5))\n",
    "plt.xlabel('Продолжительность сессии в секундах')\n",
    "plt.ylabel('Количество наблюдений')\n",
    "plt.title('Распределение продолжительности сессий')\n",
    "plt.show()"
   ]
  },
  {
   "cell_type": "markdown",
   "metadata": {},
   "source": [
    "Распределение продолжительности сессий не имеет форму нормального распределения, а ближе к распределению Пуассона, значит, для рассчета средней продолжительности сессии будет целесообразно рассчитать наиболее часто встречаемое значение-моду."
   ]
  },
  {
   "cell_type": "code",
   "execution_count": 34,
   "metadata": {},
   "outputs": [
    {
     "data": {
      "text/plain": [
       "0    60\n",
       "dtype: int64"
      ]
     },
     "execution_count": 34,
     "metadata": {},
     "output_type": "execute_result"
    }
   ],
   "source": [
    "visits['duration'].mode()"
   ]
  },
  {
   "cell_type": "markdown",
   "metadata": {},
   "source": [
    "Средняя продолжительность сессии составляет минуту. Достаточно мало для того, чтобы изучить график предстоящих мероприятий, выбрать желаемое и совершить покупку, однако, возможно, достаточно для того, чтобы совершить покупку билета, если переход был осуществлен по ссылке, которая направляла на покупку билета конкретного события."
   ]
  },
  {
   "cell_type": "code",
   "execution_count": 35,
   "metadata": {},
   "outputs": [
    {
     "data": {
      "text/plain": [
       "0.09959432161559051"
      ]
     },
     "execution_count": 35,
     "metadata": {},
     "output_type": "execute_result"
    }
   ],
   "source": [
    "len(visits.query('duration==0'))/len(visits)"
   ]
  },
  {
   "cell_type": "markdown",
   "metadata": {},
   "source": [
    "Около 10% сессий не имеют продолжительности, возможно это просто случайные переходы на сайт."
   ]
  },
  {
   "cell_type": "code",
   "execution_count": 36,
   "metadata": {},
   "outputs": [
    {
     "data": {
      "image/png": "[encoded data removed]",
      "text/plain": [
       "<Figure size 576x432 with 1 Axes>"
      ]
     },
     "metadata": {
      "needs_background": "light"
     },
     "output_type": "display_data"
    }
   ],
   "source": [
    "visits.groupby('device')['duration'].hist(figsize=(8,6), bins=25, range=(0,6000), alpha=0.7)\n",
    "plt.legend(['desktop', 'touch'])\n",
    "plt.xlabel('Продолжительность сессии в секундах')\n",
    "plt.ylabel('Количество наблюдений')\n",
    "plt.title('Распределение продолжительности сессий на разных устройствах')\n",
    "plt.show()"
   ]
  },
  {
   "cell_type": "code",
   "execution_count": 37,
   "metadata": {},
   "outputs": [
    {
     "data": {
      "text/plain": [
       "device\n",
       "desktop    ([60], [35411])\n",
       "touch      ([60], [17618])\n",
       "Name: duration, dtype: object"
      ]
     },
     "execution_count": 37,
     "metadata": {},
     "output_type": "execute_result"
    }
   ],
   "source": [
    "visits.groupby('device')['duration'].apply(stats.mode)"
   ]
  },
  {
   "cell_type": "markdown",
   "metadata": {},
   "source": [
    "Средняя продолжительность сессии (мода) не различается в зависимости от используемого устройства. Возможно, выдвинутая ранее гипотеза о том, что мобильная версия сервиса менее удобна, чем версия для десктопа, может не подтвердиться. Причина популярности десктопа может крыться в чем-то другом: например, реклама настроена так, что больше привлекается трафика с десктопа.\n"
   ]
  },
  {
   "cell_type": "markdown",
   "metadata": {},
   "source": [
    "* **Как часто люди возвращаются?**"
   ]
  },
  {
   "cell_type": "code",
   "execution_count": 38,
   "metadata": {},
   "outputs": [],
   "source": [
    "#находим первую дату посещения для каждого id, присоединяем к таблице с посещениями\n",
    "first_visit_date = visits.groupby(['uid'])['start_ts'].min()\n",
    "first_visit_date.name = 'first_visit_date'\n",
    "visits = visits.join(first_visit_date,on='uid') "
   ]
  },
  {
   "cell_type": "code",
   "execution_count": 39,
   "metadata": {},
   "outputs": [
    {
     "data": {
      "text/html": [
       "<div>\n",
       "<style scoped>\n",
       "    .dataframe tbody tr th:only-of-type {\n",
       "        vertical-align: middle;\n",
       "    }\n",
       "\n",
       "    .dataframe tbody tr th {\n",
       "        vertical-align: top;\n",
       "    }\n",
       "\n",
       "    .dataframe thead th {\n",
       "        text-align: right;\n",
       "    }\n",
       "</style>\n",
       "<table border=\"1\" class=\"dataframe\">\n",
       "  <thead>\n",
       "    <tr style=\"text-align: right;\">\n",
       "      <th></th>\n",
       "      <th>device</th>\n",
       "      <th>end_ts</th>\n",
       "      <th>source_id</th>\n",
       "      <th>start_ts</th>\n",
       "      <th>uid</th>\n",
       "      <th>date</th>\n",
       "      <th>day</th>\n",
       "      <th>month</th>\n",
       "      <th>week</th>\n",
       "      <th>duration</th>\n",
       "      <th>first_visit_date</th>\n",
       "    </tr>\n",
       "  </thead>\n",
       "  <tbody>\n",
       "    <tr>\n",
       "      <td>0</td>\n",
       "      <td>touch</td>\n",
       "      <td>2017-12-20 17:38:00</td>\n",
       "      <td>4</td>\n",
       "      <td>2017-12-20 17:20:00</td>\n",
       "      <td>16879256277535980062</td>\n",
       "      <td>2017-12-20</td>\n",
       "      <td>2</td>\n",
       "      <td>2017-12</td>\n",
       "      <td>51</td>\n",
       "      <td>1080</td>\n",
       "      <td>2017-12-20 17:20:00</td>\n",
       "    </tr>\n",
       "    <tr>\n",
       "      <td>1</td>\n",
       "      <td>desktop</td>\n",
       "      <td>2018-02-19 17:21:00</td>\n",
       "      <td>2</td>\n",
       "      <td>2018-02-19 16:53:00</td>\n",
       "      <td>104060357244891740</td>\n",
       "      <td>2018-02-19</td>\n",
       "      <td>0</td>\n",
       "      <td>2018-02</td>\n",
       "      <td>8</td>\n",
       "      <td>1680</td>\n",
       "      <td>2018-02-19 16:53:00</td>\n",
       "    </tr>\n",
       "    <tr>\n",
       "      <td>2</td>\n",
       "      <td>touch</td>\n",
       "      <td>2017-07-01 01:54:00</td>\n",
       "      <td>5</td>\n",
       "      <td>2017-07-01 01:54:00</td>\n",
       "      <td>7459035603376831527</td>\n",
       "      <td>2017-07-01</td>\n",
       "      <td>5</td>\n",
       "      <td>2017-07</td>\n",
       "      <td>26</td>\n",
       "      <td>0</td>\n",
       "      <td>2017-07-01 01:54:00</td>\n",
       "    </tr>\n",
       "    <tr>\n",
       "      <td>3</td>\n",
       "      <td>desktop</td>\n",
       "      <td>2018-05-20 11:23:00</td>\n",
       "      <td>9</td>\n",
       "      <td>2018-05-20 10:59:00</td>\n",
       "      <td>16174680259334210214</td>\n",
       "      <td>2018-05-20</td>\n",
       "      <td>6</td>\n",
       "      <td>2018-05</td>\n",
       "      <td>20</td>\n",
       "      <td>1440</td>\n",
       "      <td>2018-03-09 20:05:00</td>\n",
       "    </tr>\n",
       "    <tr>\n",
       "      <td>4</td>\n",
       "      <td>desktop</td>\n",
       "      <td>2017-12-27 14:06:00</td>\n",
       "      <td>3</td>\n",
       "      <td>2017-12-27 14:06:00</td>\n",
       "      <td>9969694820036681168</td>\n",
       "      <td>2017-12-27</td>\n",
       "      <td>2</td>\n",
       "      <td>2017-12</td>\n",
       "      <td>52</td>\n",
       "      <td>0</td>\n",
       "      <td>2017-12-27 14:06:00</td>\n",
       "    </tr>\n",
       "  </tbody>\n",
       "</table>\n",
       "</div>"
      ],
      "text/plain": [
       "    device              end_ts  source_id            start_ts  \\\n",
       "0    touch 2017-12-20 17:38:00          4 2017-12-20 17:20:00   \n",
       "1  desktop 2018-02-19 17:21:00          2 2018-02-19 16:53:00   \n",
       "2    touch 2017-07-01 01:54:00          5 2017-07-01 01:54:00   \n",
       "3  desktop 2018-05-20 11:23:00          9 2018-05-20 10:59:00   \n",
       "4  desktop 2017-12-27 14:06:00          3 2017-12-27 14:06:00   \n",
       "\n",
       "                    uid        date  day    month  week  duration  \\\n",
       "0  16879256277535980062  2017-12-20    2  2017-12    51      1080   \n",
       "1    104060357244891740  2018-02-19    0  2018-02     8      1680   \n",
       "2   7459035603376831527  2017-07-01    5  2017-07    26         0   \n",
       "3  16174680259334210214  2018-05-20    6  2018-05    20      1440   \n",
       "4   9969694820036681168  2017-12-27    2  2017-12    52         0   \n",
       "\n",
       "     first_visit_date  \n",
       "0 2017-12-20 17:20:00  \n",
       "1 2018-02-19 16:53:00  \n",
       "2 2017-07-01 01:54:00  \n",
       "3 2018-03-09 20:05:00  \n",
       "4 2017-12-27 14:06:00  "
      ]
     },
     "execution_count": 39,
     "metadata": {},
     "output_type": "execute_result"
    }
   ],
   "source": [
    "visits.head()"
   ]
  },
  {
   "cell_type": "code",
   "execution_count": 40,
   "metadata": {},
   "outputs": [],
   "source": [
    "#сокращаем даты посещений и первых заходов до месяца\n",
    "visits['first_visit_month'] = visits['first_visit_date'].astype('datetime64[M]')\n",
    "visits['visit_month'] = visits['start_ts'].astype('datetime64[M]')"
   ]
  },
  {
   "cell_type": "code",
   "execution_count": 41,
   "metadata": {},
   "outputs": [],
   "source": [
    "#рассчитываем возраст когорт\n",
    "visits['cohort_lifetime'] = visits['visit_month'] - visits['first_visit_month']\n",
    "visits['cohort_lifetime'] = visits['cohort_lifetime'] / np.timedelta64(1,'M')\n",
    "visits['cohort_lifetime'] = visits['cohort_lifetime'].round().astype('int') "
   ]
  },
  {
   "cell_type": "code",
   "execution_count": 42,
   "metadata": {},
   "outputs": [],
   "source": [
    "#создаем таблицу с датой когорты, ее вощрастом и численностью\n",
    "cohorts = visits.groupby(['first_visit_month','cohort_lifetime']).agg({'uid':'nunique'}).reset_index() "
   ]
  },
  {
   "cell_type": "code",
   "execution_count": 43,
   "metadata": {},
   "outputs": [],
   "source": [
    "#выделяем в каждой когорте изначальное число пользователей\n",
    "initial_users_count = cohorts[cohorts['cohort_lifetime'] == 0][['first_visit_month','uid']]"
   ]
  },
  {
   "cell_type": "code",
   "execution_count": 44,
   "metadata": {},
   "outputs": [],
   "source": [
    "#переименовываем столбцы\n",
    "initial_users_count = initial_users_count.rename(columns={'uid':'cohort_users'}) "
   ]
  },
  {
   "cell_type": "code",
   "execution_count": 45,
   "metadata": {},
   "outputs": [],
   "source": [
    "#присоединяем к когортам первоначальное число пользователей\n",
    "cohorts = cohorts.merge(initial_users_count,on='first_visit_month') "
   ]
  },
  {
   "cell_type": "code",
   "execution_count": 46,
   "metadata": {},
   "outputs": [],
   "source": [
    "#рассчитаем retention rate\n",
    "cohorts['retention'] = cohorts['uid']/cohorts['cohort_users'] \n"
   ]
  },
  {
   "cell_type": "code",
   "execution_count": 47,
   "metadata": {},
   "outputs": [],
   "source": [
    "#строи сводную таблицу, заранее исключая нулевой возраст когорты для дальнейшей более наглядной визуализации\n",
    "retention_pivot = cohorts.query('cohort_lifetime > 0').pivot_table(index='first_visit_month',columns='cohort_lifetime',values='retention',aggfunc='sum') "
   ]
  },
  {
   "cell_type": "code",
   "execution_count": 48,
   "metadata": {},
   "outputs": [
    {
     "data": {
      "text/html": [
       "<div>\n",
       "<style scoped>\n",
       "    .dataframe tbody tr th:only-of-type {\n",
       "        vertical-align: middle;\n",
       "    }\n",
       "\n",
       "    .dataframe tbody tr th {\n",
       "        vertical-align: top;\n",
       "    }\n",
       "\n",
       "    .dataframe thead th {\n",
       "        text-align: right;\n",
       "    }\n",
       "</style>\n",
       "<table border=\"1\" class=\"dataframe\">\n",
       "  <thead>\n",
       "    <tr style=\"text-align: right;\">\n",
       "      <th>cohort_lifetime</th>\n",
       "      <th>1</th>\n",
       "      <th>2</th>\n",
       "      <th>3</th>\n",
       "      <th>4</th>\n",
       "      <th>5</th>\n",
       "      <th>6</th>\n",
       "      <th>7</th>\n",
       "      <th>8</th>\n",
       "      <th>9</th>\n",
       "      <th>10</th>\n",
       "      <th>11</th>\n",
       "    </tr>\n",
       "    <tr>\n",
       "      <th>first_visit_month</th>\n",
       "      <th></th>\n",
       "      <th></th>\n",
       "      <th></th>\n",
       "      <th></th>\n",
       "      <th></th>\n",
       "      <th></th>\n",
       "      <th></th>\n",
       "      <th></th>\n",
       "      <th></th>\n",
       "      <th></th>\n",
       "      <th></th>\n",
       "    </tr>\n",
       "  </thead>\n",
       "  <tbody>\n",
       "    <tr>\n",
       "      <td>2017-06-01</td>\n",
       "      <td>0.078664</td>\n",
       "      <td>0.053775</td>\n",
       "      <td>0.061392</td>\n",
       "      <td>0.068557</td>\n",
       "      <td>0.071423</td>\n",
       "      <td>0.061015</td>\n",
       "      <td>0.057772</td>\n",
       "      <td>0.052342</td>\n",
       "      <td>0.050833</td>\n",
       "      <td>0.040652</td>\n",
       "      <td>0.044951</td>\n",
       "    </tr>\n",
       "    <tr>\n",
       "      <td>2017-07-01</td>\n",
       "      <td>0.056088</td>\n",
       "      <td>0.051294</td>\n",
       "      <td>0.056164</td>\n",
       "      <td>0.058219</td>\n",
       "      <td>0.048174</td>\n",
       "      <td>0.045358</td>\n",
       "      <td>0.045738</td>\n",
       "      <td>0.038813</td>\n",
       "      <td>0.028615</td>\n",
       "      <td>0.027473</td>\n",
       "      <td>NaN</td>\n",
       "    </tr>\n",
       "    <tr>\n",
       "      <td>2017-08-01</td>\n",
       "      <td>0.076908</td>\n",
       "      <td>0.062862</td>\n",
       "      <td>0.062764</td>\n",
       "      <td>0.050093</td>\n",
       "      <td>0.044004</td>\n",
       "      <td>0.036342</td>\n",
       "      <td>0.039485</td>\n",
       "      <td>0.027895</td>\n",
       "      <td>0.026029</td>\n",
       "      <td>NaN</td>\n",
       "      <td>NaN</td>\n",
       "    </tr>\n",
       "    <tr>\n",
       "      <td>2017-09-01</td>\n",
       "      <td>0.085489</td>\n",
       "      <td>0.069205</td>\n",
       "      <td>0.050706</td>\n",
       "      <td>0.039392</td>\n",
       "      <td>0.037835</td>\n",
       "      <td>0.035860</td>\n",
       "      <td>0.024186</td>\n",
       "      <td>0.022809</td>\n",
       "      <td>NaN</td>\n",
       "      <td>NaN</td>\n",
       "      <td>NaN</td>\n",
       "    </tr>\n",
       "    <tr>\n",
       "      <td>2017-10-01</td>\n",
       "      <td>0.078608</td>\n",
       "      <td>0.052239</td>\n",
       "      <td>0.038958</td>\n",
       "      <td>0.034261</td>\n",
       "      <td>0.032221</td>\n",
       "      <td>0.021365</td>\n",
       "      <td>0.020364</td>\n",
       "      <td>NaN</td>\n",
       "      <td>NaN</td>\n",
       "      <td>NaN</td>\n",
       "      <td>NaN</td>\n",
       "    </tr>\n",
       "    <tr>\n",
       "      <td>2017-11-01</td>\n",
       "      <td>0.078281</td>\n",
       "      <td>0.044113</td>\n",
       "      <td>0.038682</td>\n",
       "      <td>0.033727</td>\n",
       "      <td>0.023415</td>\n",
       "      <td>0.021800</td>\n",
       "      <td>NaN</td>\n",
       "      <td>NaN</td>\n",
       "      <td>NaN</td>\n",
       "      <td>NaN</td>\n",
       "      <td>NaN</td>\n",
       "    </tr>\n",
       "    <tr>\n",
       "      <td>2017-12-01</td>\n",
       "      <td>0.055802</td>\n",
       "      <td>0.037993</td>\n",
       "      <td>0.031107</td>\n",
       "      <td>0.020263</td>\n",
       "      <td>0.019036</td>\n",
       "      <td>NaN</td>\n",
       "      <td>NaN</td>\n",
       "      <td>NaN</td>\n",
       "      <td>NaN</td>\n",
       "      <td>NaN</td>\n",
       "      <td>NaN</td>\n",
       "    </tr>\n",
       "    <tr>\n",
       "      <td>2018-01-01</td>\n",
       "      <td>0.059715</td>\n",
       "      <td>0.039339</td>\n",
       "      <td>0.024973</td>\n",
       "      <td>0.020244</td>\n",
       "      <td>NaN</td>\n",
       "      <td>NaN</td>\n",
       "      <td>NaN</td>\n",
       "      <td>NaN</td>\n",
       "      <td>NaN</td>\n",
       "      <td>NaN</td>\n",
       "      <td>NaN</td>\n",
       "    </tr>\n",
       "    <tr>\n",
       "      <td>2018-02-01</td>\n",
       "      <td>0.057080</td>\n",
       "      <td>0.025454</td>\n",
       "      <td>0.020093</td>\n",
       "      <td>NaN</td>\n",
       "      <td>NaN</td>\n",
       "      <td>NaN</td>\n",
       "      <td>NaN</td>\n",
       "      <td>NaN</td>\n",
       "      <td>NaN</td>\n",
       "      <td>NaN</td>\n",
       "      <td>NaN</td>\n",
       "    </tr>\n",
       "    <tr>\n",
       "      <td>2018-03-01</td>\n",
       "      <td>0.041818</td>\n",
       "      <td>0.027053</td>\n",
       "      <td>NaN</td>\n",
       "      <td>NaN</td>\n",
       "      <td>NaN</td>\n",
       "      <td>NaN</td>\n",
       "      <td>NaN</td>\n",
       "      <td>NaN</td>\n",
       "      <td>NaN</td>\n",
       "      <td>NaN</td>\n",
       "      <td>NaN</td>\n",
       "    </tr>\n",
       "    <tr>\n",
       "      <td>2018-04-01</td>\n",
       "      <td>0.048380</td>\n",
       "      <td>NaN</td>\n",
       "      <td>NaN</td>\n",
       "      <td>NaN</td>\n",
       "      <td>NaN</td>\n",
       "      <td>NaN</td>\n",
       "      <td>NaN</td>\n",
       "      <td>NaN</td>\n",
       "      <td>NaN</td>\n",
       "      <td>NaN</td>\n",
       "      <td>NaN</td>\n",
       "    </tr>\n",
       "  </tbody>\n",
       "</table>\n",
       "</div>"
      ],
      "text/plain": [
       "cohort_lifetime          1         2         3         4         5         6   \\\n",
       "first_visit_month                                                               \n",
       "2017-06-01         0.078664  0.053775  0.061392  0.068557  0.071423  0.061015   \n",
       "2017-07-01         0.056088  0.051294  0.056164  0.058219  0.048174  0.045358   \n",
       "2017-08-01         0.076908  0.062862  0.062764  0.050093  0.044004  0.036342   \n",
       "2017-09-01         0.085489  0.069205  0.050706  0.039392  0.037835  0.035860   \n",
       "2017-10-01         0.078608  0.052239  0.038958  0.034261  0.032221  0.021365   \n",
       "2017-11-01         0.078281  0.044113  0.038682  0.033727  0.023415  0.021800   \n",
       "2017-12-01         0.055802  0.037993  0.031107  0.020263  0.019036       NaN   \n",
       "2018-01-01         0.059715  0.039339  0.024973  0.020244       NaN       NaN   \n",
       "2018-02-01         0.057080  0.025454  0.020093       NaN       NaN       NaN   \n",
       "2018-03-01         0.041818  0.027053       NaN       NaN       NaN       NaN   \n",
       "2018-04-01         0.048380       NaN       NaN       NaN       NaN       NaN   \n",
       "\n",
       "cohort_lifetime          7         8         9         10        11  \n",
       "first_visit_month                                                    \n",
       "2017-06-01         0.057772  0.052342  0.050833  0.040652  0.044951  \n",
       "2017-07-01         0.045738  0.038813  0.028615  0.027473       NaN  \n",
       "2017-08-01         0.039485  0.027895  0.026029       NaN       NaN  \n",
       "2017-09-01         0.024186  0.022809       NaN       NaN       NaN  \n",
       "2017-10-01         0.020364       NaN       NaN       NaN       NaN  \n",
       "2017-11-01              NaN       NaN       NaN       NaN       NaN  \n",
       "2017-12-01              NaN       NaN       NaN       NaN       NaN  \n",
       "2018-01-01              NaN       NaN       NaN       NaN       NaN  \n",
       "2018-02-01              NaN       NaN       NaN       NaN       NaN  \n",
       "2018-03-01              NaN       NaN       NaN       NaN       NaN  \n",
       "2018-04-01              NaN       NaN       NaN       NaN       NaN  "
      ]
     },
     "execution_count": 48,
     "metadata": {},
     "output_type": "execute_result"
    }
   ],
   "source": [
    "retention_pivot"
   ]
  },
  {
   "cell_type": "code",
   "execution_count": 49,
   "metadata": {},
   "outputs": [
    {
     "data": {
      "image/png": "[encoded data removed]",
      "text/plain": [
       "<Figure size 864x576 with 2 Axes>"
      ]
     },
     "metadata": {},
     "output_type": "display_data"
    }
   ],
   "source": [
    "sns.set(style='white')\n",
    "plt.figure(figsize=(12, 8))\n",
    "plt.title('Когортный анализ коэффициента удержания (Retention rate)')\n",
    "ax=sns.heatmap(retention_pivot, annot=True, fmt='.1%', linewidths=1, linecolor='gray'); \n",
    "ax.set_yticklabels(retention_pivot.index.strftime('%Y-%m-%d') )\n",
    "plt.xlabel('Возраст когорты')\n",
    "plt.ylabel('Когорта')\n",
    "plt.show()"
   ]
  },
  {
   "cell_type": "markdown",
   "metadata": {},
   "source": [
    "Больше всего пользователей в первый месяц вернулось в сентябрьской когорте. В целом, лучше всего себя проявлет июньская когрта, даже на 11 месяц ее жизни вернулось около 4.5%, в то время, как в остальных когортах в последние периоды возвращалось около 2% пользователей. Июньская когорта может демонстрировать себя лучше других по возвращению пользователей по ряду причин: например, в этот период настройки таргетинга были настроены лучше, в следствие чего привлекалась качественная целевая аудитория, или же было выбрано наиболее оптимальное распределение рекламного бюджета между источниками рекламы, что в свою очередь также привлекло наиболее качественный трафик. Наиболее молодые когорты в первый месяц по сравнению с более взрослыми хуже демонстрируют себя в части возвращения пользователей. Предположить о том, что каким-то образом изменился интрфейс-сервиса, навряд и можно, так как если рассматривать июньскую когорту, то даже на одиннадцатый месяц её жизни коэффициент удержания пользователей выше, чем в первый месяц жизни мартовской когорты. "
   ]
  },
  {
   "cell_type": "markdown",
   "metadata": {},
   "source": [
    "### Вывод"
   ]
  },
  {
   "cell_type": "markdown",
   "metadata": {},
   "source": [
    "* среднее количество пользователей в день (DAU): 908;\n",
    "* среднее количество пользователей в неделю (WAU): 5825;\n",
    "* среднее количество пользователей в месяц (MAU): 23228;\n",
    "* средняя продолжительность сессии составляет 1 минуту;\n",
    "* около 73% всех сессий приходится на десктоп;\n",
    "* в первый месяц возвращается от 4.2% до 8.5% в зависимости от даты образования когорты;\n",
    "* по возвращению пользователей - лучше всего себя проявлет июньская когорта, вероятно в период привлечения её пользователей использовались наиболее эффективные интсрументы привлечения целевой аудитории, возможно стоит более подробно изучить данную когорту-выяснить, что объединяет данных пользователей, чтобы в дальнейшем применить это знание для последующих рекламных кампаний;\n",
    "* в целом, даже максимально достигнутый коэффициент удержания пользователей -8,5% нельзя назвать достаточно высоким, а  коэффициент удержания молодых когорт имеет тенденцию снижения."
   ]
  },
  {
   "cell_type": "markdown",
   "metadata": {},
   "source": [
    "### Продажи"
   ]
  },
  {
   "cell_type": "markdown",
   "metadata": {},
   "source": [
    "* **Когда люди начинают покупать?**"
   ]
  },
  {
   "cell_type": "code",
   "execution_count": 50,
   "metadata": {},
   "outputs": [],
   "source": [
    "#рассчитаем дату первого заказа для каждого клиента, совершавшего покупки\n",
    "first_order = orders.groupby('uid')['buy_ts'].min().reset_index()  \n",
    "first_order.columns=['uid','first_buy_date']"
   ]
  },
  {
   "cell_type": "code",
   "execution_count": 51,
   "metadata": {},
   "outputs": [
    {
     "data": {
      "text/plain": [
       "16.006994815246596"
      ]
     },
     "execution_count": 51,
     "metadata": {},
     "output_type": "execute_result"
    }
   ],
   "source": [
    "len(first_order)/len(first_visit_date)*100"
   ]
  },
  {
   "cell_type": "markdown",
   "metadata": {},
   "source": [
    "Видим, что только около 16% клиентов, заходивших на сайт сервиса, совершали на нем покупку."
   ]
  },
  {
   "cell_type": "code",
   "execution_count": 52,
   "metadata": {},
   "outputs": [],
   "source": [
    "#создадим таблицу с пользователями и первой датой их покупки  и захода на сайт\n",
    "orders_new = pd.merge(first_visit_date,first_order, on='uid')"
   ]
  },
  {
   "cell_type": "code",
   "execution_count": 53,
   "metadata": {},
   "outputs": [
    {
     "data": {
      "text/html": [
       "<div>\n",
       "<style scoped>\n",
       "    .dataframe tbody tr th:only-of-type {\n",
       "        vertical-align: middle;\n",
       "    }\n",
       "\n",
       "    .dataframe tbody tr th {\n",
       "        vertical-align: top;\n",
       "    }\n",
       "\n",
       "    .dataframe thead th {\n",
       "        text-align: right;\n",
       "    }\n",
       "</style>\n",
       "<table border=\"1\" class=\"dataframe\">\n",
       "  <thead>\n",
       "    <tr style=\"text-align: right;\">\n",
       "      <th></th>\n",
       "      <th>uid</th>\n",
       "      <th>first_visit_date</th>\n",
       "      <th>first_buy_date</th>\n",
       "    </tr>\n",
       "  </thead>\n",
       "  <tbody>\n",
       "    <tr>\n",
       "      <td>0</td>\n",
       "      <td>313578113262317</td>\n",
       "      <td>2017-09-18 22:49:00</td>\n",
       "      <td>2018-01-03 21:51:00</td>\n",
       "    </tr>\n",
       "    <tr>\n",
       "      <td>1</td>\n",
       "      <td>1575281904278712</td>\n",
       "      <td>2017-06-03 10:13:00</td>\n",
       "      <td>2017-06-03 10:13:00</td>\n",
       "    </tr>\n",
       "    <tr>\n",
       "      <td>2</td>\n",
       "      <td>2429014661409475</td>\n",
       "      <td>2017-10-11 17:14:00</td>\n",
       "      <td>2017-10-11 18:33:00</td>\n",
       "    </tr>\n",
       "    <tr>\n",
       "      <td>3</td>\n",
       "      <td>2464366381792757</td>\n",
       "      <td>2018-01-27 20:10:00</td>\n",
       "      <td>2018-01-28 15:54:00</td>\n",
       "    </tr>\n",
       "    <tr>\n",
       "      <td>4</td>\n",
       "      <td>2551852515556206</td>\n",
       "      <td>2017-11-24 10:14:00</td>\n",
       "      <td>2017-11-24 10:14:00</td>\n",
       "    </tr>\n",
       "  </tbody>\n",
       "</table>\n",
       "</div>"
      ],
      "text/plain": [
       "                uid    first_visit_date      first_buy_date\n",
       "0   313578113262317 2017-09-18 22:49:00 2018-01-03 21:51:00\n",
       "1  1575281904278712 2017-06-03 10:13:00 2017-06-03 10:13:00\n",
       "2  2429014661409475 2017-10-11 17:14:00 2017-10-11 18:33:00\n",
       "3  2464366381792757 2018-01-27 20:10:00 2018-01-28 15:54:00\n",
       "4  2551852515556206 2017-11-24 10:14:00 2017-11-24 10:14:00"
      ]
     },
     "execution_count": 53,
     "metadata": {},
     "output_type": "execute_result"
    }
   ],
   "source": [
    "orders_new.head()"
   ]
  },
  {
   "cell_type": "code",
   "execution_count": 54,
   "metadata": {},
   "outputs": [
    {
     "data": {
      "text/plain": [
       "0"
      ]
     },
     "execution_count": 54,
     "metadata": {},
     "output_type": "execute_result"
    }
   ],
   "source": [
    "#проверим есть ли несостыковки по времени в полученной таблице\n",
    "len(orders_new.query('first_visit_date>first_buy_date'))"
   ]
  },
  {
   "cell_type": "code",
   "execution_count": 55,
   "metadata": {},
   "outputs": [],
   "source": [
    "#рассчитаем сколько прошло времени с момента первого посещения сервиса до первой совершенной покупки\n",
    "orders_new['diff']=(orders_new['first_buy_date']-orders_new['first_visit_date'])"
   ]
  },
  {
   "cell_type": "code",
   "execution_count": 56,
   "metadata": {},
   "outputs": [],
   "source": [
    "#приведем время между первым заходом на сайт и первой покупкой в минуты\n",
    "orders_new['diff']=orders_new['diff']/np.timedelta64(1, 'm')\n",
    "orders_new['diff']=orders_new['diff'].round(1)"
   ]
  },
  {
   "cell_type": "code",
   "execution_count": 57,
   "metadata": {},
   "outputs": [
    {
     "data": {
      "text/html": [
       "<div>\n",
       "<style scoped>\n",
       "    .dataframe tbody tr th:only-of-type {\n",
       "        vertical-align: middle;\n",
       "    }\n",
       "\n",
       "    .dataframe tbody tr th {\n",
       "        vertical-align: top;\n",
       "    }\n",
       "\n",
       "    .dataframe thead th {\n",
       "        text-align: right;\n",
       "    }\n",
       "</style>\n",
       "<table border=\"1\" class=\"dataframe\">\n",
       "  <thead>\n",
       "    <tr style=\"text-align: right;\">\n",
       "      <th></th>\n",
       "      <th>uid</th>\n",
       "      <th>first_visit_date</th>\n",
       "      <th>first_buy_date</th>\n",
       "      <th>diff</th>\n",
       "    </tr>\n",
       "  </thead>\n",
       "  <tbody>\n",
       "    <tr>\n",
       "      <td>0</td>\n",
       "      <td>313578113262317</td>\n",
       "      <td>2017-09-18 22:49:00</td>\n",
       "      <td>2018-01-03 21:51:00</td>\n",
       "      <td>154022.0</td>\n",
       "    </tr>\n",
       "    <tr>\n",
       "      <td>1</td>\n",
       "      <td>1575281904278712</td>\n",
       "      <td>2017-06-03 10:13:00</td>\n",
       "      <td>2017-06-03 10:13:00</td>\n",
       "      <td>0.0</td>\n",
       "    </tr>\n",
       "    <tr>\n",
       "      <td>2</td>\n",
       "      <td>2429014661409475</td>\n",
       "      <td>2017-10-11 17:14:00</td>\n",
       "      <td>2017-10-11 18:33:00</td>\n",
       "      <td>79.0</td>\n",
       "    </tr>\n",
       "    <tr>\n",
       "      <td>3</td>\n",
       "      <td>2464366381792757</td>\n",
       "      <td>2018-01-27 20:10:00</td>\n",
       "      <td>2018-01-28 15:54:00</td>\n",
       "      <td>1184.0</td>\n",
       "    </tr>\n",
       "    <tr>\n",
       "      <td>4</td>\n",
       "      <td>2551852515556206</td>\n",
       "      <td>2017-11-24 10:14:00</td>\n",
       "      <td>2017-11-24 10:14:00</td>\n",
       "      <td>0.0</td>\n",
       "    </tr>\n",
       "  </tbody>\n",
       "</table>\n",
       "</div>"
      ],
      "text/plain": [
       "                uid    first_visit_date      first_buy_date      diff\n",
       "0   313578113262317 2017-09-18 22:49:00 2018-01-03 21:51:00  154022.0\n",
       "1  1575281904278712 2017-06-03 10:13:00 2017-06-03 10:13:00       0.0\n",
       "2  2429014661409475 2017-10-11 17:14:00 2017-10-11 18:33:00      79.0\n",
       "3  2464366381792757 2018-01-27 20:10:00 2018-01-28 15:54:00    1184.0\n",
       "4  2551852515556206 2017-11-24 10:14:00 2017-11-24 10:14:00       0.0"
      ]
     },
     "execution_count": 57,
     "metadata": {},
     "output_type": "execute_result"
    }
   ],
   "source": [
    "orders_new.head()"
   ]
  },
  {
   "cell_type": "code",
   "execution_count": 58,
   "metadata": {},
   "outputs": [
    {
     "data": {
      "text/plain": [
       "count     36523.000000\n",
       "mean      24340.175834\n",
       "std       67784.774690\n",
       "min           0.000000\n",
       "25%           4.000000\n",
       "50%          16.000000\n",
       "75%        2897.000000\n",
       "max      523144.000000\n",
       "Name: diff, dtype: float64"
      ]
     },
     "execution_count": 58,
     "metadata": {},
     "output_type": "execute_result"
    }
   ],
   "source": [
    "orders_new['diff'].describe()"
   ]
  },
  {
   "cell_type": "code",
   "execution_count": 59,
   "metadata": {},
   "outputs": [
    {
     "data": {
      "text/plain": [
       "0.06721791747665855"
      ]
     },
     "execution_count": 59,
     "metadata": {},
     "output_type": "execute_result"
    }
   ],
   "source": [
    "len(orders_new.query('diff==0'))/len(orders_new)"
   ]
  },
  {
   "cell_type": "markdown",
   "metadata": {},
   "source": [
    "Четверть пользователей совершают покупку через 4 минуты и менее, при этом около 6.7% всех пользоватлей совершают покупку сразу в момент перехода на сервис, скорее всего это пользователи перешедшие по ссылке, которая вела сразу на покупку билета на конкретное мероприятие. Половина пользователей совершает покупку за 16 минут и менее."
   ]
  },
  {
   "cell_type": "code",
   "execution_count": 60,
   "metadata": {},
   "outputs": [
    {
     "data": {
      "image/png": "[encoded data removed]",
      "text/plain": [
       "<Figure size 432x288 with 1 Axes>"
      ]
     },
     "metadata": {},
     "output_type": "display_data"
    }
   ],
   "source": [
    "(orders_new['diff']).hist()\n",
    "plt.xlabel('Время между первой сессией и первой покупкой \\n в минутах')\n",
    "plt.ylabel('Количество наблюдений')\n",
    "plt.title('Распределение времени между первой сессией \\n и первой покупкой')\n",
    "plt.show()"
   ]
  },
  {
   "cell_type": "markdown",
   "metadata": {},
   "source": [
    "Распредление имеет форму Пауссона, а значит среднее значение будет лучше отображать мода."
   ]
  },
  {
   "cell_type": "code",
   "execution_count": 61,
   "metadata": {},
   "outputs": [
    {
     "data": {
      "text/plain": [
       "0    1.0\n",
       "dtype: float64"
      ]
     },
     "execution_count": 61,
     "metadata": {},
     "output_type": "execute_result"
    }
   ],
   "source": [
    "(orders_new['diff']).mode()"
   ]
  },
  {
   "cell_type": "markdown",
   "metadata": {},
   "source": [
    "В среднем с момента первого захода на сайт до совершения покупки проходит 1 минута, что равняется средней продолжительности сессии. Скорее всего наибольшая часть пользователей, попадает на сайт впервые в момент покупки билета на конкретное мероприятие через ссылку, которая сразу направляет на страницу оплаты.\n"
   ]
  },
  {
   "cell_type": "markdown",
   "metadata": {},
   "source": [
    "* **Сколько раз покупают за период?**"
   ]
  },
  {
   "cell_type": "code",
   "execution_count": 62,
   "metadata": {},
   "outputs": [],
   "source": [
    "orders['date']= orders['buy_ts'].dt.date\n",
    "orders['week'] = orders['buy_ts'].dt.week\n",
    "orders['month'] = orders['buy_ts'].dt.month"
   ]
  },
  {
   "cell_type": "code",
   "execution_count": 63,
   "metadata": {},
   "outputs": [
    {
     "data": {
      "text/plain": [
       "138.50274725274724"
      ]
     },
     "execution_count": 63,
     "metadata": {},
     "output_type": "execute_result"
    }
   ],
   "source": [
    "orders.groupby('date')['uid'].count().mean()"
   ]
  },
  {
   "cell_type": "markdown",
   "metadata": {},
   "source": [
    "В день в среднем совершается 139 покупок."
   ]
  },
  {
   "cell_type": "code",
   "execution_count": 64,
   "metadata": {},
   "outputs": [
    {
     "data": {
      "text/plain": [
       "969.5192307692307"
      ]
     },
     "execution_count": 64,
     "metadata": {},
     "output_type": "execute_result"
    }
   ],
   "source": [
    "orders.groupby('week')['uid'].count().mean()"
   ]
  },
  {
   "cell_type": "markdown",
   "metadata": {},
   "source": [
    "В неделю в среднем совершается 970 покупок."
   ]
  },
  {
   "cell_type": "code",
   "execution_count": 65,
   "metadata": {},
   "outputs": [
    {
     "data": {
      "text/plain": [
       "4201.25"
      ]
     },
     "execution_count": 65,
     "metadata": {},
     "output_type": "execute_result"
    }
   ],
   "source": [
    "orders.groupby('month')['uid'].count().mean()"
   ]
  },
  {
   "cell_type": "markdown",
   "metadata": {},
   "source": [
    "В месяц совершается в среднем 4201 покупка."
   ]
  },
  {
   "cell_type": "markdown",
   "metadata": {},
   "source": [
    "Рассчитаем как изменяется количество покупок в каждой когорте в расчете на одного пользователя."
   ]
  },
  {
   "cell_type": "code",
   "execution_count": 66,
   "metadata": {
    "scrolled": true
   },
   "outputs": [
    {
     "data": {
      "text/html": [
       "<div>\n",
       "<style scoped>\n",
       "    .dataframe tbody tr th:only-of-type {\n",
       "        vertical-align: middle;\n",
       "    }\n",
       "\n",
       "    .dataframe tbody tr th {\n",
       "        vertical-align: top;\n",
       "    }\n",
       "\n",
       "    .dataframe thead th {\n",
       "        text-align: right;\n",
       "    }\n",
       "</style>\n",
       "<table border=\"1\" class=\"dataframe\">\n",
       "  <thead>\n",
       "    <tr style=\"text-align: right;\">\n",
       "      <th></th>\n",
       "      <th>buy_ts</th>\n",
       "      <th>revenue</th>\n",
       "      <th>uid</th>\n",
       "      <th>date</th>\n",
       "      <th>week</th>\n",
       "      <th>month</th>\n",
       "      <th>date_of_first_order</th>\n",
       "    </tr>\n",
       "  </thead>\n",
       "  <tbody>\n",
       "    <tr>\n",
       "      <td>0</td>\n",
       "      <td>2017-06-01 00:10:00</td>\n",
       "      <td>17.00</td>\n",
       "      <td>10329302124590727494</td>\n",
       "      <td>2017-06-01</td>\n",
       "      <td>22</td>\n",
       "      <td>6</td>\n",
       "      <td>2017-06-01</td>\n",
       "    </tr>\n",
       "    <tr>\n",
       "      <td>1</td>\n",
       "      <td>2017-06-01 00:25:00</td>\n",
       "      <td>0.55</td>\n",
       "      <td>11627257723692907447</td>\n",
       "      <td>2017-06-01</td>\n",
       "      <td>22</td>\n",
       "      <td>6</td>\n",
       "      <td>2017-06-01</td>\n",
       "    </tr>\n",
       "    <tr>\n",
       "      <td>2</td>\n",
       "      <td>2017-06-01 00:27:00</td>\n",
       "      <td>0.37</td>\n",
       "      <td>17903680561304213844</td>\n",
       "      <td>2017-06-01</td>\n",
       "      <td>22</td>\n",
       "      <td>6</td>\n",
       "      <td>2017-06-01</td>\n",
       "    </tr>\n",
       "    <tr>\n",
       "      <td>3</td>\n",
       "      <td>2017-06-01 00:29:00</td>\n",
       "      <td>0.55</td>\n",
       "      <td>16109239769442553005</td>\n",
       "      <td>2017-06-01</td>\n",
       "      <td>22</td>\n",
       "      <td>6</td>\n",
       "      <td>2017-06-01</td>\n",
       "    </tr>\n",
       "    <tr>\n",
       "      <td>4</td>\n",
       "      <td>2017-06-01 07:58:00</td>\n",
       "      <td>0.37</td>\n",
       "      <td>14200605875248379450</td>\n",
       "      <td>2017-06-01</td>\n",
       "      <td>22</td>\n",
       "      <td>6</td>\n",
       "      <td>2017-06-01</td>\n",
       "    </tr>\n",
       "    <tr>\n",
       "      <td>5</td>\n",
       "      <td>2017-06-01 08:43:00</td>\n",
       "      <td>0.18</td>\n",
       "      <td>10402394430196413321</td>\n",
       "      <td>2017-06-01</td>\n",
       "      <td>22</td>\n",
       "      <td>6</td>\n",
       "      <td>2017-06-01</td>\n",
       "    </tr>\n",
       "    <tr>\n",
       "      <td>6</td>\n",
       "      <td>2017-06-01 08:54:00</td>\n",
       "      <td>1.83</td>\n",
       "      <td>12464626743129688638</td>\n",
       "      <td>2017-06-01</td>\n",
       "      <td>22</td>\n",
       "      <td>6</td>\n",
       "      <td>2017-06-01</td>\n",
       "    </tr>\n",
       "    <tr>\n",
       "      <td>7</td>\n",
       "      <td>2017-06-05 14:30:00</td>\n",
       "      <td>7.33</td>\n",
       "      <td>12464626743129688638</td>\n",
       "      <td>2017-06-05</td>\n",
       "      <td>23</td>\n",
       "      <td>6</td>\n",
       "      <td>2017-06-01</td>\n",
       "    </tr>\n",
       "    <tr>\n",
       "      <td>8</td>\n",
       "      <td>2017-06-01 09:22:00</td>\n",
       "      <td>1.22</td>\n",
       "      <td>3644482766749211722</td>\n",
       "      <td>2017-06-01</td>\n",
       "      <td>22</td>\n",
       "      <td>6</td>\n",
       "      <td>2017-06-01</td>\n",
       "    </tr>\n",
       "    <tr>\n",
       "      <td>9</td>\n",
       "      <td>2017-06-02 12:44:00</td>\n",
       "      <td>0.85</td>\n",
       "      <td>3644482766749211722</td>\n",
       "      <td>2017-06-02</td>\n",
       "      <td>22</td>\n",
       "      <td>6</td>\n",
       "      <td>2017-06-01</td>\n",
       "    </tr>\n",
       "  </tbody>\n",
       "</table>\n",
       "</div>"
      ],
      "text/plain": [
       "               buy_ts  revenue                   uid        date  week  month  \\\n",
       "0 2017-06-01 00:10:00    17.00  10329302124590727494  2017-06-01    22      6   \n",
       "1 2017-06-01 00:25:00     0.55  11627257723692907447  2017-06-01    22      6   \n",
       "2 2017-06-01 00:27:00     0.37  17903680561304213844  2017-06-01    22      6   \n",
       "3 2017-06-01 00:29:00     0.55  16109239769442553005  2017-06-01    22      6   \n",
       "4 2017-06-01 07:58:00     0.37  14200605875248379450  2017-06-01    22      6   \n",
       "5 2017-06-01 08:43:00     0.18  10402394430196413321  2017-06-01    22      6   \n",
       "6 2017-06-01 08:54:00     1.83  12464626743129688638  2017-06-01    22      6   \n",
       "7 2017-06-05 14:30:00     7.33  12464626743129688638  2017-06-05    23      6   \n",
       "8 2017-06-01 09:22:00     1.22   3644482766749211722  2017-06-01    22      6   \n",
       "9 2017-06-02 12:44:00     0.85   3644482766749211722  2017-06-02    22      6   \n",
       "\n",
       "  date_of_first_order  \n",
       "0          2017-06-01  \n",
       "1          2017-06-01  \n",
       "2          2017-06-01  \n",
       "3          2017-06-01  \n",
       "4          2017-06-01  \n",
       "5          2017-06-01  \n",
       "6          2017-06-01  \n",
       "7          2017-06-01  \n",
       "8          2017-06-01  \n",
       "9          2017-06-01  "
      ]
     },
     "execution_count": 66,
     "metadata": {},
     "output_type": "execute_result"
    }
   ],
   "source": [
    "#создаем когорты по первой дате покупки и присоединяем к таблице с заказами\n",
    "first_order = orders.groupby('uid')['buy_ts'].min().reset_index()\n",
    "first_order.columns = ['uid', 'date_of_first_order']\n",
    "order_number = pd.merge(orders, first_order, on='uid')\n",
    "order_number['date_of_first_order']=order_number['date_of_first_order'].astype('datetime64[M]')\n",
    "order_number.head(10)"
   ]
  },
  {
   "cell_type": "code",
   "execution_count": 67,
   "metadata": {},
   "outputs": [],
   "source": [
    "#рассчитаем для каждой когорты\n",
    "from dateutil import relativedelta\n",
    "from dateutil.relativedelta import relativedelta\n",
    "order_number['diff']=order_number.apply(lambda x: relativedelta(x['buy_ts'], x['date_of_first_order']).months, axis=1)\n"
   ]
  },
  {
   "cell_type": "code",
   "execution_count": 68,
   "metadata": {},
   "outputs": [
    {
     "data": {
      "text/html": [
       "<div>\n",
       "<style scoped>\n",
       "    .dataframe tbody tr th:only-of-type {\n",
       "        vertical-align: middle;\n",
       "    }\n",
       "\n",
       "    .dataframe tbody tr th {\n",
       "        vertical-align: top;\n",
       "    }\n",
       "\n",
       "    .dataframe thead th {\n",
       "        text-align: right;\n",
       "    }\n",
       "</style>\n",
       "<table border=\"1\" class=\"dataframe\">\n",
       "  <thead>\n",
       "    <tr style=\"text-align: right;\">\n",
       "      <th></th>\n",
       "      <th>buy_ts</th>\n",
       "      <th>revenue</th>\n",
       "      <th>uid</th>\n",
       "      <th>date</th>\n",
       "      <th>week</th>\n",
       "      <th>month</th>\n",
       "      <th>date_of_first_order</th>\n",
       "      <th>diff</th>\n",
       "      <th>cohort_lifetime</th>\n",
       "    </tr>\n",
       "  </thead>\n",
       "  <tbody>\n",
       "    <tr>\n",
       "      <td>0</td>\n",
       "      <td>2017-06-01 00:10:00</td>\n",
       "      <td>17.00</td>\n",
       "      <td>10329302124590727494</td>\n",
       "      <td>2017-06-01</td>\n",
       "      <td>22</td>\n",
       "      <td>6</td>\n",
       "      <td>2017-06-01</td>\n",
       "      <td>0</td>\n",
       "      <td>0</td>\n",
       "    </tr>\n",
       "    <tr>\n",
       "      <td>1</td>\n",
       "      <td>2017-06-01 00:25:00</td>\n",
       "      <td>0.55</td>\n",
       "      <td>11627257723692907447</td>\n",
       "      <td>2017-06-01</td>\n",
       "      <td>22</td>\n",
       "      <td>6</td>\n",
       "      <td>2017-06-01</td>\n",
       "      <td>0</td>\n",
       "      <td>0</td>\n",
       "    </tr>\n",
       "    <tr>\n",
       "      <td>2</td>\n",
       "      <td>2017-06-01 00:27:00</td>\n",
       "      <td>0.37</td>\n",
       "      <td>17903680561304213844</td>\n",
       "      <td>2017-06-01</td>\n",
       "      <td>22</td>\n",
       "      <td>6</td>\n",
       "      <td>2017-06-01</td>\n",
       "      <td>0</td>\n",
       "      <td>0</td>\n",
       "    </tr>\n",
       "    <tr>\n",
       "      <td>3</td>\n",
       "      <td>2017-06-01 00:29:00</td>\n",
       "      <td>0.55</td>\n",
       "      <td>16109239769442553005</td>\n",
       "      <td>2017-06-01</td>\n",
       "      <td>22</td>\n",
       "      <td>6</td>\n",
       "      <td>2017-06-01</td>\n",
       "      <td>0</td>\n",
       "      <td>0</td>\n",
       "    </tr>\n",
       "    <tr>\n",
       "      <td>4</td>\n",
       "      <td>2017-06-01 07:58:00</td>\n",
       "      <td>0.37</td>\n",
       "      <td>14200605875248379450</td>\n",
       "      <td>2017-06-01</td>\n",
       "      <td>22</td>\n",
       "      <td>6</td>\n",
       "      <td>2017-06-01</td>\n",
       "      <td>0</td>\n",
       "      <td>0</td>\n",
       "    </tr>\n",
       "  </tbody>\n",
       "</table>\n",
       "</div>"
      ],
      "text/plain": [
       "               buy_ts  revenue                   uid        date  week  month  \\\n",
       "0 2017-06-01 00:10:00    17.00  10329302124590727494  2017-06-01    22      6   \n",
       "1 2017-06-01 00:25:00     0.55  11627257723692907447  2017-06-01    22      6   \n",
       "2 2017-06-01 00:27:00     0.37  17903680561304213844  2017-06-01    22      6   \n",
       "3 2017-06-01 00:29:00     0.55  16109239769442553005  2017-06-01    22      6   \n",
       "4 2017-06-01 07:58:00     0.37  14200605875248379450  2017-06-01    22      6   \n",
       "\n",
       "  date_of_first_order  diff  cohort_lifetime  \n",
       "0          2017-06-01     0                0  \n",
       "1          2017-06-01     0                0  \n",
       "2          2017-06-01     0                0  \n",
       "3          2017-06-01     0                0  \n",
       "4          2017-06-01     0                0  "
      ]
     },
     "execution_count": 68,
     "metadata": {},
     "output_type": "execute_result"
    }
   ],
   "source": [
    "#рассчитаем для каждой когорты её возраст\n",
    "order_number['cohort_lifetime'] = order_number['buy_ts'] - order_number['date_of_first_order']\n",
    "order_number['cohort_lifetime'] = order_number['cohort_lifetime'] / np.timedelta64(1,'M')\n",
    "order_number['cohort_lifetime'] = order_number['cohort_lifetime'].astype('int') \n",
    "order_number.head()"
   ]
  },
  {
   "cell_type": "code",
   "execution_count": 69,
   "metadata": {},
   "outputs": [
    {
     "data": {
      "text/html": [
       "<div>\n",
       "<style scoped>\n",
       "    .dataframe tbody tr th:only-of-type {\n",
       "        vertical-align: middle;\n",
       "    }\n",
       "\n",
       "    .dataframe tbody tr th {\n",
       "        vertical-align: top;\n",
       "    }\n",
       "\n",
       "    .dataframe thead th {\n",
       "        text-align: right;\n",
       "    }\n",
       "</style>\n",
       "<table border=\"1\" class=\"dataframe\">\n",
       "  <thead>\n",
       "    <tr style=\"text-align: right;\">\n",
       "      <th></th>\n",
       "      <th>date_of_first_order</th>\n",
       "      <th>cohort_lifetime</th>\n",
       "      <th>buy_ts</th>\n",
       "      <th>uid</th>\n",
       "      <th>order_per_user</th>\n",
       "    </tr>\n",
       "  </thead>\n",
       "  <tbody>\n",
       "    <tr>\n",
       "      <td>0</td>\n",
       "      <td>2017-06-01</td>\n",
       "      <td>0</td>\n",
       "      <td>2357</td>\n",
       "      <td>2023</td>\n",
       "      <td>1.165101</td>\n",
       "    </tr>\n",
       "    <tr>\n",
       "      <td>1</td>\n",
       "      <td>2017-06-01</td>\n",
       "      <td>1</td>\n",
       "      <td>173</td>\n",
       "      <td>59</td>\n",
       "      <td>2.932203</td>\n",
       "    </tr>\n",
       "    <tr>\n",
       "      <td>2</td>\n",
       "      <td>2017-06-01</td>\n",
       "      <td>2</td>\n",
       "      <td>166</td>\n",
       "      <td>50</td>\n",
       "      <td>3.320000</td>\n",
       "    </tr>\n",
       "    <tr>\n",
       "      <td>3</td>\n",
       "      <td>2017-06-01</td>\n",
       "      <td>3</td>\n",
       "      <td>235</td>\n",
       "      <td>57</td>\n",
       "      <td>4.122807</td>\n",
       "    </tr>\n",
       "    <tr>\n",
       "      <td>4</td>\n",
       "      <td>2017-06-01</td>\n",
       "      <td>4</td>\n",
       "      <td>286</td>\n",
       "      <td>87</td>\n",
       "      <td>3.287356</td>\n",
       "    </tr>\n",
       "  </tbody>\n",
       "</table>\n",
       "</div>"
      ],
      "text/plain": [
       "  date_of_first_order  cohort_lifetime  buy_ts   uid  order_per_user\n",
       "0          2017-06-01                0    2357  2023        1.165101\n",
       "1          2017-06-01                1     173    59        2.932203\n",
       "2          2017-06-01                2     166    50        3.320000\n",
       "3          2017-06-01                3     235    57        4.122807\n",
       "4          2017-06-01                4     286    87        3.287356"
      ]
     },
     "execution_count": 69,
     "metadata": {},
     "output_type": "execute_result"
    }
   ],
   "source": [
    "order_by_cohorts = order_number.groupby(['date_of_first_order','cohort_lifetime']).agg({'buy_ts': 'count', 'uid': 'nunique'})\n",
    "                            \n",
    "order_by_cohorts['order_per_user'] = order_by_cohorts['buy_ts']/order_by_cohorts['uid']\n",
    "order_by_cohorts = order_by_cohorts.reset_index()\n",
    "order_by_cohorts.head()"
   ]
  },
  {
   "cell_type": "code",
   "execution_count": 70,
   "metadata": {},
   "outputs": [],
   "source": [
    "order_number_pivot = order_by_cohorts.pivot_table(index='date_of_first_order', columns='cohort_lifetime', values='order_per_user')"
   ]
  },
  {
   "cell_type": "code",
   "execution_count": 71,
   "metadata": {},
   "outputs": [
    {
     "data": {
      "text/html": [
       "<div>\n",
       "<style scoped>\n",
       "    .dataframe tbody tr th:only-of-type {\n",
       "        vertical-align: middle;\n",
       "    }\n",
       "\n",
       "    .dataframe tbody tr th {\n",
       "        vertical-align: top;\n",
       "    }\n",
       "\n",
       "    .dataframe thead th {\n",
       "        text-align: right;\n",
       "    }\n",
       "</style>\n",
       "<table border=\"1\" class=\"dataframe\">\n",
       "  <thead>\n",
       "    <tr style=\"text-align: right;\">\n",
       "      <th>cohort_lifetime</th>\n",
       "      <th>0</th>\n",
       "      <th>1</th>\n",
       "      <th>2</th>\n",
       "      <th>3</th>\n",
       "      <th>4</th>\n",
       "      <th>5</th>\n",
       "      <th>6</th>\n",
       "      <th>7</th>\n",
       "      <th>8</th>\n",
       "      <th>9</th>\n",
       "      <th>10</th>\n",
       "      <th>11</th>\n",
       "    </tr>\n",
       "    <tr>\n",
       "      <th>date_of_first_order</th>\n",
       "      <th></th>\n",
       "      <th></th>\n",
       "      <th></th>\n",
       "      <th></th>\n",
       "      <th></th>\n",
       "      <th></th>\n",
       "      <th></th>\n",
       "      <th></th>\n",
       "      <th></th>\n",
       "      <th></th>\n",
       "      <th></th>\n",
       "      <th></th>\n",
       "    </tr>\n",
       "  </thead>\n",
       "  <tbody>\n",
       "    <tr>\n",
       "      <td>2017-06-01</td>\n",
       "      <td>1.165101</td>\n",
       "      <td>2.932203</td>\n",
       "      <td>3.320000</td>\n",
       "      <td>4.122807</td>\n",
       "      <td>3.287356</td>\n",
       "      <td>3.220588</td>\n",
       "      <td>4.516129</td>\n",
       "      <td>3.510638</td>\n",
       "      <td>3.900000</td>\n",
       "      <td>3.279070</td>\n",
       "      <td>2.177778</td>\n",
       "      <td>1.584906</td>\n",
       "    </tr>\n",
       "    <tr>\n",
       "      <td>2017-07-01</td>\n",
       "      <td>1.136267</td>\n",
       "      <td>1.654762</td>\n",
       "      <td>2.105263</td>\n",
       "      <td>1.650794</td>\n",
       "      <td>1.403846</td>\n",
       "      <td>2.153846</td>\n",
       "      <td>1.757576</td>\n",
       "      <td>1.255814</td>\n",
       "      <td>1.380952</td>\n",
       "      <td>1.090909</td>\n",
       "      <td>2.038462</td>\n",
       "      <td>NaN</td>\n",
       "    </tr>\n",
       "    <tr>\n",
       "      <td>2017-08-01</td>\n",
       "      <td>1.115119</td>\n",
       "      <td>1.524590</td>\n",
       "      <td>1.836364</td>\n",
       "      <td>1.860465</td>\n",
       "      <td>2.128205</td>\n",
       "      <td>1.968750</td>\n",
       "      <td>1.696970</td>\n",
       "      <td>1.720930</td>\n",
       "      <td>2.473684</td>\n",
       "      <td>1.500000</td>\n",
       "      <td>NaN</td>\n",
       "      <td>NaN</td>\n",
       "    </tr>\n",
       "    <tr>\n",
       "      <td>2017-09-01</td>\n",
       "      <td>1.137156</td>\n",
       "      <td>1.682171</td>\n",
       "      <td>1.610000</td>\n",
       "      <td>2.232877</td>\n",
       "      <td>1.288462</td>\n",
       "      <td>1.661972</td>\n",
       "      <td>1.694915</td>\n",
       "      <td>1.513514</td>\n",
       "      <td>1.418605</td>\n",
       "      <td>NaN</td>\n",
       "      <td>NaN</td>\n",
       "      <td>NaN</td>\n",
       "    </tr>\n",
       "    <tr>\n",
       "      <td>2017-10-01</td>\n",
       "      <td>1.141402</td>\n",
       "      <td>1.417957</td>\n",
       "      <td>1.314516</td>\n",
       "      <td>1.318182</td>\n",
       "      <td>1.424242</td>\n",
       "      <td>1.405797</td>\n",
       "      <td>1.553571</td>\n",
       "      <td>1.878788</td>\n",
       "      <td>NaN</td>\n",
       "      <td>NaN</td>\n",
       "      <td>NaN</td>\n",
       "      <td>NaN</td>\n",
       "    </tr>\n",
       "    <tr>\n",
       "      <td>2017-11-01</td>\n",
       "      <td>1.180103</td>\n",
       "      <td>1.802752</td>\n",
       "      <td>1.508475</td>\n",
       "      <td>1.982759</td>\n",
       "      <td>1.648649</td>\n",
       "      <td>1.220000</td>\n",
       "      <td>1.639344</td>\n",
       "      <td>NaN</td>\n",
       "      <td>NaN</td>\n",
       "      <td>NaN</td>\n",
       "      <td>NaN</td>\n",
       "      <td>NaN</td>\n",
       "    </tr>\n",
       "    <tr>\n",
       "      <td>2017-12-01</td>\n",
       "      <td>1.152586</td>\n",
       "      <td>1.501946</td>\n",
       "      <td>2.018018</td>\n",
       "      <td>1.787234</td>\n",
       "      <td>1.705882</td>\n",
       "      <td>1.677419</td>\n",
       "      <td>NaN</td>\n",
       "      <td>NaN</td>\n",
       "      <td>NaN</td>\n",
       "      <td>NaN</td>\n",
       "      <td>NaN</td>\n",
       "      <td>NaN</td>\n",
       "    </tr>\n",
       "    <tr>\n",
       "      <td>2018-01-01</td>\n",
       "      <td>1.120062</td>\n",
       "      <td>1.507692</td>\n",
       "      <td>1.883117</td>\n",
       "      <td>1.558140</td>\n",
       "      <td>1.666667</td>\n",
       "      <td>NaN</td>\n",
       "      <td>NaN</td>\n",
       "      <td>NaN</td>\n",
       "      <td>NaN</td>\n",
       "      <td>NaN</td>\n",
       "      <td>NaN</td>\n",
       "      <td>NaN</td>\n",
       "    </tr>\n",
       "    <tr>\n",
       "      <td>2018-02-01</td>\n",
       "      <td>1.128184</td>\n",
       "      <td>1.914286</td>\n",
       "      <td>1.366667</td>\n",
       "      <td>1.837838</td>\n",
       "      <td>NaN</td>\n",
       "      <td>NaN</td>\n",
       "      <td>NaN</td>\n",
       "      <td>NaN</td>\n",
       "      <td>NaN</td>\n",
       "      <td>NaN</td>\n",
       "      <td>NaN</td>\n",
       "      <td>NaN</td>\n",
       "    </tr>\n",
       "    <tr>\n",
       "      <td>2018-03-01</td>\n",
       "      <td>1.168978</td>\n",
       "      <td>1.977778</td>\n",
       "      <td>3.037037</td>\n",
       "      <td>1.500000</td>\n",
       "      <td>NaN</td>\n",
       "      <td>NaN</td>\n",
       "      <td>NaN</td>\n",
       "      <td>NaN</td>\n",
       "      <td>NaN</td>\n",
       "      <td>NaN</td>\n",
       "      <td>NaN</td>\n",
       "      <td>NaN</td>\n",
       "    </tr>\n",
       "    <tr>\n",
       "      <td>2018-04-01</td>\n",
       "      <td>1.096661</td>\n",
       "      <td>2.811594</td>\n",
       "      <td>NaN</td>\n",
       "      <td>NaN</td>\n",
       "      <td>NaN</td>\n",
       "      <td>NaN</td>\n",
       "      <td>NaN</td>\n",
       "      <td>NaN</td>\n",
       "      <td>NaN</td>\n",
       "      <td>NaN</td>\n",
       "      <td>NaN</td>\n",
       "      <td>NaN</td>\n",
       "    </tr>\n",
       "    <tr>\n",
       "      <td>2018-05-01</td>\n",
       "      <td>1.085147</td>\n",
       "      <td>1.051680</td>\n",
       "      <td>NaN</td>\n",
       "      <td>NaN</td>\n",
       "      <td>NaN</td>\n",
       "      <td>NaN</td>\n",
       "      <td>NaN</td>\n",
       "      <td>NaN</td>\n",
       "      <td>NaN</td>\n",
       "      <td>NaN</td>\n",
       "      <td>NaN</td>\n",
       "      <td>NaN</td>\n",
       "    </tr>\n",
       "    <tr>\n",
       "      <td>2018-06-01</td>\n",
       "      <td>1.000000</td>\n",
       "      <td>NaN</td>\n",
       "      <td>NaN</td>\n",
       "      <td>NaN</td>\n",
       "      <td>NaN</td>\n",
       "      <td>NaN</td>\n",
       "      <td>NaN</td>\n",
       "      <td>NaN</td>\n",
       "      <td>NaN</td>\n",
       "      <td>NaN</td>\n",
       "      <td>NaN</td>\n",
       "      <td>NaN</td>\n",
       "    </tr>\n",
       "  </tbody>\n",
       "</table>\n",
       "</div>"
      ],
      "text/plain": [
       "cohort_lifetime            0         1         2         3         4   \\\n",
       "date_of_first_order                                                     \n",
       "2017-06-01           1.165101  2.932203  3.320000  4.122807  3.287356   \n",
       "2017-07-01           1.136267  1.654762  2.105263  1.650794  1.403846   \n",
       "2017-08-01           1.115119  1.524590  1.836364  1.860465  2.128205   \n",
       "2017-09-01           1.137156  1.682171  1.610000  2.232877  1.288462   \n",
       "2017-10-01           1.141402  1.417957  1.314516  1.318182  1.424242   \n",
       "2017-11-01           1.180103  1.802752  1.508475  1.982759  1.648649   \n",
       "2017-12-01           1.152586  1.501946  2.018018  1.787234  1.705882   \n",
       "2018-01-01           1.120062  1.507692  1.883117  1.558140  1.666667   \n",
       "2018-02-01           1.128184  1.914286  1.366667  1.837838       NaN   \n",
       "2018-03-01           1.168978  1.977778  3.037037  1.500000       NaN   \n",
       "2018-04-01           1.096661  2.811594       NaN       NaN       NaN   \n",
       "2018-05-01           1.085147  1.051680       NaN       NaN       NaN   \n",
       "2018-06-01           1.000000       NaN       NaN       NaN       NaN   \n",
       "\n",
       "cohort_lifetime            5         6         7         8         9   \\\n",
       "date_of_first_order                                                     \n",
       "2017-06-01           3.220588  4.516129  3.510638  3.900000  3.279070   \n",
       "2017-07-01           2.153846  1.757576  1.255814  1.380952  1.090909   \n",
       "2017-08-01           1.968750  1.696970  1.720930  2.473684  1.500000   \n",
       "2017-09-01           1.661972  1.694915  1.513514  1.418605       NaN   \n",
       "2017-10-01           1.405797  1.553571  1.878788       NaN       NaN   \n",
       "2017-11-01           1.220000  1.639344       NaN       NaN       NaN   \n",
       "2017-12-01           1.677419       NaN       NaN       NaN       NaN   \n",
       "2018-01-01                NaN       NaN       NaN       NaN       NaN   \n",
       "2018-02-01                NaN       NaN       NaN       NaN       NaN   \n",
       "2018-03-01                NaN       NaN       NaN       NaN       NaN   \n",
       "2018-04-01                NaN       NaN       NaN       NaN       NaN   \n",
       "2018-05-01                NaN       NaN       NaN       NaN       NaN   \n",
       "2018-06-01                NaN       NaN       NaN       NaN       NaN   \n",
       "\n",
       "cohort_lifetime            10        11  \n",
       "date_of_first_order                      \n",
       "2017-06-01           2.177778  1.584906  \n",
       "2017-07-01           2.038462       NaN  \n",
       "2017-08-01                NaN       NaN  \n",
       "2017-09-01                NaN       NaN  \n",
       "2017-10-01                NaN       NaN  \n",
       "2017-11-01                NaN       NaN  \n",
       "2017-12-01                NaN       NaN  \n",
       "2018-01-01                NaN       NaN  \n",
       "2018-02-01                NaN       NaN  \n",
       "2018-03-01                NaN       NaN  \n",
       "2018-04-01                NaN       NaN  \n",
       "2018-05-01                NaN       NaN  \n",
       "2018-06-01                NaN       NaN  "
      ]
     },
     "execution_count": 71,
     "metadata": {},
     "output_type": "execute_result"
    }
   ],
   "source": [
    "order_number_pivot"
   ]
  },
  {
   "cell_type": "code",
   "execution_count": 72,
   "metadata": {},
   "outputs": [
    {
     "data": {
      "image/png": "[encoded data removed]",
      "text/plain": [
       "<Figure size 864x576 with 2 Axes>"
      ]
     },
     "metadata": {},
     "output_type": "display_data"
    }
   ],
   "source": [
    "sns.set(style='white')\n",
    "plt.figure(figsize=(12, 8))\n",
    "plt.title('Когортный анализ частоты покупок')\n",
    "ax=sns.heatmap(order_number_pivot, annot=True, fmt='.1f', linewidths=1, linecolor='gray'); \n",
    "ax.set_yticklabels(order_number_pivot.index.strftime('%Y-%m-%d') )\n",
    "plt.xlabel('Возраст когорты')\n",
    "plt.ylabel('Когорта')\n",
    "plt.show()"
   ]
  },
  {
   "cell_type": "markdown",
   "metadata": {},
   "source": [
    "На тепловой карте мы видим, что практически во всех когортах (за исключением двух последних), после своершения первой покупки в нулевой месяц, в следующем месяце среднее число покупок приходящихся на одного пользователя увеличивается. И снова выделяется июньская когорта, пользователи которой не только лучше остальных возвращаются к сервису, но и в большей степени чем остальные совершают покупки чаще. В июне 2017 года, скорее всего, удалось привлечь очень качественную аудиторию, необходимо детальнее изучить её особенности, а также рассмотреть какие инструменты маркетинга использовались для её привлечения."
   ]
  },
  {
   "cell_type": "markdown",
   "metadata": {},
   "source": [
    "* ***Какой средний чек?***"
   ]
  },
  {
   "cell_type": "code",
   "execution_count": 73,
   "metadata": {},
   "outputs": [
    {
     "data": {
      "image/png": "[encoded data removed]",
      "text/plain": [
       "<Figure size 432x288 with 1 Axes>"
      ]
     },
     "metadata": {},
     "output_type": "display_data"
    }
   ],
   "source": [
    "orders.groupby('month').agg({'revenue': 'mean'}).plot(kind='bar')\n",
    "plt.xlabel('Месяц')\n",
    "plt.ylabel('Средний чек')\n",
    "plt.title('Средний чек по меясцам')\n",
    "plt.legend().remove()\n",
    "plt.show()"
   ]
  },
  {
   "cell_type": "code",
   "execution_count": 74,
   "metadata": {},
   "outputs": [],
   "source": [
    "monthly_revenue=orders.groupby('month').agg({'revenue': 'mean'}).reset_index()"
   ]
  },
  {
   "cell_type": "code",
   "execution_count": 75,
   "metadata": {},
   "outputs": [
    {
     "data": {
      "text/plain": [
       "count    12.000000\n",
       "mean      4.956902\n",
       "std       0.521307\n",
       "min       4.059834\n",
       "25%       4.780459\n",
       "50%       4.887709\n",
       "75%       5.333424\n",
       "max       5.852139\n",
       "Name: revenue, dtype: float64"
      ]
     },
     "execution_count": 75,
     "metadata": {},
     "output_type": "execute_result"
    }
   ],
   "source": [
    "monthly_revenue['revenue'].describe()"
   ]
  },
  {
   "cell_type": "markdown",
   "metadata": {},
   "source": [
    "Наибольший средний чек наблюдается в декабре, вероятно в это время люди покупают больше билетов на мероприятия в новогодние каникулы, при этом как правило цены за счет высокого спроса в этот преиод на мероприятия увеличиваются. Cредний чек за период составляет примерно 4.89 условных единиц (в пояснении к данным не указаны единицы измерения)"
   ]
  },
  {
   "cell_type": "code",
   "execution_count": 76,
   "metadata": {},
   "outputs": [],
   "source": [
    "#создаем когорты по первой дате заказа,для каждой кагорты рассчитываем её численность в каждый месяц и суммарную выручку\n",
    "first_order = orders.groupby('uid')['buy_ts'].min()\n",
    "first_order.name = 'first_order_month'\n",
    "orders = orders.join(first_order,on='uid')\n",
    "orders['first_order_month'] = orders['first_order_month'].astype('datetime64[M]')\n",
    "orders['order_month'] = orders['buy_ts'].astype('datetime64[M]')\n",
    "\n",
    "orders_grouped_by_cohorts = orders.groupby(['first_order_month','order_month']).agg({'revenue':'sum','uid':'nunique'})"
   ]
  },
  {
   "cell_type": "code",
   "execution_count": 77,
   "metadata": {},
   "outputs": [
    {
     "data": {
      "text/html": [
       "<div>\n",
       "<style scoped>\n",
       "    .dataframe tbody tr th:only-of-type {\n",
       "        vertical-align: middle;\n",
       "    }\n",
       "\n",
       "    .dataframe tbody tr th {\n",
       "        vertical-align: top;\n",
       "    }\n",
       "\n",
       "    .dataframe thead th {\n",
       "        text-align: right;\n",
       "    }\n",
       "</style>\n",
       "<table border=\"1\" class=\"dataframe\">\n",
       "  <thead>\n",
       "    <tr style=\"text-align: right;\">\n",
       "      <th></th>\n",
       "      <th></th>\n",
       "      <th>revenue</th>\n",
       "      <th>uid</th>\n",
       "    </tr>\n",
       "    <tr>\n",
       "      <th>first_order_month</th>\n",
       "      <th>order_month</th>\n",
       "      <th></th>\n",
       "      <th></th>\n",
       "    </tr>\n",
       "  </thead>\n",
       "  <tbody>\n",
       "    <tr>\n",
       "      <td rowspan=\"5\" valign=\"top\">2017-06-01</td>\n",
       "      <td>2017-06-01</td>\n",
       "      <td>9557.49</td>\n",
       "      <td>2023</td>\n",
       "    </tr>\n",
       "    <tr>\n",
       "      <td>2017-07-01</td>\n",
       "      <td>981.82</td>\n",
       "      <td>61</td>\n",
       "    </tr>\n",
       "    <tr>\n",
       "      <td>2017-08-01</td>\n",
       "      <td>885.34</td>\n",
       "      <td>50</td>\n",
       "    </tr>\n",
       "    <tr>\n",
       "      <td>2017-09-01</td>\n",
       "      <td>1931.30</td>\n",
       "      <td>54</td>\n",
       "    </tr>\n",
       "    <tr>\n",
       "      <td>2017-10-01</td>\n",
       "      <td>2068.58</td>\n",
       "      <td>88</td>\n",
       "    </tr>\n",
       "  </tbody>\n",
       "</table>\n",
       "</div>"
      ],
      "text/plain": [
       "                               revenue   uid\n",
       "first_order_month order_month               \n",
       "2017-06-01        2017-06-01   9557.49  2023\n",
       "                  2017-07-01    981.82    61\n",
       "                  2017-08-01    885.34    50\n",
       "                  2017-09-01   1931.30    54\n",
       "                  2017-10-01   2068.58    88"
      ]
     },
     "execution_count": 77,
     "metadata": {},
     "output_type": "execute_result"
    }
   ],
   "source": [
    "orders_grouped_by_cohorts.head()"
   ]
  },
  {
   "cell_type": "code",
   "execution_count": 78,
   "metadata": {},
   "outputs": [],
   "source": [
    "#рассчитываем средний чек\n",
    "orders_grouped_by_cohorts['revenue_per_user'] = orders_grouped_by_cohorts['revenue'] / orders_grouped_by_cohorts['uid'] "
   ]
  },
  {
   "cell_type": "code",
   "execution_count": 79,
   "metadata": {},
   "outputs": [],
   "source": [
    "orders_grouped_by_cohorts = orders_grouped_by_cohorts.reset_index()\n",
    "#рассчитываем возраст для когорты\n",
    "orders_grouped_by_cohorts['cohort_lifetime'] = orders_grouped_by_cohorts['order_month'] - orders_grouped_by_cohorts['first_order_month']\n",
    "orders_grouped_by_cohorts['cohort_lifetime'] = orders_grouped_by_cohorts['cohort_lifetime'] / np.timedelta64(1,'M')\n",
    "orders_grouped_by_cohorts['cohort_lifetime'] = orders_grouped_by_cohorts['cohort_lifetime'].round().astype('int')\n"
   ]
  },
  {
   "cell_type": "code",
   "execution_count": 80,
   "metadata": {},
   "outputs": [],
   "source": [
    "revenue_per_user_pivot = orders_grouped_by_cohorts.pivot_table(index='first_order_month',columns='cohort_lifetime',values='revenue_per_user',aggfunc='mean')"
   ]
  },
  {
   "cell_type": "markdown",
   "metadata": {},
   "source": [
    "revenue_per_user_pivot"
   ]
  },
  {
   "cell_type": "code",
   "execution_count": 81,
   "metadata": {},
   "outputs": [
    {
     "data": {
      "image/png": "[encoded data removed]",
      "text/plain": [
       "<Figure size 864x576 with 2 Axes>"
      ]
     },
     "metadata": {},
     "output_type": "display_data"
    }
   ],
   "source": [
    "sns.set(style='white')\n",
    "plt.figure(figsize=(12, 8))\n",
    "plt.title('Средний чек по кагортам')\n",
    "ax=sns.heatmap(revenue_per_user_pivot, annot=True, fmt='.2f', linewidths=1, linecolor='gray'); \n",
    "ax.set_yticklabels(revenue_per_user_pivot.index.strftime('%Y-%m-%d') )\n",
    "plt.ylabel('Когорта')\n",
    "plt.xlabel('Возраст когорты')\n",
    "plt.show()"
   ]
  },
  {
   "cell_type": "markdown",
   "metadata": {},
   "source": [
    "На тепловой карте значительно выделяется сентябрьская когорта на 3 месяц, возможно в данный период для её пользователей проводилась выгодная акция. Необходимо изучить почему было такое резкое увелечение среднего чека у данных пользователей. Также мы видим значительный рост у декабрьской когорты начиная со 2 месяца её жизни. Вероятно стоит соспоставить выводы о сентябрьской и декабрьской когорте в периоды, когда у них произошло значительное увелечинение среднего чека."
   ]
  },
  {
   "cell_type": "markdown",
   "metadata": {},
   "source": [
    "* **Сколько денег приносят? (LTV)**"
   ]
  },
  {
   "cell_type": "code",
   "execution_count": 82,
   "metadata": {},
   "outputs": [
    {
     "data": {
      "text/plain": [
       "count                    2542\n",
       "unique                    364\n",
       "top       2018-03-03 00:00:00\n",
       "freq                        7\n",
       "first     2017-06-01 00:00:00\n",
       "last      2018-05-31 00:00:00\n",
       "Name: dt, dtype: object"
      ]
     },
     "execution_count": 82,
     "metadata": {},
     "output_type": "execute_result"
    }
   ],
   "source": [
    "costs['dt'].describe()"
   ]
  },
  {
   "cell_type": "code",
   "execution_count": 83,
   "metadata": {},
   "outputs": [
    {
     "data": {
      "text/plain": [
       "count                   50415\n",
       "unique                  45991\n",
       "top       2018-05-31 10:13:00\n",
       "freq                        9\n",
       "first     2017-06-01 00:10:00\n",
       "last      2018-06-01 00:02:00\n",
       "Name: buy_ts, dtype: object"
      ]
     },
     "execution_count": 83,
     "metadata": {},
     "output_type": "execute_result"
    }
   ],
   "source": [
    "orders['buy_ts'].describe()"
   ]
  },
  {
   "cell_type": "markdown",
   "metadata": {},
   "source": [
    "Сократим период заказов на один день, чтобы он совпадал с периодом расходов."
   ]
  },
  {
   "cell_type": "code",
   "execution_count": 84,
   "metadata": {},
   "outputs": [],
   "source": [
    "orders_q=orders.query('buy_ts<=\"2018-05-31 00:00:00\"')"
   ]
  },
  {
   "cell_type": "code",
   "execution_count": 85,
   "metadata": {},
   "outputs": [
    {
     "data": {
      "text/html": [
       "<div>\n",
       "<style scoped>\n",
       "    .dataframe tbody tr th:only-of-type {\n",
       "        vertical-align: middle;\n",
       "    }\n",
       "\n",
       "    .dataframe tbody tr th {\n",
       "        vertical-align: top;\n",
       "    }\n",
       "\n",
       "    .dataframe thead th {\n",
       "        text-align: right;\n",
       "    }\n",
       "</style>\n",
       "<table border=\"1\" class=\"dataframe\">\n",
       "  <thead>\n",
       "    <tr style=\"text-align: right;\">\n",
       "      <th></th>\n",
       "      <th>buy_ts</th>\n",
       "      <th>revenue</th>\n",
       "      <th>uid</th>\n",
       "      <th>date</th>\n",
       "      <th>week</th>\n",
       "      <th>month</th>\n",
       "      <th>first_order_month</th>\n",
       "      <th>order_month</th>\n",
       "    </tr>\n",
       "  </thead>\n",
       "  <tbody>\n",
       "    <tr>\n",
       "      <td>0</td>\n",
       "      <td>2017-06-01 00:10:00</td>\n",
       "      <td>17.00</td>\n",
       "      <td>10329302124590727494</td>\n",
       "      <td>2017-06-01</td>\n",
       "      <td>22</td>\n",
       "      <td>6</td>\n",
       "      <td>2017-06-01</td>\n",
       "      <td>2017-06-01</td>\n",
       "    </tr>\n",
       "    <tr>\n",
       "      <td>1</td>\n",
       "      <td>2017-06-01 00:25:00</td>\n",
       "      <td>0.55</td>\n",
       "      <td>11627257723692907447</td>\n",
       "      <td>2017-06-01</td>\n",
       "      <td>22</td>\n",
       "      <td>6</td>\n",
       "      <td>2017-06-01</td>\n",
       "      <td>2017-06-01</td>\n",
       "    </tr>\n",
       "    <tr>\n",
       "      <td>2</td>\n",
       "      <td>2017-06-01 00:27:00</td>\n",
       "      <td>0.37</td>\n",
       "      <td>17903680561304213844</td>\n",
       "      <td>2017-06-01</td>\n",
       "      <td>22</td>\n",
       "      <td>6</td>\n",
       "      <td>2017-06-01</td>\n",
       "      <td>2017-06-01</td>\n",
       "    </tr>\n",
       "    <tr>\n",
       "      <td>3</td>\n",
       "      <td>2017-06-01 00:29:00</td>\n",
       "      <td>0.55</td>\n",
       "      <td>16109239769442553005</td>\n",
       "      <td>2017-06-01</td>\n",
       "      <td>22</td>\n",
       "      <td>6</td>\n",
       "      <td>2017-06-01</td>\n",
       "      <td>2017-06-01</td>\n",
       "    </tr>\n",
       "    <tr>\n",
       "      <td>4</td>\n",
       "      <td>2017-06-01 07:58:00</td>\n",
       "      <td>0.37</td>\n",
       "      <td>14200605875248379450</td>\n",
       "      <td>2017-06-01</td>\n",
       "      <td>22</td>\n",
       "      <td>6</td>\n",
       "      <td>2017-06-01</td>\n",
       "      <td>2017-06-01</td>\n",
       "    </tr>\n",
       "  </tbody>\n",
       "</table>\n",
       "</div>"
      ],
      "text/plain": [
       "               buy_ts  revenue                   uid        date  week  month  \\\n",
       "0 2017-06-01 00:10:00    17.00  10329302124590727494  2017-06-01    22      6   \n",
       "1 2017-06-01 00:25:00     0.55  11627257723692907447  2017-06-01    22      6   \n",
       "2 2017-06-01 00:27:00     0.37  17903680561304213844  2017-06-01    22      6   \n",
       "3 2017-06-01 00:29:00     0.55  16109239769442553005  2017-06-01    22      6   \n",
       "4 2017-06-01 07:58:00     0.37  14200605875248379450  2017-06-01    22      6   \n",
       "\n",
       "  first_order_month order_month  \n",
       "0        2017-06-01  2017-06-01  \n",
       "1        2017-06-01  2017-06-01  \n",
       "2        2017-06-01  2017-06-01  \n",
       "3        2017-06-01  2017-06-01  \n",
       "4        2017-06-01  2017-06-01  "
      ]
     },
     "execution_count": 85,
     "metadata": {},
     "output_type": "execute_result"
    }
   ],
   "source": [
    "orders_q.head()"
   ]
  },
  {
   "cell_type": "code",
   "execution_count": 86,
   "metadata": {},
   "outputs": [],
   "source": [
    "#определяем дату первого заказа для каждого пользователя\n",
    "first_orders=orders_q.groupby('uid').agg({'order_month': 'min'}).reset_index()\n",
    "first_orders.columns = ['uid', 'first_order_month']"
   ]
  },
  {
   "cell_type": "code",
   "execution_count": 87,
   "metadata": {},
   "outputs": [],
   "source": [
    "#рассчитываем количество пользоватедей в каждой кагорте\n",
    "cohort_sizes = first_orders.groupby('first_order_month').agg({'uid': 'nunique'}).reset_index()\n",
    "cohort_sizes.columns = ['first_order_month', 'n_buyers']"
   ]
  },
  {
   "cell_type": "code",
   "execution_count": 88,
   "metadata": {},
   "outputs": [
    {
     "data": {
      "text/html": [
       "<div>\n",
       "<style scoped>\n",
       "    .dataframe tbody tr th:only-of-type {\n",
       "        vertical-align: middle;\n",
       "    }\n",
       "\n",
       "    .dataframe tbody tr th {\n",
       "        vertical-align: top;\n",
       "    }\n",
       "\n",
       "    .dataframe thead th {\n",
       "        text-align: right;\n",
       "    }\n",
       "</style>\n",
       "<table border=\"1\" class=\"dataframe\">\n",
       "  <thead>\n",
       "    <tr style=\"text-align: right;\">\n",
       "      <th></th>\n",
       "      <th>buy_ts</th>\n",
       "      <th>revenue</th>\n",
       "      <th>uid</th>\n",
       "      <th>date</th>\n",
       "      <th>week</th>\n",
       "      <th>month</th>\n",
       "      <th>first_order_month</th>\n",
       "      <th>order_month</th>\n",
       "    </tr>\n",
       "  </thead>\n",
       "  <tbody>\n",
       "    <tr>\n",
       "      <td>0</td>\n",
       "      <td>2017-06-01 00:10:00</td>\n",
       "      <td>17.00</td>\n",
       "      <td>10329302124590727494</td>\n",
       "      <td>2017-06-01</td>\n",
       "      <td>22</td>\n",
       "      <td>6</td>\n",
       "      <td>2017-06-01</td>\n",
       "      <td>2017-06-01</td>\n",
       "    </tr>\n",
       "    <tr>\n",
       "      <td>1</td>\n",
       "      <td>2017-06-01 00:25:00</td>\n",
       "      <td>0.55</td>\n",
       "      <td>11627257723692907447</td>\n",
       "      <td>2017-06-01</td>\n",
       "      <td>22</td>\n",
       "      <td>6</td>\n",
       "      <td>2017-06-01</td>\n",
       "      <td>2017-06-01</td>\n",
       "    </tr>\n",
       "    <tr>\n",
       "      <td>2</td>\n",
       "      <td>2017-06-01 00:27:00</td>\n",
       "      <td>0.37</td>\n",
       "      <td>17903680561304213844</td>\n",
       "      <td>2017-06-01</td>\n",
       "      <td>22</td>\n",
       "      <td>6</td>\n",
       "      <td>2017-06-01</td>\n",
       "      <td>2017-06-01</td>\n",
       "    </tr>\n",
       "    <tr>\n",
       "      <td>3</td>\n",
       "      <td>2017-06-01 00:29:00</td>\n",
       "      <td>0.55</td>\n",
       "      <td>16109239769442553005</td>\n",
       "      <td>2017-06-01</td>\n",
       "      <td>22</td>\n",
       "      <td>6</td>\n",
       "      <td>2017-06-01</td>\n",
       "      <td>2017-06-01</td>\n",
       "    </tr>\n",
       "    <tr>\n",
       "      <td>4</td>\n",
       "      <td>2017-06-01 07:58:00</td>\n",
       "      <td>0.37</td>\n",
       "      <td>14200605875248379450</td>\n",
       "      <td>2017-06-01</td>\n",
       "      <td>22</td>\n",
       "      <td>6</td>\n",
       "      <td>2017-06-01</td>\n",
       "      <td>2017-06-01</td>\n",
       "    </tr>\n",
       "  </tbody>\n",
       "</table>\n",
       "</div>"
      ],
      "text/plain": [
       "               buy_ts  revenue                   uid        date  week  month  \\\n",
       "0 2017-06-01 00:10:00    17.00  10329302124590727494  2017-06-01    22      6   \n",
       "1 2017-06-01 00:25:00     0.55  11627257723692907447  2017-06-01    22      6   \n",
       "2 2017-06-01 00:27:00     0.37  17903680561304213844  2017-06-01    22      6   \n",
       "3 2017-06-01 00:29:00     0.55  16109239769442553005  2017-06-01    22      6   \n",
       "4 2017-06-01 07:58:00     0.37  14200605875248379450  2017-06-01    22      6   \n",
       "\n",
       "  first_order_month order_month  \n",
       "0        2017-06-01  2017-06-01  \n",
       "1        2017-06-01  2017-06-01  \n",
       "2        2017-06-01  2017-06-01  \n",
       "3        2017-06-01  2017-06-01  \n",
       "4        2017-06-01  2017-06-01  "
      ]
     },
     "execution_count": 88,
     "metadata": {},
     "output_type": "execute_result"
    }
   ],
   "source": [
    "orders_new = pd.merge(orders_q,first_orders, on=['first_order_month','uid'])\n",
    "orders_new.head()"
   ]
  },
  {
   "cell_type": "code",
   "execution_count": 89,
   "metadata": {},
   "outputs": [
    {
     "data": {
      "text/html": [
       "<div>\n",
       "<style scoped>\n",
       "    .dataframe tbody tr th:only-of-type {\n",
       "        vertical-align: middle;\n",
       "    }\n",
       "\n",
       "    .dataframe tbody tr th {\n",
       "        vertical-align: top;\n",
       "    }\n",
       "\n",
       "    .dataframe thead th {\n",
       "        text-align: right;\n",
       "    }\n",
       "</style>\n",
       "<table border=\"1\" class=\"dataframe\">\n",
       "  <thead>\n",
       "    <tr style=\"text-align: right;\">\n",
       "      <th></th>\n",
       "      <th>order_month</th>\n",
       "      <th>first_order_month</th>\n",
       "      <th>revenue</th>\n",
       "    </tr>\n",
       "  </thead>\n",
       "  <tbody>\n",
       "    <tr>\n",
       "      <td>0</td>\n",
       "      <td>2017-06-01</td>\n",
       "      <td>2017-06-01</td>\n",
       "      <td>9557.49</td>\n",
       "    </tr>\n",
       "    <tr>\n",
       "      <td>1</td>\n",
       "      <td>2017-07-01</td>\n",
       "      <td>2017-06-01</td>\n",
       "      <td>981.82</td>\n",
       "    </tr>\n",
       "    <tr>\n",
       "      <td>2</td>\n",
       "      <td>2017-07-01</td>\n",
       "      <td>2017-07-01</td>\n",
       "      <td>11557.65</td>\n",
       "    </tr>\n",
       "    <tr>\n",
       "      <td>3</td>\n",
       "      <td>2017-08-01</td>\n",
       "      <td>2017-06-01</td>\n",
       "      <td>885.34</td>\n",
       "    </tr>\n",
       "    <tr>\n",
       "      <td>4</td>\n",
       "      <td>2017-08-01</td>\n",
       "      <td>2017-07-01</td>\n",
       "      <td>644.61</td>\n",
       "    </tr>\n",
       "  </tbody>\n",
       "</table>\n",
       "</div>"
      ],
      "text/plain": [
       "  order_month first_order_month   revenue\n",
       "0  2017-06-01        2017-06-01   9557.49\n",
       "1  2017-07-01        2017-06-01    981.82\n",
       "2  2017-07-01        2017-07-01  11557.65\n",
       "3  2017-08-01        2017-06-01    885.34\n",
       "4  2017-08-01        2017-07-01    644.61"
      ]
     },
     "execution_count": 89,
     "metadata": {},
     "output_type": "execute_result"
    }
   ],
   "source": [
    "#формируем когорты с выручкой за каждый месяц\n",
    "cohorts = orders_new.groupby(['order_month','first_order_month']).agg({'revenue': 'sum'}).reset_index()\n",
    "cohorts.head()"
   ]
  },
  {
   "cell_type": "code",
   "execution_count": 90,
   "metadata": {},
   "outputs": [
    {
     "data": {
      "text/html": [
       "<div>\n",
       "<style scoped>\n",
       "    .dataframe tbody tr th:only-of-type {\n",
       "        vertical-align: middle;\n",
       "    }\n",
       "\n",
       "    .dataframe tbody tr th {\n",
       "        vertical-align: top;\n",
       "    }\n",
       "\n",
       "    .dataframe thead th {\n",
       "        text-align: right;\n",
       "    }\n",
       "</style>\n",
       "<table border=\"1\" class=\"dataframe\">\n",
       "  <thead>\n",
       "    <tr style=\"text-align: right;\">\n",
       "      <th></th>\n",
       "      <th>order_month</th>\n",
       "      <th>first_order_month</th>\n",
       "      <th>revenue</th>\n",
       "      <th>n_buyers</th>\n",
       "    </tr>\n",
       "  </thead>\n",
       "  <tbody>\n",
       "    <tr>\n",
       "      <td>0</td>\n",
       "      <td>2017-06-01</td>\n",
       "      <td>2017-06-01</td>\n",
       "      <td>9557.49</td>\n",
       "      <td>2023</td>\n",
       "    </tr>\n",
       "    <tr>\n",
       "      <td>1</td>\n",
       "      <td>2017-07-01</td>\n",
       "      <td>2017-06-01</td>\n",
       "      <td>981.82</td>\n",
       "      <td>2023</td>\n",
       "    </tr>\n",
       "    <tr>\n",
       "      <td>2</td>\n",
       "      <td>2017-08-01</td>\n",
       "      <td>2017-06-01</td>\n",
       "      <td>885.34</td>\n",
       "      <td>2023</td>\n",
       "    </tr>\n",
       "    <tr>\n",
       "      <td>3</td>\n",
       "      <td>2017-09-01</td>\n",
       "      <td>2017-06-01</td>\n",
       "      <td>1931.30</td>\n",
       "      <td>2023</td>\n",
       "    </tr>\n",
       "    <tr>\n",
       "      <td>4</td>\n",
       "      <td>2017-10-01</td>\n",
       "      <td>2017-06-01</td>\n",
       "      <td>2068.58</td>\n",
       "      <td>2023</td>\n",
       "    </tr>\n",
       "  </tbody>\n",
       "</table>\n",
       "</div>"
      ],
      "text/plain": [
       "  order_month first_order_month  revenue  n_buyers\n",
       "0  2017-06-01        2017-06-01  9557.49      2023\n",
       "1  2017-07-01        2017-06-01   981.82      2023\n",
       "2  2017-08-01        2017-06-01   885.34      2023\n",
       "3  2017-09-01        2017-06-01  1931.30      2023\n",
       "4  2017-10-01        2017-06-01  2068.58      2023"
      ]
     },
     "execution_count": 90,
     "metadata": {},
     "output_type": "execute_result"
    }
   ],
   "source": [
    "#добавляем численность когорты\n",
    "report = cohorts.merge(cohort_sizes, on='first_order_month')\n",
    "report.head()"
   ]
  },
  {
   "cell_type": "code",
   "execution_count": 91,
   "metadata": {},
   "outputs": [],
   "source": [
    "#рассчитаем возраст когорты\n",
    "report['age'] = (report['order_month'] - report['first_order_month']) / np.timedelta64(1, 'M')\n",
    "report['age'] = report['age'].round().astype('int')"
   ]
  },
  {
   "cell_type": "markdown",
   "metadata": {},
   "source": [
    "Для расчета LTV используется маржинальная прибыль, однако в заданных условиях у нас не задан уровень маржинальности, поэтому по умолчанию будем считать его равным 100%. В случае уточнения точного уровня маржинальности, нам не составит труда посчитать маржинальную прибыль и пересчитать LTV."
   ]
  },
  {
   "cell_type": "code",
   "execution_count": 92,
   "metadata": {},
   "outputs": [],
   "source": [
    "#рассчитываем LTV (при условии что маржинальность равна 100%)\n",
    "report['ltv'] = report['revenue'] / report['n_buyers']"
   ]
  },
  {
   "cell_type": "code",
   "execution_count": 93,
   "metadata": {},
   "outputs": [
    {
     "data": {
      "text/html": [
       "<div>\n",
       "<style scoped>\n",
       "    .dataframe tbody tr th:only-of-type {\n",
       "        vertical-align: middle;\n",
       "    }\n",
       "\n",
       "    .dataframe tbody tr th {\n",
       "        vertical-align: top;\n",
       "    }\n",
       "\n",
       "    .dataframe thead th {\n",
       "        text-align: right;\n",
       "    }\n",
       "</style>\n",
       "<table border=\"1\" class=\"dataframe\">\n",
       "  <thead>\n",
       "    <tr style=\"text-align: right;\">\n",
       "      <th>age</th>\n",
       "      <th>0</th>\n",
       "      <th>1</th>\n",
       "      <th>2</th>\n",
       "      <th>3</th>\n",
       "      <th>4</th>\n",
       "      <th>5</th>\n",
       "      <th>6</th>\n",
       "      <th>7</th>\n",
       "      <th>8</th>\n",
       "      <th>9</th>\n",
       "      <th>10</th>\n",
       "      <th>11</th>\n",
       "    </tr>\n",
       "    <tr>\n",
       "      <th>first_order_month</th>\n",
       "      <th></th>\n",
       "      <th></th>\n",
       "      <th></th>\n",
       "      <th></th>\n",
       "      <th></th>\n",
       "      <th></th>\n",
       "      <th></th>\n",
       "      <th></th>\n",
       "      <th></th>\n",
       "      <th></th>\n",
       "      <th></th>\n",
       "      <th></th>\n",
       "    </tr>\n",
       "  </thead>\n",
       "  <tbody>\n",
       "    <tr>\n",
       "      <td>2017-06-01</td>\n",
       "      <td>4.724414</td>\n",
       "      <td>0.485329</td>\n",
       "      <td>0.437637</td>\n",
       "      <td>0.954671</td>\n",
       "      <td>1.02253</td>\n",
       "      <td>0.735502</td>\n",
       "      <td>0.95044</td>\n",
       "      <td>0.581592</td>\n",
       "      <td>0.553213</td>\n",
       "      <td>0.605788</td>\n",
       "      <td>0.571261</td>\n",
       "      <td>0.247855</td>\n",
       "    </tr>\n",
       "    <tr>\n",
       "      <td>2017-07-01</td>\n",
       "      <td>6.010218</td>\n",
       "      <td>0.335211</td>\n",
       "      <td>0.623531</td>\n",
       "      <td>0.358976</td>\n",
       "      <td>0.176791</td>\n",
       "      <td>0.156048</td>\n",
       "      <td>0.120208</td>\n",
       "      <td>0.14182</td>\n",
       "      <td>0.161232</td>\n",
       "      <td>0.147145</td>\n",
       "      <td>0.142673</td>\n",
       "      <td></td>\n",
       "    </tr>\n",
       "    <tr>\n",
       "      <td>2017-08-01</td>\n",
       "      <td>5.276518</td>\n",
       "      <td>0.471993</td>\n",
       "      <td>0.458482</td>\n",
       "      <td>0.391277</td>\n",
       "      <td>0.494051</td>\n",
       "      <td>0.28354</td>\n",
       "      <td>0.210664</td>\n",
       "      <td>0.405007</td>\n",
       "      <td>0.292212</td>\n",
       "      <td>0.131774</td>\n",
       "      <td></td>\n",
       "      <td></td>\n",
       "    </tr>\n",
       "    <tr>\n",
       "      <td>2017-09-01</td>\n",
       "      <td>5.644529</td>\n",
       "      <td>1.11759</td>\n",
       "      <td>0.52093</td>\n",
       "      <td>3.97579</td>\n",
       "      <td>0.400558</td>\n",
       "      <td>0.647067</td>\n",
       "      <td>0.701608</td>\n",
       "      <td>0.24315</td>\n",
       "      <td>0.165134</td>\n",
       "      <td></td>\n",
       "      <td></td>\n",
       "      <td></td>\n",
       "    </tr>\n",
       "    <tr>\n",
       "      <td>2017-10-01</td>\n",
       "      <td>5.003733</td>\n",
       "      <td>0.535763</td>\n",
       "      <td>0.191394</td>\n",
       "      <td>0.157145</td>\n",
       "      <td>0.15156</td>\n",
       "      <td>0.120362</td>\n",
       "      <td>0.0848157</td>\n",
       "      <td>0.104558</td>\n",
       "      <td></td>\n",
       "      <td></td>\n",
       "      <td></td>\n",
       "      <td></td>\n",
       "    </tr>\n",
       "    <tr>\n",
       "      <td>2017-11-01</td>\n",
       "      <td>5.154683</td>\n",
       "      <td>0.399233</td>\n",
       "      <td>0.199556</td>\n",
       "      <td>0.324952</td>\n",
       "      <td>0.148013</td>\n",
       "      <td>0.053879</td>\n",
       "      <td>0.111066</td>\n",
       "      <td></td>\n",
       "      <td></td>\n",
       "      <td></td>\n",
       "      <td></td>\n",
       "      <td></td>\n",
       "    </tr>\n",
       "    <tr>\n",
       "      <td>2017-12-01</td>\n",
       "      <td>4.738191</td>\n",
       "      <td>0.260374</td>\n",
       "      <td>0.925097</td>\n",
       "      <td>1.06527</td>\n",
       "      <td>0.31293</td>\n",
       "      <td>0.331561</td>\n",
       "      <td></td>\n",
       "      <td></td>\n",
       "      <td></td>\n",
       "      <td></td>\n",
       "      <td></td>\n",
       "      <td></td>\n",
       "    </tr>\n",
       "    <tr>\n",
       "      <td>2018-01-01</td>\n",
       "      <td>4.135636</td>\n",
       "      <td>0.294758</td>\n",
       "      <td>0.304281</td>\n",
       "      <td>0.142778</td>\n",
       "      <td>0.0572221</td>\n",
       "      <td></td>\n",
       "      <td></td>\n",
       "      <td></td>\n",
       "      <td></td>\n",
       "      <td></td>\n",
       "      <td></td>\n",
       "      <td></td>\n",
       "    </tr>\n",
       "    <tr>\n",
       "      <td>2018-02-01</td>\n",
       "      <td>4.156987</td>\n",
       "      <td>0.278274</td>\n",
       "      <td>0.0785155</td>\n",
       "      <td>0.0688551</td>\n",
       "      <td></td>\n",
       "      <td></td>\n",
       "      <td></td>\n",
       "      <td></td>\n",
       "      <td></td>\n",
       "      <td></td>\n",
       "      <td></td>\n",
       "      <td></td>\n",
       "    </tr>\n",
       "    <tr>\n",
       "      <td>2018-03-01</td>\n",
       "      <td>4.838803</td>\n",
       "      <td>0.300892</td>\n",
       "      <td>0.223108</td>\n",
       "      <td></td>\n",
       "      <td></td>\n",
       "      <td></td>\n",
       "      <td></td>\n",
       "      <td></td>\n",
       "      <td></td>\n",
       "      <td></td>\n",
       "      <td></td>\n",
       "      <td></td>\n",
       "    </tr>\n",
       "    <tr>\n",
       "      <td>2018-04-01</td>\n",
       "      <td>4.657597</td>\n",
       "      <td>0.451081</td>\n",
       "      <td></td>\n",
       "      <td></td>\n",
       "      <td></td>\n",
       "      <td></td>\n",
       "      <td></td>\n",
       "      <td></td>\n",
       "      <td></td>\n",
       "      <td></td>\n",
       "      <td></td>\n",
       "      <td></td>\n",
       "    </tr>\n",
       "    <tr>\n",
       "      <td>2018-05-01</td>\n",
       "      <td>4.054479</td>\n",
       "      <td></td>\n",
       "      <td></td>\n",
       "      <td></td>\n",
       "      <td></td>\n",
       "      <td></td>\n",
       "      <td></td>\n",
       "      <td></td>\n",
       "      <td></td>\n",
       "      <td></td>\n",
       "      <td></td>\n",
       "      <td></td>\n",
       "    </tr>\n",
       "  </tbody>\n",
       "</table>\n",
       "</div>"
      ],
      "text/plain": [
       "age                      0         1          2          3          4   \\\n",
       "first_order_month                                                        \n",
       "2017-06-01         4.724414  0.485329   0.437637   0.954671    1.02253   \n",
       "2017-07-01         6.010218  0.335211   0.623531   0.358976   0.176791   \n",
       "2017-08-01         5.276518  0.471993   0.458482   0.391277   0.494051   \n",
       "2017-09-01         5.644529   1.11759    0.52093    3.97579   0.400558   \n",
       "2017-10-01         5.003733  0.535763   0.191394   0.157145    0.15156   \n",
       "2017-11-01         5.154683  0.399233   0.199556   0.324952   0.148013   \n",
       "2017-12-01         4.738191  0.260374   0.925097    1.06527    0.31293   \n",
       "2018-01-01         4.135636  0.294758   0.304281   0.142778  0.0572221   \n",
       "2018-02-01         4.156987  0.278274  0.0785155  0.0688551              \n",
       "2018-03-01         4.838803  0.300892   0.223108                         \n",
       "2018-04-01         4.657597  0.451081                                    \n",
       "2018-05-01         4.054479                                              \n",
       "\n",
       "age                      5          6         7         8         9   \\\n",
       "first_order_month                                                      \n",
       "2017-06-01         0.735502    0.95044  0.581592  0.553213  0.605788   \n",
       "2017-07-01         0.156048   0.120208   0.14182  0.161232  0.147145   \n",
       "2017-08-01          0.28354   0.210664  0.405007  0.292212  0.131774   \n",
       "2017-09-01         0.647067   0.701608   0.24315  0.165134             \n",
       "2017-10-01         0.120362  0.0848157  0.104558                       \n",
       "2017-11-01         0.053879   0.111066                                 \n",
       "2017-12-01         0.331561                                            \n",
       "2018-01-01                                                             \n",
       "2018-02-01                                                             \n",
       "2018-03-01                                                             \n",
       "2018-04-01                                                             \n",
       "2018-05-01                                                             \n",
       "\n",
       "age                      10        11  \n",
       "first_order_month                      \n",
       "2017-06-01         0.571261  0.247855  \n",
       "2017-07-01         0.142673            \n",
       "2017-08-01                             \n",
       "2017-09-01                             \n",
       "2017-10-01                             \n",
       "2017-11-01                             \n",
       "2017-12-01                             \n",
       "2018-01-01                             \n",
       "2018-02-01                             \n",
       "2018-03-01                             \n",
       "2018-04-01                             \n",
       "2018-05-01                             "
      ]
     },
     "execution_count": 93,
     "metadata": {},
     "output_type": "execute_result"
    }
   ],
   "source": [
    "#строим сводную таблицу по когортам\n",
    "output = report.pivot_table(index='first_order_month', columns='age', values='ltv', aggfunc='mean')\n",
    "output.fillna('')"
   ]
  },
  {
   "cell_type": "code",
   "execution_count": 94,
   "metadata": {},
   "outputs": [
    {
     "data": {
      "image/png": "[encoded data removed]",
      "text/plain": [
       "<Figure size 864x576 with 2 Axes>"
      ]
     },
     "metadata": {},
     "output_type": "display_data"
    },
    {
     "data": {
      "image/png": "[encoded data removed]",
      "text/plain": [
       "<Figure size 864x576 with 2 Axes>"
      ]
     },
     "metadata": {},
     "output_type": "display_data"
    }
   ],
   "source": [
    "#визуализируем полученный результат, добавляя тепловую карту по накопленному LTV\n",
    "sns.set(style='white')\n",
    "plt.figure(figsize=(12, 8))\n",
    "plt.title('LTV по кагортам')\n",
    "ax=sns.heatmap(output, annot=True, fmt='.2f', linewidths=1, linecolor='gray'); \n",
    "ax.set_yticklabels(output.index.strftime('%Y-%m-%d') )\n",
    "plt.ylabel('Когорта')\n",
    "plt.xlabel('Возраст когорты')\n",
    "plt.show()\n",
    "\n",
    "cum=output.cumsum(axis=1)\n",
    "sns.set(style='white')\n",
    "plt.figure(figsize=(12, 8))\n",
    "plt.title('Накопительный LTV по кагортам')\n",
    "ax=sns.heatmap(cum, annot=True, fmt='.2f', linewidths=1, linecolor='gray'); \n",
    "ax.set_yticklabels(cum.index.strftime('%Y-%m-%d') )\n",
    "plt.ylabel('Когорта')\n",
    "plt.xlabel('Возраст когорты')\n",
    "plt.show()"
   ]
  },
  {
   "cell_type": "markdown",
   "metadata": {},
   "source": [
    "Наиболее успешный и стабильный показатель LTV вновь наблюдается у июньской когорты, это объясняется тем, что у неё был относительно хороший показатель частоты покупок при неплохом среднем чеке. Помимо этого стоит отметить что в сентябрьской когорте на 3 месяц её жизни наблюдается значительный рост LTV, который был достигнут засчет резкого увеличения среднего чека, а также наиболее высокой частоты совершаемых покупок, которая достигла наибольшего значения в этот период в данной когорте."
   ]
  },
  {
   "cell_type": "markdown",
   "metadata": {},
   "source": [
    "### Вывод"
   ]
  },
  {
   "cell_type": "markdown",
   "metadata": {},
   "source": [
    "* пользователи не склонны проводить много времени на сайте, чаще всего покупка совершается за 1 минуту, что может говорить о том, что они непосредственно попадают на страницу оплаты уже заранее выбранного мероприятия;\n",
    "* наблюдается позитивная динамика частоты покупок с течением времени, когорты пользователей склонны совершать покупки чаще после своего первого приобретения на сайте;\n",
    "* значительный рост среднего чека наблюдается у сентябрьской когорты на 3 месяце ее жизни, необходимо изучить, что могло поспособствовать подобному потребительскому поведению, для того, чтобы использовать это в дальнейшем для других пользователей;\n",
    "* наиболее успешный и стабильный показатель LTV наблюдается у июньской когорты, это объясняется тем, что у неё был относительно хороший показатель частоты покупок при неплохом среднем чеке, необходимо также проанализировать что объединяет пользователей данной когорты и выделяет её среди остальных"
   ]
  },
  {
   "cell_type": "markdown",
   "metadata": {},
   "source": [
    "### Маркетинг"
   ]
  },
  {
   "cell_type": "markdown",
   "metadata": {},
   "source": [
    "* **Сколько денег потратили? Всего / на каждый источник / по времени**"
   ]
  },
  {
   "cell_type": "code",
   "execution_count": 95,
   "metadata": {},
   "outputs": [
    {
     "data": {
      "text/html": [
       "<div>\n",
       "<style scoped>\n",
       "    .dataframe tbody tr th:only-of-type {\n",
       "        vertical-align: middle;\n",
       "    }\n",
       "\n",
       "    .dataframe tbody tr th {\n",
       "        vertical-align: top;\n",
       "    }\n",
       "\n",
       "    .dataframe thead th {\n",
       "        text-align: right;\n",
       "    }\n",
       "</style>\n",
       "<table border=\"1\" class=\"dataframe\">\n",
       "  <thead>\n",
       "    <tr style=\"text-align: right;\">\n",
       "      <th></th>\n",
       "      <th>source_id</th>\n",
       "      <th>dt</th>\n",
       "      <th>costs</th>\n",
       "    </tr>\n",
       "  </thead>\n",
       "  <tbody>\n",
       "    <tr>\n",
       "      <td>0</td>\n",
       "      <td>1</td>\n",
       "      <td>2017-06-01</td>\n",
       "      <td>75.20</td>\n",
       "    </tr>\n",
       "    <tr>\n",
       "      <td>1</td>\n",
       "      <td>1</td>\n",
       "      <td>2017-06-02</td>\n",
       "      <td>62.25</td>\n",
       "    </tr>\n",
       "    <tr>\n",
       "      <td>2</td>\n",
       "      <td>1</td>\n",
       "      <td>2017-06-03</td>\n",
       "      <td>36.53</td>\n",
       "    </tr>\n",
       "    <tr>\n",
       "      <td>3</td>\n",
       "      <td>1</td>\n",
       "      <td>2017-06-04</td>\n",
       "      <td>55.00</td>\n",
       "    </tr>\n",
       "    <tr>\n",
       "      <td>4</td>\n",
       "      <td>1</td>\n",
       "      <td>2017-06-05</td>\n",
       "      <td>57.08</td>\n",
       "    </tr>\n",
       "  </tbody>\n",
       "</table>\n",
       "</div>"
      ],
      "text/plain": [
       "   source_id         dt  costs\n",
       "0          1 2017-06-01  75.20\n",
       "1          1 2017-06-02  62.25\n",
       "2          1 2017-06-03  36.53\n",
       "3          1 2017-06-04  55.00\n",
       "4          1 2017-06-05  57.08"
      ]
     },
     "execution_count": 95,
     "metadata": {},
     "output_type": "execute_result"
    }
   ],
   "source": [
    "costs.head()"
   ]
  },
  {
   "cell_type": "code",
   "execution_count": 96,
   "metadata": {},
   "outputs": [
    {
     "data": {
      "text/plain": [
       "329131.62"
      ]
     },
     "execution_count": 96,
     "metadata": {},
     "output_type": "execute_result"
    }
   ],
   "source": [
    "total=costs['costs'].sum()\n",
    "total"
   ]
  },
  {
   "cell_type": "code",
   "execution_count": 97,
   "metadata": {},
   "outputs": [],
   "source": [
    "data_costs=costs.groupby('source_id').agg({'costs':'sum'}).sort_values(by='costs',ascending=False).reset_index()"
   ]
  },
  {
   "cell_type": "code",
   "execution_count": 98,
   "metadata": {},
   "outputs": [
    {
     "data": {
      "image/png": "[encoded data removed]",
      "text/plain": [
       "<Figure size 576x576 with 1 Axes>"
      ]
     },
     "metadata": {},
     "output_type": "display_data"
    }
   ],
   "source": [
    "data_costs['share']=data_costs['costs']/total*100\n",
    "plot = data_costs.plot.pie(y='share', figsize=(8, 8), labels=None,autopct='%1.1f%%', pctdistance=0.8,textprops={'fontsize': 12},shadow=True)\n",
    "plot.legend(data_costs['source_id'],title=\"Источник\", loc=\"center right\",bbox_to_anchor=(1, 0, 0.2, 1))\n",
    "plt.ylabel('')\n",
    "plt.title('Распределение расходов на рекламные источники', fontsize=14)\n",
    "plt.show()"
   ]
  },
  {
   "cell_type": "markdown",
   "metadata": {},
   "source": [
    "Всего за год на рекламу было потрачено 329131.62. Наибольшая часть бюджета в размере 42.9% была потрачена на источник номер 3. Около 18.6% была израсходовано на 4 источник. Примерно одинаковые расходы (с разницой в 2.7%) были на источники номер 5 и 2. Меньше всего тратилось на источник номер 9 и 10."
   ]
  },
  {
   "cell_type": "code",
   "execution_count": 99,
   "metadata": {},
   "outputs": [],
   "source": [
    "costs['month']=costs['dt'].astype('datetime64[M]')"
   ]
  },
  {
   "cell_type": "code",
   "execution_count": 100,
   "metadata": {},
   "outputs": [
    {
     "data": {
      "image/png": "[encoded data removed]",
      "text/plain": [
       "<Figure size 864x432 with 1 Axes>"
      ]
     },
     "metadata": {},
     "output_type": "display_data"
    }
   ],
   "source": [
    "graph=costs.pivot_table(index='month', columns='source_id', values='costs', aggfunc='sum').plot(figsize=(12,6),grid=True)\n",
    "plt.ylabel('Расходы')\n",
    "plt.xlabel('Месяц')\n",
    "plt.title('Расходы на рекламные источники в течение времени', fontsize=14)\n",
    "plt.show()\n"
   ]
  },
  {
   "cell_type": "markdown",
   "metadata": {},
   "source": [
    "Рост расходов практически на все рекламные источники продолжался в период с сентября по ноябрь. Расходы на четвертый источник сократились в ноябре, однако в декабре на него траты снова увеличились. Для остальных источников начиная с декабря наблюдается общий тренд снижения расходов."
   ]
  },
  {
   "cell_type": "markdown",
   "metadata": {},
   "source": [
    "* **Сколько стоило привлечение одного покупателя из каждого источника?**"
   ]
  },
  {
   "cell_type": "code",
   "execution_count": 101,
   "metadata": {},
   "outputs": [
    {
     "data": {
      "text/html": [
       "<div>\n",
       "<style scoped>\n",
       "    .dataframe tbody tr th:only-of-type {\n",
       "        vertical-align: middle;\n",
       "    }\n",
       "\n",
       "    .dataframe tbody tr th {\n",
       "        vertical-align: top;\n",
       "    }\n",
       "\n",
       "    .dataframe thead th {\n",
       "        text-align: right;\n",
       "    }\n",
       "</style>\n",
       "<table border=\"1\" class=\"dataframe\">\n",
       "  <thead>\n",
       "    <tr style=\"text-align: right;\">\n",
       "      <th></th>\n",
       "      <th>source_id</th>\n",
       "      <th>dt</th>\n",
       "      <th>costs</th>\n",
       "      <th>month</th>\n",
       "    </tr>\n",
       "  </thead>\n",
       "  <tbody>\n",
       "    <tr>\n",
       "      <td>0</td>\n",
       "      <td>1</td>\n",
       "      <td>2017-06-01</td>\n",
       "      <td>75.20</td>\n",
       "      <td>2017-06-01</td>\n",
       "    </tr>\n",
       "    <tr>\n",
       "      <td>1</td>\n",
       "      <td>1</td>\n",
       "      <td>2017-06-02</td>\n",
       "      <td>62.25</td>\n",
       "      <td>2017-06-01</td>\n",
       "    </tr>\n",
       "    <tr>\n",
       "      <td>2</td>\n",
       "      <td>1</td>\n",
       "      <td>2017-06-03</td>\n",
       "      <td>36.53</td>\n",
       "      <td>2017-06-01</td>\n",
       "    </tr>\n",
       "    <tr>\n",
       "      <td>3</td>\n",
       "      <td>1</td>\n",
       "      <td>2017-06-04</td>\n",
       "      <td>55.00</td>\n",
       "      <td>2017-06-01</td>\n",
       "    </tr>\n",
       "    <tr>\n",
       "      <td>4</td>\n",
       "      <td>1</td>\n",
       "      <td>2017-06-05</td>\n",
       "      <td>57.08</td>\n",
       "      <td>2017-06-01</td>\n",
       "    </tr>\n",
       "  </tbody>\n",
       "</table>\n",
       "</div>"
      ],
      "text/plain": [
       "   source_id         dt  costs      month\n",
       "0          1 2017-06-01  75.20 2017-06-01\n",
       "1          1 2017-06-02  62.25 2017-06-01\n",
       "2          1 2017-06-03  36.53 2017-06-01\n",
       "3          1 2017-06-04  55.00 2017-06-01\n",
       "4          1 2017-06-05  57.08 2017-06-01"
      ]
     },
     "execution_count": 101,
     "metadata": {},
     "output_type": "execute_result"
    }
   ],
   "source": [
    "costs.head()"
   ]
  },
  {
   "cell_type": "code",
   "execution_count": 102,
   "metadata": {},
   "outputs": [],
   "source": [
    "#сгруппируем расходы по источникам и рассчитаем для них суммарные затраты за весь период\n",
    "cost_g=costs.groupby(['source_id','month'])['costs'].sum().reset_index()"
   ]
  },
  {
   "cell_type": "code",
   "execution_count": 103,
   "metadata": {},
   "outputs": [
    {
     "data": {
      "text/html": [
       "<div>\n",
       "<style scoped>\n",
       "    .dataframe tbody tr th:only-of-type {\n",
       "        vertical-align: middle;\n",
       "    }\n",
       "\n",
       "    .dataframe tbody tr th {\n",
       "        vertical-align: top;\n",
       "    }\n",
       "\n",
       "    .dataframe thead th {\n",
       "        text-align: right;\n",
       "    }\n",
       "</style>\n",
       "<table border=\"1\" class=\"dataframe\">\n",
       "  <thead>\n",
       "    <tr style=\"text-align: right;\">\n",
       "      <th></th>\n",
       "      <th>source_id</th>\n",
       "      <th>month</th>\n",
       "      <th>costs</th>\n",
       "    </tr>\n",
       "  </thead>\n",
       "  <tbody>\n",
       "    <tr>\n",
       "      <td>0</td>\n",
       "      <td>1</td>\n",
       "      <td>2017-06-01</td>\n",
       "      <td>1125.61</td>\n",
       "    </tr>\n",
       "    <tr>\n",
       "      <td>1</td>\n",
       "      <td>1</td>\n",
       "      <td>2017-07-01</td>\n",
       "      <td>1072.88</td>\n",
       "    </tr>\n",
       "    <tr>\n",
       "      <td>2</td>\n",
       "      <td>1</td>\n",
       "      <td>2017-08-01</td>\n",
       "      <td>951.81</td>\n",
       "    </tr>\n",
       "    <tr>\n",
       "      <td>3</td>\n",
       "      <td>1</td>\n",
       "      <td>2017-09-01</td>\n",
       "      <td>1502.01</td>\n",
       "    </tr>\n",
       "    <tr>\n",
       "      <td>4</td>\n",
       "      <td>1</td>\n",
       "      <td>2017-10-01</td>\n",
       "      <td>2315.75</td>\n",
       "    </tr>\n",
       "    <tr>\n",
       "      <td>...</td>\n",
       "      <td>...</td>\n",
       "      <td>...</td>\n",
       "      <td>...</td>\n",
       "    </tr>\n",
       "    <tr>\n",
       "      <td>79</td>\n",
       "      <td>10</td>\n",
       "      <td>2018-01-01</td>\n",
       "      <td>614.35</td>\n",
       "    </tr>\n",
       "    <tr>\n",
       "      <td>80</td>\n",
       "      <td>10</td>\n",
       "      <td>2018-02-01</td>\n",
       "      <td>480.88</td>\n",
       "    </tr>\n",
       "    <tr>\n",
       "      <td>81</td>\n",
       "      <td>10</td>\n",
       "      <td>2018-03-01</td>\n",
       "      <td>526.41</td>\n",
       "    </tr>\n",
       "    <tr>\n",
       "      <td>82</td>\n",
       "      <td>10</td>\n",
       "      <td>2018-04-01</td>\n",
       "      <td>388.25</td>\n",
       "    </tr>\n",
       "    <tr>\n",
       "      <td>83</td>\n",
       "      <td>10</td>\n",
       "      <td>2018-05-01</td>\n",
       "      <td>409.86</td>\n",
       "    </tr>\n",
       "  </tbody>\n",
       "</table>\n",
       "<p>84 rows × 3 columns</p>\n",
       "</div>"
      ],
      "text/plain": [
       "    source_id      month    costs\n",
       "0           1 2017-06-01  1125.61\n",
       "1           1 2017-07-01  1072.88\n",
       "2           1 2017-08-01   951.81\n",
       "3           1 2017-09-01  1502.01\n",
       "4           1 2017-10-01  2315.75\n",
       "..        ...        ...      ...\n",
       "79         10 2018-01-01   614.35\n",
       "80         10 2018-02-01   480.88\n",
       "81         10 2018-03-01   526.41\n",
       "82         10 2018-04-01   388.25\n",
       "83         10 2018-05-01   409.86\n",
       "\n",
       "[84 rows x 3 columns]"
      ]
     },
     "execution_count": 103,
     "metadata": {},
     "output_type": "execute_result"
    }
   ],
   "source": [
    "cost_g"
   ]
  },
  {
   "cell_type": "code",
   "execution_count": 104,
   "metadata": {},
   "outputs": [
    {
     "data": {
      "text/html": [
       "<div>\n",
       "<style scoped>\n",
       "    .dataframe tbody tr th:only-of-type {\n",
       "        vertical-align: middle;\n",
       "    }\n",
       "\n",
       "    .dataframe tbody tr th {\n",
       "        vertical-align: top;\n",
       "    }\n",
       "\n",
       "    .dataframe thead th {\n",
       "        text-align: right;\n",
       "    }\n",
       "</style>\n",
       "<table border=\"1\" class=\"dataframe\">\n",
       "  <thead>\n",
       "    <tr style=\"text-align: right;\">\n",
       "      <th></th>\n",
       "      <th>device</th>\n",
       "      <th>end_ts</th>\n",
       "      <th>source_id</th>\n",
       "      <th>start_ts</th>\n",
       "      <th>uid</th>\n",
       "      <th>date</th>\n",
       "      <th>day</th>\n",
       "      <th>month</th>\n",
       "      <th>week</th>\n",
       "      <th>duration</th>\n",
       "      <th>first_visit_date</th>\n",
       "      <th>first_visit_month</th>\n",
       "      <th>visit_month</th>\n",
       "      <th>cohort_lifetime</th>\n",
       "    </tr>\n",
       "  </thead>\n",
       "  <tbody>\n",
       "    <tr>\n",
       "      <td>0</td>\n",
       "      <td>touch</td>\n",
       "      <td>2017-12-20 17:38:00</td>\n",
       "      <td>4</td>\n",
       "      <td>2017-12-20 17:20:00</td>\n",
       "      <td>16879256277535980062</td>\n",
       "      <td>2017-12-20</td>\n",
       "      <td>2</td>\n",
       "      <td>2017-12</td>\n",
       "      <td>51</td>\n",
       "      <td>1080</td>\n",
       "      <td>2017-12-20 17:20:00</td>\n",
       "      <td>2017-12-01</td>\n",
       "      <td>2017-12-01</td>\n",
       "      <td>0</td>\n",
       "    </tr>\n",
       "    <tr>\n",
       "      <td>1</td>\n",
       "      <td>desktop</td>\n",
       "      <td>2018-02-19 17:21:00</td>\n",
       "      <td>2</td>\n",
       "      <td>2018-02-19 16:53:00</td>\n",
       "      <td>104060357244891740</td>\n",
       "      <td>2018-02-19</td>\n",
       "      <td>0</td>\n",
       "      <td>2018-02</td>\n",
       "      <td>8</td>\n",
       "      <td>1680</td>\n",
       "      <td>2018-02-19 16:53:00</td>\n",
       "      <td>2018-02-01</td>\n",
       "      <td>2018-02-01</td>\n",
       "      <td>0</td>\n",
       "    </tr>\n",
       "    <tr>\n",
       "      <td>2</td>\n",
       "      <td>touch</td>\n",
       "      <td>2017-07-01 01:54:00</td>\n",
       "      <td>5</td>\n",
       "      <td>2017-07-01 01:54:00</td>\n",
       "      <td>7459035603376831527</td>\n",
       "      <td>2017-07-01</td>\n",
       "      <td>5</td>\n",
       "      <td>2017-07</td>\n",
       "      <td>26</td>\n",
       "      <td>0</td>\n",
       "      <td>2017-07-01 01:54:00</td>\n",
       "      <td>2017-07-01</td>\n",
       "      <td>2017-07-01</td>\n",
       "      <td>0</td>\n",
       "    </tr>\n",
       "    <tr>\n",
       "      <td>3</td>\n",
       "      <td>desktop</td>\n",
       "      <td>2018-05-20 11:23:00</td>\n",
       "      <td>9</td>\n",
       "      <td>2018-05-20 10:59:00</td>\n",
       "      <td>16174680259334210214</td>\n",
       "      <td>2018-05-20</td>\n",
       "      <td>6</td>\n",
       "      <td>2018-05</td>\n",
       "      <td>20</td>\n",
       "      <td>1440</td>\n",
       "      <td>2018-03-09 20:05:00</td>\n",
       "      <td>2018-03-01</td>\n",
       "      <td>2018-05-01</td>\n",
       "      <td>2</td>\n",
       "    </tr>\n",
       "    <tr>\n",
       "      <td>4</td>\n",
       "      <td>desktop</td>\n",
       "      <td>2017-12-27 14:06:00</td>\n",
       "      <td>3</td>\n",
       "      <td>2017-12-27 14:06:00</td>\n",
       "      <td>9969694820036681168</td>\n",
       "      <td>2017-12-27</td>\n",
       "      <td>2</td>\n",
       "      <td>2017-12</td>\n",
       "      <td>52</td>\n",
       "      <td>0</td>\n",
       "      <td>2017-12-27 14:06:00</td>\n",
       "      <td>2017-12-01</td>\n",
       "      <td>2017-12-01</td>\n",
       "      <td>0</td>\n",
       "    </tr>\n",
       "  </tbody>\n",
       "</table>\n",
       "</div>"
      ],
      "text/plain": [
       "    device              end_ts  source_id            start_ts  \\\n",
       "0    touch 2017-12-20 17:38:00          4 2017-12-20 17:20:00   \n",
       "1  desktop 2018-02-19 17:21:00          2 2018-02-19 16:53:00   \n",
       "2    touch 2017-07-01 01:54:00          5 2017-07-01 01:54:00   \n",
       "3  desktop 2018-05-20 11:23:00          9 2018-05-20 10:59:00   \n",
       "4  desktop 2017-12-27 14:06:00          3 2017-12-27 14:06:00   \n",
       "\n",
       "                    uid        date  day    month  week  duration  \\\n",
       "0  16879256277535980062  2017-12-20    2  2017-12    51      1080   \n",
       "1    104060357244891740  2018-02-19    0  2018-02     8      1680   \n",
       "2   7459035603376831527  2017-07-01    5  2017-07    26         0   \n",
       "3  16174680259334210214  2018-05-20    6  2018-05    20      1440   \n",
       "4   9969694820036681168  2017-12-27    2  2017-12    52         0   \n",
       "\n",
       "     first_visit_date first_visit_month visit_month  cohort_lifetime  \n",
       "0 2017-12-20 17:20:00        2017-12-01  2017-12-01                0  \n",
       "1 2018-02-19 16:53:00        2018-02-01  2018-02-01                0  \n",
       "2 2017-07-01 01:54:00        2017-07-01  2017-07-01                0  \n",
       "3 2018-03-09 20:05:00        2018-03-01  2018-05-01                2  \n",
       "4 2017-12-27 14:06:00        2017-12-01  2017-12-01                0  "
      ]
     },
     "execution_count": 104,
     "metadata": {},
     "output_type": "execute_result"
    }
   ],
   "source": [
    "visits.head()"
   ]
  },
  {
   "cell_type": "code",
   "execution_count": 105,
   "metadata": {},
   "outputs": [
    {
     "data": {
      "text/html": [
       "<div>\n",
       "<style scoped>\n",
       "    .dataframe tbody tr th:only-of-type {\n",
       "        vertical-align: middle;\n",
       "    }\n",
       "\n",
       "    .dataframe tbody tr th {\n",
       "        vertical-align: top;\n",
       "    }\n",
       "\n",
       "    .dataframe thead th {\n",
       "        text-align: right;\n",
       "    }\n",
       "</style>\n",
       "<table border=\"1\" class=\"dataframe\">\n",
       "  <thead>\n",
       "    <tr style=\"text-align: right;\">\n",
       "      <th></th>\n",
       "      <th>device</th>\n",
       "      <th>end_ts</th>\n",
       "      <th>source_id</th>\n",
       "      <th>start_ts</th>\n",
       "      <th>uid</th>\n",
       "      <th>date</th>\n",
       "      <th>day</th>\n",
       "      <th>month</th>\n",
       "      <th>week</th>\n",
       "      <th>duration</th>\n",
       "      <th>first_visit_date</th>\n",
       "      <th>first_visit_month</th>\n",
       "      <th>visit_month</th>\n",
       "      <th>cohort_lifetime</th>\n",
       "      <th>first_order_date</th>\n",
       "    </tr>\n",
       "  </thead>\n",
       "  <tbody>\n",
       "    <tr>\n",
       "      <td>0</td>\n",
       "      <td>touch</td>\n",
       "      <td>2017-12-20 17:38:00</td>\n",
       "      <td>4</td>\n",
       "      <td>2017-12-20 17:20:00</td>\n",
       "      <td>16879256277535980062</td>\n",
       "      <td>2017-12-20</td>\n",
       "      <td>2</td>\n",
       "      <td>2017-12</td>\n",
       "      <td>51</td>\n",
       "      <td>1080</td>\n",
       "      <td>2017-12-20 17:20:00</td>\n",
       "      <td>2017-12-01</td>\n",
       "      <td>2017-12-01</td>\n",
       "      <td>0</td>\n",
       "      <td>NaT</td>\n",
       "    </tr>\n",
       "    <tr>\n",
       "      <td>1</td>\n",
       "      <td>desktop</td>\n",
       "      <td>2018-02-19 17:21:00</td>\n",
       "      <td>2</td>\n",
       "      <td>2018-02-19 16:53:00</td>\n",
       "      <td>104060357244891740</td>\n",
       "      <td>2018-02-19</td>\n",
       "      <td>0</td>\n",
       "      <td>2018-02</td>\n",
       "      <td>8</td>\n",
       "      <td>1680</td>\n",
       "      <td>2018-02-19 16:53:00</td>\n",
       "      <td>2018-02-01</td>\n",
       "      <td>2018-02-01</td>\n",
       "      <td>0</td>\n",
       "      <td>NaT</td>\n",
       "    </tr>\n",
       "    <tr>\n",
       "      <td>2</td>\n",
       "      <td>touch</td>\n",
       "      <td>2017-07-01 01:54:00</td>\n",
       "      <td>5</td>\n",
       "      <td>2017-07-01 01:54:00</td>\n",
       "      <td>7459035603376831527</td>\n",
       "      <td>2017-07-01</td>\n",
       "      <td>5</td>\n",
       "      <td>2017-07</td>\n",
       "      <td>26</td>\n",
       "      <td>0</td>\n",
       "      <td>2017-07-01 01:54:00</td>\n",
       "      <td>2017-07-01</td>\n",
       "      <td>2017-07-01</td>\n",
       "      <td>0</td>\n",
       "      <td>NaT</td>\n",
       "    </tr>\n",
       "    <tr>\n",
       "      <td>3</td>\n",
       "      <td>desktop</td>\n",
       "      <td>2018-05-20 11:23:00</td>\n",
       "      <td>9</td>\n",
       "      <td>2018-05-20 10:59:00</td>\n",
       "      <td>16174680259334210214</td>\n",
       "      <td>2018-05-20</td>\n",
       "      <td>6</td>\n",
       "      <td>2018-05</td>\n",
       "      <td>20</td>\n",
       "      <td>1440</td>\n",
       "      <td>2018-03-09 20:05:00</td>\n",
       "      <td>2018-03-01</td>\n",
       "      <td>2018-05-01</td>\n",
       "      <td>2</td>\n",
       "      <td>2018-03-09 20:25:00</td>\n",
       "    </tr>\n",
       "    <tr>\n",
       "      <td>4</td>\n",
       "      <td>desktop</td>\n",
       "      <td>2017-12-27 14:06:00</td>\n",
       "      <td>3</td>\n",
       "      <td>2017-12-27 14:06:00</td>\n",
       "      <td>9969694820036681168</td>\n",
       "      <td>2017-12-27</td>\n",
       "      <td>2</td>\n",
       "      <td>2017-12</td>\n",
       "      <td>52</td>\n",
       "      <td>0</td>\n",
       "      <td>2017-12-27 14:06:00</td>\n",
       "      <td>2017-12-01</td>\n",
       "      <td>2017-12-01</td>\n",
       "      <td>0</td>\n",
       "      <td>NaT</td>\n",
       "    </tr>\n",
       "  </tbody>\n",
       "</table>\n",
       "</div>"
      ],
      "text/plain": [
       "    device              end_ts  source_id            start_ts  \\\n",
       "0    touch 2017-12-20 17:38:00          4 2017-12-20 17:20:00   \n",
       "1  desktop 2018-02-19 17:21:00          2 2018-02-19 16:53:00   \n",
       "2    touch 2017-07-01 01:54:00          5 2017-07-01 01:54:00   \n",
       "3  desktop 2018-05-20 11:23:00          9 2018-05-20 10:59:00   \n",
       "4  desktop 2017-12-27 14:06:00          3 2017-12-27 14:06:00   \n",
       "\n",
       "                    uid        date  day    month  week  duration  \\\n",
       "0  16879256277535980062  2017-12-20    2  2017-12    51      1080   \n",
       "1    104060357244891740  2018-02-19    0  2018-02     8      1680   \n",
       "2   7459035603376831527  2017-07-01    5  2017-07    26         0   \n",
       "3  16174680259334210214  2018-05-20    6  2018-05    20      1440   \n",
       "4   9969694820036681168  2017-12-27    2  2017-12    52         0   \n",
       "\n",
       "     first_visit_date first_visit_month visit_month  cohort_lifetime  \\\n",
       "0 2017-12-20 17:20:00        2017-12-01  2017-12-01                0   \n",
       "1 2018-02-19 16:53:00        2018-02-01  2018-02-01                0   \n",
       "2 2017-07-01 01:54:00        2017-07-01  2017-07-01                0   \n",
       "3 2018-03-09 20:05:00        2018-03-01  2018-05-01                2   \n",
       "4 2017-12-27 14:06:00        2017-12-01  2017-12-01                0   \n",
       "\n",
       "     first_order_date  \n",
       "0                 NaT  \n",
       "1                 NaT  \n",
       "2                 NaT  \n",
       "3 2018-03-09 20:25:00  \n",
       "4                 NaT  "
      ]
     },
     "execution_count": 105,
     "metadata": {},
     "output_type": "execute_result"
    }
   ],
   "source": [
    "#добавляем в таблицу с посещениями даты первых заказов\n",
    "first_order = orders.groupby('uid')['buy_ts'].min()\n",
    "first_order.name = 'first_order_date'\n",
    "visits=visits.join(first_order, on='uid')\n",
    "visits.head()"
   ]
  },
  {
   "cell_type": "code",
   "execution_count": 106,
   "metadata": {},
   "outputs": [
    {
     "data": {
      "text/html": [
       "<div>\n",
       "<style scoped>\n",
       "    .dataframe tbody tr th:only-of-type {\n",
       "        vertical-align: middle;\n",
       "    }\n",
       "\n",
       "    .dataframe tbody tr th {\n",
       "        vertical-align: top;\n",
       "    }\n",
       "\n",
       "    .dataframe thead th {\n",
       "        text-align: right;\n",
       "    }\n",
       "</style>\n",
       "<table border=\"1\" class=\"dataframe\">\n",
       "  <thead>\n",
       "    <tr style=\"text-align: right;\">\n",
       "      <th></th>\n",
       "      <th>uid</th>\n",
       "      <th>source_id</th>\n",
       "      <th>date</th>\n",
       "      <th>first_order_date</th>\n",
       "      <th>revenue</th>\n",
       "    </tr>\n",
       "  </thead>\n",
       "  <tbody>\n",
       "    <tr>\n",
       "      <td>0</td>\n",
       "      <td>18188358787673499603</td>\n",
       "      <td>2</td>\n",
       "      <td>2018-02-12</td>\n",
       "      <td>2018-02-12</td>\n",
       "      <td>0.79</td>\n",
       "    </tr>\n",
       "    <tr>\n",
       "      <td>1</td>\n",
       "      <td>15857957287537270437</td>\n",
       "      <td>3</td>\n",
       "      <td>2018-03-12</td>\n",
       "      <td>2018-03-12</td>\n",
       "      <td>1.83</td>\n",
       "    </tr>\n",
       "    <tr>\n",
       "      <td>2</td>\n",
       "      <td>15868686231870595097</td>\n",
       "      <td>5</td>\n",
       "      <td>2018-03-27</td>\n",
       "      <td>2018-03-27</td>\n",
       "      <td>1.95</td>\n",
       "    </tr>\n",
       "    <tr>\n",
       "      <td>3</td>\n",
       "      <td>9344114199116964256</td>\n",
       "      <td>5</td>\n",
       "      <td>2018-02-25</td>\n",
       "      <td>2018-02-25</td>\n",
       "      <td>0.98</td>\n",
       "    </tr>\n",
       "    <tr>\n",
       "      <td>4</td>\n",
       "      <td>14063997464143962003</td>\n",
       "      <td>4</td>\n",
       "      <td>2018-01-25</td>\n",
       "      <td>2018-01-25</td>\n",
       "      <td>1.22</td>\n",
       "    </tr>\n",
       "    <tr>\n",
       "      <td>...</td>\n",
       "      <td>...</td>\n",
       "      <td>...</td>\n",
       "      <td>...</td>\n",
       "      <td>...</td>\n",
       "      <td>...</td>\n",
       "    </tr>\n",
       "    <tr>\n",
       "      <td>37905</td>\n",
       "      <td>18363291481961487539</td>\n",
       "      <td>2</td>\n",
       "      <td>2017-07-29</td>\n",
       "      <td>2017-07-29</td>\n",
       "      <td>2.68</td>\n",
       "    </tr>\n",
       "    <tr>\n",
       "      <td>37906</td>\n",
       "      <td>18370831553019119586</td>\n",
       "      <td>1</td>\n",
       "      <td>2018-01-25</td>\n",
       "      <td>2018-01-25</td>\n",
       "      <td>3.30</td>\n",
       "    </tr>\n",
       "    <tr>\n",
       "      <td>37907</td>\n",
       "      <td>18387297585500748294</td>\n",
       "      <td>4</td>\n",
       "      <td>2018-03-03</td>\n",
       "      <td>2018-03-03</td>\n",
       "      <td>0.61</td>\n",
       "    </tr>\n",
       "    <tr>\n",
       "      <td>37908</td>\n",
       "      <td>18388616944624776485</td>\n",
       "      <td>5</td>\n",
       "      <td>2017-11-02</td>\n",
       "      <td>2017-11-02</td>\n",
       "      <td>2.69</td>\n",
       "    </tr>\n",
       "    <tr>\n",
       "      <td>37909</td>\n",
       "      <td>18396128934054549559</td>\n",
       "      <td>2</td>\n",
       "      <td>2017-09-10</td>\n",
       "      <td>2017-09-10</td>\n",
       "      <td>1.22</td>\n",
       "    </tr>\n",
       "  </tbody>\n",
       "</table>\n",
       "<p>37910 rows × 5 columns</p>\n",
       "</div>"
      ],
      "text/plain": [
       "                        uid  source_id        date first_order_date  revenue\n",
       "0      18188358787673499603          2  2018-02-12       2018-02-12     0.79\n",
       "1      15857957287537270437          3  2018-03-12       2018-03-12     1.83\n",
       "2      15868686231870595097          5  2018-03-27       2018-03-27     1.95\n",
       "3       9344114199116964256          5  2018-02-25       2018-02-25     0.98\n",
       "4      14063997464143962003          4  2018-01-25       2018-01-25     1.22\n",
       "...                     ...        ...         ...              ...      ...\n",
       "37905  18363291481961487539          2  2017-07-29       2017-07-29     2.68\n",
       "37906  18370831553019119586          1  2018-01-25       2018-01-25     3.30\n",
       "37907  18387297585500748294          4  2018-03-03       2018-03-03     0.61\n",
       "37908  18388616944624776485          5  2017-11-02       2017-11-02     2.69\n",
       "37909  18396128934054549559          2  2017-09-10       2017-09-10     1.22\n",
       "\n",
       "[37910 rows x 5 columns]"
      ]
     },
     "execution_count": 106,
     "metadata": {},
     "output_type": "execute_result"
    }
   ],
   "source": [
    "users=visits[['uid','source_id','date','first_order_date']]\n",
    "users['first_order_date']=users['first_order_date'].dt.date\n",
    "users=users[users['date']==users['first_order_date']]\n",
    "users=users.merge(orders.groupby('uid')['revenue'].sum(), on='uid',how='left')\n",
    "users=users.dropna().reset_index(drop=True)\n",
    "users"
   ]
  },
  {
   "cell_type": "code",
   "execution_count": 107,
   "metadata": {},
   "outputs": [],
   "source": [
    "users['first_order_month']=users['first_order_date'].astype('datetime64[M]')"
   ]
  },
  {
   "cell_type": "code",
   "execution_count": 108,
   "metadata": {},
   "outputs": [
    {
     "data": {
      "text/html": [
       "<div>\n",
       "<style scoped>\n",
       "    .dataframe tbody tr th:only-of-type {\n",
       "        vertical-align: middle;\n",
       "    }\n",
       "\n",
       "    .dataframe tbody tr th {\n",
       "        vertical-align: top;\n",
       "    }\n",
       "\n",
       "    .dataframe thead th {\n",
       "        text-align: right;\n",
       "    }\n",
       "</style>\n",
       "<table border=\"1\" class=\"dataframe\">\n",
       "  <thead>\n",
       "    <tr style=\"text-align: right;\">\n",
       "      <th></th>\n",
       "      <th>source_id</th>\n",
       "      <th>month</th>\n",
       "      <th>users</th>\n",
       "      <th>revenue</th>\n",
       "      <th>costs</th>\n",
       "    </tr>\n",
       "  </thead>\n",
       "  <tbody>\n",
       "    <tr>\n",
       "      <td>0</td>\n",
       "      <td>1</td>\n",
       "      <td>2017-06-01</td>\n",
       "      <td>302</td>\n",
       "      <td>9587.36</td>\n",
       "      <td>1125.61</td>\n",
       "    </tr>\n",
       "    <tr>\n",
       "      <td>1</td>\n",
       "      <td>1</td>\n",
       "      <td>2017-07-01</td>\n",
       "      <td>303</td>\n",
       "      <td>4369.54</td>\n",
       "      <td>1072.88</td>\n",
       "    </tr>\n",
       "    <tr>\n",
       "      <td>2</td>\n",
       "      <td>1</td>\n",
       "      <td>2017-08-01</td>\n",
       "      <td>191</td>\n",
       "      <td>2486.31</td>\n",
       "      <td>951.81</td>\n",
       "    </tr>\n",
       "    <tr>\n",
       "      <td>3</td>\n",
       "      <td>1</td>\n",
       "      <td>2017-09-01</td>\n",
       "      <td>362</td>\n",
       "      <td>3627.01</td>\n",
       "      <td>1502.01</td>\n",
       "    </tr>\n",
       "    <tr>\n",
       "      <td>4</td>\n",
       "      <td>1</td>\n",
       "      <td>2017-10-01</td>\n",
       "      <td>566</td>\n",
       "      <td>4843.57</td>\n",
       "      <td>2315.75</td>\n",
       "    </tr>\n",
       "  </tbody>\n",
       "</table>\n",
       "</div>"
      ],
      "text/plain": [
       "   source_id      month  users  revenue    costs\n",
       "0          1 2017-06-01    302  9587.36  1125.61\n",
       "1          1 2017-07-01    303  4369.54  1072.88\n",
       "2          1 2017-08-01    191  2486.31   951.81\n",
       "3          1 2017-09-01    362  3627.01  1502.01\n",
       "4          1 2017-10-01    566  4843.57  2315.75"
      ]
     },
     "execution_count": 108,
     "metadata": {},
     "output_type": "execute_result"
    }
   ],
   "source": [
    "#создаем таблицу с источниками их количеством покупателей, затратами на рекламу и выручкой для каждого месяца\n",
    "rev_source=users.groupby(['source_id','first_order_month']).agg({'uid':'count','revenue':'sum'}).reset_index()\n",
    "rev_source.columns=['source_id','month','users','revenue']\n",
    "rev_source=rev_source.merge(cost_g, on=['source_id','month'])\n",
    "rev_source.head()"
   ]
  },
  {
   "cell_type": "code",
   "execution_count": 109,
   "metadata": {},
   "outputs": [],
   "source": [
    "#рассчитываем стоимость привлечения одного покупателя\n",
    "rev_source['cac']=rev_source['costs']/rev_source['users']"
   ]
  },
  {
   "cell_type": "code",
   "execution_count": 110,
   "metadata": {},
   "outputs": [
    {
     "data": {
      "image/png": "[encoded data removed]",
      "text/plain": [
       "<Figure size 864x432 with 2 Axes>"
      ]
     },
     "metadata": {},
     "output_type": "display_data"
    }
   ],
   "source": [
    "source_pivot=rev_source.pivot_table(index='source_id', columns='month', values='cac',aggfunc='sum')\n",
    "\n",
    "sns.set(style='white')\n",
    "plt.figure(figsize=(12, 6))\n",
    "plt.title('САС по источникам рекламы')\n",
    "ax=sns.heatmap(source_pivot, annot=True, fmt='.2f', linewidths=1, linecolor='gray'); \n",
    "ax.set_xticklabels(source_pivot.columns.strftime('%Y-%m') )\n",
    "plt.ylabel('Источник')\n",
    "plt.xlabel('Месяц')\n",
    "plt.show()"
   ]
  },
  {
   "cell_type": "markdown",
   "metadata": {},
   "source": [
    "Наиболее дорогими оказались покупатели из источника номер 3, а самые дорогие покупатели были из 9 источника в апреле. Стоит отметить, что наиболее дешевым в привлечении покупателей оказался источник 1."
   ]
  },
  {
   "cell_type": "markdown",
   "metadata": {},
   "source": [
    "* **На сколько окупились расходы?**"
   ]
  },
  {
   "cell_type": "code",
   "execution_count": 111,
   "metadata": {},
   "outputs": [],
   "source": [
    "rev_source['romi']=rev_source['revenue'] /rev_source['costs']"
   ]
  },
  {
   "cell_type": "code",
   "execution_count": 112,
   "metadata": {},
   "outputs": [
    {
     "data": {
      "image/png": "[encoded data removed]",
      "text/plain": [
       "<Figure size 864x432 with 2 Axes>"
      ]
     },
     "metadata": {},
     "output_type": "display_data"
    }
   ],
   "source": [
    "romi_pivot=rev_source.pivot_table(index='source_id', columns='month', values='romi',aggfunc='mean' )\n",
    "\n",
    "sns.set(style='white')\n",
    "plt.figure(figsize=(12, 6))\n",
    "plt.title('ROMI по источникам рекламы')\n",
    "ax=sns.heatmap(romi_pivot, annot=True, fmt='.2f', linewidths=1, linecolor='gray'); \n",
    "ax.set_xticklabels(romi_pivot.columns.strftime('%Y-%m') )\n",
    "plt.ylabel('Источник')\n",
    "plt.xlabel('Месяц')\n",
    "plt.show()"
   ]
  },
  {
   "cell_type": "markdown",
   "metadata": {},
   "source": [
    "Как мы можем увидеть из тепловой карты, самым неокупаемым источником оказался третий, а на него тратилось больше 40% рекламного бюджета. На регулярной основе окупается первый источник стабильно принося доход сервису. Также стоит отметить самую высокую окупаемость у пятого источника в сентябре. "
   ]
  },
  {
   "cell_type": "markdown",
   "metadata": {},
   "source": [
    "## Общие выводы и рекомендации<a id=\"step5\"></a> "
   ]
  },
  {
   "cell_type": "markdown",
   "metadata": {},
   "source": [
    "* средняя продолжительность сессии составляет 1 минуту, примерно за это же время большинство пользователей совершает покупку, что скорее всего свидетельствует о том, что пользователи по ссылке попадают сразу на страницу покупки билета на конкретное мероприятие. Таким образом пользователи пользуются сервисом в основном только как посредником по продаже и не задерживаются на сайте для поиска и выбора меропрития; \n",
    "\n",
    "* около 73% всех сессий приходится на десктоп, на мобтльные девайсы остается весьма небольшая доля принимая во внимание тот факт, что мобильный трафик имеет тенденцию роста в использовании интернета в последнее время. Подобная низкая доля мобильного трафика может объсняться тем, что у сервиса есть приложение только для iOS, и не имеяя версии приложения для андроида,возможно, теряет потенциальных пользоватлей;\n",
    "\n",
    "* в целом, даже максимально достигнутый коэффициент удержания пользователей -8,5% нельзя назвать достаточно высоким, а  коэффициент удержания молодых когорт имеет тенденцию снижения;\n",
    "\n",
    "* однако наблюдается позитивная динамика частоты покупок с течением времени, когорты пользователей склонны совершать покупки чаще после своего первого приобретения на сайте;\n",
    "\n",
    "* для того, чтобы лучше понять свою целевую аудиторию необходимо более подробно изучить когрту пользователей, которая пришла в июне. Для неё характерны наиболеее высокий коэффициент удержания, хороший и стабильный LTV благодаря хорошему показателю частоты покупок при неплохом среднем чеке. Привлечение пользователей, похожих на июньскую когорту, поможет принести сервису значительно больше прибыли;\n",
    "\n",
    "* что касается распределения рекламного бюджета, его необходимо пересмотреть, более 40% было израсходовано на источник 3, при этом за весь период он ни разу не окупился. Стоит выделить больше денег на источник 1, так как он имеет стабильную хорошую окупаемость. Также стоит отметить самую высокую окупаемость у пятого источника в сентябре, необходимо детально изучить рекламную кампанию данного источника в этот преиод, возможно удастся понять причины успеха и применить их в дальнейшем.\n"
   ]
  }
 ],
 "metadata": {
  "kernelspec": {
   "display_name": "Python 3",
   "language": "python",
   "name": "python3"
  },
  "language_info": {
   "codemirror_mode": {
    "name": "ipython",
    "version": 3
   },
   "file_extension": ".py",
   "mimetype": "text/x-python",
   "name": "python",
   "nbconvert_exporter": "python",
   "pygments_lexer": "ipython3",
   "version": "3.8.3"
  },
  "toc": {
   "base_numbering": 1,
   "nav_menu": {},
   "number_sections": true,
   "sideBar": true,
   "skip_h1_title": true,
   "title_cell": "Table of Contents",
   "title_sidebar": "Contents",
   "toc_cell": false,
   "toc_position": {},
   "toc_section_display": true,
   "toc_window_display": false
  }
 },
 "nbformat": 4,
 "nbformat_minor": 2
}

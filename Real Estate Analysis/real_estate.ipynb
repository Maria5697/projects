{
 "cells": [
  {
   "cell_type": "markdown",
   "metadata": {},
   "source": [
    "# Исследование объявлений о продаже квартир\n",
    "\n",
    "В вашем распоряжении данные сервиса Яндекс.Недвижимость — архив объявлений о продаже квартир в Санкт-Петербурге и соседних населённых пунктов за несколько лет. Нужно научиться определять рыночную стоимость объектов недвижимости. Ваша задача — установить параметры. Это позволит построить автоматизированную систему: она отследит аномалии и мошенническую деятельность. \n",
    "\n",
    "По каждой квартире на продажу доступны два вида данных. Первые вписаны пользователем, вторые — получены автоматически на основе картографических данных. Например, расстояние до центра, аэропорта, ближайшего парка и водоёма. \n",
    "\n",
    "Данные включают в себя 23699 наблюдений по 22 перменным:\n",
    "\n",
    "- ***airports_nearest*** — расстояние до ближайшего аэропорта в метрах (м)\n",
    "- ***balcony*** — число балконов\n",
    "- ***ceiling_height*** — высота потолков (м)\n",
    "- ***cityCenters_nearest*** — расстояние до центра города (м)\n",
    "- ***days_exposition*** — сколько дней было размещено объявление (от публикации до снятия)\n",
    "- ***first_day_exposition*** — дата публикации\n",
    "- ***floor*** — этаж\n",
    "- ***floors_total*** — всего этажей в доме\n",
    "- ***is_apartment*** — апартаменты (булев тип)\n",
    "- ***kitchen_area*** — площадь кухни в квадратных метрах (м²)\n",
    "- ***last_price*** — цена на момент снятия с публикации\n",
    "- ***living_area*** — жилая площадь в квадратных метрах(м²)\n",
    "- ***locality_name*** — название населённого пункта\n",
    "- ***open_plan*** — свободная планировка (булев тип)\n",
    "- ***parks_around3000*** — число парков в радиусе 3 км\n",
    "- ***parks_nearest*** — расстояние до ближайшего парка (м)\n",
    "- ***ponds_around3000*** — число водоёмов в радиусе 3 км\n",
    "- ***ponds_nearest*** — расстояние до ближайшего водоёма (м)\n",
    "- ***rooms*** — число комнат\n",
    "- ***studio*** — квартира-студия (булев тип)\n",
    "- ***total_area*** — площадь квартиры в квадратных метрах (м²)\n",
    "- ***total_images*** — число фотографий квартиры в объявлении\n"
   ]
  },
  {
   "cell_type": "markdown",
   "metadata": {},
   "source": [
    "\n",
    "### Содержание\n",
    "[1. Открытие и изучение данных](#step1)\n",
    "\n",
    "[2. Предобработка данных](#step2)\n",
    "\n",
    "   [- Обработка пропусков](#step2-1)\n",
    "  \n",
    "   [- Замена типа данных](#step2-2)\n",
    "  \n",
    "   [- Проверка наличия дубликатов](#step2-3)\n",
    "      \n",
    "   \n",
    "[3. Создание новых перменных](#step3)\n",
    "\n",
    "[4. Исследовательский анализ](#step4)\n",
    "\n",
    "[5. Общий вывод](#step5)\n",
    "   "
   ]
  },
  {
   "cell_type": "markdown",
   "metadata": {},
   "source": [
    "<a id=\"step1\"></a> \n",
    "### Шаг 1. Откройте файл с данными и изучите общую информацию. "
   ]
  },
  {
   "cell_type": "code",
   "execution_count": 1,
   "metadata": {},
   "outputs": [],
   "source": [
    "import pandas as pd\n",
    "import numpy as np\n",
    "import seaborn as sns\n",
    "import matplotlib.pyplot as plt\n",
    "df=pd.read_csv('/datasets/real_estate_data.csv', sep='\\t')"
   ]
  },
  {
   "cell_type": "code",
   "execution_count": 2,
   "metadata": {},
   "outputs": [
    {
     "data": {
      "text/html": [
       "<div>\n",
       "<style scoped>\n",
       "    .dataframe tbody tr th:only-of-type {\n",
       "        vertical-align: middle;\n",
       "    }\n",
       "\n",
       "    .dataframe tbody tr th {\n",
       "        vertical-align: top;\n",
       "    }\n",
       "\n",
       "    .dataframe thead th {\n",
       "        text-align: right;\n",
       "    }\n",
       "</style>\n",
       "<table border=\"1\" class=\"dataframe\">\n",
       "  <thead>\n",
       "    <tr style=\"text-align: right;\">\n",
       "      <th></th>\n",
       "      <th>total_images</th>\n",
       "      <th>last_price</th>\n",
       "      <th>total_area</th>\n",
       "      <th>first_day_exposition</th>\n",
       "      <th>rooms</th>\n",
       "      <th>ceiling_height</th>\n",
       "      <th>floors_total</th>\n",
       "      <th>living_area</th>\n",
       "      <th>floor</th>\n",
       "      <th>is_apartment</th>\n",
       "      <th>...</th>\n",
       "      <th>kitchen_area</th>\n",
       "      <th>balcony</th>\n",
       "      <th>locality_name</th>\n",
       "      <th>airports_nearest</th>\n",
       "      <th>cityCenters_nearest</th>\n",
       "      <th>parks_around3000</th>\n",
       "      <th>parks_nearest</th>\n",
       "      <th>ponds_around3000</th>\n",
       "      <th>ponds_nearest</th>\n",
       "      <th>days_exposition</th>\n",
       "    </tr>\n",
       "  </thead>\n",
       "  <tbody>\n",
       "    <tr>\n",
       "      <td>0</td>\n",
       "      <td>20</td>\n",
       "      <td>13000000.0</td>\n",
       "      <td>108.00</td>\n",
       "      <td>2019-03-07T00:00:00</td>\n",
       "      <td>3</td>\n",
       "      <td>2.70</td>\n",
       "      <td>16.0</td>\n",
       "      <td>51.0</td>\n",
       "      <td>8</td>\n",
       "      <td>NaN</td>\n",
       "      <td>...</td>\n",
       "      <td>25.00</td>\n",
       "      <td>NaN</td>\n",
       "      <td>Санкт-Петербург</td>\n",
       "      <td>18863.0</td>\n",
       "      <td>16028.0</td>\n",
       "      <td>1.0</td>\n",
       "      <td>482.0</td>\n",
       "      <td>2.0</td>\n",
       "      <td>755.0</td>\n",
       "      <td>NaN</td>\n",
       "    </tr>\n",
       "    <tr>\n",
       "      <td>1</td>\n",
       "      <td>7</td>\n",
       "      <td>3350000.0</td>\n",
       "      <td>40.40</td>\n",
       "      <td>2018-12-04T00:00:00</td>\n",
       "      <td>1</td>\n",
       "      <td>NaN</td>\n",
       "      <td>11.0</td>\n",
       "      <td>18.6</td>\n",
       "      <td>1</td>\n",
       "      <td>NaN</td>\n",
       "      <td>...</td>\n",
       "      <td>11.00</td>\n",
       "      <td>2.0</td>\n",
       "      <td>посёлок Шушары</td>\n",
       "      <td>12817.0</td>\n",
       "      <td>18603.0</td>\n",
       "      <td>0.0</td>\n",
       "      <td>NaN</td>\n",
       "      <td>0.0</td>\n",
       "      <td>NaN</td>\n",
       "      <td>81.0</td>\n",
       "    </tr>\n",
       "    <tr>\n",
       "      <td>2</td>\n",
       "      <td>10</td>\n",
       "      <td>5196000.0</td>\n",
       "      <td>56.00</td>\n",
       "      <td>2015-08-20T00:00:00</td>\n",
       "      <td>2</td>\n",
       "      <td>NaN</td>\n",
       "      <td>5.0</td>\n",
       "      <td>34.3</td>\n",
       "      <td>4</td>\n",
       "      <td>NaN</td>\n",
       "      <td>...</td>\n",
       "      <td>8.30</td>\n",
       "      <td>0.0</td>\n",
       "      <td>Санкт-Петербург</td>\n",
       "      <td>21741.0</td>\n",
       "      <td>13933.0</td>\n",
       "      <td>1.0</td>\n",
       "      <td>90.0</td>\n",
       "      <td>2.0</td>\n",
       "      <td>574.0</td>\n",
       "      <td>558.0</td>\n",
       "    </tr>\n",
       "    <tr>\n",
       "      <td>3</td>\n",
       "      <td>0</td>\n",
       "      <td>64900000.0</td>\n",
       "      <td>159.00</td>\n",
       "      <td>2015-07-24T00:00:00</td>\n",
       "      <td>3</td>\n",
       "      <td>NaN</td>\n",
       "      <td>14.0</td>\n",
       "      <td>NaN</td>\n",
       "      <td>9</td>\n",
       "      <td>NaN</td>\n",
       "      <td>...</td>\n",
       "      <td>NaN</td>\n",
       "      <td>0.0</td>\n",
       "      <td>Санкт-Петербург</td>\n",
       "      <td>28098.0</td>\n",
       "      <td>6800.0</td>\n",
       "      <td>2.0</td>\n",
       "      <td>84.0</td>\n",
       "      <td>3.0</td>\n",
       "      <td>234.0</td>\n",
       "      <td>424.0</td>\n",
       "    </tr>\n",
       "    <tr>\n",
       "      <td>4</td>\n",
       "      <td>2</td>\n",
       "      <td>10000000.0</td>\n",
       "      <td>100.00</td>\n",
       "      <td>2018-06-19T00:00:00</td>\n",
       "      <td>2</td>\n",
       "      <td>3.03</td>\n",
       "      <td>14.0</td>\n",
       "      <td>32.0</td>\n",
       "      <td>13</td>\n",
       "      <td>NaN</td>\n",
       "      <td>...</td>\n",
       "      <td>41.00</td>\n",
       "      <td>NaN</td>\n",
       "      <td>Санкт-Петербург</td>\n",
       "      <td>31856.0</td>\n",
       "      <td>8098.0</td>\n",
       "      <td>2.0</td>\n",
       "      <td>112.0</td>\n",
       "      <td>1.0</td>\n",
       "      <td>48.0</td>\n",
       "      <td>121.0</td>\n",
       "    </tr>\n",
       "    <tr>\n",
       "      <td>...</td>\n",
       "      <td>...</td>\n",
       "      <td>...</td>\n",
       "      <td>...</td>\n",
       "      <td>...</td>\n",
       "      <td>...</td>\n",
       "      <td>...</td>\n",
       "      <td>...</td>\n",
       "      <td>...</td>\n",
       "      <td>...</td>\n",
       "      <td>...</td>\n",
       "      <td>...</td>\n",
       "      <td>...</td>\n",
       "      <td>...</td>\n",
       "      <td>...</td>\n",
       "      <td>...</td>\n",
       "      <td>...</td>\n",
       "      <td>...</td>\n",
       "      <td>...</td>\n",
       "      <td>...</td>\n",
       "      <td>...</td>\n",
       "      <td>...</td>\n",
       "    </tr>\n",
       "    <tr>\n",
       "      <td>23694</td>\n",
       "      <td>9</td>\n",
       "      <td>9700000.0</td>\n",
       "      <td>133.81</td>\n",
       "      <td>2017-03-21T00:00:00</td>\n",
       "      <td>3</td>\n",
       "      <td>3.70</td>\n",
       "      <td>5.0</td>\n",
       "      <td>73.3</td>\n",
       "      <td>3</td>\n",
       "      <td>NaN</td>\n",
       "      <td>...</td>\n",
       "      <td>13.83</td>\n",
       "      <td>NaN</td>\n",
       "      <td>Санкт-Петербург</td>\n",
       "      <td>24665.0</td>\n",
       "      <td>4232.0</td>\n",
       "      <td>1.0</td>\n",
       "      <td>796.0</td>\n",
       "      <td>3.0</td>\n",
       "      <td>381.0</td>\n",
       "      <td>NaN</td>\n",
       "    </tr>\n",
       "    <tr>\n",
       "      <td>23695</td>\n",
       "      <td>14</td>\n",
       "      <td>3100000.0</td>\n",
       "      <td>59.00</td>\n",
       "      <td>2018-01-15T00:00:00</td>\n",
       "      <td>3</td>\n",
       "      <td>NaN</td>\n",
       "      <td>5.0</td>\n",
       "      <td>38.0</td>\n",
       "      <td>4</td>\n",
       "      <td>NaN</td>\n",
       "      <td>...</td>\n",
       "      <td>8.50</td>\n",
       "      <td>NaN</td>\n",
       "      <td>Тосно</td>\n",
       "      <td>NaN</td>\n",
       "      <td>NaN</td>\n",
       "      <td>NaN</td>\n",
       "      <td>NaN</td>\n",
       "      <td>NaN</td>\n",
       "      <td>NaN</td>\n",
       "      <td>45.0</td>\n",
       "    </tr>\n",
       "    <tr>\n",
       "      <td>23696</td>\n",
       "      <td>18</td>\n",
       "      <td>2500000.0</td>\n",
       "      <td>56.70</td>\n",
       "      <td>2018-02-11T00:00:00</td>\n",
       "      <td>2</td>\n",
       "      <td>NaN</td>\n",
       "      <td>3.0</td>\n",
       "      <td>29.7</td>\n",
       "      <td>1</td>\n",
       "      <td>NaN</td>\n",
       "      <td>...</td>\n",
       "      <td>NaN</td>\n",
       "      <td>NaN</td>\n",
       "      <td>село Рождествено</td>\n",
       "      <td>NaN</td>\n",
       "      <td>NaN</td>\n",
       "      <td>NaN</td>\n",
       "      <td>NaN</td>\n",
       "      <td>NaN</td>\n",
       "      <td>NaN</td>\n",
       "      <td>NaN</td>\n",
       "    </tr>\n",
       "    <tr>\n",
       "      <td>23697</td>\n",
       "      <td>13</td>\n",
       "      <td>11475000.0</td>\n",
       "      <td>76.75</td>\n",
       "      <td>2017-03-28T00:00:00</td>\n",
       "      <td>2</td>\n",
       "      <td>3.00</td>\n",
       "      <td>17.0</td>\n",
       "      <td>NaN</td>\n",
       "      <td>12</td>\n",
       "      <td>NaN</td>\n",
       "      <td>...</td>\n",
       "      <td>23.30</td>\n",
       "      <td>2.0</td>\n",
       "      <td>Санкт-Петербург</td>\n",
       "      <td>39140.0</td>\n",
       "      <td>10364.0</td>\n",
       "      <td>2.0</td>\n",
       "      <td>173.0</td>\n",
       "      <td>3.0</td>\n",
       "      <td>196.0</td>\n",
       "      <td>602.0</td>\n",
       "    </tr>\n",
       "    <tr>\n",
       "      <td>23698</td>\n",
       "      <td>4</td>\n",
       "      <td>1350000.0</td>\n",
       "      <td>32.30</td>\n",
       "      <td>2017-07-21T00:00:00</td>\n",
       "      <td>1</td>\n",
       "      <td>2.50</td>\n",
       "      <td>5.0</td>\n",
       "      <td>12.3</td>\n",
       "      <td>1</td>\n",
       "      <td>NaN</td>\n",
       "      <td>...</td>\n",
       "      <td>9.00</td>\n",
       "      <td>NaN</td>\n",
       "      <td>поселок Новый Учхоз</td>\n",
       "      <td>NaN</td>\n",
       "      <td>NaN</td>\n",
       "      <td>NaN</td>\n",
       "      <td>NaN</td>\n",
       "      <td>NaN</td>\n",
       "      <td>NaN</td>\n",
       "      <td>NaN</td>\n",
       "    </tr>\n",
       "  </tbody>\n",
       "</table>\n",
       "<p>23699 rows × 22 columns</p>\n",
       "</div>"
      ],
      "text/plain": [
       "       total_images  last_price  total_area first_day_exposition  rooms  \\\n",
       "0                20  13000000.0      108.00  2019-03-07T00:00:00      3   \n",
       "1                 7   3350000.0       40.40  2018-12-04T00:00:00      1   \n",
       "2                10   5196000.0       56.00  2015-08-20T00:00:00      2   \n",
       "3                 0  64900000.0      159.00  2015-07-24T00:00:00      3   \n",
       "4                 2  10000000.0      100.00  2018-06-19T00:00:00      2   \n",
       "...             ...         ...         ...                  ...    ...   \n",
       "23694             9   9700000.0      133.81  2017-03-21T00:00:00      3   \n",
       "23695            14   3100000.0       59.00  2018-01-15T00:00:00      3   \n",
       "23696            18   2500000.0       56.70  2018-02-11T00:00:00      2   \n",
       "23697            13  11475000.0       76.75  2017-03-28T00:00:00      2   \n",
       "23698             4   1350000.0       32.30  2017-07-21T00:00:00      1   \n",
       "\n",
       "       ceiling_height  floors_total  living_area  floor is_apartment  ...  \\\n",
       "0                2.70          16.0         51.0      8          NaN  ...   \n",
       "1                 NaN          11.0         18.6      1          NaN  ...   \n",
       "2                 NaN           5.0         34.3      4          NaN  ...   \n",
       "3                 NaN          14.0          NaN      9          NaN  ...   \n",
       "4                3.03          14.0         32.0     13          NaN  ...   \n",
       "...               ...           ...          ...    ...          ...  ...   \n",
       "23694            3.70           5.0         73.3      3          NaN  ...   \n",
       "23695             NaN           5.0         38.0      4          NaN  ...   \n",
       "23696             NaN           3.0         29.7      1          NaN  ...   \n",
       "23697            3.00          17.0          NaN     12          NaN  ...   \n",
       "23698            2.50           5.0         12.3      1          NaN  ...   \n",
       "\n",
       "       kitchen_area  balcony        locality_name  airports_nearest  \\\n",
       "0             25.00      NaN      Санкт-Петербург           18863.0   \n",
       "1             11.00      2.0       посёлок Шушары           12817.0   \n",
       "2              8.30      0.0      Санкт-Петербург           21741.0   \n",
       "3               NaN      0.0      Санкт-Петербург           28098.0   \n",
       "4             41.00      NaN      Санкт-Петербург           31856.0   \n",
       "...             ...      ...                  ...               ...   \n",
       "23694         13.83      NaN      Санкт-Петербург           24665.0   \n",
       "23695          8.50      NaN                Тосно               NaN   \n",
       "23696           NaN      NaN     село Рождествено               NaN   \n",
       "23697         23.30      2.0      Санкт-Петербург           39140.0   \n",
       "23698          9.00      NaN  поселок Новый Учхоз               NaN   \n",
       "\n",
       "      cityCenters_nearest  parks_around3000  parks_nearest  ponds_around3000  \\\n",
       "0                 16028.0               1.0          482.0               2.0   \n",
       "1                 18603.0               0.0            NaN               0.0   \n",
       "2                 13933.0               1.0           90.0               2.0   \n",
       "3                  6800.0               2.0           84.0               3.0   \n",
       "4                  8098.0               2.0          112.0               1.0   \n",
       "...                   ...               ...            ...               ...   \n",
       "23694              4232.0               1.0          796.0               3.0   \n",
       "23695                 NaN               NaN            NaN               NaN   \n",
       "23696                 NaN               NaN            NaN               NaN   \n",
       "23697             10364.0               2.0          173.0               3.0   \n",
       "23698                 NaN               NaN            NaN               NaN   \n",
       "\n",
       "       ponds_nearest  days_exposition  \n",
       "0              755.0              NaN  \n",
       "1                NaN             81.0  \n",
       "2              574.0            558.0  \n",
       "3              234.0            424.0  \n",
       "4               48.0            121.0  \n",
       "...              ...              ...  \n",
       "23694          381.0              NaN  \n",
       "23695            NaN             45.0  \n",
       "23696            NaN              NaN  \n",
       "23697          196.0            602.0  \n",
       "23698            NaN              NaN  \n",
       "\n",
       "[23699 rows x 22 columns]"
      ]
     },
     "execution_count": 2,
     "metadata": {},
     "output_type": "execute_result"
    }
   ],
   "source": [
    "df"
   ]
  },
  {
   "cell_type": "code",
   "execution_count": 3,
   "metadata": {
    "scrolled": true
   },
   "outputs": [
    {
     "name": "stdout",
     "output_type": "stream",
     "text": [
      "<class 'pandas.core.frame.DataFrame'>\n",
      "RangeIndex: 23699 entries, 0 to 23698\n",
      "Data columns (total 22 columns):\n",
      "total_images            23699 non-null int64\n",
      "last_price              23699 non-null float64\n",
      "total_area              23699 non-null float64\n",
      "first_day_exposition    23699 non-null object\n",
      "rooms                   23699 non-null int64\n",
      "ceiling_height          14504 non-null float64\n",
      "floors_total            23613 non-null float64\n",
      "living_area             21796 non-null float64\n",
      "floor                   23699 non-null int64\n",
      "is_apartment            2775 non-null object\n",
      "studio                  23699 non-null bool\n",
      "open_plan               23699 non-null bool\n",
      "kitchen_area            21421 non-null float64\n",
      "balcony                 12180 non-null float64\n",
      "locality_name           23650 non-null object\n",
      "airports_nearest        18157 non-null float64\n",
      "cityCenters_nearest     18180 non-null float64\n",
      "parks_around3000        18181 non-null float64\n",
      "parks_nearest           8079 non-null float64\n",
      "ponds_around3000        18181 non-null float64\n",
      "ponds_nearest           9110 non-null float64\n",
      "days_exposition         20518 non-null float64\n",
      "dtypes: bool(2), float64(14), int64(3), object(3)\n",
      "memory usage: 3.7+ MB\n"
     ]
    }
   ],
   "source": [
    "df.info()"
   ]
  },
  {
   "cell_type": "markdown",
   "metadata": {},
   "source": [
    "Пропущенные значения в:\n",
    "\n",
    "- **ceiling_height** (около 38% пропущенных значений - необходимо будет рассмотреть и подобрать варианты замены пропусков);\n",
    "- **floors_total** (около 0,36% пропущенных значений - можно оставить, так как процент пропусков не значителен и подобрать логичнные варианты замены не представляется возможным);\n",
    "- **living_area** (около 8% процентов значений пропущено - необходимо будет рассмотреть и подобрать варианты замены пропусков);\n",
    "- **is_apartment** (около 88% процентов значений пропущено - необходимо будет рассмотреть и подобрать варианты замены пропусков);\n",
    "- **kitchen_area** (около 9.6% процентов значений пропущено - необходимо будет рассмотреть и подобрать варианты замены пропусков);\n",
    "- **balcony** (около 48.6% процентов значений пропущено - необходимо будет рассмотреть и подобрать варианты замены пропусков);\n",
    "- **locality_name** (около 0.2% пропущенных значений - можно оставить, так как процент пропусков не значителен и подобрать логичнные варианты замены не представляется возможным)\n",
    "\n",
    "- **airports_nearest**|**cityCenters_nearest**|**parks_around3000**|**ponds_around3000**|**ponds_nearest**|\n",
    "  \n",
    "  (в данных переменных имеется значительный процент пропсуков, они могли появиться из-за того, что создателями объявлений не    указывались адреса, соответсвенно система не могла рассчитать соответствующие показатели. Заменить данные пропуски не представляется возможным)\n",
    "  \n",
    "  \n",
    "- **days_exposition** (около 13% пропущенных значений - вероятно, данные пропуски подразумевают, что на момент выгрузки данных объявления все еще не были сняты с публикации, а может это техническая ошибка выгрузки данных, однако заполнить данные пропуски необходимо, так как процент пропущенных значений достаточно высокий)\n",
    "\n",
    "Необходимо *заменить тип данных на целочисленный* в следующих переменных:\n",
    "\n",
    "- **last_price**, так как цена указана в миллионах и нет необходимости в точности представления данной цены до копеек;\n",
    "- **floors_total, balcony**, так как число этажей и балконов, как правило, принмают только целые значения;\n",
    "- **days_exposition**, так как количество дней от публикации до снятия объявления имеет смысл измерять целыми числами;\n",
    "- **airports_nearest, cityCenters_nearest, parks_around3000, parks_nearest, ponds_around3000, ponds_nearest**, так как данные показатели измеряют расстояние в метрах и нет необхоодимости хранить эти значения с точностью до десятых или сотых.\n",
    "\n",
    "Также необходимо заменить тип данных **first_day_exposition** на формат даты, а перменной **is_apartment** на булевый тип данных.      \n",
    "        \n",
    "          \n",
    "\n",
    "\n",
    "\n",
    "\n"
   ]
  },
  {
   "cell_type": "markdown",
   "metadata": {},
   "source": [
    "### Вывод"
   ]
  },
  {
   "cell_type": "markdown",
   "metadata": {},
   "source": [
    "При первичном изучении данных мы определили следующее:\n",
    "- по каким переменным имеются пропущенные значения и в каких случаях можно рассмотреть замену пропусков;\n",
    "- у каких перменных необходимо сменить тип данных."
   ]
  },
  {
   "cell_type": "markdown",
   "metadata": {},
   "source": [
    "<a id=\"step2\"></a> \n",
    "## Шаг 2. Предобработка данных"
   ]
  },
  {
   "cell_type": "markdown",
   "metadata": {},
   "source": [
    "<a id=\"step2-1\"></a> \n",
    "### Обработка пропущенных значений"
   ]
  },
  {
   "cell_type": "markdown",
   "metadata": {},
   "source": [
    "- ***Переменная 'ceiling_height'***"
   ]
  },
  {
   "cell_type": "code",
   "execution_count": 4,
   "metadata": {},
   "outputs": [
    {
     "data": {
      "text/plain": [
       "0.38799105447487237"
      ]
     },
     "execution_count": 4,
     "metadata": {},
     "output_type": "execute_result"
    }
   ],
   "source": [
    "df['ceiling_height'].isnull().sum()/len(df) #посмтрим сколько пропущенных значений по переменной ceiling_height"
   ]
  },
  {
   "cell_type": "markdown",
   "metadata": {},
   "source": [
    "В ceiling_height пропущено более 38% значений. Подобное большое число пропусков может исказить дальнейший анализ данных, поэтому необходимо заполнить подобные пропуски.\n",
    "\n",
    "Для начала рассмотрим описательную статистику переменной."
   ]
  },
  {
   "cell_type": "code",
   "execution_count": 5,
   "metadata": {},
   "outputs": [
    {
     "data": {
      "text/plain": [
       "count    14504.000000\n",
       "mean         2.771499\n",
       "std          1.261056\n",
       "min          1.000000\n",
       "25%          2.520000\n",
       "50%          2.650000\n",
       "75%          2.800000\n",
       "max        100.000000\n",
       "Name: ceiling_height, dtype: float64"
      ]
     },
     "execution_count": 5,
     "metadata": {},
     "output_type": "execute_result"
    }
   ],
   "source": [
    "df['ceiling_height'].describe()"
   ]
  },
  {
   "cell_type": "markdown",
   "metadata": {},
   "source": [
    "Из описателньой статистики мы видим, что минимальное значение - 1м, что не может соответствовать действительности. Согласно нормам жилых помещений, высота потолков не может составлять менее 2,5м. Максимальное значение в 100 метров также маловероятно. Однако аномальные значения переменных мы рассмотрим на последующем шаге. А для замены пропусков будем использовать медианные значения, которые наименее подвержены искажению при наличии в выборке выбивающихся значений."
   ]
  },
  {
   "cell_type": "markdown",
   "metadata": {},
   "source": [
    "В качестве замены можно рассмотреть медианное значение высоты потолков согласно этажности здания. Весьма логично, что при строительстве высота потолков рассчитывается с учетом этажности проектируемого здания. Рассмотрим более подробно переменную этажности здания."
   ]
  },
  {
   "cell_type": "code",
   "execution_count": 6,
   "metadata": {
    "scrolled": true
   },
   "outputs": [
    {
     "data": {
      "text/plain": [
       "count    23613.000000\n",
       "mean        10.673824\n",
       "std          6.597173\n",
       "min          1.000000\n",
       "25%          5.000000\n",
       "50%          9.000000\n",
       "75%         16.000000\n",
       "max         60.000000\n",
       "Name: floors_total, dtype: float64"
      ]
     },
     "execution_count": 6,
     "metadata": {},
     "output_type": "execute_result"
    }
   ],
   "source": [
    "df['floors_total'].describe()"
   ]
  },
  {
   "cell_type": "markdown",
   "metadata": {},
   "source": [
    "Из описательной статистики видим, что минимальная этажность здания составляет 1, что в принципе может быть вполне допустимым, однако максимальная высота в 60 этажей, не может соответствовать действительности, так как самым высоким жилым зданием в СПб и Ленинградской области является ЖК «Князь Александр Невский» высотой в 37 этажей. Скорее всего, при заполнении данной графы могли появиться технические ошибки. Рассмотрим как распределена переменная этажности здания."
   ]
  },
  {
   "cell_type": "code",
   "execution_count": 7,
   "metadata": {},
   "outputs": [
    {
     "data": {
      "text/plain": [
       "<matplotlib.axes._subplots.AxesSubplot at 0x7efd786bf750>"
      ]
     },
     "execution_count": 7,
     "metadata": {},
     "output_type": "execute_result"
    },
    {
     "data": {
      "image/png": "[encoded data removed]",
      "text/plain": [
       "<Figure size 432x288 with 1 Axes>"
      ]
     },
     "metadata": {
      "needs_background": "light"
     },
     "output_type": "display_data"
    }
   ],
   "source": [
    "df['floors_total'].hist()"
   ]
  },
  {
   "cell_type": "markdown",
   "metadata": {},
   "source": [
    "Из гистограммы мы видим, что наблюдения с высотой более 37 этажей почти не встречаются. "
   ]
  },
  {
   "cell_type": "code",
   "execution_count": 8,
   "metadata": {},
   "outputs": [
    {
     "data": {
      "text/plain": [
       "5.0     5788\n",
       "9.0     3761\n",
       "16.0    1376\n",
       "12.0    1362\n",
       "4.0     1200\n",
       "10.0    1174\n",
       "25.0    1075\n",
       "6.0      914\n",
       "17.0     833\n",
       "3.0      668\n",
       "7.0      592\n",
       "14.0     553\n",
       "18.0     505\n",
       "24.0     469\n",
       "8.0      390\n",
       "2.0      383\n",
       "15.0     365\n",
       "23.0     352\n",
       "19.0     339\n",
       "22.0     286\n",
       "20.0     271\n",
       "13.0     229\n",
       "11.0     203\n",
       "27.0     164\n",
       "21.0     158\n",
       "26.0     124\n",
       "1.0       25\n",
       "35.0      24\n",
       "28.0      21\n",
       "36.0       3\n",
       "29.0       1\n",
       "60.0       1\n",
       "33.0       1\n",
       "52.0       1\n",
       "37.0       1\n",
       "34.0       1\n",
       "Name: floors_total, dtype: int64"
      ]
     },
     "execution_count": 8,
     "metadata": {},
     "output_type": "execute_result"
    }
   ],
   "source": [
    "df['floors_total'].value_counts()"
   ]
  },
  {
   "cell_type": "markdown",
   "metadata": {},
   "source": [
    "Всего два наблюдения с высотой более 37 этажей - 60 и 52. Их можно заменить вручную, предположив, что при ручном вводе данных была допущена опечатка и имелось ввиду 6 и 5 этажей. Подобная замена не исказит результаты исследования, так как мы заменим всего 2 наблюдения из более чем 23 000."
   ]
  },
  {
   "cell_type": "code",
   "execution_count": 9,
   "metadata": {},
   "outputs": [],
   "source": [
    "pd.options.mode.chained_assignment = None \n",
    "#создаем функцию для проебразования аномальныхзначений\n",
    "def f1(floor):\n",
    "    if floor>37:\n",
    "        return round((floor/10),0)\n",
    "    else:\n",
    "        return floor\n",
    "    \n",
    "df['floors_total']=df['floors_total'].apply(f1)    \n"
   ]
  },
  {
   "cell_type": "code",
   "execution_count": 10,
   "metadata": {},
   "outputs": [
    {
     "data": {
      "text/plain": [
       "count    23613.000000\n",
       "mean        10.669546\n",
       "std          6.584040\n",
       "min          1.000000\n",
       "25%          5.000000\n",
       "50%          9.000000\n",
       "75%         16.000000\n",
       "max         37.000000\n",
       "Name: floors_total, dtype: float64"
      ]
     },
     "execution_count": 10,
     "metadata": {},
     "output_type": "execute_result"
    }
   ],
   "source": [
    "df['floors_total'].describe()"
   ]
  },
  {
   "cell_type": "markdown",
   "metadata": {},
   "source": [
    "Мы избавились от аномальных значений в переменной 'floors_total' и создать категории этажности, для подсчета медианы в группах и последующей замены пропусков в 'ceiling_height'.\n",
    "Для определения категорий воспульзуемся классификацией зданий по высоте и этажности согласно региональным нормативам градостроительного проектирования Ленинградской области и Санкт-Петербурга.\n",
    "\n",
    "\n",
    "Обычно жилые дома и здания в России классифицируются по этажности:\n",
    "\n",
    "- малоэтажные - 1-2 этажа;\n",
    "\n",
    "- средней этажности - 3-5 этажа;\n",
    "\n",
    "- многоэтажные - 6 и более этажей;\n",
    "\n",
    "- повышенной этажности - 11-16 этажей;\n",
    "\n",
    "- высотные - более 16 этажей."
   ]
  },
  {
   "cell_type": "code",
   "execution_count": 11,
   "metadata": {},
   "outputs": [],
   "source": [
    "#создаем функцию для создания категорий по этажности здания\n",
    "def floor(number):\n",
    "    if 2>=number>=1:\n",
    "        return 'малоэтажные'\n",
    "    elif 5>=number>=3:\n",
    "        return 'средней этажности'\n",
    "    elif 10>=number>=6 :\n",
    "        return 'многоэтажные'\n",
    "    elif 16>=number>=11 :\n",
    "        return 'повышенной этажности'\n",
    "    else:\n",
    "        return 'высотные'"
   ]
  },
  {
   "cell_type": "code",
   "execution_count": 12,
   "metadata": {},
   "outputs": [],
   "source": [
    "df['floors_group']=df['floors_total'].apply(floor) #создаем ктегории согласно этажности здания "
   ]
  },
  {
   "cell_type": "markdown",
   "metadata": {},
   "source": [
    "Заменим пропуски в *'ceiling_height'* на медианное значение с учетом этажности здания."
   ]
  },
  {
   "cell_type": "code",
   "execution_count": 13,
   "metadata": {},
   "outputs": [],
   "source": [
    "df['ceiling_height'] = df['ceiling_height'].fillna(df.groupby('floors_group')['ceiling_height'].transform('median'))"
   ]
  },
  {
   "cell_type": "code",
   "execution_count": 14,
   "metadata": {},
   "outputs": [
    {
     "data": {
      "text/plain": [
       "0"
      ]
     },
     "execution_count": 14,
     "metadata": {},
     "output_type": "execute_result"
    }
   ],
   "source": [
    "df['ceiling_height'].isnull().sum() #проверим наличие пропущенных перменных в 'ceiling_height' "
   ]
  },
  {
   "cell_type": "markdown",
   "metadata": {},
   "source": [
    "- ***Переменная 'is_apartment'***"
   ]
  },
  {
   "cell_type": "markdown",
   "metadata": {},
   "source": [
    "Посмотрим какие значения принимает переменная 'is_appartment' и количество пропущенных в ней значений."
   ]
  },
  {
   "cell_type": "code",
   "execution_count": 15,
   "metadata": {},
   "outputs": [
    {
     "data": {
      "text/plain": [
       "False    2725\n",
       "True       50\n",
       "Name: is_apartment, dtype: int64"
      ]
     },
     "execution_count": 15,
     "metadata": {},
     "output_type": "execute_result"
    }
   ],
   "source": [
    "df['is_apartment'].value_counts()"
   ]
  },
  {
   "cell_type": "code",
   "execution_count": 16,
   "metadata": {},
   "outputs": [
    {
     "data": {
      "text/plain": [
       "20924"
      ]
     },
     "execution_count": 16,
     "metadata": {},
     "output_type": "execute_result"
    }
   ],
   "source": [
    "df['is_apartment'].isnull().sum()"
   ]
  },
  {
   "cell_type": "markdown",
   "metadata": {},
   "source": [
    "Мы видим большое число пропусков, можно предположить, что люди просто не заполняли строку \"аппартаменты\", если их квартиры не относились к данному виду недвижимости, а значит на месте данных пропусков должно быть значение \"False\". Проведем соответствующую замену."
   ]
  },
  {
   "cell_type": "code",
   "execution_count": 17,
   "metadata": {
    "scrolled": true
   },
   "outputs": [
    {
     "data": {
      "text/plain": [
       "0"
      ]
     },
     "execution_count": 17,
     "metadata": {},
     "output_type": "execute_result"
    }
   ],
   "source": [
    "df['is_apartment'] = df['is_apartment'].fillna(False)\n",
    "df['is_apartment'].isnull().sum() #проверка пропущенных значений после замены"
   ]
  },
  {
   "cell_type": "markdown",
   "metadata": {},
   "source": [
    "- ***Переменная 'balcony'***"
   ]
  },
  {
   "cell_type": "markdown",
   "metadata": {},
   "source": [
    "В переменной *'balcony'* пропущено более 48% значений, скорее всего, в случае отсутствия балкона люди не заполняли данную графу, поэтому пропуски можно заменить на 0."
   ]
  },
  {
   "cell_type": "code",
   "execution_count": 18,
   "metadata": {},
   "outputs": [
    {
     "data": {
      "text/plain": [
       "0"
      ]
     },
     "execution_count": 18,
     "metadata": {},
     "output_type": "execute_result"
    }
   ],
   "source": [
    "df['balcony'] = df['balcony'].fillna(0)\n",
    "df['balcony'].isnull().sum()"
   ]
  },
  {
   "cell_type": "markdown",
   "metadata": {},
   "source": [
    "- ***Переменная 'living_area'***"
   ]
  },
  {
   "cell_type": "code",
   "execution_count": 19,
   "metadata": {},
   "outputs": [
    {
     "data": {
      "text/plain": [
       "1903"
      ]
     },
     "execution_count": 19,
     "metadata": {},
     "output_type": "execute_result"
    }
   ],
   "source": [
    "len(df.query('living_area==\"NaN\"'))"
   ]
  },
  {
   "cell_type": "markdown",
   "metadata": {},
   "source": [
    "Пропущенные значения в переменной *'living_area'* можно заменить слудующим образом: \n",
    "1. Имея, все значения общей площади кваритиры, мы можем вычислить отношение жилой площади к общей.\n",
    "2. Строки с пропущенными значениями отношения жилой площади к общей, заменим медианой данного показателя согласно группе по количеству комнат.\n",
    "3. Заполнив пропущенные значения на предыдущем шаге, мы имеем все значения соотношения жилой и общей площади, а также общей площади квартиры, исходя из этого, мы можем заполнить пропуски в *'living_area'*"
   ]
  },
  {
   "cell_type": "markdown",
   "metadata": {},
   "source": [
    "Для начала рассмотрим переменную *'total_area'*. Минимальная площадь квартиры составляет 12 квадратных метров, снчала может показаться, что это ошибочное или некорректное значение, однако, в [источниках](https://moika78.ru/news/2019-01-14/175808-studiya-v-12-kvadratov-najdena-samaya-malenkaya-kvartira-peterburga/#:~:text=%D0%9D%D0%BE%20%D1%81%D0%B0%D0%BC%D0%B0%D1%8F%20%D0%B4%D0%B5%D1%88%D0%B5%D0%B2%D0%B0%D1%8F%20%D0%BC%D0%B8%D0%BD%D0%B8%2D%D0%BA%D0%B2%D0%B0%D1%80%D1%82%D0%B8%D1%80%D0%B0,%D1%80%D1%83%D0%B1%D0%BB%D0%B5%D0%B9.)\n",
    "  говорится о том, что в СПб действительно продаются квартиры с подобной площадью. Также отдельными [источниками](https://www.cian.ru/stati-top-10-samyh-dorogih-kvartir-na-vtorichnom-rynke-sankt-peterburga-278076/) можно подтвердить и максимальное значение площади квартиры в 900 квадратных метров. Поэтому на данном этапе, оставим значения *'total_area'* неизменными."
   ]
  },
  {
   "cell_type": "code",
   "execution_count": 20,
   "metadata": {},
   "outputs": [
    {
     "data": {
      "text/plain": [
       "count    23699.000000\n",
       "mean        60.348651\n",
       "std         35.654083\n",
       "min         12.000000\n",
       "25%         40.000000\n",
       "50%         52.000000\n",
       "75%         69.900000\n",
       "max        900.000000\n",
       "Name: total_area, dtype: float64"
      ]
     },
     "execution_count": 20,
     "metadata": {},
     "output_type": "execute_result"
    }
   ],
   "source": [
    "df['total_area'].describe()"
   ]
  },
  {
   "cell_type": "markdown",
   "metadata": {},
   "source": [
    "Далее рассмотрим значения по переменной *'rooms'* для дальнейшей группировки. "
   ]
  },
  {
   "cell_type": "code",
   "execution_count": 21,
   "metadata": {},
   "outputs": [
    {
     "data": {
      "text/plain": [
       "1     8047\n",
       "2     7940\n",
       "3     5814\n",
       "4     1180\n",
       "5      326\n",
       "0      197\n",
       "6      105\n",
       "7       59\n",
       "8       12\n",
       "9        8\n",
       "10       3\n",
       "14       2\n",
       "11       2\n",
       "19       1\n",
       "12       1\n",
       "16       1\n",
       "15       1\n",
       "Name: rooms, dtype: int64"
      ]
     },
     "execution_count": 21,
     "metadata": {},
     "output_type": "execute_result"
    }
   ],
   "source": [
    "df['rooms'].value_counts()"
   ]
  },
  {
   "cell_type": "markdown",
   "metadata": {},
   "source": [
    "Можно заметить, что встречаются значения, где количество комнат равно нулю. Возможно, квартиры в данном случае являются студиями и люди заполняли графу с количеством комнат - 0. Проверим данную, гипотезу."
   ]
  },
  {
   "cell_type": "code",
   "execution_count": 22,
   "metadata": {},
   "outputs": [
    {
     "data": {
      "text/plain": [
       "138"
      ]
     },
     "execution_count": 22,
     "metadata": {},
     "output_type": "execute_result"
    }
   ],
   "source": [
    "len(df.query('studio==True and rooms==0'))"
   ]
  },
  {
   "cell_type": "markdown",
   "metadata": {},
   "source": [
    "Получается из 198 объявлений с нулевым количеством комнат 138 являются студиями. Посмотрим на 59 квартир с нулевым значением комнат, не являющихся студиями. "
   ]
  },
  {
   "cell_type": "code",
   "execution_count": 23,
   "metadata": {},
   "outputs": [
    {
     "data": {
      "text/html": [
       "<div>\n",
       "<style scoped>\n",
       "    .dataframe tbody tr th:only-of-type {\n",
       "        vertical-align: middle;\n",
       "    }\n",
       "\n",
       "    .dataframe tbody tr th {\n",
       "        vertical-align: top;\n",
       "    }\n",
       "\n",
       "    .dataframe thead th {\n",
       "        text-align: right;\n",
       "    }\n",
       "</style>\n",
       "<table border=\"1\" class=\"dataframe\">\n",
       "  <thead>\n",
       "    <tr style=\"text-align: right;\">\n",
       "      <th></th>\n",
       "      <th>total_images</th>\n",
       "      <th>last_price</th>\n",
       "      <th>total_area</th>\n",
       "      <th>first_day_exposition</th>\n",
       "      <th>rooms</th>\n",
       "      <th>ceiling_height</th>\n",
       "      <th>floors_total</th>\n",
       "      <th>living_area</th>\n",
       "      <th>floor</th>\n",
       "      <th>is_apartment</th>\n",
       "      <th>studio</th>\n",
       "      <th>open_plan</th>\n",
       "      <th>kitchen_area</th>\n",
       "      <th>balcony</th>\n",
       "      <th>locality_name</th>\n",
       "      <th>airports_nearest</th>\n",
       "      <th>cityCenters_nearest</th>\n",
       "      <th>parks_around3000</th>\n",
       "      <th>parks_nearest</th>\n",
       "      <th>ponds_around3000</th>\n",
       "      <th>ponds_nearest</th>\n",
       "      <th>days_exposition</th>\n",
       "      <th>floors_group</th>\n",
       "    </tr>\n",
       "  </thead>\n",
       "  <tbody>\n",
       "    <tr>\n",
       "      <td>349</td>\n",
       "      <td>4</td>\n",
       "      <td>2320000.0</td>\n",
       "      <td>25.00</td>\n",
       "      <td>2017-09-27T00:00:00</td>\n",
       "      <td>0</td>\n",
       "      <td>2.685</td>\n",
       "      <td>14.0</td>\n",
       "      <td>17.0</td>\n",
       "      <td>1</td>\n",
       "      <td>False</td>\n",
       "      <td>False</td>\n",
       "      <td>True</td>\n",
       "      <td>NaN</td>\n",
       "      <td>0.0</td>\n",
       "      <td>деревня Кудрово</td>\n",
       "      <td>NaN</td>\n",
       "      <td>NaN</td>\n",
       "      <td>NaN</td>\n",
       "      <td>NaN</td>\n",
       "      <td>NaN</td>\n",
       "      <td>NaN</td>\n",
       "      <td>45.0</td>\n",
       "      <td>повышенной этажности</td>\n",
       "    </tr>\n",
       "    <tr>\n",
       "      <td>508</td>\n",
       "      <td>0</td>\n",
       "      <td>3375000.0</td>\n",
       "      <td>34.40</td>\n",
       "      <td>2017-03-28T00:00:00</td>\n",
       "      <td>0</td>\n",
       "      <td>2.750</td>\n",
       "      <td>26.0</td>\n",
       "      <td>24.3</td>\n",
       "      <td>19</td>\n",
       "      <td>False</td>\n",
       "      <td>False</td>\n",
       "      <td>True</td>\n",
       "      <td>NaN</td>\n",
       "      <td>1.0</td>\n",
       "      <td>посёлок Парголово</td>\n",
       "      <td>53115.0</td>\n",
       "      <td>19292.0</td>\n",
       "      <td>0.0</td>\n",
       "      <td>NaN</td>\n",
       "      <td>1.0</td>\n",
       "      <td>593.0</td>\n",
       "      <td>430.0</td>\n",
       "      <td>высотные</td>\n",
       "    </tr>\n",
       "    <tr>\n",
       "      <td>780</td>\n",
       "      <td>9</td>\n",
       "      <td>2600000.0</td>\n",
       "      <td>26.10</td>\n",
       "      <td>2018-02-20T00:00:00</td>\n",
       "      <td>0</td>\n",
       "      <td>2.750</td>\n",
       "      <td>18.0</td>\n",
       "      <td>NaN</td>\n",
       "      <td>8</td>\n",
       "      <td>False</td>\n",
       "      <td>False</td>\n",
       "      <td>True</td>\n",
       "      <td>NaN</td>\n",
       "      <td>1.0</td>\n",
       "      <td>посёлок Мурино</td>\n",
       "      <td>NaN</td>\n",
       "      <td>NaN</td>\n",
       "      <td>NaN</td>\n",
       "      <td>NaN</td>\n",
       "      <td>NaN</td>\n",
       "      <td>NaN</td>\n",
       "      <td>45.0</td>\n",
       "      <td>высотные</td>\n",
       "    </tr>\n",
       "    <tr>\n",
       "      <td>839</td>\n",
       "      <td>14</td>\n",
       "      <td>1900000.0</td>\n",
       "      <td>35.00</td>\n",
       "      <td>2017-04-14T00:00:00</td>\n",
       "      <td>0</td>\n",
       "      <td>2.700</td>\n",
       "      <td>5.0</td>\n",
       "      <td>15.0</td>\n",
       "      <td>3</td>\n",
       "      <td>False</td>\n",
       "      <td>False</td>\n",
       "      <td>True</td>\n",
       "      <td>NaN</td>\n",
       "      <td>1.0</td>\n",
       "      <td>поселок Новый Свет</td>\n",
       "      <td>NaN</td>\n",
       "      <td>NaN</td>\n",
       "      <td>NaN</td>\n",
       "      <td>NaN</td>\n",
       "      <td>NaN</td>\n",
       "      <td>NaN</td>\n",
       "      <td>7.0</td>\n",
       "      <td>средней этажности</td>\n",
       "    </tr>\n",
       "    <tr>\n",
       "      <td>946</td>\n",
       "      <td>5</td>\n",
       "      <td>2200000.0</td>\n",
       "      <td>23.00</td>\n",
       "      <td>2016-09-27T00:00:00</td>\n",
       "      <td>0</td>\n",
       "      <td>2.750</td>\n",
       "      <td>27.0</td>\n",
       "      <td>18.0</td>\n",
       "      <td>7</td>\n",
       "      <td>False</td>\n",
       "      <td>False</td>\n",
       "      <td>True</td>\n",
       "      <td>NaN</td>\n",
       "      <td>2.0</td>\n",
       "      <td>посёлок Мурино</td>\n",
       "      <td>NaN</td>\n",
       "      <td>NaN</td>\n",
       "      <td>NaN</td>\n",
       "      <td>NaN</td>\n",
       "      <td>NaN</td>\n",
       "      <td>NaN</td>\n",
       "      <td>483.0</td>\n",
       "      <td>высотные</td>\n",
       "    </tr>\n",
       "    <tr>\n",
       "      <td>1574</td>\n",
       "      <td>0</td>\n",
       "      <td>2200000.0</td>\n",
       "      <td>22.00</td>\n",
       "      <td>2017-11-03T00:00:00</td>\n",
       "      <td>0</td>\n",
       "      <td>2.750</td>\n",
       "      <td>18.0</td>\n",
       "      <td>15.0</td>\n",
       "      <td>16</td>\n",
       "      <td>False</td>\n",
       "      <td>False</td>\n",
       "      <td>True</td>\n",
       "      <td>NaN</td>\n",
       "      <td>1.0</td>\n",
       "      <td>деревня Кудрово</td>\n",
       "      <td>NaN</td>\n",
       "      <td>NaN</td>\n",
       "      <td>NaN</td>\n",
       "      <td>NaN</td>\n",
       "      <td>NaN</td>\n",
       "      <td>NaN</td>\n",
       "      <td>81.0</td>\n",
       "      <td>высотные</td>\n",
       "    </tr>\n",
       "    <tr>\n",
       "      <td>1625</td>\n",
       "      <td>7</td>\n",
       "      <td>1980000.0</td>\n",
       "      <td>23.98</td>\n",
       "      <td>2018-02-01T00:00:00</td>\n",
       "      <td>0</td>\n",
       "      <td>2.600</td>\n",
       "      <td>4.0</td>\n",
       "      <td>10.5</td>\n",
       "      <td>3</td>\n",
       "      <td>False</td>\n",
       "      <td>False</td>\n",
       "      <td>True</td>\n",
       "      <td>NaN</td>\n",
       "      <td>1.0</td>\n",
       "      <td>поселок станции Корнево</td>\n",
       "      <td>NaN</td>\n",
       "      <td>NaN</td>\n",
       "      <td>NaN</td>\n",
       "      <td>NaN</td>\n",
       "      <td>NaN</td>\n",
       "      <td>NaN</td>\n",
       "      <td>120.0</td>\n",
       "      <td>средней этажности</td>\n",
       "    </tr>\n",
       "    <tr>\n",
       "      <td>2532</td>\n",
       "      <td>5</td>\n",
       "      <td>3500000.0</td>\n",
       "      <td>27.10</td>\n",
       "      <td>2018-02-01T00:00:00</td>\n",
       "      <td>0</td>\n",
       "      <td>2.750</td>\n",
       "      <td>18.0</td>\n",
       "      <td>18.7</td>\n",
       "      <td>9</td>\n",
       "      <td>False</td>\n",
       "      <td>False</td>\n",
       "      <td>True</td>\n",
       "      <td>NaN</td>\n",
       "      <td>2.0</td>\n",
       "      <td>Санкт-Петербург</td>\n",
       "      <td>32036.0</td>\n",
       "      <td>8175.0</td>\n",
       "      <td>0.0</td>\n",
       "      <td>NaN</td>\n",
       "      <td>1.0</td>\n",
       "      <td>644.0</td>\n",
       "      <td>70.0</td>\n",
       "      <td>высотные</td>\n",
       "    </tr>\n",
       "    <tr>\n",
       "      <td>3019</td>\n",
       "      <td>18</td>\n",
       "      <td>2100000.0</td>\n",
       "      <td>24.00</td>\n",
       "      <td>2017-11-10T00:00:00</td>\n",
       "      <td>0</td>\n",
       "      <td>2.600</td>\n",
       "      <td>10.0</td>\n",
       "      <td>18.0</td>\n",
       "      <td>6</td>\n",
       "      <td>False</td>\n",
       "      <td>False</td>\n",
       "      <td>True</td>\n",
       "      <td>NaN</td>\n",
       "      <td>2.0</td>\n",
       "      <td>Сертолово</td>\n",
       "      <td>NaN</td>\n",
       "      <td>NaN</td>\n",
       "      <td>NaN</td>\n",
       "      <td>NaN</td>\n",
       "      <td>NaN</td>\n",
       "      <td>NaN</td>\n",
       "      <td>5.0</td>\n",
       "      <td>многоэтажные</td>\n",
       "    </tr>\n",
       "    <tr>\n",
       "      <td>4115</td>\n",
       "      <td>7</td>\n",
       "      <td>2600000.0</td>\n",
       "      <td>24.00</td>\n",
       "      <td>2018-02-01T00:00:00</td>\n",
       "      <td>0</td>\n",
       "      <td>2.750</td>\n",
       "      <td>25.0</td>\n",
       "      <td>18.0</td>\n",
       "      <td>4</td>\n",
       "      <td>False</td>\n",
       "      <td>False</td>\n",
       "      <td>True</td>\n",
       "      <td>NaN</td>\n",
       "      <td>2.0</td>\n",
       "      <td>Санкт-Петербург</td>\n",
       "      <td>10031.0</td>\n",
       "      <td>13330.0</td>\n",
       "      <td>1.0</td>\n",
       "      <td>915.0</td>\n",
       "      <td>0.0</td>\n",
       "      <td>NaN</td>\n",
       "      <td>42.0</td>\n",
       "      <td>высотные</td>\n",
       "    </tr>\n",
       "    <tr>\n",
       "      <td>4437</td>\n",
       "      <td>10</td>\n",
       "      <td>3200000.0</td>\n",
       "      <td>25.00</td>\n",
       "      <td>2017-10-16T00:00:00</td>\n",
       "      <td>0</td>\n",
       "      <td>2.600</td>\n",
       "      <td>9.0</td>\n",
       "      <td>18.6</td>\n",
       "      <td>9</td>\n",
       "      <td>False</td>\n",
       "      <td>False</td>\n",
       "      <td>True</td>\n",
       "      <td>NaN</td>\n",
       "      <td>2.0</td>\n",
       "      <td>Санкт-Петербург</td>\n",
       "      <td>11943.0</td>\n",
       "      <td>11710.0</td>\n",
       "      <td>1.0</td>\n",
       "      <td>518.0</td>\n",
       "      <td>1.0</td>\n",
       "      <td>232.0</td>\n",
       "      <td>97.0</td>\n",
       "      <td>многоэтажные</td>\n",
       "    </tr>\n",
       "    <tr>\n",
       "      <td>4683</td>\n",
       "      <td>2</td>\n",
       "      <td>3650000.0</td>\n",
       "      <td>35.00</td>\n",
       "      <td>2018-02-01T00:00:00</td>\n",
       "      <td>0</td>\n",
       "      <td>2.750</td>\n",
       "      <td>25.0</td>\n",
       "      <td>23.4</td>\n",
       "      <td>25</td>\n",
       "      <td>False</td>\n",
       "      <td>False</td>\n",
       "      <td>True</td>\n",
       "      <td>NaN</td>\n",
       "      <td>0.0</td>\n",
       "      <td>Санкт-Петербург</td>\n",
       "      <td>43431.0</td>\n",
       "      <td>12188.0</td>\n",
       "      <td>0.0</td>\n",
       "      <td>NaN</td>\n",
       "      <td>0.0</td>\n",
       "      <td>NaN</td>\n",
       "      <td>100.0</td>\n",
       "      <td>высотные</td>\n",
       "    </tr>\n",
       "    <tr>\n",
       "      <td>4876</td>\n",
       "      <td>7</td>\n",
       "      <td>3000000.0</td>\n",
       "      <td>25.00</td>\n",
       "      <td>2017-09-27T00:00:00</td>\n",
       "      <td>0</td>\n",
       "      <td>27.000</td>\n",
       "      <td>25.0</td>\n",
       "      <td>17.0</td>\n",
       "      <td>17</td>\n",
       "      <td>False</td>\n",
       "      <td>False</td>\n",
       "      <td>True</td>\n",
       "      <td>NaN</td>\n",
       "      <td>2.0</td>\n",
       "      <td>посёлок Мурино</td>\n",
       "      <td>NaN</td>\n",
       "      <td>NaN</td>\n",
       "      <td>NaN</td>\n",
       "      <td>NaN</td>\n",
       "      <td>NaN</td>\n",
       "      <td>NaN</td>\n",
       "      <td>28.0</td>\n",
       "      <td>высотные</td>\n",
       "    </tr>\n",
       "    <tr>\n",
       "      <td>5749</td>\n",
       "      <td>20</td>\n",
       "      <td>3590000.0</td>\n",
       "      <td>25.00</td>\n",
       "      <td>2017-08-30T00:00:00</td>\n",
       "      <td>0</td>\n",
       "      <td>2.800</td>\n",
       "      <td>35.0</td>\n",
       "      <td>NaN</td>\n",
       "      <td>26</td>\n",
       "      <td>False</td>\n",
       "      <td>False</td>\n",
       "      <td>True</td>\n",
       "      <td>NaN</td>\n",
       "      <td>2.0</td>\n",
       "      <td>Санкт-Петербург</td>\n",
       "      <td>18732.0</td>\n",
       "      <td>20444.0</td>\n",
       "      <td>0.0</td>\n",
       "      <td>NaN</td>\n",
       "      <td>3.0</td>\n",
       "      <td>80.0</td>\n",
       "      <td>198.0</td>\n",
       "      <td>высотные</td>\n",
       "    </tr>\n",
       "    <tr>\n",
       "      <td>6472</td>\n",
       "      <td>13</td>\n",
       "      <td>3620000.0</td>\n",
       "      <td>28.00</td>\n",
       "      <td>2017-11-10T00:00:00</td>\n",
       "      <td>0</td>\n",
       "      <td>2.700</td>\n",
       "      <td>20.0</td>\n",
       "      <td>18.0</td>\n",
       "      <td>17</td>\n",
       "      <td>False</td>\n",
       "      <td>False</td>\n",
       "      <td>True</td>\n",
       "      <td>NaN</td>\n",
       "      <td>2.0</td>\n",
       "      <td>Санкт-Петербург</td>\n",
       "      <td>35068.0</td>\n",
       "      <td>16167.0</td>\n",
       "      <td>0.0</td>\n",
       "      <td>NaN</td>\n",
       "      <td>0.0</td>\n",
       "      <td>NaN</td>\n",
       "      <td>37.0</td>\n",
       "      <td>высотные</td>\n",
       "    </tr>\n",
       "    <tr>\n",
       "      <td>6612</td>\n",
       "      <td>18</td>\n",
       "      <td>3590000.0</td>\n",
       "      <td>26.80</td>\n",
       "      <td>2017-11-10T00:00:00</td>\n",
       "      <td>0</td>\n",
       "      <td>2.750</td>\n",
       "      <td>24.0</td>\n",
       "      <td>19.0</td>\n",
       "      <td>20</td>\n",
       "      <td>False</td>\n",
       "      <td>False</td>\n",
       "      <td>True</td>\n",
       "      <td>NaN</td>\n",
       "      <td>0.0</td>\n",
       "      <td>Санкт-Петербург</td>\n",
       "      <td>11022.0</td>\n",
       "      <td>12679.0</td>\n",
       "      <td>0.0</td>\n",
       "      <td>NaN</td>\n",
       "      <td>0.0</td>\n",
       "      <td>NaN</td>\n",
       "      <td>15.0</td>\n",
       "      <td>высотные</td>\n",
       "    </tr>\n",
       "    <tr>\n",
       "      <td>6805</td>\n",
       "      <td>7</td>\n",
       "      <td>1850000.0</td>\n",
       "      <td>31.00</td>\n",
       "      <td>2017-11-10T00:00:00</td>\n",
       "      <td>0</td>\n",
       "      <td>2.750</td>\n",
       "      <td>18.0</td>\n",
       "      <td>18.0</td>\n",
       "      <td>10</td>\n",
       "      <td>False</td>\n",
       "      <td>False</td>\n",
       "      <td>True</td>\n",
       "      <td>NaN</td>\n",
       "      <td>1.0</td>\n",
       "      <td>Никольское</td>\n",
       "      <td>NaN</td>\n",
       "      <td>NaN</td>\n",
       "      <td>NaN</td>\n",
       "      <td>NaN</td>\n",
       "      <td>NaN</td>\n",
       "      <td>NaN</td>\n",
       "      <td>7.0</td>\n",
       "      <td>высотные</td>\n",
       "    </tr>\n",
       "    <tr>\n",
       "      <td>7008</td>\n",
       "      <td>4</td>\n",
       "      <td>5200000.0</td>\n",
       "      <td>32.30</td>\n",
       "      <td>2017-09-14T00:00:00</td>\n",
       "      <td>0</td>\n",
       "      <td>2.685</td>\n",
       "      <td>11.0</td>\n",
       "      <td>25.5</td>\n",
       "      <td>4</td>\n",
       "      <td>False</td>\n",
       "      <td>False</td>\n",
       "      <td>True</td>\n",
       "      <td>NaN</td>\n",
       "      <td>0.0</td>\n",
       "      <td>Санкт-Петербург</td>\n",
       "      <td>30824.0</td>\n",
       "      <td>6469.0</td>\n",
       "      <td>1.0</td>\n",
       "      <td>756.0</td>\n",
       "      <td>1.0</td>\n",
       "      <td>936.0</td>\n",
       "      <td>86.0</td>\n",
       "      <td>повышенной этажности</td>\n",
       "    </tr>\n",
       "    <tr>\n",
       "      <td>7237</td>\n",
       "      <td>8</td>\n",
       "      <td>2999000.0</td>\n",
       "      <td>42.63</td>\n",
       "      <td>2017-11-27T00:00:00</td>\n",
       "      <td>0</td>\n",
       "      <td>2.685</td>\n",
       "      <td>16.0</td>\n",
       "      <td>25.7</td>\n",
       "      <td>2</td>\n",
       "      <td>False</td>\n",
       "      <td>False</td>\n",
       "      <td>True</td>\n",
       "      <td>NaN</td>\n",
       "      <td>2.0</td>\n",
       "      <td>деревня Кудрово</td>\n",
       "      <td>NaN</td>\n",
       "      <td>NaN</td>\n",
       "      <td>NaN</td>\n",
       "      <td>NaN</td>\n",
       "      <td>NaN</td>\n",
       "      <td>NaN</td>\n",
       "      <td>45.0</td>\n",
       "      <td>повышенной этажности</td>\n",
       "    </tr>\n",
       "    <tr>\n",
       "      <td>7286</td>\n",
       "      <td>6</td>\n",
       "      <td>2580000.0</td>\n",
       "      <td>30.00</td>\n",
       "      <td>2018-02-07T00:00:00</td>\n",
       "      <td>0</td>\n",
       "      <td>2.750</td>\n",
       "      <td>18.0</td>\n",
       "      <td>19.0</td>\n",
       "      <td>2</td>\n",
       "      <td>False</td>\n",
       "      <td>False</td>\n",
       "      <td>True</td>\n",
       "      <td>NaN</td>\n",
       "      <td>0.0</td>\n",
       "      <td>посёлок Парголово</td>\n",
       "      <td>52610.0</td>\n",
       "      <td>18787.0</td>\n",
       "      <td>0.0</td>\n",
       "      <td>NaN</td>\n",
       "      <td>0.0</td>\n",
       "      <td>NaN</td>\n",
       "      <td>41.0</td>\n",
       "      <td>высотные</td>\n",
       "    </tr>\n",
       "    <tr>\n",
       "      <td>7818</td>\n",
       "      <td>11</td>\n",
       "      <td>3300000.0</td>\n",
       "      <td>27.30</td>\n",
       "      <td>2018-04-06T00:00:00</td>\n",
       "      <td>0</td>\n",
       "      <td>2.750</td>\n",
       "      <td>20.0</td>\n",
       "      <td>NaN</td>\n",
       "      <td>9</td>\n",
       "      <td>False</td>\n",
       "      <td>False</td>\n",
       "      <td>True</td>\n",
       "      <td>NaN</td>\n",
       "      <td>2.0</td>\n",
       "      <td>Санкт-Петербург</td>\n",
       "      <td>15990.0</td>\n",
       "      <td>13853.0</td>\n",
       "      <td>0.0</td>\n",
       "      <td>NaN</td>\n",
       "      <td>1.0</td>\n",
       "      <td>584.0</td>\n",
       "      <td>31.0</td>\n",
       "      <td>высотные</td>\n",
       "    </tr>\n",
       "    <tr>\n",
       "      <td>9412</td>\n",
       "      <td>5</td>\n",
       "      <td>2100000.0</td>\n",
       "      <td>16.00</td>\n",
       "      <td>2017-12-10T00:00:00</td>\n",
       "      <td>0</td>\n",
       "      <td>2.600</td>\n",
       "      <td>6.0</td>\n",
       "      <td>13.0</td>\n",
       "      <td>1</td>\n",
       "      <td>False</td>\n",
       "      <td>False</td>\n",
       "      <td>True</td>\n",
       "      <td>NaN</td>\n",
       "      <td>0.0</td>\n",
       "      <td>Санкт-Петербург</td>\n",
       "      <td>20735.0</td>\n",
       "      <td>2111.0</td>\n",
       "      <td>2.0</td>\n",
       "      <td>228.0</td>\n",
       "      <td>3.0</td>\n",
       "      <td>72.0</td>\n",
       "      <td>3.0</td>\n",
       "      <td>многоэтажные</td>\n",
       "    </tr>\n",
       "    <tr>\n",
       "      <td>9586</td>\n",
       "      <td>7</td>\n",
       "      <td>1670000.0</td>\n",
       "      <td>28.30</td>\n",
       "      <td>2017-09-27T00:00:00</td>\n",
       "      <td>0</td>\n",
       "      <td>2.600</td>\n",
       "      <td>9.0</td>\n",
       "      <td>18.2</td>\n",
       "      <td>3</td>\n",
       "      <td>False</td>\n",
       "      <td>False</td>\n",
       "      <td>True</td>\n",
       "      <td>NaN</td>\n",
       "      <td>0.0</td>\n",
       "      <td>Никольское</td>\n",
       "      <td>NaN</td>\n",
       "      <td>NaN</td>\n",
       "      <td>NaN</td>\n",
       "      <td>NaN</td>\n",
       "      <td>NaN</td>\n",
       "      <td>NaN</td>\n",
       "      <td>45.0</td>\n",
       "      <td>многоэтажные</td>\n",
       "    </tr>\n",
       "    <tr>\n",
       "      <td>9861</td>\n",
       "      <td>10</td>\n",
       "      <td>2350000.0</td>\n",
       "      <td>25.00</td>\n",
       "      <td>2017-12-03T00:00:00</td>\n",
       "      <td>0</td>\n",
       "      <td>2.750</td>\n",
       "      <td>22.0</td>\n",
       "      <td>25.0</td>\n",
       "      <td>17</td>\n",
       "      <td>False</td>\n",
       "      <td>False</td>\n",
       "      <td>True</td>\n",
       "      <td>NaN</td>\n",
       "      <td>2.0</td>\n",
       "      <td>посёлок Мурино</td>\n",
       "      <td>NaN</td>\n",
       "      <td>NaN</td>\n",
       "      <td>NaN</td>\n",
       "      <td>NaN</td>\n",
       "      <td>NaN</td>\n",
       "      <td>NaN</td>\n",
       "      <td>13.0</td>\n",
       "      <td>высотные</td>\n",
       "    </tr>\n",
       "    <tr>\n",
       "      <td>10284</td>\n",
       "      <td>9</td>\n",
       "      <td>2700000.0</td>\n",
       "      <td>24.00</td>\n",
       "      <td>2017-01-23T00:00:00</td>\n",
       "      <td>0</td>\n",
       "      <td>2.685</td>\n",
       "      <td>12.0</td>\n",
       "      <td>15.5</td>\n",
       "      <td>11</td>\n",
       "      <td>False</td>\n",
       "      <td>False</td>\n",
       "      <td>True</td>\n",
       "      <td>NaN</td>\n",
       "      <td>1.0</td>\n",
       "      <td>деревня Кудрово</td>\n",
       "      <td>NaN</td>\n",
       "      <td>NaN</td>\n",
       "      <td>NaN</td>\n",
       "      <td>NaN</td>\n",
       "      <td>NaN</td>\n",
       "      <td>NaN</td>\n",
       "      <td>357.0</td>\n",
       "      <td>повышенной этажности</td>\n",
       "    </tr>\n",
       "    <tr>\n",
       "      <td>10606</td>\n",
       "      <td>14</td>\n",
       "      <td>2950000.0</td>\n",
       "      <td>25.27</td>\n",
       "      <td>2017-11-17T00:00:00</td>\n",
       "      <td>0</td>\n",
       "      <td>2.750</td>\n",
       "      <td>25.0</td>\n",
       "      <td>25.0</td>\n",
       "      <td>11</td>\n",
       "      <td>False</td>\n",
       "      <td>False</td>\n",
       "      <td>True</td>\n",
       "      <td>NaN</td>\n",
       "      <td>1.0</td>\n",
       "      <td>Санкт-Петербург</td>\n",
       "      <td>11405.0</td>\n",
       "      <td>13222.0</td>\n",
       "      <td>0.0</td>\n",
       "      <td>NaN</td>\n",
       "      <td>1.0</td>\n",
       "      <td>623.0</td>\n",
       "      <td>51.0</td>\n",
       "      <td>высотные</td>\n",
       "    </tr>\n",
       "    <tr>\n",
       "      <td>11035</td>\n",
       "      <td>1</td>\n",
       "      <td>2500000.0</td>\n",
       "      <td>26.00</td>\n",
       "      <td>2017-11-10T00:00:00</td>\n",
       "      <td>0</td>\n",
       "      <td>2.600</td>\n",
       "      <td>8.0</td>\n",
       "      <td>14.0</td>\n",
       "      <td>6</td>\n",
       "      <td>False</td>\n",
       "      <td>False</td>\n",
       "      <td>True</td>\n",
       "      <td>NaN</td>\n",
       "      <td>0.0</td>\n",
       "      <td>городской посёлок Янино-1</td>\n",
       "      <td>NaN</td>\n",
       "      <td>NaN</td>\n",
       "      <td>NaN</td>\n",
       "      <td>NaN</td>\n",
       "      <td>NaN</td>\n",
       "      <td>NaN</td>\n",
       "      <td>22.0</td>\n",
       "      <td>многоэтажные</td>\n",
       "    </tr>\n",
       "    <tr>\n",
       "      <td>11051</td>\n",
       "      <td>2</td>\n",
       "      <td>2200000.0</td>\n",
       "      <td>26.00</td>\n",
       "      <td>2017-10-24T00:00:00</td>\n",
       "      <td>0</td>\n",
       "      <td>2.750</td>\n",
       "      <td>21.0</td>\n",
       "      <td>12.0</td>\n",
       "      <td>21</td>\n",
       "      <td>False</td>\n",
       "      <td>False</td>\n",
       "      <td>True</td>\n",
       "      <td>NaN</td>\n",
       "      <td>2.0</td>\n",
       "      <td>деревня Кудрово</td>\n",
       "      <td>NaN</td>\n",
       "      <td>NaN</td>\n",
       "      <td>NaN</td>\n",
       "      <td>NaN</td>\n",
       "      <td>NaN</td>\n",
       "      <td>NaN</td>\n",
       "      <td>35.0</td>\n",
       "      <td>высотные</td>\n",
       "    </tr>\n",
       "    <tr>\n",
       "      <td>11157</td>\n",
       "      <td>0</td>\n",
       "      <td>2900000.0</td>\n",
       "      <td>27.30</td>\n",
       "      <td>2017-11-22T00:00:00</td>\n",
       "      <td>0</td>\n",
       "      <td>2.800</td>\n",
       "      <td>8.0</td>\n",
       "      <td>20.0</td>\n",
       "      <td>5</td>\n",
       "      <td>False</td>\n",
       "      <td>False</td>\n",
       "      <td>True</td>\n",
       "      <td>NaN</td>\n",
       "      <td>0.0</td>\n",
       "      <td>Санкт-Петербург</td>\n",
       "      <td>38832.0</td>\n",
       "      <td>13729.0</td>\n",
       "      <td>0.0</td>\n",
       "      <td>NaN</td>\n",
       "      <td>0.0</td>\n",
       "      <td>NaN</td>\n",
       "      <td>9.0</td>\n",
       "      <td>многоэтажные</td>\n",
       "    </tr>\n",
       "    <tr>\n",
       "      <td>11331</td>\n",
       "      <td>6</td>\n",
       "      <td>1315000.0</td>\n",
       "      <td>27.32</td>\n",
       "      <td>2017-09-29T00:00:00</td>\n",
       "      <td>0</td>\n",
       "      <td>2.700</td>\n",
       "      <td>15.0</td>\n",
       "      <td>18.7</td>\n",
       "      <td>15</td>\n",
       "      <td>False</td>\n",
       "      <td>False</td>\n",
       "      <td>True</td>\n",
       "      <td>NaN</td>\n",
       "      <td>0.0</td>\n",
       "      <td>Никольское</td>\n",
       "      <td>NaN</td>\n",
       "      <td>NaN</td>\n",
       "      <td>NaN</td>\n",
       "      <td>NaN</td>\n",
       "      <td>NaN</td>\n",
       "      <td>NaN</td>\n",
       "      <td>116.0</td>\n",
       "      <td>повышенной этажности</td>\n",
       "    </tr>\n",
       "    <tr>\n",
       "      <td>11692</td>\n",
       "      <td>0</td>\n",
       "      <td>2550000.0</td>\n",
       "      <td>23.06</td>\n",
       "      <td>2017-10-24T00:00:00</td>\n",
       "      <td>0</td>\n",
       "      <td>2.800</td>\n",
       "      <td>14.0</td>\n",
       "      <td>18.0</td>\n",
       "      <td>9</td>\n",
       "      <td>False</td>\n",
       "      <td>False</td>\n",
       "      <td>True</td>\n",
       "      <td>NaN</td>\n",
       "      <td>2.0</td>\n",
       "      <td>деревня Кудрово</td>\n",
       "      <td>NaN</td>\n",
       "      <td>NaN</td>\n",
       "      <td>NaN</td>\n",
       "      <td>NaN</td>\n",
       "      <td>NaN</td>\n",
       "      <td>NaN</td>\n",
       "      <td>20.0</td>\n",
       "      <td>повышенной этажности</td>\n",
       "    </tr>\n",
       "    <tr>\n",
       "      <td>11705</td>\n",
       "      <td>5</td>\n",
       "      <td>3380000.0</td>\n",
       "      <td>26.00</td>\n",
       "      <td>2018-02-20T00:00:00</td>\n",
       "      <td>0</td>\n",
       "      <td>2.800</td>\n",
       "      <td>17.0</td>\n",
       "      <td>17.0</td>\n",
       "      <td>8</td>\n",
       "      <td>False</td>\n",
       "      <td>False</td>\n",
       "      <td>True</td>\n",
       "      <td>NaN</td>\n",
       "      <td>1.0</td>\n",
       "      <td>Санкт-Петербург</td>\n",
       "      <td>15706.0</td>\n",
       "      <td>7734.0</td>\n",
       "      <td>2.0</td>\n",
       "      <td>592.0</td>\n",
       "      <td>1.0</td>\n",
       "      <td>802.0</td>\n",
       "      <td>45.0</td>\n",
       "      <td>высотные</td>\n",
       "    </tr>\n",
       "    <tr>\n",
       "      <td>12412</td>\n",
       "      <td>0</td>\n",
       "      <td>3300000.0</td>\n",
       "      <td>27.00</td>\n",
       "      <td>2017-08-15T00:00:00</td>\n",
       "      <td>0</td>\n",
       "      <td>2.750</td>\n",
       "      <td>25.0</td>\n",
       "      <td>25.0</td>\n",
       "      <td>22</td>\n",
       "      <td>False</td>\n",
       "      <td>False</td>\n",
       "      <td>True</td>\n",
       "      <td>NaN</td>\n",
       "      <td>0.0</td>\n",
       "      <td>Санкт-Петербург</td>\n",
       "      <td>12199.0</td>\n",
       "      <td>12111.0</td>\n",
       "      <td>0.0</td>\n",
       "      <td>NaN</td>\n",
       "      <td>1.0</td>\n",
       "      <td>337.0</td>\n",
       "      <td>161.0</td>\n",
       "      <td>высотные</td>\n",
       "    </tr>\n",
       "    <tr>\n",
       "      <td>12691</td>\n",
       "      <td>1</td>\n",
       "      <td>3700000.0</td>\n",
       "      <td>24.20</td>\n",
       "      <td>2017-11-10T00:00:00</td>\n",
       "      <td>0</td>\n",
       "      <td>2.750</td>\n",
       "      <td>19.0</td>\n",
       "      <td>24.2</td>\n",
       "      <td>13</td>\n",
       "      <td>False</td>\n",
       "      <td>False</td>\n",
       "      <td>True</td>\n",
       "      <td>NaN</td>\n",
       "      <td>1.0</td>\n",
       "      <td>Санкт-Петербург</td>\n",
       "      <td>17837.0</td>\n",
       "      <td>16840.0</td>\n",
       "      <td>0.0</td>\n",
       "      <td>NaN</td>\n",
       "      <td>2.0</td>\n",
       "      <td>210.0</td>\n",
       "      <td>74.0</td>\n",
       "      <td>высотные</td>\n",
       "    </tr>\n",
       "    <tr>\n",
       "      <td>13953</td>\n",
       "      <td>21</td>\n",
       "      <td>3255000.0</td>\n",
       "      <td>28.20</td>\n",
       "      <td>2017-09-26T00:00:00</td>\n",
       "      <td>0</td>\n",
       "      <td>2.750</td>\n",
       "      <td>24.0</td>\n",
       "      <td>20.0</td>\n",
       "      <td>2</td>\n",
       "      <td>False</td>\n",
       "      <td>False</td>\n",
       "      <td>True</td>\n",
       "      <td>NaN</td>\n",
       "      <td>0.0</td>\n",
       "      <td>Санкт-Петербург</td>\n",
       "      <td>41466.0</td>\n",
       "      <td>11538.0</td>\n",
       "      <td>0.0</td>\n",
       "      <td>NaN</td>\n",
       "      <td>0.0</td>\n",
       "      <td>NaN</td>\n",
       "      <td>119.0</td>\n",
       "      <td>высотные</td>\n",
       "    </tr>\n",
       "    <tr>\n",
       "      <td>15105</td>\n",
       "      <td>8</td>\n",
       "      <td>2500000.0</td>\n",
       "      <td>26.10</td>\n",
       "      <td>2017-12-01T00:00:00</td>\n",
       "      <td>0</td>\n",
       "      <td>2.750</td>\n",
       "      <td>25.0</td>\n",
       "      <td>18.0</td>\n",
       "      <td>4</td>\n",
       "      <td>False</td>\n",
       "      <td>False</td>\n",
       "      <td>True</td>\n",
       "      <td>NaN</td>\n",
       "      <td>2.0</td>\n",
       "      <td>посёлок Мурино</td>\n",
       "      <td>NaN</td>\n",
       "      <td>NaN</td>\n",
       "      <td>NaN</td>\n",
       "      <td>NaN</td>\n",
       "      <td>NaN</td>\n",
       "      <td>NaN</td>\n",
       "      <td>45.0</td>\n",
       "      <td>высотные</td>\n",
       "    </tr>\n",
       "    <tr>\n",
       "      <td>15273</td>\n",
       "      <td>9</td>\n",
       "      <td>2700000.0</td>\n",
       "      <td>25.20</td>\n",
       "      <td>2017-11-10T00:00:00</td>\n",
       "      <td>0</td>\n",
       "      <td>2.600</td>\n",
       "      <td>9.0</td>\n",
       "      <td>15.2</td>\n",
       "      <td>2</td>\n",
       "      <td>False</td>\n",
       "      <td>False</td>\n",
       "      <td>True</td>\n",
       "      <td>NaN</td>\n",
       "      <td>2.0</td>\n",
       "      <td>деревня Кудрово</td>\n",
       "      <td>NaN</td>\n",
       "      <td>NaN</td>\n",
       "      <td>NaN</td>\n",
       "      <td>NaN</td>\n",
       "      <td>NaN</td>\n",
       "      <td>NaN</td>\n",
       "      <td>23.0</td>\n",
       "      <td>многоэтажные</td>\n",
       "    </tr>\n",
       "    <tr>\n",
       "      <td>15434</td>\n",
       "      <td>0</td>\n",
       "      <td>2200000.0</td>\n",
       "      <td>27.00</td>\n",
       "      <td>2017-01-01T00:00:00</td>\n",
       "      <td>0</td>\n",
       "      <td>2.750</td>\n",
       "      <td>25.0</td>\n",
       "      <td>15.0</td>\n",
       "      <td>5</td>\n",
       "      <td>False</td>\n",
       "      <td>False</td>\n",
       "      <td>True</td>\n",
       "      <td>NaN</td>\n",
       "      <td>2.0</td>\n",
       "      <td>посёлок Парголово</td>\n",
       "      <td>53791.0</td>\n",
       "      <td>18006.0</td>\n",
       "      <td>1.0</td>\n",
       "      <td>733.0</td>\n",
       "      <td>3.0</td>\n",
       "      <td>865.0</td>\n",
       "      <td>336.0</td>\n",
       "      <td>высотные</td>\n",
       "    </tr>\n",
       "    <tr>\n",
       "      <td>16429</td>\n",
       "      <td>2</td>\n",
       "      <td>2460000.0</td>\n",
       "      <td>28.01</td>\n",
       "      <td>2017-08-17T00:00:00</td>\n",
       "      <td>0</td>\n",
       "      <td>2.750</td>\n",
       "      <td>17.0</td>\n",
       "      <td>18.1</td>\n",
       "      <td>5</td>\n",
       "      <td>False</td>\n",
       "      <td>False</td>\n",
       "      <td>True</td>\n",
       "      <td>NaN</td>\n",
       "      <td>1.0</td>\n",
       "      <td>деревня Кудрово</td>\n",
       "      <td>NaN</td>\n",
       "      <td>NaN</td>\n",
       "      <td>NaN</td>\n",
       "      <td>NaN</td>\n",
       "      <td>NaN</td>\n",
       "      <td>NaN</td>\n",
       "      <td>15.0</td>\n",
       "      <td>высотные</td>\n",
       "    </tr>\n",
       "    <tr>\n",
       "      <td>17695</td>\n",
       "      <td>7</td>\n",
       "      <td>2550000.0</td>\n",
       "      <td>24.00</td>\n",
       "      <td>2017-12-16T00:00:00</td>\n",
       "      <td>0</td>\n",
       "      <td>2.750</td>\n",
       "      <td>23.0</td>\n",
       "      <td>17.0</td>\n",
       "      <td>8</td>\n",
       "      <td>False</td>\n",
       "      <td>False</td>\n",
       "      <td>True</td>\n",
       "      <td>NaN</td>\n",
       "      <td>1.0</td>\n",
       "      <td>деревня Кудрово</td>\n",
       "      <td>NaN</td>\n",
       "      <td>NaN</td>\n",
       "      <td>NaN</td>\n",
       "      <td>NaN</td>\n",
       "      <td>NaN</td>\n",
       "      <td>NaN</td>\n",
       "      <td>38.0</td>\n",
       "      <td>высотные</td>\n",
       "    </tr>\n",
       "    <tr>\n",
       "      <td>17729</td>\n",
       "      <td>7</td>\n",
       "      <td>2948000.0</td>\n",
       "      <td>28.05</td>\n",
       "      <td>2017-12-09T00:00:00</td>\n",
       "      <td>0</td>\n",
       "      <td>2.685</td>\n",
       "      <td>14.0</td>\n",
       "      <td>21.8</td>\n",
       "      <td>9</td>\n",
       "      <td>False</td>\n",
       "      <td>False</td>\n",
       "      <td>True</td>\n",
       "      <td>NaN</td>\n",
       "      <td>2.0</td>\n",
       "      <td>Санкт-Петербург</td>\n",
       "      <td>22098.0</td>\n",
       "      <td>23810.0</td>\n",
       "      <td>0.0</td>\n",
       "      <td>NaN</td>\n",
       "      <td>2.0</td>\n",
       "      <td>100.0</td>\n",
       "      <td>45.0</td>\n",
       "      <td>повышенной этажности</td>\n",
       "    </tr>\n",
       "    <tr>\n",
       "      <td>17805</td>\n",
       "      <td>17</td>\n",
       "      <td>2600000.0</td>\n",
       "      <td>31.10</td>\n",
       "      <td>2017-10-25T00:00:00</td>\n",
       "      <td>0</td>\n",
       "      <td>2.685</td>\n",
       "      <td>16.0</td>\n",
       "      <td>21.4</td>\n",
       "      <td>14</td>\n",
       "      <td>False</td>\n",
       "      <td>False</td>\n",
       "      <td>True</td>\n",
       "      <td>NaN</td>\n",
       "      <td>2.0</td>\n",
       "      <td>Санкт-Петербург</td>\n",
       "      <td>19212.0</td>\n",
       "      <td>22637.0</td>\n",
       "      <td>0.0</td>\n",
       "      <td>NaN</td>\n",
       "      <td>1.0</td>\n",
       "      <td>457.0</td>\n",
       "      <td>44.0</td>\n",
       "      <td>повышенной этажности</td>\n",
       "    </tr>\n",
       "    <tr>\n",
       "      <td>17824</td>\n",
       "      <td>10</td>\n",
       "      <td>2300000.0</td>\n",
       "      <td>22.50</td>\n",
       "      <td>2017-09-27T00:00:00</td>\n",
       "      <td>0</td>\n",
       "      <td>2.750</td>\n",
       "      <td>22.0</td>\n",
       "      <td>20.0</td>\n",
       "      <td>7</td>\n",
       "      <td>False</td>\n",
       "      <td>False</td>\n",
       "      <td>True</td>\n",
       "      <td>NaN</td>\n",
       "      <td>2.0</td>\n",
       "      <td>посёлок Мурино</td>\n",
       "      <td>NaN</td>\n",
       "      <td>NaN</td>\n",
       "      <td>NaN</td>\n",
       "      <td>NaN</td>\n",
       "      <td>NaN</td>\n",
       "      <td>NaN</td>\n",
       "      <td>11.0</td>\n",
       "      <td>высотные</td>\n",
       "    </tr>\n",
       "    <tr>\n",
       "      <td>18042</td>\n",
       "      <td>15</td>\n",
       "      <td>2950000.0</td>\n",
       "      <td>25.90</td>\n",
       "      <td>2017-12-09T00:00:00</td>\n",
       "      <td>0</td>\n",
       "      <td>2.685</td>\n",
       "      <td>14.0</td>\n",
       "      <td>16.9</td>\n",
       "      <td>9</td>\n",
       "      <td>False</td>\n",
       "      <td>False</td>\n",
       "      <td>True</td>\n",
       "      <td>NaN</td>\n",
       "      <td>2.0</td>\n",
       "      <td>Санкт-Петербург</td>\n",
       "      <td>23239.0</td>\n",
       "      <td>12102.0</td>\n",
       "      <td>1.0</td>\n",
       "      <td>1021.0</td>\n",
       "      <td>1.0</td>\n",
       "      <td>893.0</td>\n",
       "      <td>45.0</td>\n",
       "      <td>повышенной этажности</td>\n",
       "    </tr>\n",
       "    <tr>\n",
       "      <td>18549</td>\n",
       "      <td>16</td>\n",
       "      <td>3699000.0</td>\n",
       "      <td>29.00</td>\n",
       "      <td>2017-11-11T00:00:00</td>\n",
       "      <td>0</td>\n",
       "      <td>2.685</td>\n",
       "      <td>16.0</td>\n",
       "      <td>19.0</td>\n",
       "      <td>11</td>\n",
       "      <td>False</td>\n",
       "      <td>False</td>\n",
       "      <td>True</td>\n",
       "      <td>NaN</td>\n",
       "      <td>2.0</td>\n",
       "      <td>Санкт-Петербург</td>\n",
       "      <td>10949.0</td>\n",
       "      <td>12890.0</td>\n",
       "      <td>0.0</td>\n",
       "      <td>NaN</td>\n",
       "      <td>0.0</td>\n",
       "      <td>NaN</td>\n",
       "      <td>70.0</td>\n",
       "      <td>повышенной этажности</td>\n",
       "    </tr>\n",
       "    <tr>\n",
       "      <td>18782</td>\n",
       "      <td>0</td>\n",
       "      <td>2500000.0</td>\n",
       "      <td>25.00</td>\n",
       "      <td>2017-10-08T00:00:00</td>\n",
       "      <td>0</td>\n",
       "      <td>2.750</td>\n",
       "      <td>22.0</td>\n",
       "      <td>17.0</td>\n",
       "      <td>19</td>\n",
       "      <td>False</td>\n",
       "      <td>False</td>\n",
       "      <td>True</td>\n",
       "      <td>NaN</td>\n",
       "      <td>1.0</td>\n",
       "      <td>деревня Кудрово</td>\n",
       "      <td>NaN</td>\n",
       "      <td>NaN</td>\n",
       "      <td>NaN</td>\n",
       "      <td>NaN</td>\n",
       "      <td>NaN</td>\n",
       "      <td>NaN</td>\n",
       "      <td>8.0</td>\n",
       "      <td>высотные</td>\n",
       "    </tr>\n",
       "    <tr>\n",
       "      <td>19392</td>\n",
       "      <td>5</td>\n",
       "      <td>71000000.0</td>\n",
       "      <td>371.00</td>\n",
       "      <td>2018-07-26T00:00:00</td>\n",
       "      <td>0</td>\n",
       "      <td>3.570</td>\n",
       "      <td>7.0</td>\n",
       "      <td>NaN</td>\n",
       "      <td>6</td>\n",
       "      <td>False</td>\n",
       "      <td>False</td>\n",
       "      <td>True</td>\n",
       "      <td>NaN</td>\n",
       "      <td>0.0</td>\n",
       "      <td>Санкт-Петербург</td>\n",
       "      <td>25257.0</td>\n",
       "      <td>6060.0</td>\n",
       "      <td>1.0</td>\n",
       "      <td>761.0</td>\n",
       "      <td>1.0</td>\n",
       "      <td>584.0</td>\n",
       "      <td>90.0</td>\n",
       "      <td>многоэтажные</td>\n",
       "    </tr>\n",
       "    <tr>\n",
       "      <td>19477</td>\n",
       "      <td>11</td>\n",
       "      <td>2300000.0</td>\n",
       "      <td>20.00</td>\n",
       "      <td>2017-11-10T00:00:00</td>\n",
       "      <td>0</td>\n",
       "      <td>2.600</td>\n",
       "      <td>10.0</td>\n",
       "      <td>16.0</td>\n",
       "      <td>1</td>\n",
       "      <td>False</td>\n",
       "      <td>False</td>\n",
       "      <td>True</td>\n",
       "      <td>NaN</td>\n",
       "      <td>0.0</td>\n",
       "      <td>Санкт-Петербург</td>\n",
       "      <td>29791.0</td>\n",
       "      <td>12652.0</td>\n",
       "      <td>0.0</td>\n",
       "      <td>NaN</td>\n",
       "      <td>1.0</td>\n",
       "      <td>815.0</td>\n",
       "      <td>35.0</td>\n",
       "      <td>многоэтажные</td>\n",
       "    </tr>\n",
       "    <tr>\n",
       "      <td>19735</td>\n",
       "      <td>1</td>\n",
       "      <td>2800000.0</td>\n",
       "      <td>30.50</td>\n",
       "      <td>2017-10-10T00:00:00</td>\n",
       "      <td>0</td>\n",
       "      <td>2.750</td>\n",
       "      <td>25.0</td>\n",
       "      <td>20.0</td>\n",
       "      <td>2</td>\n",
       "      <td>False</td>\n",
       "      <td>False</td>\n",
       "      <td>True</td>\n",
       "      <td>NaN</td>\n",
       "      <td>2.0</td>\n",
       "      <td>деревня Кудрово</td>\n",
       "      <td>NaN</td>\n",
       "      <td>NaN</td>\n",
       "      <td>NaN</td>\n",
       "      <td>NaN</td>\n",
       "      <td>NaN</td>\n",
       "      <td>NaN</td>\n",
       "      <td>13.0</td>\n",
       "      <td>высотные</td>\n",
       "    </tr>\n",
       "    <tr>\n",
       "      <td>19917</td>\n",
       "      <td>5</td>\n",
       "      <td>2340000.0</td>\n",
       "      <td>25.41</td>\n",
       "      <td>2017-09-29T00:00:00</td>\n",
       "      <td>0</td>\n",
       "      <td>2.750</td>\n",
       "      <td>25.0</td>\n",
       "      <td>18.5</td>\n",
       "      <td>13</td>\n",
       "      <td>False</td>\n",
       "      <td>False</td>\n",
       "      <td>True</td>\n",
       "      <td>NaN</td>\n",
       "      <td>0.0</td>\n",
       "      <td>деревня Кудрово</td>\n",
       "      <td>NaN</td>\n",
       "      <td>NaN</td>\n",
       "      <td>NaN</td>\n",
       "      <td>NaN</td>\n",
       "      <td>NaN</td>\n",
       "      <td>NaN</td>\n",
       "      <td>3.0</td>\n",
       "      <td>высотные</td>\n",
       "    </tr>\n",
       "    <tr>\n",
       "      <td>20002</td>\n",
       "      <td>8</td>\n",
       "      <td>2700000.0</td>\n",
       "      <td>28.00</td>\n",
       "      <td>2017-11-10T00:00:00</td>\n",
       "      <td>0</td>\n",
       "      <td>2.750</td>\n",
       "      <td>21.0</td>\n",
       "      <td>20.0</td>\n",
       "      <td>6</td>\n",
       "      <td>False</td>\n",
       "      <td>False</td>\n",
       "      <td>True</td>\n",
       "      <td>NaN</td>\n",
       "      <td>2.0</td>\n",
       "      <td>Санкт-Петербург</td>\n",
       "      <td>21460.0</td>\n",
       "      <td>16788.0</td>\n",
       "      <td>0.0</td>\n",
       "      <td>NaN</td>\n",
       "      <td>1.0</td>\n",
       "      <td>170.0</td>\n",
       "      <td>17.0</td>\n",
       "      <td>высотные</td>\n",
       "    </tr>\n",
       "    <tr>\n",
       "      <td>20045</td>\n",
       "      <td>3</td>\n",
       "      <td>3100000.0</td>\n",
       "      <td>25.00</td>\n",
       "      <td>2017-09-27T00:00:00</td>\n",
       "      <td>0</td>\n",
       "      <td>2.750</td>\n",
       "      <td>24.0</td>\n",
       "      <td>18.0</td>\n",
       "      <td>24</td>\n",
       "      <td>False</td>\n",
       "      <td>False</td>\n",
       "      <td>True</td>\n",
       "      <td>NaN</td>\n",
       "      <td>2.0</td>\n",
       "      <td>Санкт-Петербург</td>\n",
       "      <td>33416.0</td>\n",
       "      <td>14557.0</td>\n",
       "      <td>0.0</td>\n",
       "      <td>NaN</td>\n",
       "      <td>0.0</td>\n",
       "      <td>NaN</td>\n",
       "      <td>7.0</td>\n",
       "      <td>высотные</td>\n",
       "    </tr>\n",
       "    <tr>\n",
       "      <td>20054</td>\n",
       "      <td>5</td>\n",
       "      <td>2730000.0</td>\n",
       "      <td>21.00</td>\n",
       "      <td>2017-11-22T00:00:00</td>\n",
       "      <td>0</td>\n",
       "      <td>2.600</td>\n",
       "      <td>9.0</td>\n",
       "      <td>14.0</td>\n",
       "      <td>6</td>\n",
       "      <td>False</td>\n",
       "      <td>False</td>\n",
       "      <td>True</td>\n",
       "      <td>NaN</td>\n",
       "      <td>0.0</td>\n",
       "      <td>Санкт-Петербург</td>\n",
       "      <td>17048.0</td>\n",
       "      <td>5936.0</td>\n",
       "      <td>2.0</td>\n",
       "      <td>462.0</td>\n",
       "      <td>0.0</td>\n",
       "      <td>NaN</td>\n",
       "      <td>45.0</td>\n",
       "      <td>многоэтажные</td>\n",
       "    </tr>\n",
       "    <tr>\n",
       "      <td>20793</td>\n",
       "      <td>13</td>\n",
       "      <td>3600000.0</td>\n",
       "      <td>27.50</td>\n",
       "      <td>2017-11-10T00:00:00</td>\n",
       "      <td>0</td>\n",
       "      <td>2.750</td>\n",
       "      <td>24.0</td>\n",
       "      <td>19.0</td>\n",
       "      <td>23</td>\n",
       "      <td>False</td>\n",
       "      <td>False</td>\n",
       "      <td>True</td>\n",
       "      <td>NaN</td>\n",
       "      <td>2.0</td>\n",
       "      <td>Санкт-Петербург</td>\n",
       "      <td>11555.0</td>\n",
       "      <td>12099.0</td>\n",
       "      <td>0.0</td>\n",
       "      <td>NaN</td>\n",
       "      <td>1.0</td>\n",
       "      <td>527.0</td>\n",
       "      <td>74.0</td>\n",
       "      <td>высотные</td>\n",
       "    </tr>\n",
       "    <tr>\n",
       "      <td>21299</td>\n",
       "      <td>13</td>\n",
       "      <td>2450000.0</td>\n",
       "      <td>28.50</td>\n",
       "      <td>2017-11-22T00:00:00</td>\n",
       "      <td>0</td>\n",
       "      <td>2.685</td>\n",
       "      <td>12.0</td>\n",
       "      <td>18.0</td>\n",
       "      <td>7</td>\n",
       "      <td>False</td>\n",
       "      <td>False</td>\n",
       "      <td>True</td>\n",
       "      <td>NaN</td>\n",
       "      <td>2.0</td>\n",
       "      <td>Санкт-Петербург</td>\n",
       "      <td>20381.0</td>\n",
       "      <td>19383.0</td>\n",
       "      <td>0.0</td>\n",
       "      <td>NaN</td>\n",
       "      <td>1.0</td>\n",
       "      <td>579.0</td>\n",
       "      <td>73.0</td>\n",
       "      <td>повышенной этажности</td>\n",
       "    </tr>\n",
       "    <tr>\n",
       "      <td>21628</td>\n",
       "      <td>9</td>\n",
       "      <td>3900000.0</td>\n",
       "      <td>34.00</td>\n",
       "      <td>2017-03-18T00:00:00</td>\n",
       "      <td>0</td>\n",
       "      <td>2.750</td>\n",
       "      <td>20.0</td>\n",
       "      <td>24.0</td>\n",
       "      <td>10</td>\n",
       "      <td>False</td>\n",
       "      <td>False</td>\n",
       "      <td>True</td>\n",
       "      <td>NaN</td>\n",
       "      <td>2.0</td>\n",
       "      <td>Санкт-Петербург</td>\n",
       "      <td>15506.0</td>\n",
       "      <td>13615.0</td>\n",
       "      <td>0.0</td>\n",
       "      <td>NaN</td>\n",
       "      <td>1.0</td>\n",
       "      <td>767.0</td>\n",
       "      <td>320.0</td>\n",
       "      <td>высотные</td>\n",
       "    </tr>\n",
       "    <tr>\n",
       "      <td>22573</td>\n",
       "      <td>8</td>\n",
       "      <td>2250000.0</td>\n",
       "      <td>24.00</td>\n",
       "      <td>2017-09-28T00:00:00</td>\n",
       "      <td>0</td>\n",
       "      <td>2.685</td>\n",
       "      <td>12.0</td>\n",
       "      <td>15.0</td>\n",
       "      <td>3</td>\n",
       "      <td>False</td>\n",
       "      <td>False</td>\n",
       "      <td>True</td>\n",
       "      <td>NaN</td>\n",
       "      <td>2.0</td>\n",
       "      <td>городской посёлок Новоселье</td>\n",
       "      <td>NaN</td>\n",
       "      <td>NaN</td>\n",
       "      <td>NaN</td>\n",
       "      <td>NaN</td>\n",
       "      <td>NaN</td>\n",
       "      <td>NaN</td>\n",
       "      <td>45.0</td>\n",
       "      <td>повышенной этажности</td>\n",
       "    </tr>\n",
       "    <tr>\n",
       "      <td>23442</td>\n",
       "      <td>0</td>\n",
       "      <td>2500000.0</td>\n",
       "      <td>27.70</td>\n",
       "      <td>2017-09-28T00:00:00</td>\n",
       "      <td>0</td>\n",
       "      <td>2.750</td>\n",
       "      <td>24.0</td>\n",
       "      <td>18.0</td>\n",
       "      <td>4</td>\n",
       "      <td>False</td>\n",
       "      <td>False</td>\n",
       "      <td>True</td>\n",
       "      <td>NaN</td>\n",
       "      <td>2.0</td>\n",
       "      <td>посёлок Мурино</td>\n",
       "      <td>NaN</td>\n",
       "      <td>NaN</td>\n",
       "      <td>NaN</td>\n",
       "      <td>NaN</td>\n",
       "      <td>NaN</td>\n",
       "      <td>NaN</td>\n",
       "      <td>4.0</td>\n",
       "      <td>высотные</td>\n",
       "    </tr>\n",
       "    <tr>\n",
       "      <td>23592</td>\n",
       "      <td>10</td>\n",
       "      <td>1450000.0</td>\n",
       "      <td>29.00</td>\n",
       "      <td>2017-11-11T00:00:00</td>\n",
       "      <td>0</td>\n",
       "      <td>2.600</td>\n",
       "      <td>9.0</td>\n",
       "      <td>18.0</td>\n",
       "      <td>8</td>\n",
       "      <td>False</td>\n",
       "      <td>False</td>\n",
       "      <td>True</td>\n",
       "      <td>NaN</td>\n",
       "      <td>2.0</td>\n",
       "      <td>Никольское</td>\n",
       "      <td>NaN</td>\n",
       "      <td>NaN</td>\n",
       "      <td>NaN</td>\n",
       "      <td>NaN</td>\n",
       "      <td>NaN</td>\n",
       "      <td>NaN</td>\n",
       "      <td>82.0</td>\n",
       "      <td>многоэтажные</td>\n",
       "    </tr>\n",
       "  </tbody>\n",
       "</table>\n",
       "</div>"
      ],
      "text/plain": [
       "       total_images  last_price  total_area first_day_exposition  rooms  \\\n",
       "349               4   2320000.0       25.00  2017-09-27T00:00:00      0   \n",
       "508               0   3375000.0       34.40  2017-03-28T00:00:00      0   \n",
       "780               9   2600000.0       26.10  2018-02-20T00:00:00      0   \n",
       "839              14   1900000.0       35.00  2017-04-14T00:00:00      0   \n",
       "946               5   2200000.0       23.00  2016-09-27T00:00:00      0   \n",
       "1574              0   2200000.0       22.00  2017-11-03T00:00:00      0   \n",
       "1625              7   1980000.0       23.98  2018-02-01T00:00:00      0   \n",
       "2532              5   3500000.0       27.10  2018-02-01T00:00:00      0   \n",
       "3019             18   2100000.0       24.00  2017-11-10T00:00:00      0   \n",
       "4115              7   2600000.0       24.00  2018-02-01T00:00:00      0   \n",
       "4437             10   3200000.0       25.00  2017-10-16T00:00:00      0   \n",
       "4683              2   3650000.0       35.00  2018-02-01T00:00:00      0   \n",
       "4876              7   3000000.0       25.00  2017-09-27T00:00:00      0   \n",
       "5749             20   3590000.0       25.00  2017-08-30T00:00:00      0   \n",
       "6472             13   3620000.0       28.00  2017-11-10T00:00:00      0   \n",
       "6612             18   3590000.0       26.80  2017-11-10T00:00:00      0   \n",
       "6805              7   1850000.0       31.00  2017-11-10T00:00:00      0   \n",
       "7008              4   5200000.0       32.30  2017-09-14T00:00:00      0   \n",
       "7237              8   2999000.0       42.63  2017-11-27T00:00:00      0   \n",
       "7286              6   2580000.0       30.00  2018-02-07T00:00:00      0   \n",
       "7818             11   3300000.0       27.30  2018-04-06T00:00:00      0   \n",
       "9412              5   2100000.0       16.00  2017-12-10T00:00:00      0   \n",
       "9586              7   1670000.0       28.30  2017-09-27T00:00:00      0   \n",
       "9861             10   2350000.0       25.00  2017-12-03T00:00:00      0   \n",
       "10284             9   2700000.0       24.00  2017-01-23T00:00:00      0   \n",
       "10606            14   2950000.0       25.27  2017-11-17T00:00:00      0   \n",
       "11035             1   2500000.0       26.00  2017-11-10T00:00:00      0   \n",
       "11051             2   2200000.0       26.00  2017-10-24T00:00:00      0   \n",
       "11157             0   2900000.0       27.30  2017-11-22T00:00:00      0   \n",
       "11331             6   1315000.0       27.32  2017-09-29T00:00:00      0   \n",
       "11692             0   2550000.0       23.06  2017-10-24T00:00:00      0   \n",
       "11705             5   3380000.0       26.00  2018-02-20T00:00:00      0   \n",
       "12412             0   3300000.0       27.00  2017-08-15T00:00:00      0   \n",
       "12691             1   3700000.0       24.20  2017-11-10T00:00:00      0   \n",
       "13953            21   3255000.0       28.20  2017-09-26T00:00:00      0   \n",
       "15105             8   2500000.0       26.10  2017-12-01T00:00:00      0   \n",
       "15273             9   2700000.0       25.20  2017-11-10T00:00:00      0   \n",
       "15434             0   2200000.0       27.00  2017-01-01T00:00:00      0   \n",
       "16429             2   2460000.0       28.01  2017-08-17T00:00:00      0   \n",
       "17695             7   2550000.0       24.00  2017-12-16T00:00:00      0   \n",
       "17729             7   2948000.0       28.05  2017-12-09T00:00:00      0   \n",
       "17805            17   2600000.0       31.10  2017-10-25T00:00:00      0   \n",
       "17824            10   2300000.0       22.50  2017-09-27T00:00:00      0   \n",
       "18042            15   2950000.0       25.90  2017-12-09T00:00:00      0   \n",
       "18549            16   3699000.0       29.00  2017-11-11T00:00:00      0   \n",
       "18782             0   2500000.0       25.00  2017-10-08T00:00:00      0   \n",
       "19392             5  71000000.0      371.00  2018-07-26T00:00:00      0   \n",
       "19477            11   2300000.0       20.00  2017-11-10T00:00:00      0   \n",
       "19735             1   2800000.0       30.50  2017-10-10T00:00:00      0   \n",
       "19917             5   2340000.0       25.41  2017-09-29T00:00:00      0   \n",
       "20002             8   2700000.0       28.00  2017-11-10T00:00:00      0   \n",
       "20045             3   3100000.0       25.00  2017-09-27T00:00:00      0   \n",
       "20054             5   2730000.0       21.00  2017-11-22T00:00:00      0   \n",
       "20793            13   3600000.0       27.50  2017-11-10T00:00:00      0   \n",
       "21299            13   2450000.0       28.50  2017-11-22T00:00:00      0   \n",
       "21628             9   3900000.0       34.00  2017-03-18T00:00:00      0   \n",
       "22573             8   2250000.0       24.00  2017-09-28T00:00:00      0   \n",
       "23442             0   2500000.0       27.70  2017-09-28T00:00:00      0   \n",
       "23592            10   1450000.0       29.00  2017-11-11T00:00:00      0   \n",
       "\n",
       "       ceiling_height  floors_total  living_area  floor  is_apartment  studio  \\\n",
       "349             2.685          14.0         17.0      1         False   False   \n",
       "508             2.750          26.0         24.3     19         False   False   \n",
       "780             2.750          18.0          NaN      8         False   False   \n",
       "839             2.700           5.0         15.0      3         False   False   \n",
       "946             2.750          27.0         18.0      7         False   False   \n",
       "1574            2.750          18.0         15.0     16         False   False   \n",
       "1625            2.600           4.0         10.5      3         False   False   \n",
       "2532            2.750          18.0         18.7      9         False   False   \n",
       "3019            2.600          10.0         18.0      6         False   False   \n",
       "4115            2.750          25.0         18.0      4         False   False   \n",
       "4437            2.600           9.0         18.6      9         False   False   \n",
       "4683            2.750          25.0         23.4     25         False   False   \n",
       "4876           27.000          25.0         17.0     17         False   False   \n",
       "5749            2.800          35.0          NaN     26         False   False   \n",
       "6472            2.700          20.0         18.0     17         False   False   \n",
       "6612            2.750          24.0         19.0     20         False   False   \n",
       "6805            2.750          18.0         18.0     10         False   False   \n",
       "7008            2.685          11.0         25.5      4         False   False   \n",
       "7237            2.685          16.0         25.7      2         False   False   \n",
       "7286            2.750          18.0         19.0      2         False   False   \n",
       "7818            2.750          20.0          NaN      9         False   False   \n",
       "9412            2.600           6.0         13.0      1         False   False   \n",
       "9586            2.600           9.0         18.2      3         False   False   \n",
       "9861            2.750          22.0         25.0     17         False   False   \n",
       "10284           2.685          12.0         15.5     11         False   False   \n",
       "10606           2.750          25.0         25.0     11         False   False   \n",
       "11035           2.600           8.0         14.0      6         False   False   \n",
       "11051           2.750          21.0         12.0     21         False   False   \n",
       "11157           2.800           8.0         20.0      5         False   False   \n",
       "11331           2.700          15.0         18.7     15         False   False   \n",
       "11692           2.800          14.0         18.0      9         False   False   \n",
       "11705           2.800          17.0         17.0      8         False   False   \n",
       "12412           2.750          25.0         25.0     22         False   False   \n",
       "12691           2.750          19.0         24.2     13         False   False   \n",
       "13953           2.750          24.0         20.0      2         False   False   \n",
       "15105           2.750          25.0         18.0      4         False   False   \n",
       "15273           2.600           9.0         15.2      2         False   False   \n",
       "15434           2.750          25.0         15.0      5         False   False   \n",
       "16429           2.750          17.0         18.1      5         False   False   \n",
       "17695           2.750          23.0         17.0      8         False   False   \n",
       "17729           2.685          14.0         21.8      9         False   False   \n",
       "17805           2.685          16.0         21.4     14         False   False   \n",
       "17824           2.750          22.0         20.0      7         False   False   \n",
       "18042           2.685          14.0         16.9      9         False   False   \n",
       "18549           2.685          16.0         19.0     11         False   False   \n",
       "18782           2.750          22.0         17.0     19         False   False   \n",
       "19392           3.570           7.0          NaN      6         False   False   \n",
       "19477           2.600          10.0         16.0      1         False   False   \n",
       "19735           2.750          25.0         20.0      2         False   False   \n",
       "19917           2.750          25.0         18.5     13         False   False   \n",
       "20002           2.750          21.0         20.0      6         False   False   \n",
       "20045           2.750          24.0         18.0     24         False   False   \n",
       "20054           2.600           9.0         14.0      6         False   False   \n",
       "20793           2.750          24.0         19.0     23         False   False   \n",
       "21299           2.685          12.0         18.0      7         False   False   \n",
       "21628           2.750          20.0         24.0     10         False   False   \n",
       "22573           2.685          12.0         15.0      3         False   False   \n",
       "23442           2.750          24.0         18.0      4         False   False   \n",
       "23592           2.600           9.0         18.0      8         False   False   \n",
       "\n",
       "       open_plan  kitchen_area  balcony                locality_name  \\\n",
       "349         True           NaN      0.0              деревня Кудрово   \n",
       "508         True           NaN      1.0            посёлок Парголово   \n",
       "780         True           NaN      1.0               посёлок Мурино   \n",
       "839         True           NaN      1.0           поселок Новый Свет   \n",
       "946         True           NaN      2.0               посёлок Мурино   \n",
       "1574        True           NaN      1.0              деревня Кудрово   \n",
       "1625        True           NaN      1.0      поселок станции Корнево   \n",
       "2532        True           NaN      2.0              Санкт-Петербург   \n",
       "3019        True           NaN      2.0                    Сертолово   \n",
       "4115        True           NaN      2.0              Санкт-Петербург   \n",
       "4437        True           NaN      2.0              Санкт-Петербург   \n",
       "4683        True           NaN      0.0              Санкт-Петербург   \n",
       "4876        True           NaN      2.0               посёлок Мурино   \n",
       "5749        True           NaN      2.0              Санкт-Петербург   \n",
       "6472        True           NaN      2.0              Санкт-Петербург   \n",
       "6612        True           NaN      0.0              Санкт-Петербург   \n",
       "6805        True           NaN      1.0                   Никольское   \n",
       "7008        True           NaN      0.0              Санкт-Петербург   \n",
       "7237        True           NaN      2.0              деревня Кудрово   \n",
       "7286        True           NaN      0.0            посёлок Парголово   \n",
       "7818        True           NaN      2.0              Санкт-Петербург   \n",
       "9412        True           NaN      0.0              Санкт-Петербург   \n",
       "9586        True           NaN      0.0                   Никольское   \n",
       "9861        True           NaN      2.0               посёлок Мурино   \n",
       "10284       True           NaN      1.0              деревня Кудрово   \n",
       "10606       True           NaN      1.0              Санкт-Петербург   \n",
       "11035       True           NaN      0.0    городской посёлок Янино-1   \n",
       "11051       True           NaN      2.0              деревня Кудрово   \n",
       "11157       True           NaN      0.0              Санкт-Петербург   \n",
       "11331       True           NaN      0.0                   Никольское   \n",
       "11692       True           NaN      2.0              деревня Кудрово   \n",
       "11705       True           NaN      1.0              Санкт-Петербург   \n",
       "12412       True           NaN      0.0              Санкт-Петербург   \n",
       "12691       True           NaN      1.0              Санкт-Петербург   \n",
       "13953       True           NaN      0.0              Санкт-Петербург   \n",
       "15105       True           NaN      2.0               посёлок Мурино   \n",
       "15273       True           NaN      2.0              деревня Кудрово   \n",
       "15434       True           NaN      2.0            посёлок Парголово   \n",
       "16429       True           NaN      1.0              деревня Кудрово   \n",
       "17695       True           NaN      1.0              деревня Кудрово   \n",
       "17729       True           NaN      2.0              Санкт-Петербург   \n",
       "17805       True           NaN      2.0              Санкт-Петербург   \n",
       "17824       True           NaN      2.0               посёлок Мурино   \n",
       "18042       True           NaN      2.0              Санкт-Петербург   \n",
       "18549       True           NaN      2.0              Санкт-Петербург   \n",
       "18782       True           NaN      1.0              деревня Кудрово   \n",
       "19392       True           NaN      0.0              Санкт-Петербург   \n",
       "19477       True           NaN      0.0              Санкт-Петербург   \n",
       "19735       True           NaN      2.0              деревня Кудрово   \n",
       "19917       True           NaN      0.0              деревня Кудрово   \n",
       "20002       True           NaN      2.0              Санкт-Петербург   \n",
       "20045       True           NaN      2.0              Санкт-Петербург   \n",
       "20054       True           NaN      0.0              Санкт-Петербург   \n",
       "20793       True           NaN      2.0              Санкт-Петербург   \n",
       "21299       True           NaN      2.0              Санкт-Петербург   \n",
       "21628       True           NaN      2.0              Санкт-Петербург   \n",
       "22573       True           NaN      2.0  городской посёлок Новоселье   \n",
       "23442       True           NaN      2.0               посёлок Мурино   \n",
       "23592       True           NaN      2.0                   Никольское   \n",
       "\n",
       "       airports_nearest  cityCenters_nearest  parks_around3000  parks_nearest  \\\n",
       "349                 NaN                  NaN               NaN            NaN   \n",
       "508             53115.0              19292.0               0.0            NaN   \n",
       "780                 NaN                  NaN               NaN            NaN   \n",
       "839                 NaN                  NaN               NaN            NaN   \n",
       "946                 NaN                  NaN               NaN            NaN   \n",
       "1574                NaN                  NaN               NaN            NaN   \n",
       "1625                NaN                  NaN               NaN            NaN   \n",
       "2532            32036.0               8175.0               0.0            NaN   \n",
       "3019                NaN                  NaN               NaN            NaN   \n",
       "4115            10031.0              13330.0               1.0          915.0   \n",
       "4437            11943.0              11710.0               1.0          518.0   \n",
       "4683            43431.0              12188.0               0.0            NaN   \n",
       "4876                NaN                  NaN               NaN            NaN   \n",
       "5749            18732.0              20444.0               0.0            NaN   \n",
       "6472            35068.0              16167.0               0.0            NaN   \n",
       "6612            11022.0              12679.0               0.0            NaN   \n",
       "6805                NaN                  NaN               NaN            NaN   \n",
       "7008            30824.0               6469.0               1.0          756.0   \n",
       "7237                NaN                  NaN               NaN            NaN   \n",
       "7286            52610.0              18787.0               0.0            NaN   \n",
       "7818            15990.0              13853.0               0.0            NaN   \n",
       "9412            20735.0               2111.0               2.0          228.0   \n",
       "9586                NaN                  NaN               NaN            NaN   \n",
       "9861                NaN                  NaN               NaN            NaN   \n",
       "10284               NaN                  NaN               NaN            NaN   \n",
       "10606           11405.0              13222.0               0.0            NaN   \n",
       "11035               NaN                  NaN               NaN            NaN   \n",
       "11051               NaN                  NaN               NaN            NaN   \n",
       "11157           38832.0              13729.0               0.0            NaN   \n",
       "11331               NaN                  NaN               NaN            NaN   \n",
       "11692               NaN                  NaN               NaN            NaN   \n",
       "11705           15706.0               7734.0               2.0          592.0   \n",
       "12412           12199.0              12111.0               0.0            NaN   \n",
       "12691           17837.0              16840.0               0.0            NaN   \n",
       "13953           41466.0              11538.0               0.0            NaN   \n",
       "15105               NaN                  NaN               NaN            NaN   \n",
       "15273               NaN                  NaN               NaN            NaN   \n",
       "15434           53791.0              18006.0               1.0          733.0   \n",
       "16429               NaN                  NaN               NaN            NaN   \n",
       "17695               NaN                  NaN               NaN            NaN   \n",
       "17729           22098.0              23810.0               0.0            NaN   \n",
       "17805           19212.0              22637.0               0.0            NaN   \n",
       "17824               NaN                  NaN               NaN            NaN   \n",
       "18042           23239.0              12102.0               1.0         1021.0   \n",
       "18549           10949.0              12890.0               0.0            NaN   \n",
       "18782               NaN                  NaN               NaN            NaN   \n",
       "19392           25257.0               6060.0               1.0          761.0   \n",
       "19477           29791.0              12652.0               0.0            NaN   \n",
       "19735               NaN                  NaN               NaN            NaN   \n",
       "19917               NaN                  NaN               NaN            NaN   \n",
       "20002           21460.0              16788.0               0.0            NaN   \n",
       "20045           33416.0              14557.0               0.0            NaN   \n",
       "20054           17048.0               5936.0               2.0          462.0   \n",
       "20793           11555.0              12099.0               0.0            NaN   \n",
       "21299           20381.0              19383.0               0.0            NaN   \n",
       "21628           15506.0              13615.0               0.0            NaN   \n",
       "22573               NaN                  NaN               NaN            NaN   \n",
       "23442               NaN                  NaN               NaN            NaN   \n",
       "23592               NaN                  NaN               NaN            NaN   \n",
       "\n",
       "       ponds_around3000  ponds_nearest  days_exposition          floors_group  \n",
       "349                 NaN            NaN             45.0  повышенной этажности  \n",
       "508                 1.0          593.0            430.0              высотные  \n",
       "780                 NaN            NaN             45.0              высотные  \n",
       "839                 NaN            NaN              7.0     средней этажности  \n",
       "946                 NaN            NaN            483.0              высотные  \n",
       "1574                NaN            NaN             81.0              высотные  \n",
       "1625                NaN            NaN            120.0     средней этажности  \n",
       "2532                1.0          644.0             70.0              высотные  \n",
       "3019                NaN            NaN              5.0          многоэтажные  \n",
       "4115                0.0            NaN             42.0              высотные  \n",
       "4437                1.0          232.0             97.0          многоэтажные  \n",
       "4683                0.0            NaN            100.0              высотные  \n",
       "4876                NaN            NaN             28.0              высотные  \n",
       "5749                3.0           80.0            198.0              высотные  \n",
       "6472                0.0            NaN             37.0              высотные  \n",
       "6612                0.0            NaN             15.0              высотные  \n",
       "6805                NaN            NaN              7.0              высотные  \n",
       "7008                1.0          936.0             86.0  повышенной этажности  \n",
       "7237                NaN            NaN             45.0  повышенной этажности  \n",
       "7286                0.0            NaN             41.0              высотные  \n",
       "7818                1.0          584.0             31.0              высотные  \n",
       "9412                3.0           72.0              3.0          многоэтажные  \n",
       "9586                NaN            NaN             45.0          многоэтажные  \n",
       "9861                NaN            NaN             13.0              высотные  \n",
       "10284               NaN            NaN            357.0  повышенной этажности  \n",
       "10606               1.0          623.0             51.0              высотные  \n",
       "11035               NaN            NaN             22.0          многоэтажные  \n",
       "11051               NaN            NaN             35.0              высотные  \n",
       "11157               0.0            NaN              9.0          многоэтажные  \n",
       "11331               NaN            NaN            116.0  повышенной этажности  \n",
       "11692               NaN            NaN             20.0  повышенной этажности  \n",
       "11705               1.0          802.0             45.0              высотные  \n",
       "12412               1.0          337.0            161.0              высотные  \n",
       "12691               2.0          210.0             74.0              высотные  \n",
       "13953               0.0            NaN            119.0              высотные  \n",
       "15105               NaN            NaN             45.0              высотные  \n",
       "15273               NaN            NaN             23.0          многоэтажные  \n",
       "15434               3.0          865.0            336.0              высотные  \n",
       "16429               NaN            NaN             15.0              высотные  \n",
       "17695               NaN            NaN             38.0              высотные  \n",
       "17729               2.0          100.0             45.0  повышенной этажности  \n",
       "17805               1.0          457.0             44.0  повышенной этажности  \n",
       "17824               NaN            NaN             11.0              высотные  \n",
       "18042               1.0          893.0             45.0  повышенной этажности  \n",
       "18549               0.0            NaN             70.0  повышенной этажности  \n",
       "18782               NaN            NaN              8.0              высотные  \n",
       "19392               1.0          584.0             90.0          многоэтажные  \n",
       "19477               1.0          815.0             35.0          многоэтажные  \n",
       "19735               NaN            NaN             13.0              высотные  \n",
       "19917               NaN            NaN              3.0              высотные  \n",
       "20002               1.0          170.0             17.0              высотные  \n",
       "20045               0.0            NaN              7.0              высотные  \n",
       "20054               0.0            NaN             45.0          многоэтажные  \n",
       "20793               1.0          527.0             74.0              высотные  \n",
       "21299               1.0          579.0             73.0  повышенной этажности  \n",
       "21628               1.0          767.0            320.0              высотные  \n",
       "22573               NaN            NaN             45.0  повышенной этажности  \n",
       "23442               NaN            NaN              4.0              высотные  \n",
       "23592               NaN            NaN             82.0          многоэтажные  "
      ]
     },
     "execution_count": 23,
     "metadata": {},
     "output_type": "execute_result"
    }
   ],
   "source": [
    "df1=df.query('studio==False and rooms==0')\n",
    "df1['total_area'].describe()\n",
    "pd.set_option('display.max_columns', 500)\n",
    "df1\n"
   ]
  },
  {
   "cell_type": "markdown",
   "metadata": {},
   "source": [
    "Мы видим что во всех данных квартирах присутствует свободная планировка. Свободная планировка квартиры — это пространство, в котором отсутствуют внутренние стены, а количество несущих опор сведено к минимуму. Соответственно, количество комнат в данных квартирах может быть любым, в зависимости от пожеланий владельца. Возможно, поэтому люди, создававшие объявления, проставляли в поле числа комнат - 0. \n",
    "\n",
    "Таким образом, мы нашли возможные логические объяснения нулевому значению числу комнат - либо квартиры являются студиями, либо имеют свободную планировку. Учитывая, что процент таких объявлений составляет всего 0.8% от всей выборки, оставим нулевые значения неизменными."
   ]
  },
  {
   "cell_type": "code",
   "execution_count": 24,
   "metadata": {},
   "outputs": [],
   "source": [
    "#создаем переменную соотношения жилой площади к общей\n",
    "df['living_to_total']=df['living_area']/df['total_area']"
   ]
  },
  {
   "cell_type": "code",
   "execution_count": 25,
   "metadata": {},
   "outputs": [],
   "source": [
    "#заполняем пропуски в соотношении жилой площади к общей медианным значением, согласно группе по числу комнат\n",
    "df['living_to_total'] = df['living_to_total'].fillna(df.groupby('rooms')['living_to_total'].transform('median'))"
   ]
  },
  {
   "cell_type": "code",
   "execution_count": 26,
   "metadata": {},
   "outputs": [
    {
     "data": {
      "text/plain": [
       "0"
      ]
     },
     "execution_count": 26,
     "metadata": {},
     "output_type": "execute_result"
    }
   ],
   "source": [
    "#проверяем замену пропусков\n",
    "df['living_to_total'].isnull().sum()"
   ]
  },
  {
   "cell_type": "code",
   "execution_count": 27,
   "metadata": {},
   "outputs": [
    {
     "data": {
      "text/plain": [
       "0"
      ]
     },
     "execution_count": 27,
     "metadata": {},
     "output_type": "execute_result"
    }
   ],
   "source": [
    "#заполняем пропуски в переменной 'living_area'\n",
    "df['living_area'] = df['living_area'].fillna(df['living_to_total']*df['total_area'])\n",
    "df['living_area'].isnull().sum()"
   ]
  },
  {
   "cell_type": "markdown",
   "metadata": {},
   "source": [
    "- ***Переменная 'kitchen_area'***"
   ]
  },
  {
   "cell_type": "code",
   "execution_count": 28,
   "metadata": {},
   "outputs": [
    {
     "data": {
      "text/html": [
       "<div>\n",
       "<style scoped>\n",
       "    .dataframe tbody tr th:only-of-type {\n",
       "        vertical-align: middle;\n",
       "    }\n",
       "\n",
       "    .dataframe tbody tr th {\n",
       "        vertical-align: top;\n",
       "    }\n",
       "\n",
       "    .dataframe thead th {\n",
       "        text-align: right;\n",
       "    }\n",
       "</style>\n",
       "<table border=\"1\" class=\"dataframe\">\n",
       "  <thead>\n",
       "    <tr style=\"text-align: right;\">\n",
       "      <th></th>\n",
       "      <th>total_images</th>\n",
       "      <th>last_price</th>\n",
       "      <th>total_area</th>\n",
       "      <th>first_day_exposition</th>\n",
       "      <th>rooms</th>\n",
       "      <th>ceiling_height</th>\n",
       "      <th>floors_total</th>\n",
       "      <th>living_area</th>\n",
       "      <th>floor</th>\n",
       "      <th>is_apartment</th>\n",
       "      <th>studio</th>\n",
       "      <th>open_plan</th>\n",
       "      <th>kitchen_area</th>\n",
       "      <th>balcony</th>\n",
       "      <th>locality_name</th>\n",
       "      <th>airports_nearest</th>\n",
       "      <th>cityCenters_nearest</th>\n",
       "      <th>parks_around3000</th>\n",
       "      <th>parks_nearest</th>\n",
       "      <th>ponds_around3000</th>\n",
       "      <th>ponds_nearest</th>\n",
       "      <th>days_exposition</th>\n",
       "      <th>floors_group</th>\n",
       "      <th>living_to_total</th>\n",
       "    </tr>\n",
       "  </thead>\n",
       "  <tbody>\n",
       "  </tbody>\n",
       "</table>\n",
       "</div>"
      ],
      "text/plain": [
       "Empty DataFrame\n",
       "Columns: [total_images, last_price, total_area, first_day_exposition, rooms, ceiling_height, floors_total, living_area, floor, is_apartment, studio, open_plan, kitchen_area, balcony, locality_name, airports_nearest, cityCenters_nearest, parks_around3000, parks_nearest, ponds_around3000, ponds_nearest, days_exposition, floors_group, living_to_total]\n",
       "Index: []"
      ]
     },
     "execution_count": 28,
     "metadata": {},
     "output_type": "execute_result"
    }
   ],
   "source": [
    "df.query('kitchen_area==0')"
   ]
  },
  {
   "cell_type": "code",
   "execution_count": 29,
   "metadata": {},
   "outputs": [
    {
     "data": {
      "text/plain": [
       "2278"
      ]
     },
     "execution_count": 29,
     "metadata": {},
     "output_type": "execute_result"
    }
   ],
   "source": [
    "len(df.query('kitchen_area==\"NaN\"'))"
   ]
  },
  {
   "cell_type": "markdown",
   "metadata": {},
   "source": [
    "Площадь кухни входит в нежилую площадь квартиры, которую мы можем вычислить для всех наблюдений, так как уже заполнили пропуски в living_area. Также мы можем рассчитать отношение кухни к другой нежилой площади (коридоры, сан.узел и т.д.), но в данном случае у нас уже появятся пропущенные значения.Вероятнее, всего соотношения кухни и другой нежилой площади приблизительно одинкового размера в квартирах, где планировки похожи в части соотношения жилой и общей площади. На основе этого, заменим пропуски в соотношении кухни и нежилой площади медианой, соответствующей группировке по переменной 'living_to_total'. Имея все значения по соотношению кухни и другой нежилой площади, мы можем заполнить пропуски в kitchen_area.\n",
    "Таким образом замена пропусков будет проходить в несколько этапов:\n",
    "1. Создаем группы по соотношению жилой и общей площади, используя границы квантилей.\n",
    "2. Рассчитываем нежилую площадь и соотношение площади кухни к общей нежилой площади.\n",
    "3. Заполняем пропуски в соотношении лощади кухни к общей нежилой площади.\n",
    "4. Заполняем пропуски в площади кухни.\n"
   ]
  },
  {
   "cell_type": "code",
   "execution_count": 30,
   "metadata": {},
   "outputs": [
    {
     "data": {
      "text/plain": [
       "count    23699.000000\n",
       "mean         0.564917\n",
       "std          0.102745\n",
       "min          0.021583\n",
       "25%          0.491415\n",
       "50%          0.571429\n",
       "75%          0.633484\n",
       "max          1.000000\n",
       "Name: living_to_total, dtype: float64"
      ]
     },
     "execution_count": 30,
     "metadata": {},
     "output_type": "execute_result"
    }
   ],
   "source": [
    "df['living_to_total'].describe()"
   ]
  },
  {
   "cell_type": "code",
   "execution_count": 31,
   "metadata": {},
   "outputs": [],
   "source": [
    "#создаем функцию для создания групп согласно соотношению жилой и общей площади\n",
    "def f2(rel):\n",
    "    if rel<=0.49:\n",
    "        return 'наиболее просторные'\n",
    "    elif 0.57>=rel>0.49:\n",
    "        return 'просторные'\n",
    "    elif 0.63>=rel>0.57:\n",
    "        return 'средние'\n",
    "    else:\n",
    "        return 'компактные'\n",
    "df['group_relation']=df['living_to_total'].apply(f2)"
   ]
  },
  {
   "cell_type": "code",
   "execution_count": 32,
   "metadata": {},
   "outputs": [],
   "source": [
    "#Рассчитываем нежилую площадь и соотношение площади кухни к общей нежилой площади.\n",
    "df['not_living_area']=df['total_area']-df['living_area']\n",
    "df['kitchen_share']=df['kitchen_area']/df['not_living_area']\n",
    "#Заполняем пропуски в соотношении лощади кухни к общей нежилой площади.\n",
    "df['kitchen_share'] = df['kitchen_share'].fillna(df.groupby('group_relation')['kitchen_share'].transform('median'))"
   ]
  },
  {
   "cell_type": "code",
   "execution_count": 33,
   "metadata": {},
   "outputs": [
    {
     "data": {
      "text/plain": [
       "0"
      ]
     },
     "execution_count": 33,
     "metadata": {},
     "output_type": "execute_result"
    }
   ],
   "source": [
    "#Заполняем пропуски в площади кухни\n",
    "df['kitchen_area'] = df['kitchen_area'].fillna(df['kitchen_share']*df['not_living_area'])\n",
    "df['kitchen_area'].isnull().sum()"
   ]
  },
  {
   "cell_type": "markdown",
   "metadata": {},
   "source": [
    "- **'days_exposition'**"
   ]
  },
  {
   "cell_type": "markdown",
   "metadata": {},
   "source": [
    "Процент пропусков по данной переменной составляет около 13%, что является достаточно высоким показателем. Пропущенные значения можно заменить медианой, которая менее подвержена влиянию аномальных значений, в отличие от среднего."
   ]
  },
  {
   "cell_type": "code",
   "execution_count": 34,
   "metadata": {},
   "outputs": [
    {
     "data": {
      "text/plain": [
       "0"
      ]
     },
     "execution_count": 34,
     "metadata": {},
     "output_type": "execute_result"
    }
   ],
   "source": [
    "df['days_exposition'] = df['days_exposition'].fillna(df['days_exposition'].median())\n",
    "df['days_exposition'].isnull().sum()"
   ]
  },
  {
   "cell_type": "markdown",
   "metadata": {},
   "source": [
    "<a id=\"step2-2\"></a> \n",
    "### Замена типа данных"
   ]
  },
  {
   "cell_type": "code",
   "execution_count": 35,
   "metadata": {},
   "outputs": [],
   "source": [
    "#Замена типа данных на целочисленный методом astype()-используем 'Int64' вместо 'int64', т.к. в некоторых переменных есть пропуски\n",
    "df[['last_price','floors_total','balcony','airports_nearest',\n",
    "   'cityCenters_nearest','parks_around3000','parks_nearest',\n",
    "  'ponds_around3000','ponds_nearest']]=df[['last_price','floors_total','balcony','airports_nearest',\n",
    "   'cityCenters_nearest','parks_around3000','parks_nearest',\n",
    "  'ponds_around3000','ponds_nearest']].astype('Int64')\n",
    "df['days_exposition']= pd.to_numeric(df['days_exposition'].round(), errors='coerce').astype('Int64')"
   ]
  },
  {
   "cell_type": "code",
   "execution_count": 36,
   "metadata": {},
   "outputs": [],
   "source": [
    "#замена типа данных даты публикации на формат даты\n",
    "df['first_day_exposition'] = pd.to_datetime(df['first_day_exposition'], format='%Y-%m-%dT%H:%M:%S')"
   ]
  },
  {
   "cell_type": "code",
   "execution_count": 37,
   "metadata": {},
   "outputs": [
    {
     "name": "stdout",
     "output_type": "stream",
     "text": [
      "<class 'pandas.core.frame.DataFrame'>\n",
      "RangeIndex: 23699 entries, 0 to 23698\n",
      "Data columns (total 27 columns):\n",
      "total_images            23699 non-null int64\n",
      "last_price              23699 non-null Int64\n",
      "total_area              23699 non-null float64\n",
      "first_day_exposition    23699 non-null datetime64[ns]\n",
      "rooms                   23699 non-null int64\n",
      "ceiling_height          23699 non-null float64\n",
      "floors_total            23613 non-null Int64\n",
      "living_area             23699 non-null float64\n",
      "floor                   23699 non-null int64\n",
      "is_apartment            23699 non-null bool\n",
      "studio                  23699 non-null bool\n",
      "open_plan               23699 non-null bool\n",
      "kitchen_area            23699 non-null float64\n",
      "balcony                 23699 non-null Int64\n",
      "locality_name           23650 non-null object\n",
      "airports_nearest        18157 non-null Int64\n",
      "cityCenters_nearest     18180 non-null Int64\n",
      "parks_around3000        18181 non-null Int64\n",
      "parks_nearest           8079 non-null Int64\n",
      "ponds_around3000        18181 non-null Int64\n",
      "ponds_nearest           9110 non-null Int64\n",
      "days_exposition         23699 non-null Int64\n",
      "floors_group            23699 non-null object\n",
      "living_to_total         23699 non-null float64\n",
      "group_relation          23699 non-null object\n",
      "not_living_area         23699 non-null float64\n",
      "kitchen_share           23699 non-null float64\n",
      "dtypes: Int64(10), bool(3), datetime64[ns](1), float64(7), int64(3), object(3)\n",
      "memory usage: 4.6+ MB\n"
     ]
    }
   ],
   "source": [
    "df.info()"
   ]
  },
  {
   "cell_type": "markdown",
   "metadata": {},
   "source": [
    "<a id=\"step2-3\"></a> \n",
    "### Проверка наличия дубликатов"
   ]
  },
  {
   "cell_type": "code",
   "execution_count": 38,
   "metadata": {},
   "outputs": [
    {
     "data": {
      "text/plain": [
       "0"
      ]
     },
     "execution_count": 38,
     "metadata": {},
     "output_type": "execute_result"
    }
   ],
   "source": [
    "df.duplicated().sum()"
   ]
  },
  {
   "cell_type": "markdown",
   "metadata": {},
   "source": [
    "Дублирующие строки в данных отсутствуют."
   ]
  },
  {
   "cell_type": "markdown",
   "metadata": {},
   "source": [
    "### Вывод\n",
    "\n",
    "На этапе предобработки данных мы заполнили пропуски в перменных *'ceiling_height', 'living_area', 'kitchen_area','balcony','is_appetment'*. Также убрали аномальные значения в  *'floors_total'* , заменили тип данных в переменных, где это было необходимо, и проверили наличие дублирующих строк."
   ]
  },
  {
   "cell_type": "markdown",
   "metadata": {},
   "source": [
    "<a id=\"step3\"></a> \n",
    "## Шаг 3. Создание новых переменных"
   ]
  },
  {
   "cell_type": "markdown",
   "metadata": {},
   "source": [
    "- ***цена квадратного метра***"
   ]
  },
  {
   "cell_type": "code",
   "execution_count": 39,
   "metadata": {},
   "outputs": [],
   "source": [
    "df['price_for_m2']=df['last_price']/df['total_area']"
   ]
  },
  {
   "cell_type": "markdown",
   "metadata": {},
   "source": [
    "- ***день недели, месяц и год публикации объявления***"
   ]
  },
  {
   "cell_type": "code",
   "execution_count": 40,
   "metadata": {},
   "outputs": [],
   "source": [
    "#день недели\n",
    "df['weekday'] = df['first_day_exposition'].dt.weekday\n",
    "#месяц\n",
    "df['month'] = df['first_day_exposition'].dt.month\n",
    "#год\n",
    "df['year'] = df['first_day_exposition'].dt.year"
   ]
  },
  {
   "cell_type": "markdown",
   "metadata": {},
   "source": [
    "- ***этаж квартиры; варианты — первый, последний, другой***"
   ]
  },
  {
   "cell_type": "code",
   "execution_count": 41,
   "metadata": {},
   "outputs": [],
   "source": [
    "def f3(floor, total_floor):\n",
    "    if floor==1:\n",
    "        return 'первый'\n",
    "    elif floor==total_floor:\n",
    "        return 'последний'\n",
    "    else:\n",
    "        return 'другой'    "
   ]
  },
  {
   "cell_type": "code",
   "execution_count": 42,
   "metadata": {},
   "outputs": [
    {
     "data": {
      "text/plain": [
       "другой       17446\n",
       "последний     3336\n",
       "первый        2917\n",
       "Name: id_floor, dtype: int64"
      ]
     },
     "execution_count": 42,
     "metadata": {},
     "output_type": "execute_result"
    }
   ],
   "source": [
    "df['id_floor'] = np.vectorize(f3)(df['floor'],df['floors_total'])\n",
    "df['id_floor'].value_counts()"
   ]
  },
  {
   "cell_type": "markdown",
   "metadata": {},
   "source": [
    "- ***соотношение жилой и общей площади, отношение площади кухни к общей***"
   ]
  },
  {
   "cell_type": "markdown",
   "metadata": {},
   "source": [
    "Соотношение жилой и общей площади было подсчитано на этапе предобработки данных и сохранено в переменной *'living_to_total'*."
   ]
  },
  {
   "cell_type": "code",
   "execution_count": 43,
   "metadata": {},
   "outputs": [],
   "source": [
    "#отношение площади кухни к общей\n",
    "df['kitchen_to_total']=df['kitchen_area']/df['total_area']"
   ]
  },
  {
   "cell_type": "markdown",
   "metadata": {},
   "source": [
    "### Вывод\n",
    "На данном этапе мы добавили ряд параметров, характеризующиъ недвижимость, которые пригодятся нам в дальнейшем для оценки и анлиза данных объявлений о продажи квартир в СПб и ЛО."
   ]
  },
  {
   "cell_type": "markdown",
   "metadata": {},
   "source": [
    "<a id=\"step4\"></a> \n",
    "## Шаг 4. Исследовательский анализ"
   ]
  },
  {
   "cell_type": "markdown",
   "metadata": {},
   "source": [
    "- ***Площадь***"
   ]
  },
  {
   "cell_type": "markdown",
   "metadata": {},
   "source": [
    "Согласно гистограмме, представленной выше, мы видим, что наблюдений с площадью более 400 квадратных метров крайне мало. Скорее всего они являются выбросами, изучим переменную  'total_area' более детально."
   ]
  },
  {
   "cell_type": "code",
   "execution_count": 44,
   "metadata": {},
   "outputs": [
    {
     "data": {
      "text/plain": [
       "count    23699.000000\n",
       "mean        60.348651\n",
       "std         35.654083\n",
       "min         12.000000\n",
       "25%         40.000000\n",
       "50%         52.000000\n",
       "75%         69.900000\n",
       "max        900.000000\n",
       "Name: total_area, dtype: float64"
      ]
     },
     "execution_count": 44,
     "metadata": {},
     "output_type": "execute_result"
    }
   ],
   "source": [
    "df['total_area'].describe()"
   ]
  },
  {
   "cell_type": "code",
   "execution_count": 45,
   "metadata": {
    "scrolled": true
   },
   "outputs": [
    {
     "data": {
      "image/png": "[encoded data removed]",
      "text/plain": [
       "<Figure size 432x288 with 1 Axes>"
      ]
     },
     "metadata": {
      "needs_background": "light"
     },
     "output_type": "display_data"
    }
   ],
   "source": [
    "plt.title('Диаграмма рассеяния переменной площади квартиры')\n",
    "df.boxplot(column='total_area', vert=False)\n",
    "plt.show()"
   ]
  },
  {
   "cell_type": "markdown",
   "metadata": {},
   "source": [
    "На этапе предобработки данных мы изучили минимальное и максимальное значения площади квартир, и пришли к выводу о том, что такие значения могут соответствовать действительности. Однако, если мы рассмотрим диаграмму размаха, то увидим большое число выбросов, которые могут повлиять на общие выводы. \n",
    "\n",
    "Рассчитаем границу, определяющую выбросы, используя значения межквартильного размаха, первого и третьего квартиля."
   ]
  },
  {
   "cell_type": "code",
   "execution_count": 46,
   "metadata": {},
   "outputs": [
    {
     "data": {
      "text/plain": [
       "114.75000000000001"
      ]
     },
     "execution_count": 46,
     "metadata": {},
     "output_type": "execute_result"
    }
   ],
   "source": [
    "(69.9-40.000)*1.5+69.9\n"
   ]
  },
  {
   "cell_type": "code",
   "execution_count": 47,
   "metadata": {},
   "outputs": [
    {
     "data": {
      "text/plain": [
       "0.052322882822060005"
      ]
     },
     "execution_count": 47,
     "metadata": {},
     "output_type": "execute_result"
    }
   ],
   "source": [
    "#подсчитаем процент аномальных значений\n",
    "len(df.query('total_area>114.75'))/len(df)"
   ]
  },
  {
   "cell_type": "markdown",
   "metadata": {},
   "source": [
    "Все квартиры с площадью более 114.75 квадратных метров (около 5% значений) в данной выборке рассматриваются как выбросы. В данном случае нам следует исключить аномальные поскольку, квартиры с большей площадью зачастую представляют жилье бизнес-класса, который представляет отдельный сегмент рынка недвижимости и может исказить результаты общего анализа.\n"
   ]
  },
  {
   "cell_type": "code",
   "execution_count": 48,
   "metadata": {},
   "outputs": [
    {
     "data": {
      "image/png": "[encoded data removed]",
      "text/plain": [
       "<Figure size 432x288 with 1 Axes>"
      ]
     },
     "metadata": {
      "needs_background": "light"
     },
     "output_type": "display_data"
    },
    {
     "data": {
      "image/png": "[encoded data removed]",
      "text/plain": [
       "<Figure size 432x288 with 1 Axes>"
      ]
     },
     "metadata": {
      "needs_background": "light"
     },
     "output_type": "display_data"
    }
   ],
   "source": [
    "df['total_area'].hist()\n",
    "plt.title('Гистограмма площади квартиры до обработки')\n",
    "plt.xlabel('Общая площадь квартиры')\n",
    "plt.ylabel('Количество объявлений')\n",
    "plt.show()\n",
    "\n",
    "df_area=df.query('total_area<=114.75')\n",
    "df_area['total_area'].hist()\n",
    "plt.title('Гистограмма площади квартиры после исключения выбросов')\n",
    "plt.xlabel('Общая площадь квартиры')\n",
    "plt.ylabel('Количество объявлений')\n",
    "plt.show()"
   ]
  },
  {
   "cell_type": "markdown",
   "metadata": {},
   "source": [
    "После удаления аномальных значений гистограмма площади квартиры стала более напоминать нормальное распределение Гаусса."
   ]
  },
  {
   "cell_type": "markdown",
   "metadata": {},
   "source": [
    "- ***Цена***"
   ]
  },
  {
   "cell_type": "code",
   "execution_count": 49,
   "metadata": {},
   "outputs": [
    {
     "data": {
      "text/plain": [
       "count    2.369900e+04\n",
       "mean     6.541549e+06\n",
       "std      1.088701e+07\n",
       "min      1.219000e+04\n",
       "25%      3.400000e+06\n",
       "50%      4.650000e+06\n",
       "75%      6.800000e+06\n",
       "max      7.630000e+08\n",
       "Name: last_price, dtype: float64"
      ]
     },
     "execution_count": 49,
     "metadata": {},
     "output_type": "execute_result"
    }
   ],
   "source": [
    "df['last_price'].describe()"
   ]
  },
  {
   "cell_type": "code",
   "execution_count": 50,
   "metadata": {},
   "outputs": [
    {
     "data": {
      "image/png": "[encoded data removed]",
      "text/plain": [
       "<Figure size 432x288 with 1 Axes>"
      ]
     },
     "metadata": {
      "needs_background": "light"
     },
     "output_type": "display_data"
    }
   ],
   "source": [
    "df.boxplot(column='last_price', vert=False)\n",
    "plt.title('Диаграмма рассеяния переменной цены квартиры')\n",
    "plt.show()"
   ]
  },
  {
   "cell_type": "markdown",
   "metadata": {},
   "source": [
    "На диаграмме рассеяния мы видим большое количество выбросов по переменной цены. Рассчитаем границу, после которой значения приравниваются к аномальным."
   ]
  },
  {
   "cell_type": "code",
   "execution_count": 51,
   "metadata": {},
   "outputs": [
    {
     "data": {
      "text/plain": [
       "11900000.0"
      ]
     },
     "execution_count": 51,
     "metadata": {},
     "output_type": "execute_result"
    }
   ],
   "source": [
    "(6.800000e+06-3.400000e+06)*1.5+6.800000e+06"
   ]
  },
  {
   "cell_type": "code",
   "execution_count": 52,
   "metadata": {},
   "outputs": [
    {
     "data": {
      "text/plain": [
       "0.08582640617747585"
      ]
     },
     "execution_count": 52,
     "metadata": {},
     "output_type": "execute_result"
    }
   ],
   "source": [
    "len(df.query('last_price > 11900000'))/len(df)"
   ]
  },
  {
   "cell_type": "markdown",
   "metadata": {},
   "source": [
    "Аномальные значения составляют около 8.6% выборки. Квартиры с аномально высокими ценами могут также представлять недвижимость бизнес класса, соответсвенно по аналогии с переменной площади, мы удалим данные выбивающиеся значения."
   ]
  },
  {
   "cell_type": "code",
   "execution_count": 53,
   "metadata": {},
   "outputs": [
    {
     "data": {
      "image/png": "[encoded data removed]",
      "text/plain": [
       "<Figure size 432x288 with 1 Axes>"
      ]
     },
     "metadata": {
      "needs_background": "light"
     },
     "output_type": "display_data"
    },
    {
     "data": {
      "image/png": "[encoded data removed]",
      "text/plain": [
       "<Figure size 432x288 with 1 Axes>"
      ]
     },
     "metadata": {
      "needs_background": "light"
     },
     "output_type": "display_data"
    }
   ],
   "source": [
    "df['last_price'].hist()\n",
    "plt.title('Гистограмма цены квартиры до обработки')\n",
    "plt.xlabel('Цена квартиры')\n",
    "plt.ylabel('Количество объявлений')\n",
    "plt.show()\n",
    "\n",
    "df_price=df.query('last_price <= 11900000')\n",
    "df_price['last_price'].hist()\n",
    "plt.title('Гистограмма цены квартиры после исключения выбросов')\n",
    "plt.xlabel('Цена квартиры')\n",
    "plt.ylabel('Количество объявлений')\n",
    "plt.show()"
   ]
  },
  {
   "cell_type": "markdown",
   "metadata": {},
   "source": [
    "После удаления аномальных значений распределение цены квартиры стало ближе к нормальному распределению Гаусса."
   ]
  },
  {
   "cell_type": "markdown",
   "metadata": {},
   "source": [
    "- ***Число комнат***"
   ]
  },
  {
   "cell_type": "code",
   "execution_count": 54,
   "metadata": {},
   "outputs": [
    {
     "data": {
      "text/plain": [
       "count    23699.000000\n",
       "mean         2.070636\n",
       "std          1.078405\n",
       "min          0.000000\n",
       "25%          1.000000\n",
       "50%          2.000000\n",
       "75%          3.000000\n",
       "max         19.000000\n",
       "Name: rooms, dtype: float64"
      ]
     },
     "execution_count": 54,
     "metadata": {},
     "output_type": "execute_result"
    }
   ],
   "source": [
    "df['rooms'].describe()"
   ]
  },
  {
   "cell_type": "markdown",
   "metadata": {},
   "source": [
    "На этапе предобработки данных мы объяснили почему число комнат может принимать нулевое значение. Теперь рассмотрим аномально большое чило комнат. Для начала построим диаграмму рассеяния."
   ]
  },
  {
   "cell_type": "code",
   "execution_count": 55,
   "metadata": {},
   "outputs": [
    {
     "data": {
      "image/png": "[encoded data removed]",
      "text/plain": [
       "<Figure size 432x288 with 1 Axes>"
      ]
     },
     "metadata": {
      "needs_background": "light"
     },
     "output_type": "display_data"
    }
   ],
   "source": [
    "df.boxplot(column='rooms', vert=False)\n",
    "plt.title('Диаграмма рассеяния количества комнат')\n",
    "plt.show()"
   ]
  },
  {
   "cell_type": "markdown",
   "metadata": {},
   "source": [
    "Рассчитаем границу, после которой значения будут считаться выбросами."
   ]
  },
  {
   "cell_type": "code",
   "execution_count": 56,
   "metadata": {},
   "outputs": [
    {
     "data": {
      "text/plain": [
       "6.0"
      ]
     },
     "execution_count": 56,
     "metadata": {},
     "output_type": "execute_result"
    }
   ],
   "source": [
    "(3-1)*1.5+3"
   ]
  },
  {
   "cell_type": "code",
   "execution_count": 57,
   "metadata": {},
   "outputs": [
    {
     "data": {
      "text/plain": [
       "0.00379762859192371"
      ]
     },
     "execution_count": 57,
     "metadata": {},
     "output_type": "execute_result"
    }
   ],
   "source": [
    "len(df.query('rooms > 6'))/len(df)"
   ]
  },
  {
   "cell_type": "markdown",
   "metadata": {},
   "source": [
    "Квартиры с количеством комнат более 6 считаются выбросами. Доля таких выбросов составляет около 0.3% от всей выборки, поэтому мы можем исключить данные значения без искажения резултатов анализа в дальнейшем."
   ]
  },
  {
   "cell_type": "code",
   "execution_count": 58,
   "metadata": {},
   "outputs": [
    {
     "data": {
      "image/png": "[encoded data removed]",
      "text/plain": [
       "<Figure size 432x288 with 1 Axes>"
      ]
     },
     "metadata": {
      "needs_background": "light"
     },
     "output_type": "display_data"
    }
   ],
   "source": [
    "df_rooms=df.query('rooms<=6')\n",
    "df_rooms.boxplot(column='rooms')\n",
    "plt.title('Диаграмма рассеяния количества \\n комнат после удаления выбросов')\n",
    "plt.show()"
   ]
  },
  {
   "cell_type": "markdown",
   "metadata": {},
   "source": [
    "После удаления аномальных значений, выбросов на диаграмме рассеяния не осталось."
   ]
  },
  {
   "cell_type": "code",
   "execution_count": 59,
   "metadata": {
    "scrolled": true
   },
   "outputs": [
    {
     "data": {
      "image/png": "[encoded data removed]",
      "text/plain": [
       "<Figure size 432x288 with 1 Axes>"
      ]
     },
     "metadata": {
      "needs_background": "light"
     },
     "output_type": "display_data"
    },
    {
     "data": {
      "image/png": "[encoded data removed]",
      "text/plain": [
       "<Figure size 432x288 with 1 Axes>"
      ]
     },
     "metadata": {
      "needs_background": "light"
     },
     "output_type": "display_data"
    }
   ],
   "source": [
    "df['rooms'].hist()\n",
    "plt.title('Гистограмма  количества комнат до обработки')\n",
    "plt.xlabel('Количество комнат')\n",
    "plt.ylabel('Количество объявлений')\n",
    "plt.show()\n",
    "\n",
    "\n",
    "\n",
    "df_rooms['rooms'].hist()\n",
    "plt.title('Гистограмма количества комнат \\n после исключения выбросов')\n",
    "plt.xlabel('Количество комнат')\n",
    "plt.ylabel('Количество объявлений')\n",
    "plt.show()"
   ]
  },
  {
   "cell_type": "markdown",
   "metadata": {},
   "source": [
    "- ***Высота потолков***"
   ]
  },
  {
   "cell_type": "code",
   "execution_count": 60,
   "metadata": {},
   "outputs": [
    {
     "data": {
      "image/png": "[encoded data removed]",
      "text/plain": [
       "<Figure size 432x288 with 1 Axes>"
      ]
     },
     "metadata": {
      "needs_background": "light"
     },
     "output_type": "display_data"
    }
   ],
   "source": [
    "an=df['ceiling_height'].hist(bins=50)\n",
    "plt.title('Гистограмма высоты потолков до обработки значений')\n",
    "plt.xlabel('Высота потолков')\n",
    "plt.ylabel('Количество объявлений')\n",
    "plt.show()"
   ]
  },
  {
   "cell_type": "markdown",
   "metadata": {},
   "source": [
    "На гистограмме мы видим что у большинства квартир высота потолков приблизительно не более 5м, остальные значения почти не встречаются."
   ]
  },
  {
   "cell_type": "code",
   "execution_count": 61,
   "metadata": {},
   "outputs": [
    {
     "data": {
      "text/plain": [
       "count    23699.000000\n",
       "mean         2.726239\n",
       "std          0.988979\n",
       "min          1.000000\n",
       "25%          2.600000\n",
       "50%          2.600000\n",
       "75%          2.750000\n",
       "max        100.000000\n",
       "Name: ceiling_height, dtype: float64"
      ]
     },
     "execution_count": 61,
     "metadata": {},
     "output_type": "execute_result"
    }
   ],
   "source": [
    "df['ceiling_height'].describe()"
   ]
  },
  {
   "cell_type": "markdown",
   "metadata": {},
   "source": [
    "Из описателньой статистики мы видим, что минимальное значение - 1м, что не может соответствовать действительности. Согласно нормам жилых помещений, высота потолков не может составлять менее 2,5м - прмем данную величину за минимально допустимое значение и заменим все значения меньше на 2.5 м. Максимальное значение в 100 метров также маловероятно, определи верхнюю границу выбросов."
   ]
  },
  {
   "cell_type": "code",
   "execution_count": 62,
   "metadata": {},
   "outputs": [
    {
     "data": {
      "text/plain": [
       "2.9749999999999996"
      ]
     },
     "execution_count": 62,
     "metadata": {},
     "output_type": "execute_result"
    }
   ],
   "source": [
    "(2.75-2.6)*1.5+2.75"
   ]
  },
  {
   "cell_type": "code",
   "execution_count": 63,
   "metadata": {},
   "outputs": [
    {
     "data": {
      "text/plain": [
       "0.06759778893624202"
      ]
     },
     "execution_count": 63,
     "metadata": {},
     "output_type": "execute_result"
    }
   ],
   "source": [
    "1-len(df.query('3>=ceiling_height>=2.5'))/len(df)"
   ]
  },
  {
   "cell_type": "markdown",
   "metadata": {},
   "source": [
    "Около 6.8% аномальных значений - заменим их на медиану, так как высота потолков величина относительно стандартная и имеет меньший размах."
   ]
  },
  {
   "cell_type": "code",
   "execution_count": 64,
   "metadata": {},
   "outputs": [],
   "source": [
    "df.loc[df['ceiling_height'] > 3 , 'ceiling_height'] = df['ceiling_height'].median()\n",
    "df.loc[df['ceiling_height'] <2.5 , 'ceiling_height'] = df['ceiling_height'].median()"
   ]
  },
  {
   "cell_type": "code",
   "execution_count": 65,
   "metadata": {},
   "outputs": [
    {
     "data": {
      "image/png": "[encoded data removed]",
      "text/plain": [
       "<Figure size 432x288 with 1 Axes>"
      ]
     },
     "metadata": {
      "needs_background": "light"
     },
     "output_type": "display_data"
    }
   ],
   "source": [
    "b=df['ceiling_height'].hist()\n",
    "plt.title('Гистограмма высоты потолков \\n после обработки выбросов')\n",
    "plt.xlabel('Высота потолков')\n",
    "plt.ylabel('Количество объявлений')\n",
    "plt.show()"
   ]
  },
  {
   "cell_type": "markdown",
   "metadata": {},
   "source": [
    "- ***время продажи квартиры***"
   ]
  },
  {
   "cell_type": "code",
   "execution_count": 66,
   "metadata": {},
   "outputs": [
    {
     "data": {
      "image/png": "[encoded data removed]",
      "text/plain": [
       "<Figure size 432x288 with 1 Axes>"
      ]
     },
     "metadata": {
      "needs_background": "light"
     },
     "output_type": "display_data"
    }
   ],
   "source": [
    "df['days_exposition'].hist()\n",
    "plt.title('Гистограмма времени продажи квартиры')\n",
    "plt.xlabel('Длительность публикации объявления в днях')\n",
    "plt.ylabel('Количество объявлений')\n",
    "plt.show()\n"
   ]
  },
  {
   "cell_type": "markdown",
   "metadata": {},
   "source": [
    "Согласно гистограмме, большинство объявлений из выборки снимается не позднее чем через 230 дней. Крайне малое количество объявлений снимается с публикации после 800 дней и более. Изучим данную величину более подробно, расммотрев среднее значение и медиану."
   ]
  },
  {
   "cell_type": "code",
   "execution_count": 67,
   "metadata": {},
   "outputs": [
    {
     "data": {
      "text/plain": [
       "count    23699.000000\n",
       "mean       169.360226\n",
       "std        206.535633\n",
       "min          1.000000\n",
       "25%         45.000000\n",
       "50%         95.000000\n",
       "75%        199.000000\n",
       "max       1580.000000\n",
       "Name: days_exposition, dtype: float64"
      ]
     },
     "execution_count": 67,
     "metadata": {},
     "output_type": "execute_result"
    }
   ],
   "source": [
    "df['days_exposition'].describe()"
   ]
  },
  {
   "cell_type": "markdown",
   "metadata": {},
   "source": [
    "Три четверти объявлений о продажи квартир снимается не позднее чем через 199 дней, что составляет примерно 6.6 месяцев, при этом половина квартир продается не более чем за 45 дней. Однако, необходимо отметить, что медиана времени продажи квартиры почти в два раза меньше среднего значения, а также можно заметить большое стандартное отклонение. Все это свидетельствует о наличии аномальных значений по данной переменной. Проверим их наличие на диаграмме рассеяния."
   ]
  },
  {
   "cell_type": "code",
   "execution_count": 68,
   "metadata": {},
   "outputs": [
    {
     "data": {
      "image/png": "[encoded data removed]",
      "text/plain": [
       "<Figure size 432x288 with 1 Axes>"
      ]
     },
     "metadata": {
      "needs_background": "light"
     },
     "output_type": "display_data"
    }
   ],
   "source": [
    "df.boxplot(column='days_exposition', vert=False)\n",
    "plt.title('Диаграмма рассеяния длительности публикации')\n",
    "plt.show()"
   ]
  },
  {
   "cell_type": "code",
   "execution_count": 69,
   "metadata": {},
   "outputs": [
    {
     "data": {
      "text/plain": [
       "430.0"
      ]
     },
     "execution_count": 69,
     "metadata": {},
     "output_type": "execute_result"
    }
   ],
   "source": [
    "#подсчитаем верхнюю границу правого \"уса\" ящика\n",
    "(199-45)*1.5+199\n"
   ]
  },
  {
   "cell_type": "markdown",
   "metadata": {},
   "source": [
    "Квартиры, продающиеся дольше 430 дней (или 1 год и 2 месяца)  являются аномальными значениями в данной выборке. Данный факт весьма может соответствовать действительности, так как квартира, с которой все в порядке, навряд ли будет продаваться более 1 года. \n",
    "\n",
    "Также стоит рассмотреть и минимальный срок продажи квартиры. Учитывая, что покупка квартиры это весьма крупная и серьезная сделка, маловероятно, что, например,меньше чем за 2 недели удастся продать недвижимость, так как покупателям необходимо больше времени, чтобы удостовериться в добросовестности продавца, запросив у него определенные документы, или же согласовать с банком ипотеку на приобретение данной квартиры. Более того, продажа квартиры может являться не прямой, то есть продавец так же находится в поиске новой недвижимости для себя, и сделка состоится только в случае, когда успешно реализуется вся цепочка купле-продаж жилья. На основе этого проведем условную минимальную границу срока размещения объявления в 2 недели или 14 дней, будем считать что это минимальный срок продажи квартиры с учетом того, что для этого сложись все благоприятные условия. Объявления, которые были размещены менее трех недель, будем считать подозрительными и возможно связанными с мошенническими операциями, а значит также причислим их к аномальным значениям.  "
   ]
  },
  {
   "cell_type": "code",
   "execution_count": 70,
   "metadata": {},
   "outputs": [
    {
     "data": {
      "text/plain": [
       "0.16675809105869446"
      ]
     },
     "execution_count": 70,
     "metadata": {},
     "output_type": "execute_result"
    }
   ],
   "source": [
    "len(df.query('days_exposition<14 or days_exposition>430'))/len(df)"
   ]
  },
  {
   "cell_type": "code",
   "execution_count": 71,
   "metadata": {},
   "outputs": [],
   "source": [
    "df_days=df.query('430>=days_exposition>=14')"
   ]
  },
  {
   "cell_type": "markdown",
   "metadata": {},
   "source": [
    "Не смотря на то, что установленные нами ограничения, исключили около 16% выборки, мы удалили значения, которые с малой вероятностью могли отражать сроки продажи квартиры на реальном рынке недвижимсоти."
   ]
  },
  {
   "cell_type": "markdown",
   "metadata": {},
   "source": [
    "***Создадим выборку на основе обработки аномальных значений всех рассмотренных переменных.***"
   ]
  },
  {
   "cell_type": "code",
   "execution_count": 72,
   "metadata": {},
   "outputs": [
    {
     "data": {
      "text/plain": [
       "0.2419089413055403"
      ]
     },
     "execution_count": 72,
     "metadata": {},
     "output_type": "execute_result"
    }
   ],
   "source": [
    "df_new=df.query('430>=days_exposition>=14 and rooms<=6 and last_price <= 11900000 and total_area<=114.75')\n",
    "\n",
    "1-len(df_new)/len(df)"
   ]
  },
  {
   "cell_type": "markdown",
   "metadata": {},
   "source": [
    "### Вывод"
   ]
  },
  {
   "cell_type": "markdown",
   "metadata": {},
   "source": [
    "После обработки аномальных значений, мы удалили около 24% значений всей выборки. Несмотря на это, объем выборки по прежнему остается достаточно большим для проведения дальнейшего анализа, при этом нам удалось избавиться от значений, которые маловероятно могли соответствовать действительности рынка недвижимости и при этом способоствовать искажению результатов исследования."
   ]
  },
  {
   "cell_type": "markdown",
   "metadata": {},
   "source": [
    "### Зависит ли цена от квадратного метра, числа комнат, этажа (первого или последнего), удалённости от центра?"
   ]
  },
  {
   "cell_type": "code",
   "execution_count": 73,
   "metadata": {},
   "outputs": [
    {
     "data": {
      "text/html": [
       "<div>\n",
       "<style scoped>\n",
       "    .dataframe tbody tr th:only-of-type {\n",
       "        vertical-align: middle;\n",
       "    }\n",
       "\n",
       "    .dataframe tbody tr th {\n",
       "        vertical-align: top;\n",
       "    }\n",
       "\n",
       "    .dataframe thead th {\n",
       "        text-align: right;\n",
       "    }\n",
       "</style>\n",
       "<table border=\"1\" class=\"dataframe\">\n",
       "  <thead>\n",
       "    <tr style=\"text-align: right;\">\n",
       "      <th></th>\n",
       "      <th>last_price</th>\n",
       "      <th>total_area</th>\n",
       "      <th>rooms</th>\n",
       "      <th>cityCenters_nearest</th>\n",
       "    </tr>\n",
       "  </thead>\n",
       "  <tbody>\n",
       "    <tr>\n",
       "      <td>last_price</td>\n",
       "      <td>1.000000</td>\n",
       "      <td>0.693895</td>\n",
       "      <td>0.430784</td>\n",
       "      <td>-0.341022</td>\n",
       "    </tr>\n",
       "    <tr>\n",
       "      <td>total_area</td>\n",
       "      <td>0.693895</td>\n",
       "      <td>1.000000</td>\n",
       "      <td>0.803201</td>\n",
       "      <td>-0.116971</td>\n",
       "    </tr>\n",
       "    <tr>\n",
       "      <td>rooms</td>\n",
       "      <td>0.430784</td>\n",
       "      <td>0.803201</td>\n",
       "      <td>1.000000</td>\n",
       "      <td>-0.068623</td>\n",
       "    </tr>\n",
       "    <tr>\n",
       "      <td>cityCenters_nearest</td>\n",
       "      <td>-0.341022</td>\n",
       "      <td>-0.116971</td>\n",
       "      <td>-0.068623</td>\n",
       "      <td>1.000000</td>\n",
       "    </tr>\n",
       "  </tbody>\n",
       "</table>\n",
       "</div>"
      ],
      "text/plain": [
       "                     last_price  total_area     rooms  cityCenters_nearest\n",
       "last_price             1.000000    0.693895  0.430784            -0.341022\n",
       "total_area             0.693895    1.000000  0.803201            -0.116971\n",
       "rooms                  0.430784    0.803201  1.000000            -0.068623\n",
       "cityCenters_nearest   -0.341022   -0.116971 -0.068623             1.000000"
      ]
     },
     "execution_count": 73,
     "metadata": {},
     "output_type": "execute_result"
    }
   ],
   "source": [
    "#Рассчитаем коэффициент корелляции Пирсона\n",
    "df_new[['last_price','total_area','rooms','cityCenters_nearest']].corr(method='pearson')"
   ]
  },
  {
   "cell_type": "markdown",
   "metadata": {},
   "source": [
    "Основываясь на коэффициентах корреляции можно сделать следующие выводы: \n",
    "- в первую очередь на цену квартиры влияет её площадь (высокая сила связи)\n",
    "- далее цену квартиры определяет количество комнат, однако со значительно меньшим влиянием (слабая сила связи)\n",
    "- еще меньше влияет расстояние до центра (сила связи слабая, отрицательный знак говорит об обратном характере взаимосвязи)"
   ]
  },
  {
   "cell_type": "markdown",
   "metadata": {},
   "source": [
    "Далее рассмотрим взаимосвязь цены и различных параметров, используя графические методы."
   ]
  },
  {
   "cell_type": "code",
   "execution_count": 74,
   "metadata": {},
   "outputs": [
    {
     "data": {
      "image/png": "[encoded data removed]",
      "text/plain": [
       "<Figure size 432x288 with 1 Axes>"
      ]
     },
     "metadata": {
      "needs_background": "light"
     },
     "output_type": "display_data"
    }
   ],
   "source": [
    "df_new.plot(x='total_area', y='last_price', kind='scatter', alpha=0.2) \n",
    "plt.ylabel('Цена квартиры')\n",
    "plt.xlabel('Общая площадь квартиры')\n",
    "plt.title('Зависимость цены квартиры от её площади')\n",
    "plt.show()"
   ]
  },
  {
   "cell_type": "markdown",
   "metadata": {},
   "source": [
    "На графике мы видим, что с увеличением площади одновременно растет цена. Данная зависимость весьма ожидаема. Ее подтверждает и коэффициент корреляции 0.69 - который свидетельствует о высокой силе взаимосвязи."
   ]
  },
  {
   "cell_type": "code",
   "execution_count": 75,
   "metadata": {},
   "outputs": [
    {
     "data": {
      "image/png": "[encoded data removed]",
      "text/plain": [
       "<Figure size 432x288 with 1 Axes>"
      ]
     },
     "metadata": {
      "needs_background": "light"
     },
     "output_type": "display_data"
    }
   ],
   "source": [
    "df_new.plot(x='cityCenters_nearest', y='last_price', kind='scatter', alpha=0.2) \n",
    "plt.ylabel('Цена квартиры')\n",
    "plt.xlabel('Расстояние до центра города')\n",
    "plt.title('Зависимость цены квартиры \\n от её удаленности от центра города')\n",
    "plt.show()"
   ]
  },
  {
   "cell_type": "markdown",
   "metadata": {},
   "source": [
    "Чем меньше расстояние от квартиры до центра города, тем выше её цена. Характер данной связи подтверждается и коэффициентом корреляции, который является отрицательным, однако при этом его величина -0.34, говорит об очень слабой взаимосвязи."
   ]
  },
  {
   "cell_type": "code",
   "execution_count": 76,
   "metadata": {},
   "outputs": [
    {
     "data": {
      "image/png": "[encoded data removed]",
      "text/plain": [
       "<Figure size 432x288 with 1 Axes>"
      ]
     },
     "metadata": {
      "needs_background": "light"
     },
     "output_type": "display_data"
    }
   ],
   "source": [
    "data_rooms=df_new.pivot_table(index='rooms', values='last_price', aggfunc='median')\n",
    "data_rooms.plot(kind='bar')\n",
    "plt.ylabel('Медиана цены квартиры')\n",
    "plt.xlabel('Количество комнат')\n",
    "plt.title('Зависимость цены квартиры от количества комнат')\n",
    "plt.legend().remove()\n"
   ]
  },
  {
   "cell_type": "markdown",
   "metadata": {},
   "source": [
    "C увеличением количества комнат медианная цена квартиры увеличивается.Однако если мы посмотрим на корреляционную матрицу, то коэффициент 0.43 свидетельствует о слабой связи."
   ]
  },
  {
   "cell_type": "code",
   "execution_count": 77,
   "metadata": {},
   "outputs": [
    {
     "data": {
      "image/png": "[encoded data removed]",
      "text/plain": [
       "<Figure size 432x288 with 1 Axes>"
      ]
     },
     "metadata": {
      "needs_background": "light"
     },
     "output_type": "display_data"
    }
   ],
   "source": [
    "data_rooms=df_new.pivot_table(index='rooms', values='price_for_m2', aggfunc='median')\n",
    "data_rooms.plot(kind='bar')\n",
    "plt.ylabel('Медиана цены за квадратный метр')\n",
    "plt.xlabel('Количество комнат')\n",
    "plt.title('Зависимость цены за квадратный метр от количества комнат')\n",
    "plt.legend().remove()"
   ]
  },
  {
   "cell_type": "code",
   "execution_count": 78,
   "metadata": {},
   "outputs": [
    {
     "data": {
      "text/html": [
       "<div>\n",
       "<style scoped>\n",
       "    .dataframe tbody tr th:only-of-type {\n",
       "        vertical-align: middle;\n",
       "    }\n",
       "\n",
       "    .dataframe tbody tr th {\n",
       "        vertical-align: top;\n",
       "    }\n",
       "\n",
       "    .dataframe thead tr th {\n",
       "        text-align: left;\n",
       "    }\n",
       "\n",
       "    .dataframe thead tr:last-of-type th {\n",
       "        text-align: right;\n",
       "    }\n",
       "</style>\n",
       "<table border=\"1\" class=\"dataframe\">\n",
       "  <thead>\n",
       "    <tr>\n",
       "      <th></th>\n",
       "      <th>count</th>\n",
       "      <th>median</th>\n",
       "    </tr>\n",
       "    <tr>\n",
       "      <th></th>\n",
       "      <th>price_for_m2</th>\n",
       "      <th>price_for_m2</th>\n",
       "    </tr>\n",
       "    <tr>\n",
       "      <th>rooms</th>\n",
       "      <th></th>\n",
       "      <th></th>\n",
       "    </tr>\n",
       "  </thead>\n",
       "  <tbody>\n",
       "    <tr>\n",
       "      <td>0</td>\n",
       "      <td>160</td>\n",
       "      <td>106689.949202</td>\n",
       "    </tr>\n",
       "    <tr>\n",
       "      <td>1</td>\n",
       "      <td>6662</td>\n",
       "      <td>100000.000000</td>\n",
       "    </tr>\n",
       "    <tr>\n",
       "      <td>2</td>\n",
       "      <td>6409</td>\n",
       "      <td>91666.666667</td>\n",
       "    </tr>\n",
       "    <tr>\n",
       "      <td>3</td>\n",
       "      <td>4091</td>\n",
       "      <td>85257.548845</td>\n",
       "    </tr>\n",
       "    <tr>\n",
       "      <td>4</td>\n",
       "      <td>593</td>\n",
       "      <td>81976.744186</td>\n",
       "    </tr>\n",
       "    <tr>\n",
       "      <td>5</td>\n",
       "      <td>48</td>\n",
       "      <td>73385.345997</td>\n",
       "    </tr>\n",
       "    <tr>\n",
       "      <td>6</td>\n",
       "      <td>3</td>\n",
       "      <td>81981.981982</td>\n",
       "    </tr>\n",
       "  </tbody>\n",
       "</table>\n",
       "</div>"
      ],
      "text/plain": [
       "             count         median\n",
       "      price_for_m2   price_for_m2\n",
       "rooms                            \n",
       "0              160  106689.949202\n",
       "1             6662  100000.000000\n",
       "2             6409   91666.666667\n",
       "3             4091   85257.548845\n",
       "4              593   81976.744186\n",
       "5               48   73385.345997\n",
       "6                3   81981.981982"
      ]
     },
     "execution_count": 78,
     "metadata": {},
     "output_type": "execute_result"
    }
   ],
   "source": [
    "df_new.pivot_table(index='rooms', values='price_for_m2', aggfunc=['count','median'])"
   ]
  },
  {
   "cell_type": "markdown",
   "metadata": {},
   "source": [
    "Наиболее высокая цена за квадратный метр в студиях и однокомнатных квартирах. Насчет 5-6 комнатных квартир сделать выводы нельзя ввиду малого количества наблюдений. В целом, чем меньше комнат в квартире, тем выше цена за квадратный метр в ней. "
   ]
  },
  {
   "cell_type": "code",
   "execution_count": 79,
   "metadata": {},
   "outputs": [
    {
     "data": {
      "image/png": "[encoded data removed]",
      "text/plain": [
       "<Figure size 576x432 with 1 Axes>"
      ]
     },
     "metadata": {
      "needs_background": "light"
     },
     "output_type": "display_data"
    }
   ],
   "source": [
    "import matplotlib.pyplot as plt\n",
    "import seaborn as sns\n",
    "plt.figure(figsize=(8,6))\n",
    "sns.boxplot(y='last_price', x='id_floor',data=df_new,palette=\"colorblind\",hue='id_floor')\n",
    "plt.legend().remove()\n",
    "plt.ylabel('Цена квартиры')\n",
    "plt.xlabel('Этаж')\n",
    "plt.title('Зависимость цены квартиры от этажа')\n",
    "plt.show()"
   ]
  },
  {
   "cell_type": "markdown",
   "metadata": {},
   "source": [
    "Сравнив медианные значения на столбчатом графике и диаграмме рассеяния мы видим что, если этаж не первый и не последний, то цена за квартиру будет выше. При этом цена на последний этаж будет выше цены на первый."
   ]
  },
  {
   "cell_type": "markdown",
   "metadata": {},
   "source": [
    "- ***День недели публикации***"
   ]
  },
  {
   "cell_type": "code",
   "execution_count": 80,
   "metadata": {},
   "outputs": [
    {
     "data": {
      "image/png": "[encoded data removed]",
      "text/plain": [
       "<Figure size 432x288 with 1 Axes>"
      ]
     },
     "metadata": {
      "needs_background": "light"
     },
     "output_type": "display_data"
    }
   ],
   "source": [
    "data_floor=df_new.pivot_table(index='weekday', values='last_price', aggfunc=['mean','median'])\n",
    "data_floor.plot()\n",
    "plt.legend(['средняя цена', 'медианная цена'])\n",
    "plt.ylabel('Цена квартиры')\n",
    "plt.xlabel('День публикации')\n",
    "plt.title('Зависимость цены квартиры от дня публикации')\n",
    "plt.show()"
   ]
  },
  {
   "cell_type": "markdown",
   "metadata": {},
   "source": [
    "Будем проводить анализ по медианной цене, так как она менее подвержена искажению: наиболее высокая цена у объявлений, публикуемых во вторник, самая низкая цена у объявлений, опубликованных в пятницу. В целом, значительные колебания цены со сменой дня недели публикациии не наблюдаются."
   ]
  },
  {
   "cell_type": "markdown",
   "metadata": {},
   "source": [
    "- ***Месяц публикации***"
   ]
  },
  {
   "cell_type": "code",
   "execution_count": 81,
   "metadata": {},
   "outputs": [
    {
     "data": {
      "image/png": "[encoded data removed]",
      "text/plain": [
       "<Figure size 432x288 with 1 Axes>"
      ]
     },
     "metadata": {
      "needs_background": "light"
     },
     "output_type": "display_data"
    }
   ],
   "source": [
    "data_floor=df_new.pivot_table(index='month', values='last_price', aggfunc=['mean','median'])\n",
    "data_floor.plot()\n",
    "plt.legend(['средняя цена', 'медианная цена'])\n",
    "plt.ylabel('Цена квартиры')\n",
    "plt.xlabel('Месяц публикации')\n",
    "plt.title('Зависимость цены квартиры от месяца публикации')\n",
    "plt.show()"
   ]
  },
  {
   "cell_type": "code",
   "execution_count": 82,
   "metadata": {},
   "outputs": [
    {
     "data": {
      "text/html": [
       "<div>\n",
       "<style scoped>\n",
       "    .dataframe tbody tr th:only-of-type {\n",
       "        vertical-align: middle;\n",
       "    }\n",
       "\n",
       "    .dataframe tbody tr th {\n",
       "        vertical-align: top;\n",
       "    }\n",
       "\n",
       "    .dataframe thead tr th {\n",
       "        text-align: left;\n",
       "    }\n",
       "\n",
       "    .dataframe thead tr:last-of-type th {\n",
       "        text-align: right;\n",
       "    }\n",
       "</style>\n",
       "<table border=\"1\" class=\"dataframe\">\n",
       "  <thead>\n",
       "    <tr>\n",
       "      <th></th>\n",
       "      <th>count</th>\n",
       "      <th>median</th>\n",
       "    </tr>\n",
       "    <tr>\n",
       "      <th></th>\n",
       "      <th>last_price</th>\n",
       "      <th>last_price</th>\n",
       "    </tr>\n",
       "    <tr>\n",
       "      <th>month</th>\n",
       "      <th></th>\n",
       "      <th></th>\n",
       "    </tr>\n",
       "  </thead>\n",
       "  <tbody>\n",
       "    <tr>\n",
       "      <td>1</td>\n",
       "      <td>1129</td>\n",
       "      <td>4400000</td>\n",
       "    </tr>\n",
       "    <tr>\n",
       "      <td>2</td>\n",
       "      <td>2097</td>\n",
       "      <td>4390000</td>\n",
       "    </tr>\n",
       "    <tr>\n",
       "      <td>3</td>\n",
       "      <td>1927</td>\n",
       "      <td>4400000</td>\n",
       "    </tr>\n",
       "    <tr>\n",
       "      <td>4</td>\n",
       "      <td>1842</td>\n",
       "      <td>4522000</td>\n",
       "    </tr>\n",
       "    <tr>\n",
       "      <td>5</td>\n",
       "      <td>949</td>\n",
       "      <td>4300000</td>\n",
       "    </tr>\n",
       "    <tr>\n",
       "      <td>6</td>\n",
       "      <td>1323</td>\n",
       "      <td>4200000</td>\n",
       "    </tr>\n",
       "    <tr>\n",
       "      <td>7</td>\n",
       "      <td>1282</td>\n",
       "      <td>4350000</td>\n",
       "    </tr>\n",
       "    <tr>\n",
       "      <td>8</td>\n",
       "      <td>1353</td>\n",
       "      <td>4390000</td>\n",
       "    </tr>\n",
       "    <tr>\n",
       "      <td>9</td>\n",
       "      <td>1457</td>\n",
       "      <td>4390000</td>\n",
       "    </tr>\n",
       "    <tr>\n",
       "      <td>10</td>\n",
       "      <td>1633</td>\n",
       "      <td>4350000</td>\n",
       "    </tr>\n",
       "    <tr>\n",
       "      <td>11</td>\n",
       "      <td>1747</td>\n",
       "      <td>4450000</td>\n",
       "    </tr>\n",
       "    <tr>\n",
       "      <td>12</td>\n",
       "      <td>1227</td>\n",
       "      <td>4400000</td>\n",
       "    </tr>\n",
       "  </tbody>\n",
       "</table>\n",
       "</div>"
      ],
      "text/plain": [
       "           count     median\n",
       "      last_price last_price\n",
       "month                      \n",
       "1           1129    4400000\n",
       "2           2097    4390000\n",
       "3           1927    4400000\n",
       "4           1842    4522000\n",
       "5            949    4300000\n",
       "6           1323    4200000\n",
       "7           1282    4350000\n",
       "8           1353    4390000\n",
       "9           1457    4390000\n",
       "10          1633    4350000\n",
       "11          1747    4450000\n",
       "12          1227    4400000"
      ]
     },
     "execution_count": 82,
     "metadata": {},
     "output_type": "execute_result"
    }
   ],
   "source": [
    "df_new.pivot_table(index='month', values='last_price', aggfunc=['count','median'])"
   ]
  },
  {
   "cell_type": "markdown",
   "metadata": {},
   "source": [
    "Наиболее высокая цена у объявлений, пбликуемых в апреле, наименьшая - в июне. Зависимость цены от месяца публикации наиболее выражена по сравнению с зависимостью от дня недели. Данный факт объясним тем, что рынок недвижимости не отличается сильной волатильностью, например как биржевой рынок, где цена акций может значительно меняться каждый."
   ]
  },
  {
   "cell_type": "markdown",
   "metadata": {},
   "source": [
    "- ***Год публикации***"
   ]
  },
  {
   "cell_type": "code",
   "execution_count": 83,
   "metadata": {},
   "outputs": [
    {
     "data": {
      "image/png": "[encoded data removed]",
      "text/plain": [
       "<Figure size 432x288 with 1 Axes>"
      ]
     },
     "metadata": {
      "needs_background": "light"
     },
     "output_type": "display_data"
    }
   ],
   "source": [
    "data_floor=df_new.pivot_table(index='year', values='last_price', aggfunc=['mean','median'])\n",
    "data_floor.plot()\n",
    "plt.legend(['средняя цена', 'медианная цена'])\n",
    "plt.ylabel('Цена квартиры')\n",
    "plt.xlabel('Год публикации')\n",
    "plt.title('Зависимость цены квартиры от года публикации')\n",
    "plt.show()"
   ]
  },
  {
   "cell_type": "code",
   "execution_count": 84,
   "metadata": {},
   "outputs": [
    {
     "data": {
      "text/html": [
       "<div>\n",
       "<style scoped>\n",
       "    .dataframe tbody tr th:only-of-type {\n",
       "        vertical-align: middle;\n",
       "    }\n",
       "\n",
       "    .dataframe tbody tr th {\n",
       "        vertical-align: top;\n",
       "    }\n",
       "\n",
       "    .dataframe thead tr th {\n",
       "        text-align: left;\n",
       "    }\n",
       "\n",
       "    .dataframe thead tr:last-of-type th {\n",
       "        text-align: right;\n",
       "    }\n",
       "</style>\n",
       "<table border=\"1\" class=\"dataframe\">\n",
       "  <thead>\n",
       "    <tr>\n",
       "      <th></th>\n",
       "      <th>count</th>\n",
       "      <th>median</th>\n",
       "    </tr>\n",
       "    <tr>\n",
       "      <th></th>\n",
       "      <th>last_price</th>\n",
       "      <th>last_price</th>\n",
       "    </tr>\n",
       "    <tr>\n",
       "      <th>year</th>\n",
       "      <th></th>\n",
       "      <th></th>\n",
       "    </tr>\n",
       "  </thead>\n",
       "  <tbody>\n",
       "    <tr>\n",
       "      <td>2014</td>\n",
       "      <td>7</td>\n",
       "      <td>7500000</td>\n",
       "    </tr>\n",
       "    <tr>\n",
       "      <td>2015</td>\n",
       "      <td>336</td>\n",
       "      <td>4550000</td>\n",
       "    </tr>\n",
       "    <tr>\n",
       "      <td>2016</td>\n",
       "      <td>1751</td>\n",
       "      <td>4250000</td>\n",
       "    </tr>\n",
       "    <tr>\n",
       "      <td>2017</td>\n",
       "      <td>6446</td>\n",
       "      <td>4250000</td>\n",
       "    </tr>\n",
       "    <tr>\n",
       "      <td>2018</td>\n",
       "      <td>7119</td>\n",
       "      <td>4390000</td>\n",
       "    </tr>\n",
       "    <tr>\n",
       "      <td>2019</td>\n",
       "      <td>2307</td>\n",
       "      <td>4850000</td>\n",
       "    </tr>\n",
       "  </tbody>\n",
       "</table>\n",
       "</div>"
      ],
      "text/plain": [
       "          count     median\n",
       "     last_price last_price\n",
       "year                      \n",
       "2014          7    7500000\n",
       "2015        336    4550000\n",
       "2016       1751    4250000\n",
       "2017       6446    4250000\n",
       "2018       7119    4390000\n",
       "2019       2307    4850000"
      ]
     },
     "execution_count": 84,
     "metadata": {},
     "output_type": "execute_result"
    }
   ],
   "source": [
    "df_new.pivot_table(index='year', values='last_price', aggfunc=['count','median'])"
   ]
  },
  {
   "cell_type": "markdown",
   "metadata": {},
   "source": [
    "На графике мы видим, что в 2014 году квартиры стоили значительно дороже, чем в 2015, однако средние и медианное значение цены 2014 году нельзя считать стистически значимым, так как за данный период в выборке присуттсвует всего 7 наблюдений. В остальном, начиная с 2016 года цена на рынке недвижимости имеет постоянную тенденцию роста."
   ]
  },
  {
   "cell_type": "markdown",
   "metadata": {},
   "source": [
    "***Выберите 10 населённых пунктов с наибольшим числом объявлений. Посчитайте среднюю цену квадратного метра в этих населённых пунктах. Выделите населённые пункты с самой высокой и низкой стоимостью жилья.***"
   ]
  },
  {
   "cell_type": "code",
   "execution_count": 85,
   "metadata": {
    "scrolled": true
   },
   "outputs": [
    {
     "data": {
      "text/plain": [
       "Санкт-Петербург      11278\n",
       "посёлок Мурино         430\n",
       "посёлок Шушары         372\n",
       "Всеволожск             338\n",
       "Колпино                286\n",
       "Пушкин                 284\n",
       "посёлок Парголово      275\n",
       "Гатчина                250\n",
       "деревня Кудрово        233\n",
       "Выборг                 198\n",
       "Name: locality_name, dtype: int64"
      ]
     },
     "execution_count": 85,
     "metadata": {},
     "output_type": "execute_result"
    }
   ],
   "source": [
    "df_new['locality_name'].value_counts().head(10)\n"
   ]
  },
  {
   "cell_type": "code",
   "execution_count": 86,
   "metadata": {},
   "outputs": [],
   "source": [
    "our_dict={\"Санкт-Петербург\",\"посёлок Мурино\",\"посёлок Шушары\",\"Всеволожск\",\"Колпино\",\n",
    "          \"Пушкин\",\"посёлок Парголово\",\"Гатчина\", \"деревня Кудрово\",\"Выборг\"}"
   ]
  },
  {
   "cell_type": "code",
   "execution_count": 87,
   "metadata": {},
   "outputs": [],
   "source": [
    "top_10=df_new.query('locality_name in @our_dict')"
   ]
  },
  {
   "cell_type": "code",
   "execution_count": 88,
   "metadata": {},
   "outputs": [
    {
     "data": {
      "text/html": [
       "<div>\n",
       "<style scoped>\n",
       "    .dataframe tbody tr th:only-of-type {\n",
       "        vertical-align: middle;\n",
       "    }\n",
       "\n",
       "    .dataframe tbody tr th {\n",
       "        vertical-align: top;\n",
       "    }\n",
       "\n",
       "    .dataframe thead tr th {\n",
       "        text-align: left;\n",
       "    }\n",
       "\n",
       "    .dataframe thead tr:last-of-type th {\n",
       "        text-align: right;\n",
       "    }\n",
       "</style>\n",
       "<table border=\"1\" class=\"dataframe\">\n",
       "  <thead>\n",
       "    <tr>\n",
       "      <th></th>\n",
       "      <th>count</th>\n",
       "      <th>median</th>\n",
       "    </tr>\n",
       "    <tr>\n",
       "      <th></th>\n",
       "      <th>price_for_m2</th>\n",
       "      <th>price_for_m2</th>\n",
       "    </tr>\n",
       "    <tr>\n",
       "      <th>locality_name</th>\n",
       "      <th></th>\n",
       "      <th></th>\n",
       "    </tr>\n",
       "  </thead>\n",
       "  <tbody>\n",
       "    <tr>\n",
       "      <td>Всеволожск</td>\n",
       "      <td>338</td>\n",
       "      <td>65843.495935</td>\n",
       "    </tr>\n",
       "    <tr>\n",
       "      <td>Выборг</td>\n",
       "      <td>198</td>\n",
       "      <td>58233.006089</td>\n",
       "    </tr>\n",
       "    <tr>\n",
       "      <td>Гатчина</td>\n",
       "      <td>250</td>\n",
       "      <td>67123.541888</td>\n",
       "    </tr>\n",
       "    <tr>\n",
       "      <td>Колпино</td>\n",
       "      <td>286</td>\n",
       "      <td>74324.324324</td>\n",
       "    </tr>\n",
       "    <tr>\n",
       "      <td>Пушкин</td>\n",
       "      <td>284</td>\n",
       "      <td>98547.274643</td>\n",
       "    </tr>\n",
       "    <tr>\n",
       "      <td>Санкт-Петербург</td>\n",
       "      <td>11278</td>\n",
       "      <td>102322.408706</td>\n",
       "    </tr>\n",
       "    <tr>\n",
       "      <td>деревня Кудрово</td>\n",
       "      <td>233</td>\n",
       "      <td>92592.583333</td>\n",
       "    </tr>\n",
       "    <tr>\n",
       "      <td>посёлок Мурино</td>\n",
       "      <td>430</td>\n",
       "      <td>86270.673555</td>\n",
       "    </tr>\n",
       "    <tr>\n",
       "      <td>посёлок Парголово</td>\n",
       "      <td>275</td>\n",
       "      <td>91250.000000</td>\n",
       "    </tr>\n",
       "    <tr>\n",
       "      <td>посёлок Шушары</td>\n",
       "      <td>372</td>\n",
       "      <td>76747.967480</td>\n",
       "    </tr>\n",
       "  </tbody>\n",
       "</table>\n",
       "</div>"
      ],
      "text/plain": [
       "                         count         median\n",
       "                  price_for_m2   price_for_m2\n",
       "locality_name                                \n",
       "Всеволожск                 338   65843.495935\n",
       "Выборг                     198   58233.006089\n",
       "Гатчина                    250   67123.541888\n",
       "Колпино                    286   74324.324324\n",
       "Пушкин                     284   98547.274643\n",
       "Санкт-Петербург          11278  102322.408706\n",
       "деревня Кудрово            233   92592.583333\n",
       "посёлок Мурино             430   86270.673555\n",
       "посёлок Парголово          275   91250.000000\n",
       "посёлок Шушары             372   76747.967480"
      ]
     },
     "execution_count": 88,
     "metadata": {},
     "output_type": "execute_result"
    }
   ],
   "source": [
    "top_10.pivot_table(index='locality_name', values='price_for_m2',aggfunc=['count','median'])"
   ]
  },
  {
   "cell_type": "code",
   "execution_count": 89,
   "metadata": {},
   "outputs": [
    {
     "data": {
      "image/png": "[encoded data removed]",
      "text/plain": [
       "<Figure size 576x576 with 1 Axes>"
      ]
     },
     "metadata": {
      "needs_background": "light"
     },
     "output_type": "display_data"
    }
   ],
   "source": [
    "top_10.pivot_table(index='locality_name', values='price_for_m2',aggfunc='median').plot(kind='barh',figsize=(8,8))\n",
    "plt.ylabel('Населенный пункт')\n",
    "plt.xlabel('Средняя цена за квадратный метр (медиана)')\n",
    "plt.title('Зависимость цены за квадратный метр \\n  от населенного пункта')\n",
    "plt.legend().remove()"
   ]
  },
  {
   "cell_type": "markdown",
   "metadata": {},
   "source": [
    "Наиболее высокая цена за квадратный метр в Санкт-Петербурге, Пушкине и поселке Кудрово. Наиболее низкая цена за квадратный метр в Гатчине, Всеволжске и Выборге."
   ]
  },
  {
   "cell_type": "markdown",
   "metadata": {},
   "source": [
    "***Изучите предложения квартир: для каждой квартиры есть информация о расстоянии до центра. Выделите квартиры в Санкт-Петербурге ('locality_name'). Ваша задача — выяснить, какая область входит в центр. Создайте столбец с расстоянием до центра в километрах: округлите до целых значений. После этого посчитайте среднюю цену для каждого километра. Постройте график: он должен показывать, как цена зависит от удалённости от центра. Определите границу, где график сильно меняется — это и будет центральная зона.***"
   ]
  },
  {
   "cell_type": "code",
   "execution_count": 90,
   "metadata": {},
   "outputs": [],
   "source": [
    "#создаем срез данных по СПб\n",
    "spb=df_new.query('locality_name==\"Санкт-Петербург\"')"
   ]
  },
  {
   "cell_type": "code",
   "execution_count": 91,
   "metadata": {},
   "outputs": [
    {
     "data": {
      "text/plain": [
       "12.0    1278\n",
       "15.0    1250\n",
       "13.0    1138\n",
       "16.0    1045\n",
       "14.0    1012\n",
       "11.0     883\n",
       "17.0     692\n",
       "10.0     542\n",
       "5.0      442\n",
       "9.0      416\n",
       "8.0      385\n",
       "4.0      339\n",
       "6.0      330\n",
       "7.0      247\n",
       "18.0     211\n",
       "3.0      197\n",
       "22.0     172\n",
       "2.0      134\n",
       "19.0     132\n",
       "21.0     100\n",
       "23.0      70\n",
       "1.0       63\n",
       "26.0      50\n",
       "20.0      43\n",
       "24.0      25\n",
       "25.0      24\n",
       "0.0        8\n",
       "28.0       7\n",
       "29.0       3\n",
       "27.0       1\n",
       "Name: km, dtype: int64"
      ]
     },
     "execution_count": 91,
     "metadata": {},
     "output_type": "execute_result"
    }
   ],
   "source": [
    "#создаем столбец с расстоянием до центра в км\n",
    "spb['km']=(spb['cityCenters_nearest']/1000).round(0)\n",
    "spb['km'].value_counts()"
   ]
  },
  {
   "cell_type": "code",
   "execution_count": 92,
   "metadata": {},
   "outputs": [
    {
     "data": {
      "image/png": "[encoded data removed]",
      "text/plain": [
       "<Figure size 1152x648 with 1 Axes>"
      ]
     },
     "metadata": {
      "needs_background": "light"
     },
     "output_type": "display_data"
    }
   ],
   "source": [
    "spb.pivot_table(index='km',values='price_for_m2', aggfunc=['median','mean']).plot(figsize=(16,9),grid=True)\n",
    "plt.xticks([1,2,3,4,5,6,7,8,9,10,11, 12, 13, 14, 15, 16, 17, 18, 19, 20, 21, 22, 23, 24, 25,26,27,28,29])\n",
    "plt.legend(['средняя цена', 'медиана'])\n",
    "plt.ylabel('Цена за квадратный метр')\n",
    "plt.xlabel('Удаленность от центра города в км')\n",
    "plt.title('Зависимость цены за квадратный метр от расстояния до центра города')\n",
    "plt.show()\n",
    "\n"
   ]
  },
  {
   "cell_type": "markdown",
   "metadata": {},
   "source": [
    "Граница, на которой происходит значительное изменение цены и в дальнейшем заметна тенденция снижения, отмечается в точке 8 километров. 8 км-радиус расположения квартир, которые будут считаться наиболее близкими к центру города."
   ]
  },
  {
   "cell_type": "markdown",
   "metadata": {},
   "source": [
    "***Выделите сегмент квартир в центре. Проанализируйте эту территорию и изучите следующие параметры: площадь, цена, число комнат, высота потолков. Также выделите факторы, которые влияют на стоимость квартиры (число комнат, этаж, удалённость от центра, дата размещения объявления). Сделайте выводы. Отличаются ли они от общих выводов по всему городу?***"
   ]
  },
  {
   "cell_type": "code",
   "execution_count": 93,
   "metadata": {},
   "outputs": [
    {
     "data": {
      "text/plain": [
       "2145"
      ]
     },
     "execution_count": 93,
     "metadata": {},
     "output_type": "execute_result"
    }
   ],
   "source": [
    "# сегмент квартир в центре\n",
    "center=spb.query('km<=8')\n",
    "len(center)"
   ]
  },
  {
   "cell_type": "code",
   "execution_count": 94,
   "metadata": {},
   "outputs": [
    {
     "data": {
      "text/html": [
       "<div>\n",
       "<style scoped>\n",
       "    .dataframe tbody tr th:only-of-type {\n",
       "        vertical-align: middle;\n",
       "    }\n",
       "\n",
       "    .dataframe tbody tr th {\n",
       "        vertical-align: top;\n",
       "    }\n",
       "\n",
       "    .dataframe thead th {\n",
       "        text-align: right;\n",
       "    }\n",
       "</style>\n",
       "<table border=\"1\" class=\"dataframe\">\n",
       "  <thead>\n",
       "    <tr style=\"text-align: right;\">\n",
       "      <th></th>\n",
       "      <th>total_area</th>\n",
       "      <th>last_price</th>\n",
       "      <th>rooms</th>\n",
       "      <th>ceiling_height</th>\n",
       "    </tr>\n",
       "  </thead>\n",
       "  <tbody>\n",
       "    <tr>\n",
       "      <td>count</td>\n",
       "      <td>2145.000000</td>\n",
       "      <td>2.145000e+03</td>\n",
       "      <td>2145.000000</td>\n",
       "      <td>2145.000000</td>\n",
       "    </tr>\n",
       "    <tr>\n",
       "      <td>mean</td>\n",
       "      <td>63.196159</td>\n",
       "      <td>7.207107e+06</td>\n",
       "      <td>2.234965</td>\n",
       "      <td>2.683417</td>\n",
       "    </tr>\n",
       "    <tr>\n",
       "      <td>std</td>\n",
       "      <td>20.602566</td>\n",
       "      <td>2.168126e+06</td>\n",
       "      <td>0.943254</td>\n",
       "      <td>0.144538</td>\n",
       "    </tr>\n",
       "    <tr>\n",
       "      <td>min</td>\n",
       "      <td>12.000000</td>\n",
       "      <td>1.686000e+06</td>\n",
       "      <td>0.000000</td>\n",
       "      <td>2.500000</td>\n",
       "    </tr>\n",
       "    <tr>\n",
       "      <td>25%</td>\n",
       "      <td>46.500000</td>\n",
       "      <td>5.599000e+06</td>\n",
       "      <td>2.000000</td>\n",
       "      <td>2.600000</td>\n",
       "    </tr>\n",
       "    <tr>\n",
       "      <td>50%</td>\n",
       "      <td>61.500000</td>\n",
       "      <td>7.050000e+06</td>\n",
       "      <td>2.000000</td>\n",
       "      <td>2.600000</td>\n",
       "    </tr>\n",
       "    <tr>\n",
       "      <td>75%</td>\n",
       "      <td>78.000000</td>\n",
       "      <td>8.800000e+06</td>\n",
       "      <td>3.000000</td>\n",
       "      <td>2.750000</td>\n",
       "    </tr>\n",
       "    <tr>\n",
       "      <td>max</td>\n",
       "      <td>114.200000</td>\n",
       "      <td>1.190000e+07</td>\n",
       "      <td>6.000000</td>\n",
       "      <td>3.000000</td>\n",
       "    </tr>\n",
       "  </tbody>\n",
       "</table>\n",
       "</div>"
      ],
      "text/plain": [
       "        total_area    last_price        rooms  ceiling_height\n",
       "count  2145.000000  2.145000e+03  2145.000000     2145.000000\n",
       "mean     63.196159  7.207107e+06     2.234965        2.683417\n",
       "std      20.602566  2.168126e+06     0.943254        0.144538\n",
       "min      12.000000  1.686000e+06     0.000000        2.500000\n",
       "25%      46.500000  5.599000e+06     2.000000        2.600000\n",
       "50%      61.500000  7.050000e+06     2.000000        2.600000\n",
       "75%      78.000000  8.800000e+06     3.000000        2.750000\n",
       "max     114.200000  1.190000e+07     6.000000        3.000000"
      ]
     },
     "execution_count": 94,
     "metadata": {},
     "output_type": "execute_result"
    }
   ],
   "source": [
    "center[['total_area','last_price','rooms','ceiling_height']].describe()"
   ]
  },
  {
   "cell_type": "code",
   "execution_count": 99,
   "metadata": {},
   "outputs": [
    {
     "data": {
      "image/png": "[encoded data removed]",
      "text/plain": [
       "<Figure size 432x288 with 1 Axes>"
      ]
     },
     "metadata": {
      "needs_background": "light"
     },
     "output_type": "display_data"
    },
    {
     "data": {
      "image/png": "[encoded data removed]",
      "text/plain": [
       "<Figure size 432x288 with 1 Axes>"
      ]
     },
     "metadata": {
      "needs_background": "light"
     },
     "output_type": "display_data"
    },
    {
     "data": {
      "image/png": "[encoded data removed]",
      "text/plain": [
       "<Figure size 432x288 with 1 Axes>"
      ]
     },
     "metadata": {
      "needs_background": "light"
     },
     "output_type": "display_data"
    },
    {
     "data": {
      "image/png": "[encoded data removed]",
      "text/plain": [
       "<Figure size 432x288 with 1 Axes>"
      ]
     },
     "metadata": {
      "needs_background": "light"
     },
     "output_type": "display_data"
    }
   ],
   "source": [
    "dict_label= {'total_area':{'title':'Сравнение площади квартир','ylabel':'Общая плошадь'},\n",
    "            'price_for_m2': {'title':'Сравнение цены квартир','ylabel':'Цена за квдратный метр'},\n",
    "             'rooms':{'title':'Сравнение количества комнат','ylabel':'Количество комнат'},\n",
    "             'ceiling_height':{'title':'Сравнение высоты потолков','ylabel':'Высота потолков'}}\n",
    "\n",
    "for key, value in dict_label.items():\n",
    "    ax = sns.boxplot(y=key, x='Location', data=cdf)\n",
    "    plt.xlabel('Сегмент выборки')\n",
    "    plt.ylabel(value['ylabel'])\n",
    "    plt.title(value['title'])\n",
    "    plt.show()"
   ]
  },
  {
   "cell_type": "markdown",
   "metadata": {},
   "source": [
    "Средняя площадь квартир (медианное значение) в центре больше примерно на 10 квадратных метров в сравнении с общей выборкой."
   ]
  },
  {
   "cell_type": "markdown",
   "metadata": {},
   "source": [
    "Медианное значение цены за квадратный метр выше у квартир в центре города, что весьма ожидаемо, так как в центре города хороша развита инфраструктура, много достопримечательностей и т.д."
   ]
  },
  {
   "cell_type": "markdown",
   "metadata": {},
   "source": [
    "Половина квартир из центра являются двухкомнатными, при этом крайне мало однокомнатных и студий. В то время как в общей выборке четверть наблюдений являются однокомнатными квартирами или студиями."
   ]
  },
  {
   "cell_type": "markdown",
   "metadata": {},
   "source": [
    "Несмотря на то, что медианное значение высоты потолков у выборок совпадают, в целом - высота потолков у квартир в центре выше, это может объясняться тем, что в центре Петербурга в основном - сарый исторический жилой фонд, архитектуре которого свойственны высокие потолки."
   ]
  },
  {
   "cell_type": "code",
   "execution_count": 100,
   "metadata": {},
   "outputs": [
    {
     "data": {
      "text/html": [
       "<div>\n",
       "<style scoped>\n",
       "    .dataframe tbody tr th:only-of-type {\n",
       "        vertical-align: middle;\n",
       "    }\n",
       "\n",
       "    .dataframe tbody tr th {\n",
       "        vertical-align: top;\n",
       "    }\n",
       "\n",
       "    .dataframe thead th {\n",
       "        text-align: right;\n",
       "    }\n",
       "</style>\n",
       "<table border=\"1\" class=\"dataframe\">\n",
       "  <thead>\n",
       "    <tr style=\"text-align: right;\">\n",
       "      <th></th>\n",
       "      <th>last_price</th>\n",
       "      <th>total_area</th>\n",
       "      <th>rooms</th>\n",
       "      <th>cityCenters_nearest</th>\n",
       "    </tr>\n",
       "  </thead>\n",
       "  <tbody>\n",
       "    <tr>\n",
       "      <td>last_price</td>\n",
       "      <td>1.000000</td>\n",
       "      <td>0.719818</td>\n",
       "      <td>0.466182</td>\n",
       "      <td>-0.176519</td>\n",
       "    </tr>\n",
       "    <tr>\n",
       "      <td>total_area</td>\n",
       "      <td>0.719818</td>\n",
       "      <td>1.000000</td>\n",
       "      <td>0.796767</td>\n",
       "      <td>-0.195348</td>\n",
       "    </tr>\n",
       "    <tr>\n",
       "      <td>rooms</td>\n",
       "      <td>0.466182</td>\n",
       "      <td>0.796767</td>\n",
       "      <td>1.000000</td>\n",
       "      <td>-0.173830</td>\n",
       "    </tr>\n",
       "    <tr>\n",
       "      <td>cityCenters_nearest</td>\n",
       "      <td>-0.176519</td>\n",
       "      <td>-0.195348</td>\n",
       "      <td>-0.173830</td>\n",
       "      <td>1.000000</td>\n",
       "    </tr>\n",
       "  </tbody>\n",
       "</table>\n",
       "</div>"
      ],
      "text/plain": [
       "                     last_price  total_area     rooms  cityCenters_nearest\n",
       "last_price             1.000000    0.719818  0.466182            -0.176519\n",
       "total_area             0.719818    1.000000  0.796767            -0.195348\n",
       "rooms                  0.466182    0.796767  1.000000            -0.173830\n",
       "cityCenters_nearest   -0.176519   -0.195348 -0.173830             1.000000"
      ]
     },
     "execution_count": 100,
     "metadata": {},
     "output_type": "execute_result"
    }
   ],
   "source": [
    "center[['last_price','total_area','rooms','cityCenters_nearest']].corr(method='pearson')"
   ]
  },
  {
   "cell_type": "code",
   "execution_count": 101,
   "metadata": {
    "scrolled": true
   },
   "outputs": [
    {
     "data": {
      "image/png": "[encoded data removed]",
      "text/plain": [
       "<Figure size 432x288 with 1 Axes>"
      ]
     },
     "metadata": {
      "needs_background": "light"
     },
     "output_type": "display_data"
    }
   ],
   "source": [
    "dfr=df_new.pivot_table(index='rooms', values='price_for_m2', aggfunc='median')\n",
    "dfcc=center.pivot_table(index='rooms', values='price_for_m2', aggfunc='median')\n",
    "a=dfr.merge(dfcc, on='rooms')\n",
    "a.plot.bar(logy=True)\n",
    "plt.ylabel('Медиана цены за квадратный метр')\n",
    "plt.xlabel('Количество комнат')\n",
    "plt.title('Сравнение зависимости цены от количества комнат')\n",
    "plt.legend(['Общая выборка', 'Сегмент в центре'])\n",
    "plt.show()"
   ]
  },
  {
   "cell_type": "code",
   "execution_count": 102,
   "metadata": {},
   "outputs": [
    {
     "data": {
      "text/html": [
       "<div>\n",
       "<style scoped>\n",
       "    .dataframe tbody tr th:only-of-type {\n",
       "        vertical-align: middle;\n",
       "    }\n",
       "\n",
       "    .dataframe tbody tr th {\n",
       "        vertical-align: top;\n",
       "    }\n",
       "\n",
       "    .dataframe thead tr th {\n",
       "        text-align: left;\n",
       "    }\n",
       "\n",
       "    .dataframe thead tr:last-of-type th {\n",
       "        text-align: right;\n",
       "    }\n",
       "</style>\n",
       "<table border=\"1\" class=\"dataframe\">\n",
       "  <thead>\n",
       "    <tr>\n",
       "      <th></th>\n",
       "      <th>median_x</th>\n",
       "      <th>count_x</th>\n",
       "      <th>median_y</th>\n",
       "      <th>count_y</th>\n",
       "    </tr>\n",
       "    <tr>\n",
       "      <th></th>\n",
       "      <th>price_for_m2</th>\n",
       "      <th>price_for_m2</th>\n",
       "      <th>price_for_m2</th>\n",
       "      <th>price_for_m2</th>\n",
       "    </tr>\n",
       "    <tr>\n",
       "      <th>rooms</th>\n",
       "      <th></th>\n",
       "      <th></th>\n",
       "      <th></th>\n",
       "      <th></th>\n",
       "    </tr>\n",
       "  </thead>\n",
       "  <tbody>\n",
       "    <tr>\n",
       "      <td>0</td>\n",
       "      <td>106689.949202</td>\n",
       "      <td>160</td>\n",
       "      <td>132796.610169</td>\n",
       "      <td>18</td>\n",
       "    </tr>\n",
       "    <tr>\n",
       "      <td>1</td>\n",
       "      <td>100000.000000</td>\n",
       "      <td>6662</td>\n",
       "      <td>136417.112299</td>\n",
       "      <td>478</td>\n",
       "    </tr>\n",
       "    <tr>\n",
       "      <td>2</td>\n",
       "      <td>91666.666667</td>\n",
       "      <td>6409</td>\n",
       "      <td>117283.950617</td>\n",
       "      <td>839</td>\n",
       "    </tr>\n",
       "    <tr>\n",
       "      <td>3</td>\n",
       "      <td>85257.548845</td>\n",
       "      <td>4091</td>\n",
       "      <td>102060.221870</td>\n",
       "      <td>621</td>\n",
       "    </tr>\n",
       "    <tr>\n",
       "      <td>4</td>\n",
       "      <td>81976.744186</td>\n",
       "      <td>593</td>\n",
       "      <td>94801.235442</td>\n",
       "      <td>172</td>\n",
       "    </tr>\n",
       "    <tr>\n",
       "      <td>5</td>\n",
       "      <td>73385.345997</td>\n",
       "      <td>48</td>\n",
       "      <td>91904.761905</td>\n",
       "      <td>15</td>\n",
       "    </tr>\n",
       "    <tr>\n",
       "      <td>6</td>\n",
       "      <td>81981.981982</td>\n",
       "      <td>3</td>\n",
       "      <td>88718.263718</td>\n",
       "      <td>2</td>\n",
       "    </tr>\n",
       "  </tbody>\n",
       "</table>\n",
       "</div>"
      ],
      "text/plain": [
       "            median_x      count_x       median_y      count_y\n",
       "        price_for_m2 price_for_m2   price_for_m2 price_for_m2\n",
       "rooms                                                        \n",
       "0      106689.949202          160  132796.610169           18\n",
       "1      100000.000000         6662  136417.112299          478\n",
       "2       91666.666667         6409  117283.950617          839\n",
       "3       85257.548845         4091  102060.221870          621\n",
       "4       81976.744186          593   94801.235442          172\n",
       "5       73385.345997           48   91904.761905           15\n",
       "6       81981.981982            3   88718.263718            2"
      ]
     },
     "execution_count": 102,
     "metadata": {},
     "output_type": "execute_result"
    }
   ],
   "source": [
    "dfr=df_new.pivot_table(index='rooms', values='price_for_m2', aggfunc=['median','count'])\n",
    "dfcc=center.pivot_table(index='rooms', values='price_for_m2', aggfunc=['median','count'])\n",
    "a=dfr.merge(dfcc, on='rooms')\n",
    "a"
   ]
  },
  {
   "cell_type": "markdown",
   "metadata": {},
   "source": [
    "У обеих выборок одна из наиболее высоких цен за квадратный метр у однокомнатных квартир. У общей выборки самая высокая цена за кв м у студий. Студии в центре весьма редко встречаются, поэтому по ним недостаточно данных для релевантного сравнения. Также в обеих выборках мало наблюдений для соответствующих выводов о 5-6 комнатных квартирах."
   ]
  },
  {
   "cell_type": "markdown",
   "metadata": {},
   "source": [
    "- ***Сравнение зависимости цены от этажа***"
   ]
  },
  {
   "cell_type": "code",
   "execution_count": 103,
   "metadata": {},
   "outputs": [],
   "source": [
    "new=df_new.pivot_table(index='id_floor', values='price_for_m2', aggfunc='median')\n",
    "cfloor=center.pivot_table(index='id_floor', values='price_for_m2', aggfunc='median')"
   ]
  },
  {
   "cell_type": "code",
   "execution_count": 104,
   "metadata": {},
   "outputs": [
    {
     "data": {
      "image/png": "[encoded data removed]",
      "text/plain": [
       "<Figure size 432x288 with 1 Axes>"
      ]
     },
     "metadata": {
      "needs_background": "light"
     },
     "output_type": "display_data"
    }
   ],
   "source": [
    "ar=new.merge(cfloor, on='id_floor')\n",
    "g=ar.plot.bar(logy=True)\n",
    "plt.ylabel('Медиана цены за квадратный метр')\n",
    "plt.xlabel('Этаж')\n",
    "plt.title('Сравнение зависимости цены от этажа')\n",
    "plt.legend(['Общая выборка', 'Сегмент в центре'])\n",
    "plt.show()"
   ]
  },
  {
   "cell_type": "markdown",
   "metadata": {},
   "source": [
    "Исходя из представленного выше графика, мы можем говорить о том, что выводы о зависимости цены для общей выборки и сегмента квартир в центре совпадают: если этаж не первый и не последний, то цена за квартиру будет выше, при этом цена на последний этаж будет выше цены на первый."
   ]
  },
  {
   "cell_type": "markdown",
   "metadata": {},
   "source": [
    "- ***Сравнение зависимости цены от дня публикации***"
   ]
  },
  {
   "cell_type": "code",
   "execution_count": 105,
   "metadata": {},
   "outputs": [
    {
     "data": {
      "image/png": "[encoded data removed]",
      "text/plain": [
       "<Figure size 432x288 with 1 Axes>"
      ]
     },
     "metadata": {
      "needs_background": "light"
     },
     "output_type": "display_data"
    }
   ],
   "source": [
    "dfw=df_new.pivot_table(index='weekday', values='price_for_m2', aggfunc='median')\n",
    "dfce=center.pivot_table(index='weekday', values='price_for_m2', aggfunc='median')\n",
    "ak=dfw.merge(dfce, on='weekday')\n",
    "g=ak.plot(logy=True)\n",
    "plt.ylabel('Медиана цены за квадратный метр')\n",
    "plt.xlabel('День недели')\n",
    "plt.title('Сравнение зависимости цены от дня публикации')\n",
    "plt.legend(['Общая выборка', 'Сегмент в центре'])\n",
    "plt.show()"
   ]
  },
  {
   "cell_type": "markdown",
   "metadata": {},
   "source": [
    "На основе представленного графика можно сделать вывод о том, что для сегмента квартир в центре зависимость цены от дня публикации наиболее выражена в сравнении с общей выборкой. Тенденция роста цены у сегмента квартир в центре начинается у объявлений, опубликванных в пятницу. Наиболее высокая цена у квартир в центре, объявления о которых были опубликованы в воскресенье. Что же касается общей выборки, то у неё не наблюдается зависимости цены от дня публикации."
   ]
  },
  {
   "cell_type": "markdown",
   "metadata": {},
   "source": [
    "- ***Сравнение зависимости цены от месяца публикации***"
   ]
  },
  {
   "cell_type": "code",
   "execution_count": 106,
   "metadata": {},
   "outputs": [
    {
     "data": {
      "image/png": "[encoded data removed]",
      "text/plain": [
       "<Figure size 432x288 with 1 Axes>"
      ]
     },
     "metadata": {
      "needs_background": "light"
     },
     "output_type": "display_data"
    }
   ],
   "source": [
    "dfy=df_new.pivot_table(index='month', values='price_for_m2', aggfunc='median')\n",
    "dfcen=center.pivot_table(index='month', values='price_for_m2', aggfunc='median')\n",
    "ak=dfy.merge(dfcen, on='month')\n",
    "g=ak.plot(logy=True,grid=True)\n",
    "plt.ylabel('Медиана цены за квадратный метр')\n",
    "plt.xlabel('Месяц')\n",
    "plt.title('Сравнение зависимости цены от месяца публикации')\n",
    "plt.legend(['Общая выборка', 'Сегмент в центре'])\n",
    "plt.show()"
   ]
  },
  {
   "cell_type": "markdown",
   "metadata": {},
   "source": [
    "Из представленного выше графика, мы видим, что зависимость цены от месяца публикации примерно одинаковая в обоих выборках, однако отличается месяц с наиболее высокой ценой: для сегмента квартир в центре - это март, а для общей выборки - апрель."
   ]
  },
  {
   "cell_type": "markdown",
   "metadata": {},
   "source": [
    "- ***Сравнение зависимости цены от года публикации***"
   ]
  },
  {
   "cell_type": "code",
   "execution_count": 107,
   "metadata": {},
   "outputs": [
    {
     "data": {
      "image/png": "[encoded data removed]",
      "text/plain": [
       "<Figure size 432x288 with 1 Axes>"
      ]
     },
     "metadata": {
      "needs_background": "light"
     },
     "output_type": "display_data"
    }
   ],
   "source": [
    "dfym=df_new.pivot_table(index='year', values='price_for_m2', aggfunc='median')\n",
    "dfcent=center.pivot_table(index='year', values='price_for_m2', aggfunc='median')\n",
    "ak=dfym.merge(dfcent, on='year')\n",
    "g=ak.plot.bar(logy=True,grid=True)\n",
    "plt.ylabel('Медиана цены за квадратный метр')\n",
    "plt.xlabel('Год')\n",
    "plt.title('Сравнение зависимости цены от года публикации')\n",
    "plt.legend(['Общая выборка', 'Сегмент в центре'])\n",
    "plt.show()"
   ]
  },
  {
   "cell_type": "markdown",
   "metadata": {},
   "source": [
    "В обоих выборках наблюдается устойчивая тенденция роста цен на жилье в течение последних 5 лет. Однако в 2017 году на общем рынке недвижимости было незначительное снижение цены за квадратный метр."
   ]
  },
  {
   "cell_type": "code",
   "execution_count": 108,
   "metadata": {},
   "outputs": [
    {
     "data": {
      "text/html": [
       "<div>\n",
       "<style scoped>\n",
       "    .dataframe tbody tr th:only-of-type {\n",
       "        vertical-align: middle;\n",
       "    }\n",
       "\n",
       "    .dataframe tbody tr th {\n",
       "        vertical-align: top;\n",
       "    }\n",
       "\n",
       "    .dataframe thead tr th {\n",
       "        text-align: left;\n",
       "    }\n",
       "\n",
       "    .dataframe thead tr:last-of-type th {\n",
       "        text-align: right;\n",
       "    }\n",
       "</style>\n",
       "<table border=\"1\" class=\"dataframe\">\n",
       "  <thead>\n",
       "    <tr>\n",
       "      <th></th>\n",
       "      <th>count_x</th>\n",
       "      <th>median_x</th>\n",
       "      <th>count_y</th>\n",
       "      <th>median_y</th>\n",
       "    </tr>\n",
       "    <tr>\n",
       "      <th></th>\n",
       "      <th>price_for_m2</th>\n",
       "      <th>price_for_m2</th>\n",
       "      <th>price_for_m2</th>\n",
       "      <th>price_for_m2</th>\n",
       "    </tr>\n",
       "    <tr>\n",
       "      <th>year</th>\n",
       "      <th></th>\n",
       "      <th></th>\n",
       "      <th></th>\n",
       "      <th></th>\n",
       "    </tr>\n",
       "  </thead>\n",
       "  <tbody>\n",
       "    <tr>\n",
       "      <td>2015</td>\n",
       "      <td>336</td>\n",
       "      <td>89207.065228</td>\n",
       "      <td>51</td>\n",
       "      <td>101020.408163</td>\n",
       "    </tr>\n",
       "    <tr>\n",
       "      <td>2016</td>\n",
       "      <td>1751</td>\n",
       "      <td>89965.397924</td>\n",
       "      <td>232</td>\n",
       "      <td>108333.333333</td>\n",
       "    </tr>\n",
       "    <tr>\n",
       "      <td>2017</td>\n",
       "      <td>6446</td>\n",
       "      <td>89899.960576</td>\n",
       "      <td>810</td>\n",
       "      <td>110723.150496</td>\n",
       "    </tr>\n",
       "    <tr>\n",
       "      <td>2018</td>\n",
       "      <td>7119</td>\n",
       "      <td>93750.000000</td>\n",
       "      <td>801</td>\n",
       "      <td>117079.646018</td>\n",
       "    </tr>\n",
       "    <tr>\n",
       "      <td>2019</td>\n",
       "      <td>2307</td>\n",
       "      <td>101092.896175</td>\n",
       "      <td>251</td>\n",
       "      <td>125250.836120</td>\n",
       "    </tr>\n",
       "  </tbody>\n",
       "</table>\n",
       "</div>"
      ],
      "text/plain": [
       "          count_x       median_x      count_y       median_y\n",
       "     price_for_m2   price_for_m2 price_for_m2   price_for_m2\n",
       "year                                                        \n",
       "2015          336   89207.065228           51  101020.408163\n",
       "2016         1751   89965.397924          232  108333.333333\n",
       "2017         6446   89899.960576          810  110723.150496\n",
       "2018         7119   93750.000000          801  117079.646018\n",
       "2019         2307  101092.896175          251  125250.836120"
      ]
     },
     "execution_count": 108,
     "metadata": {},
     "output_type": "execute_result"
    }
   ],
   "source": [
    "dfym=df_new.pivot_table(index='year', values='price_for_m2', aggfunc=['count','median'])\n",
    "dfcent=center.pivot_table(index='year', values='price_for_m2', aggfunc=['count','median'])\n",
    "dfym.merge(dfcent, on='year')"
   ]
  },
  {
   "cell_type": "markdown",
   "metadata": {},
   "source": [
    "На сравнительной столбчатой диаграмме мы видим, что у сегмента квартир в центре цена растет с каждым последующим годом, в то время, как медианная цена общей выборки незначительно снизилась 2017 году,а затем также приняла тендецию роста в последующих периодах."
   ]
  },
  {
   "cell_type": "markdown",
   "metadata": {},
   "source": [
    "### Вывод\n",
    "\n",
    "На данном этапе мы изучили основные параметры квартиры, которые определяют её стоимость. Выделили населенные пункы с наиболее высокой и низкой ценой на недвижимость. Также опредили сегмент квартир, расположенных в центре и сравнили как параметры недвижимость, так и порядок её ценообразования с выводами об общем рынке недвижимости в СПб и ЛО."
   ]
  },
  {
   "cell_type": "markdown",
   "metadata": {},
   "source": [
    "<a id=\"step5\"></a> \n",
    "## Шаг 5. Общий вывод"
   ]
  },
  {
   "cell_type": "markdown",
   "metadata": {},
   "source": [
    "На основе анализа данных сервиса Яндекс.Недвижимость мы можем сделать следующие выводы о рынке недвижимости в Санкт-Петербурге и Ленинградской области:\n",
    " - наиболее высокая цена за квадратный метр у однокомнатных квартир и студий;\n",
    " - если этаж не первый и не последний, то цена за квартиру будет выше; при этом цена на последний этаж будет выше цены на первый;\n",
    " - цена продажи квартиры не зависит от дня недели публикации объявления, в данном случае бОльшую роль играет либо месяц, либо год продажи, так как рынок недвижимости не отличается высокой волатильностью;\n",
    " - наиболее высокая цена за квадратный метр в: Санкт-Петербурге, Пушкине и поселке Кудрово, наиболее низкая - в Гатчине, Всеволжске и Выборге;\n",
    " - наиболее дорогие квартиры в Санкт-Петербурге находятся в радиусе 8 км от центра города;\n",
    " - для квартир в центральном сегменте характерны более высокие потолки, бОльшая площадь, и малое количество однокмнатных квартир и студий, что может характеризоваться особенностью планировок исторического жилого фонда;\n",
    " - в целом, за последние годы на рынке недвижимости в Санкт-Петербурге и ЛО наблюдается устойчивая тенденция роста цен."
   ]
  }
 ],
 "metadata": {
  "kernelspec": {
   "display_name": "Python 3",
   "language": "python",
   "name": "python3"
  },
  "language_info": {
   "codemirror_mode": {
    "name": "ipython",
    "version": 3
   },
   "file_extension": ".py",
   "mimetype": "text/x-python",
   "name": "python",
   "nbconvert_exporter": "python",
   "pygments_lexer": "ipython3",
   "version": "3.8.3"
  },
  "toc": {
   "base_numbering": 1,
   "nav_menu": {},
   "number_sections": true,
   "sideBar": true,
   "skip_h1_title": true,
   "title_cell": "Table of Contents",
   "title_sidebar": "Contents",
   "toc_cell": false,
   "toc_position": {},
   "toc_section_display": true,
   "toc_window_display": false
  }
 },
 "nbformat": 4,
 "nbformat_minor": 2
}

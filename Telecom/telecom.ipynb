{
 "cells": [
  {
   "cell_type": "markdown",
   "metadata": {},
   "source": [
    "# Определение перспективного тарифа для телеком компании"
   ]
  },
  {
   "cell_type": "markdown",
   "metadata": {},
   "source": [
    "В компании «Мегалайн» (федеральный оператора сотовой связи) клиентам предлагают два тарифных плана: «Смарт» и «Ультра». \n",
    "***Главная задача проекта*** - оценить и сравнить прибыльность каждого тарифа для компании, на основе анализа поведения клиентов. Полученные выводы будут учтены при дальнейшем формировании рекламного бюджета. Сравнение условий тарифов представлены в таблице ниже."
   ]
  },
  {
   "cell_type": "markdown",
   "metadata": {},
   "source": [
    "| Условия | Тариф \"Смарт\" | Тариф \"Ультра\" |\n",
    "| :- | :-: | :-: |\n",
    "|Ежемесячная плата, руб | 550 | 1950\n",
    "|Количество минут | 500 | 3000\n",
    "|Количество SMS | 50 | 1000\n",
    "|Объем интернет-трафика, Гб | 15| 30\n",
    "|| **Стоимость услуг сверх тарифного пакета, руб** ||\n",
    "|1 минутa | 3 | 1\n",
    "|1 SMS | 3 | 1\n",
    "|1 Гб | 200| 150\n",
    "  "
   ]
  },
  {
   "cell_type": "markdown",
   "metadata": {},
   "source": [
    "## Содержание"
   ]
  },
  {
   "cell_type": "markdown",
   "metadata": {},
   "source": [
    " 1. [Изучение данных](#step2)  \n",
    " 2. [Предобработка данных](#step3)    \n",
    " 3. [Анализ данных](#step4)\n",
    " 4. [Проверка гипотез](#step5)  \n",
    " 5. [Общие выводы](#step6)\n"
   ]
  },
  {
   "cell_type": "markdown",
   "metadata": {},
   "source": [
    "<a id=\"step2\"></a> \n",
    "## Изучение данных"
   ]
  },
  {
   "cell_type": "markdown",
   "metadata": {},
   "source": [
    "Для начала рассмотрим таблицу с клиентами."
   ]
  },
  {
   "cell_type": "code",
   "execution_count": 1,
   "metadata": {},
   "outputs": [
    {
     "data": {
      "text/html": [
       "<div>\n",
       "<style scoped>\n",
       "    .dataframe tbody tr th:only-of-type {\n",
       "        vertical-align: middle;\n",
       "    }\n",
       "\n",
       "    .dataframe tbody tr th {\n",
       "        vertical-align: top;\n",
       "    }\n",
       "\n",
       "    .dataframe thead th {\n",
       "        text-align: right;\n",
       "    }\n",
       "</style>\n",
       "<table border=\"1\" class=\"dataframe\">\n",
       "  <thead>\n",
       "    <tr style=\"text-align: right;\">\n",
       "      <th></th>\n",
       "      <th>user_id</th>\n",
       "      <th>age</th>\n",
       "      <th>churn_date</th>\n",
       "      <th>city</th>\n",
       "      <th>first_name</th>\n",
       "      <th>last_name</th>\n",
       "      <th>reg_date</th>\n",
       "      <th>tariff</th>\n",
       "    </tr>\n",
       "  </thead>\n",
       "  <tbody>\n",
       "    <tr>\n",
       "      <td>0</td>\n",
       "      <td>1000</td>\n",
       "      <td>52</td>\n",
       "      <td>NaN</td>\n",
       "      <td>Краснодар</td>\n",
       "      <td>Рафаил</td>\n",
       "      <td>Верещагин</td>\n",
       "      <td>2018-05-25</td>\n",
       "      <td>ultra</td>\n",
       "    </tr>\n",
       "    <tr>\n",
       "      <td>1</td>\n",
       "      <td>1001</td>\n",
       "      <td>41</td>\n",
       "      <td>NaN</td>\n",
       "      <td>Москва</td>\n",
       "      <td>Иван</td>\n",
       "      <td>Ежов</td>\n",
       "      <td>2018-11-01</td>\n",
       "      <td>smart</td>\n",
       "    </tr>\n",
       "    <tr>\n",
       "      <td>2</td>\n",
       "      <td>1002</td>\n",
       "      <td>59</td>\n",
       "      <td>NaN</td>\n",
       "      <td>Стерлитамак</td>\n",
       "      <td>Евгений</td>\n",
       "      <td>Абрамович</td>\n",
       "      <td>2018-06-17</td>\n",
       "      <td>smart</td>\n",
       "    </tr>\n",
       "    <tr>\n",
       "      <td>3</td>\n",
       "      <td>1003</td>\n",
       "      <td>23</td>\n",
       "      <td>NaN</td>\n",
       "      <td>Москва</td>\n",
       "      <td>Белла</td>\n",
       "      <td>Белякова</td>\n",
       "      <td>2018-08-17</td>\n",
       "      <td>ultra</td>\n",
       "    </tr>\n",
       "    <tr>\n",
       "      <td>4</td>\n",
       "      <td>1004</td>\n",
       "      <td>68</td>\n",
       "      <td>NaN</td>\n",
       "      <td>Новокузнецк</td>\n",
       "      <td>Татьяна</td>\n",
       "      <td>Авдеенко</td>\n",
       "      <td>2018-05-14</td>\n",
       "      <td>ultra</td>\n",
       "    </tr>\n",
       "    <tr>\n",
       "      <td>...</td>\n",
       "      <td>...</td>\n",
       "      <td>...</td>\n",
       "      <td>...</td>\n",
       "      <td>...</td>\n",
       "      <td>...</td>\n",
       "      <td>...</td>\n",
       "      <td>...</td>\n",
       "      <td>...</td>\n",
       "    </tr>\n",
       "    <tr>\n",
       "      <td>495</td>\n",
       "      <td>1495</td>\n",
       "      <td>65</td>\n",
       "      <td>NaN</td>\n",
       "      <td>Иркутск</td>\n",
       "      <td>Авксентий</td>\n",
       "      <td>Фокин</td>\n",
       "      <td>2018-08-28</td>\n",
       "      <td>ultra</td>\n",
       "    </tr>\n",
       "    <tr>\n",
       "      <td>496</td>\n",
       "      <td>1496</td>\n",
       "      <td>36</td>\n",
       "      <td>NaN</td>\n",
       "      <td>Вологда</td>\n",
       "      <td>Трифон</td>\n",
       "      <td>Блохин</td>\n",
       "      <td>2018-01-27</td>\n",
       "      <td>smart</td>\n",
       "    </tr>\n",
       "    <tr>\n",
       "      <td>497</td>\n",
       "      <td>1497</td>\n",
       "      <td>32</td>\n",
       "      <td>NaN</td>\n",
       "      <td>Челябинск</td>\n",
       "      <td>Каролина</td>\n",
       "      <td>Агеева</td>\n",
       "      <td>2018-10-09</td>\n",
       "      <td>smart</td>\n",
       "    </tr>\n",
       "    <tr>\n",
       "      <td>498</td>\n",
       "      <td>1498</td>\n",
       "      <td>68</td>\n",
       "      <td>2018-10-25</td>\n",
       "      <td>Владикавказ</td>\n",
       "      <td>Всеволод</td>\n",
       "      <td>Акимчин</td>\n",
       "      <td>2018-07-19</td>\n",
       "      <td>smart</td>\n",
       "    </tr>\n",
       "    <tr>\n",
       "      <td>499</td>\n",
       "      <td>1499</td>\n",
       "      <td>35</td>\n",
       "      <td>NaN</td>\n",
       "      <td>Пермь</td>\n",
       "      <td>Гектор</td>\n",
       "      <td>Корнилов</td>\n",
       "      <td>2018-09-27</td>\n",
       "      <td>smart</td>\n",
       "    </tr>\n",
       "  </tbody>\n",
       "</table>\n",
       "<p>500 rows × 8 columns</p>\n",
       "</div>"
      ],
      "text/plain": [
       "     user_id  age  churn_date         city first_name  last_name    reg_date  \\\n",
       "0       1000   52         NaN    Краснодар     Рафаил  Верещагин  2018-05-25   \n",
       "1       1001   41         NaN       Москва       Иван       Ежов  2018-11-01   \n",
       "2       1002   59         NaN  Стерлитамак    Евгений  Абрамович  2018-06-17   \n",
       "3       1003   23         NaN       Москва      Белла   Белякова  2018-08-17   \n",
       "4       1004   68         NaN  Новокузнецк    Татьяна   Авдеенко  2018-05-14   \n",
       "..       ...  ...         ...          ...        ...        ...         ...   \n",
       "495     1495   65         NaN      Иркутск  Авксентий      Фокин  2018-08-28   \n",
       "496     1496   36         NaN      Вологда     Трифон     Блохин  2018-01-27   \n",
       "497     1497   32         NaN    Челябинск   Каролина     Агеева  2018-10-09   \n",
       "498     1498   68  2018-10-25  Владикавказ   Всеволод    Акимчин  2018-07-19   \n",
       "499     1499   35         NaN        Пермь     Гектор   Корнилов  2018-09-27   \n",
       "\n",
       "    tariff  \n",
       "0    ultra  \n",
       "1    smart  \n",
       "2    smart  \n",
       "3    ultra  \n",
       "4    ultra  \n",
       "..     ...  \n",
       "495  ultra  \n",
       "496  smart  \n",
       "497  smart  \n",
       "498  smart  \n",
       "499  smart  \n",
       "\n",
       "[500 rows x 8 columns]"
      ]
     },
     "execution_count": 1,
     "metadata": {},
     "output_type": "execute_result"
    }
   ],
   "source": [
    "import pandas as pd\n",
    "users=pd.read_csv('/datasets/users.csv')\n",
    "users"
   ]
  },
  {
   "cell_type": "code",
   "execution_count": 2,
   "metadata": {},
   "outputs": [
    {
     "name": "stdout",
     "output_type": "stream",
     "text": [
      "<class 'pandas.core.frame.DataFrame'>\n",
      "RangeIndex: 500 entries, 0 to 499\n",
      "Data columns (total 8 columns):\n",
      "user_id       500 non-null int64\n",
      "age           500 non-null int64\n",
      "churn_date    38 non-null object\n",
      "city          500 non-null object\n",
      "first_name    500 non-null object\n",
      "last_name     500 non-null object\n",
      "reg_date      500 non-null object\n",
      "tariff        500 non-null object\n",
      "dtypes: int64(2), object(6)\n",
      "memory usage: 31.4+ KB\n"
     ]
    }
   ],
   "source": [
    "users.info()"
   ]
  },
  {
   "cell_type": "markdown",
   "metadata": {},
   "source": [
    "Выборка включает в себя базу данных по 500 клиентам, каждому из которых присвоен свой уникальный id. Мы видим большое число пропущенных значений по дате прекращения пользования тарифом. Согласно представленному описанию данных, если значение пропущено, то тариф ещё действовал на момент выгрузки данных. Таким образом, только 38 из 500 клиентов приняли решение отключить используемый тариф. Также мы видим, что необходимо сменить типа данных даты отключения тарифа и даты регистрации клиента. "
   ]
  },
  {
   "cell_type": "markdown",
   "metadata": {},
   "source": [
    "Проверим наличие дубликатов в выборке."
   ]
  },
  {
   "cell_type": "code",
   "execution_count": 3,
   "metadata": {},
   "outputs": [
    {
     "data": {
      "text/plain": [
       "0"
      ]
     },
     "execution_count": 3,
     "metadata": {},
     "output_type": "execute_result"
    }
   ],
   "source": [
    "users.duplicated().sum()"
   ]
  },
  {
   "cell_type": "markdown",
   "metadata": {},
   "source": [
    "Дублирующих строк нет."
   ]
  },
  {
   "cell_type": "markdown",
   "metadata": {},
   "source": [
    "Проверим наличие дубликатов в категориальной переменной по городам, просмотрев не повторяются ли значения из-за разных регистров."
   ]
  },
  {
   "cell_type": "code",
   "execution_count": 4,
   "metadata": {},
   "outputs": [
    {
     "data": {
      "text/plain": [
       "array(['Краснодар', 'Москва', 'Стерлитамак', 'Новокузнецк',\n",
       "       'Набережные Челны', 'Ульяновск', 'Челябинск', 'Пермь', 'Тюмень',\n",
       "       'Самара', 'Санкт-Петербург', 'Иваново', 'Чебоксары', 'Омск', 'Уфа',\n",
       "       'Томск', 'Чита', 'Мурманск', 'Петрозаводск', 'Тверь',\n",
       "       'Екатеринбург', 'Махачкала', 'Вологда', 'Череповец', 'Ярославль',\n",
       "       'Сочи', 'Хабаровск', 'Ставрополь', 'Рязань', 'Улан-Удэ', 'Тула',\n",
       "       'Саратов', 'Ростов-на-Дону', 'Казань', 'Иркутск', 'Курск',\n",
       "       'Калуга', 'Якутск', 'Астрахань', 'Химки', 'Владикавказ',\n",
       "       'Волгоград', 'Саранск', 'Ижевск', 'Новосибирск', 'Брянск',\n",
       "       'Тольятти', 'Нижний Тагил', 'Орёл', 'Белгород', 'Воронеж',\n",
       "       'Волжский', 'Курган', 'Барнаул', 'Красноярск', 'Архангельск',\n",
       "       'Липецк', 'Кемерово', 'Киров', 'Сургут', 'Пенза', 'Магнитогорск',\n",
       "       'Нижний Новгород', 'Кострома', 'Владивосток', 'Тамбов', 'Балашиха',\n",
       "       'Севастополь', 'Калининград', 'Оренбург', 'Смоленск',\n",
       "       'Нижневартовск', 'Владимир', 'Новороссийск', 'Грозный', 'Подольск'],\n",
       "      dtype=object)"
      ]
     },
     "execution_count": 4,
     "metadata": {},
     "output_type": "execute_result"
    }
   ],
   "source": [
    "users['city'].unique()"
   ]
  },
  {
   "cell_type": "markdown",
   "metadata": {},
   "source": [
    "Дублирующие значения отсутствуют."
   ]
  },
  {
   "cell_type": "markdown",
   "metadata": {},
   "source": [
    "Далее рассмотрим таблицу по звонкам."
   ]
  },
  {
   "cell_type": "code",
   "execution_count": 5,
   "metadata": {},
   "outputs": [
    {
     "data": {
      "text/html": [
       "<div>\n",
       "<style scoped>\n",
       "    .dataframe tbody tr th:only-of-type {\n",
       "        vertical-align: middle;\n",
       "    }\n",
       "\n",
       "    .dataframe tbody tr th {\n",
       "        vertical-align: top;\n",
       "    }\n",
       "\n",
       "    .dataframe thead th {\n",
       "        text-align: right;\n",
       "    }\n",
       "</style>\n",
       "<table border=\"1\" class=\"dataframe\">\n",
       "  <thead>\n",
       "    <tr style=\"text-align: right;\">\n",
       "      <th></th>\n",
       "      <th>id</th>\n",
       "      <th>call_date</th>\n",
       "      <th>duration</th>\n",
       "      <th>user_id</th>\n",
       "    </tr>\n",
       "  </thead>\n",
       "  <tbody>\n",
       "    <tr>\n",
       "      <td>0</td>\n",
       "      <td>1000_0</td>\n",
       "      <td>2018-07-25</td>\n",
       "      <td>0.00</td>\n",
       "      <td>1000</td>\n",
       "    </tr>\n",
       "    <tr>\n",
       "      <td>1</td>\n",
       "      <td>1000_1</td>\n",
       "      <td>2018-08-17</td>\n",
       "      <td>0.00</td>\n",
       "      <td>1000</td>\n",
       "    </tr>\n",
       "    <tr>\n",
       "      <td>2</td>\n",
       "      <td>1000_2</td>\n",
       "      <td>2018-06-11</td>\n",
       "      <td>2.85</td>\n",
       "      <td>1000</td>\n",
       "    </tr>\n",
       "    <tr>\n",
       "      <td>3</td>\n",
       "      <td>1000_3</td>\n",
       "      <td>2018-09-21</td>\n",
       "      <td>13.80</td>\n",
       "      <td>1000</td>\n",
       "    </tr>\n",
       "    <tr>\n",
       "      <td>4</td>\n",
       "      <td>1000_4</td>\n",
       "      <td>2018-12-15</td>\n",
       "      <td>5.18</td>\n",
       "      <td>1000</td>\n",
       "    </tr>\n",
       "    <tr>\n",
       "      <td>...</td>\n",
       "      <td>...</td>\n",
       "      <td>...</td>\n",
       "      <td>...</td>\n",
       "      <td>...</td>\n",
       "    </tr>\n",
       "    <tr>\n",
       "      <td>202602</td>\n",
       "      <td>1499_215</td>\n",
       "      <td>2018-12-26</td>\n",
       "      <td>0.76</td>\n",
       "      <td>1499</td>\n",
       "    </tr>\n",
       "    <tr>\n",
       "      <td>202603</td>\n",
       "      <td>1499_216</td>\n",
       "      <td>2018-10-18</td>\n",
       "      <td>18.83</td>\n",
       "      <td>1499</td>\n",
       "    </tr>\n",
       "    <tr>\n",
       "      <td>202604</td>\n",
       "      <td>1499_217</td>\n",
       "      <td>2018-11-10</td>\n",
       "      <td>10.81</td>\n",
       "      <td>1499</td>\n",
       "    </tr>\n",
       "    <tr>\n",
       "      <td>202605</td>\n",
       "      <td>1499_218</td>\n",
       "      <td>2018-10-06</td>\n",
       "      <td>4.27</td>\n",
       "      <td>1499</td>\n",
       "    </tr>\n",
       "    <tr>\n",
       "      <td>202606</td>\n",
       "      <td>1499_219</td>\n",
       "      <td>2018-12-14</td>\n",
       "      <td>19.62</td>\n",
       "      <td>1499</td>\n",
       "    </tr>\n",
       "  </tbody>\n",
       "</table>\n",
       "<p>202607 rows × 4 columns</p>\n",
       "</div>"
      ],
      "text/plain": [
       "              id   call_date  duration  user_id\n",
       "0         1000_0  2018-07-25      0.00     1000\n",
       "1         1000_1  2018-08-17      0.00     1000\n",
       "2         1000_2  2018-06-11      2.85     1000\n",
       "3         1000_3  2018-09-21     13.80     1000\n",
       "4         1000_4  2018-12-15      5.18     1000\n",
       "...          ...         ...       ...      ...\n",
       "202602  1499_215  2018-12-26      0.76     1499\n",
       "202603  1499_216  2018-10-18     18.83     1499\n",
       "202604  1499_217  2018-11-10     10.81     1499\n",
       "202605  1499_218  2018-10-06      4.27     1499\n",
       "202606  1499_219  2018-12-14     19.62     1499\n",
       "\n",
       "[202607 rows x 4 columns]"
      ]
     },
     "execution_count": 5,
     "metadata": {},
     "output_type": "execute_result"
    }
   ],
   "source": [
    "calls=pd.read_csv('/datasets/calls.csv')\n",
    "calls"
   ]
  },
  {
   "cell_type": "code",
   "execution_count": 6,
   "metadata": {},
   "outputs": [
    {
     "name": "stdout",
     "output_type": "stream",
     "text": [
      "<class 'pandas.core.frame.DataFrame'>\n",
      "RangeIndex: 202607 entries, 0 to 202606\n",
      "Data columns (total 4 columns):\n",
      "id           202607 non-null object\n",
      "call_date    202607 non-null object\n",
      "duration     202607 non-null float64\n",
      "user_id      202607 non-null int64\n",
      "dtypes: float64(1), int64(1), object(2)\n",
      "memory usage: 6.2+ MB\n"
     ]
    }
   ],
   "source": [
    "calls.info()"
   ]
  },
  {
   "cell_type": "code",
   "execution_count": 7,
   "metadata": {},
   "outputs": [
    {
     "data": {
      "text/plain": [
       "492"
      ]
     },
     "execution_count": 7,
     "metadata": {},
     "output_type": "execute_result"
    }
   ],
   "source": [
    "calls['user_id'].nunique()"
   ]
  },
  {
   "cell_type": "markdown",
   "metadata": {},
   "source": [
    "При первоначальном изучении данных по звонкам, мы видим, что:  \n",
    "* необходимо заменить тип данных по переменной даты звонка на формат даты\n",
    "* учитывая, что оператор всегда округляет вверх значения минут, длительность звонка можно округлить и заменить на целочисленные значения\n",
    "* по 8 клиентам из выборки отсутствуют данные о совершенных звонках, возможно они не пользовались мобильной связью, а предпочитали совершать звонки через мессенджеры. Данный факт следует учесть при последующем объединении таблиц - включить в итоговую таблицу все 500 клиентов, пропущенные значения по звонкам - заменить на 0."
   ]
  },
  {
   "cell_type": "code",
   "execution_count": 8,
   "metadata": {},
   "outputs": [
    {
     "data": {
      "text/plain": [
       "0.19551644316336553"
      ]
     },
     "execution_count": 8,
     "metadata": {},
     "output_type": "execute_result"
    }
   ],
   "source": [
    "len(calls.query('duration==0.00'))/len(calls)"
   ]
  },
  {
   "cell_type": "markdown",
   "metadata": {},
   "source": [
    "Около 20% значений длительности звонка равна нулю, что скорее всего может отражать пропущенные звонки. Удалять данные значения было бы некорректно, так как они составляют значительный процент выборки. Также заменять данные нулевые значения тоже не стоит, потому что при дальнейшем анализе это исказит значение прибыли, которую получает оператор от клиента. Более того, наличие пропущенных звонков отражает нашу реальную действительность, удаление нулевых значений может привести к искажению анализа поведения клиента. Таким образом, оставим нулевую продолжительность звонков в том виде, в котором она была представлена изначально."
   ]
  },
  {
   "cell_type": "markdown",
   "metadata": {},
   "source": [
    "Изучим наличие выбросов по переменной длительности звонков, построив диаграмму рассеяния."
   ]
  },
  {
   "cell_type": "code",
   "execution_count": 9,
   "metadata": {},
   "outputs": [
    {
     "data": {
      "image/png": "[encoded data removed]",
      "text/plain": [
       "<Figure size 432x288 with 1 Axes>"
      ]
     },
     "metadata": {
      "needs_background": "light"
     },
     "output_type": "display_data"
    }
   ],
   "source": [
    "import matplotlib.pyplot as plt\n",
    "calls.boxplot(column='duration', vert=False)\n",
    "plt.title('Диаграмма рассеяния длительности звонков')\n",
    "plt.xlabel('Длительность звонков в минутах')\n",
    "plt.show()"
   ]
  },
  {
   "cell_type": "markdown",
   "metadata": {},
   "source": [
    "На диаграмме рассеяния мы видим достаточно плотный хвост выбросов, однако если посмотреть на значения данных выбросов, то ими являются  все звонки продолжителньостью примерно от 25 до 40 минут, что является весьма допустимыми значениями в нашей жизни. Для более детального изучения рассмотрим описательную статистику."
   ]
  },
  {
   "cell_type": "code",
   "execution_count": 10,
   "metadata": {},
   "outputs": [
    {
     "data": {
      "text/plain": [
       "count    202607.000000\n",
       "mean          6.755887\n",
       "std           5.843365\n",
       "min           0.000000\n",
       "25%           1.300000\n",
       "50%           6.000000\n",
       "75%          10.700000\n",
       "max          38.000000\n",
       "Name: duration, dtype: float64"
      ]
     },
     "execution_count": 10,
     "metadata": {},
     "output_type": "execute_result"
    }
   ],
   "source": [
    "calls['duration'].describe()"
   ]
  },
  {
   "cell_type": "markdown",
   "metadata": {},
   "source": [
    "Мы видим что половина звонков нашей выборки длится не более 6 минут, и только четверть звонков длится больше 10.7 минут. Звонок с максимальной продолжительностью составляет 38 минут, что вполне может соответствовать действительности. Также отметим, что медиана и среднее значение не значительно отличаются друг от друга, а значит можно предположить, что выбросы, наблюдаемые на диаграмме рассеяния не искажают представления о длительности звоноков. Вместе с тем стоит отметить, что стандартное отклонение принимает достаточно большое значение. Данный факт свидетельствует о том, что в выборке наблюдается высокий разброс данных, который может объсняться наличием пропущенных звоноков с нулевой длительностью, а также наоборот слишком продолжительных звонков, которые определяются как выбросы на диаграмме рассеяния. "
   ]
  },
  {
   "cell_type": "code",
   "execution_count": 11,
   "metadata": {},
   "outputs": [
    {
     "data": {
      "image/png": "[encoded data removed]",
      "text/plain": [
       "<Figure size 432x288 with 1 Axes>"
      ]
     },
     "metadata": {
      "needs_background": "light"
     },
     "output_type": "display_data"
    }
   ],
   "source": [
    "calls['duration'].hist(bins=75)\n",
    "plt.title('Распределение длительности звонков')\n",
    "plt.xlabel('Длительность звонков в минутах')\n",
    "plt.ylabel('Количество звонков')\n",
    "plt.show()\n"
   ]
  },
  {
   "cell_type": "markdown",
   "metadata": {},
   "source": [
    "По графику распределения мы видим, что рассматриваемый датасет имеет скошенность вправо: среднее значение длительности звонков больше медианы, что мы могли заметить ранее и из описательной статистики и на боксплоте."
   ]
  },
  {
   "cell_type": "markdown",
   "metadata": {},
   "source": [
    "Проверим наличие дубликатов в таблице со звонками."
   ]
  },
  {
   "cell_type": "code",
   "execution_count": 12,
   "metadata": {},
   "outputs": [
    {
     "data": {
      "text/plain": [
       "0"
      ]
     },
     "execution_count": 12,
     "metadata": {},
     "output_type": "execute_result"
    }
   ],
   "source": [
    "calls.duplicated().sum()"
   ]
  },
  {
   "cell_type": "markdown",
   "metadata": {},
   "source": [
    "Дублирующие строки отсутствуют."
   ]
  },
  {
   "cell_type": "markdown",
   "metadata": {},
   "source": [
    "Далее рассмотрим данные по используемому трафику интернета."
   ]
  },
  {
   "cell_type": "code",
   "execution_count": 13,
   "metadata": {},
   "outputs": [
    {
     "data": {
      "text/html": [
       "<div>\n",
       "<style scoped>\n",
       "    .dataframe tbody tr th:only-of-type {\n",
       "        vertical-align: middle;\n",
       "    }\n",
       "\n",
       "    .dataframe tbody tr th {\n",
       "        vertical-align: top;\n",
       "    }\n",
       "\n",
       "    .dataframe thead th {\n",
       "        text-align: right;\n",
       "    }\n",
       "</style>\n",
       "<table border=\"1\" class=\"dataframe\">\n",
       "  <thead>\n",
       "    <tr style=\"text-align: right;\">\n",
       "      <th></th>\n",
       "      <th>Unnamed: 0</th>\n",
       "      <th>id</th>\n",
       "      <th>mb_used</th>\n",
       "      <th>session_date</th>\n",
       "      <th>user_id</th>\n",
       "    </tr>\n",
       "  </thead>\n",
       "  <tbody>\n",
       "    <tr>\n",
       "      <td>0</td>\n",
       "      <td>0</td>\n",
       "      <td>1000_0</td>\n",
       "      <td>112.95</td>\n",
       "      <td>2018-11-25</td>\n",
       "      <td>1000</td>\n",
       "    </tr>\n",
       "    <tr>\n",
       "      <td>1</td>\n",
       "      <td>1</td>\n",
       "      <td>1000_1</td>\n",
       "      <td>1052.81</td>\n",
       "      <td>2018-09-07</td>\n",
       "      <td>1000</td>\n",
       "    </tr>\n",
       "    <tr>\n",
       "      <td>2</td>\n",
       "      <td>2</td>\n",
       "      <td>1000_2</td>\n",
       "      <td>1197.26</td>\n",
       "      <td>2018-06-25</td>\n",
       "      <td>1000</td>\n",
       "    </tr>\n",
       "    <tr>\n",
       "      <td>3</td>\n",
       "      <td>3</td>\n",
       "      <td>1000_3</td>\n",
       "      <td>550.27</td>\n",
       "      <td>2018-08-22</td>\n",
       "      <td>1000</td>\n",
       "    </tr>\n",
       "    <tr>\n",
       "      <td>4</td>\n",
       "      <td>4</td>\n",
       "      <td>1000_4</td>\n",
       "      <td>302.56</td>\n",
       "      <td>2018-09-24</td>\n",
       "      <td>1000</td>\n",
       "    </tr>\n",
       "    <tr>\n",
       "      <td>...</td>\n",
       "      <td>...</td>\n",
       "      <td>...</td>\n",
       "      <td>...</td>\n",
       "      <td>...</td>\n",
       "      <td>...</td>\n",
       "    </tr>\n",
       "    <tr>\n",
       "      <td>149391</td>\n",
       "      <td>149391</td>\n",
       "      <td>1499_152</td>\n",
       "      <td>318.90</td>\n",
       "      <td>2018-10-03</td>\n",
       "      <td>1499</td>\n",
       "    </tr>\n",
       "    <tr>\n",
       "      <td>149392</td>\n",
       "      <td>149392</td>\n",
       "      <td>1499_153</td>\n",
       "      <td>490.13</td>\n",
       "      <td>2018-12-14</td>\n",
       "      <td>1499</td>\n",
       "    </tr>\n",
       "    <tr>\n",
       "      <td>149393</td>\n",
       "      <td>149393</td>\n",
       "      <td>1499_154</td>\n",
       "      <td>0.00</td>\n",
       "      <td>2018-10-27</td>\n",
       "      <td>1499</td>\n",
       "    </tr>\n",
       "    <tr>\n",
       "      <td>149394</td>\n",
       "      <td>149394</td>\n",
       "      <td>1499_155</td>\n",
       "      <td>1246.32</td>\n",
       "      <td>2018-11-26</td>\n",
       "      <td>1499</td>\n",
       "    </tr>\n",
       "    <tr>\n",
       "      <td>149395</td>\n",
       "      <td>149395</td>\n",
       "      <td>1499_156</td>\n",
       "      <td>544.37</td>\n",
       "      <td>2018-10-26</td>\n",
       "      <td>1499</td>\n",
       "    </tr>\n",
       "  </tbody>\n",
       "</table>\n",
       "<p>149396 rows × 5 columns</p>\n",
       "</div>"
      ],
      "text/plain": [
       "        Unnamed: 0        id  mb_used session_date  user_id\n",
       "0                0    1000_0   112.95   2018-11-25     1000\n",
       "1                1    1000_1  1052.81   2018-09-07     1000\n",
       "2                2    1000_2  1197.26   2018-06-25     1000\n",
       "3                3    1000_3   550.27   2018-08-22     1000\n",
       "4                4    1000_4   302.56   2018-09-24     1000\n",
       "...            ...       ...      ...          ...      ...\n",
       "149391      149391  1499_152   318.90   2018-10-03     1499\n",
       "149392      149392  1499_153   490.13   2018-12-14     1499\n",
       "149393      149393  1499_154     0.00   2018-10-27     1499\n",
       "149394      149394  1499_155  1246.32   2018-11-26     1499\n",
       "149395      149395  1499_156   544.37   2018-10-26     1499\n",
       "\n",
       "[149396 rows x 5 columns]"
      ]
     },
     "execution_count": 13,
     "metadata": {},
     "output_type": "execute_result"
    }
   ],
   "source": [
    "net=pd.read_csv('/datasets/internet.csv')\n",
    "net"
   ]
  },
  {
   "cell_type": "markdown",
   "metadata": {},
   "source": [
    "Мы видим в таблице столбец который просто дублирует нумерацию строк - от него можно избавиться."
   ]
  },
  {
   "cell_type": "code",
   "execution_count": 14,
   "metadata": {},
   "outputs": [],
   "source": [
    "del net['Unnamed: 0']"
   ]
  },
  {
   "cell_type": "code",
   "execution_count": 15,
   "metadata": {},
   "outputs": [
    {
     "name": "stdout",
     "output_type": "stream",
     "text": [
      "<class 'pandas.core.frame.DataFrame'>\n",
      "RangeIndex: 149396 entries, 0 to 149395\n",
      "Data columns (total 4 columns):\n",
      "id              149396 non-null object\n",
      "mb_used         149396 non-null float64\n",
      "session_date    149396 non-null object\n",
      "user_id         149396 non-null int64\n",
      "dtypes: float64(1), int64(1), object(2)\n",
      "memory usage: 4.6+ MB\n"
     ]
    }
   ],
   "source": [
    "net.info()"
   ]
  },
  {
   "cell_type": "code",
   "execution_count": 16,
   "metadata": {},
   "outputs": [
    {
     "data": {
      "text/plain": [
       "497"
      ]
     },
     "execution_count": 16,
     "metadata": {},
     "output_type": "execute_result"
    }
   ],
   "source": [
    "net['user_id'].nunique()"
   ]
  },
  {
   "cell_type": "markdown",
   "metadata": {},
   "source": [
    "При первоначальном изучении данных по использованию интернет-трафика, мы видим, что:  \n",
    "* необходимо заменить тип данных по переменной даты сессии на формат даты\n",
    "* учитывая, что оператор всегда округляет вверх значения мегабайт, количество использованных Мб можно округлить вверх и заменить на целочисленные значения\n",
    "* по 3 клиентам из выборки отсутствуют данные  - возможно, мобильный интернет им неудобен в использовании и они не пользуются трафиком. Данный факт следует учесть при последующем объединении таблиц - включить в итоговую таблицу все 500 клиентов, пропущенные значения по трафику - заменить на 0."
   ]
  },
  {
   "cell_type": "code",
   "execution_count": 17,
   "metadata": {
    "scrolled": true
   },
   "outputs": [
    {
     "data": {
      "text/plain": [
       "count    149396.000000\n",
       "mean        370.192426\n",
       "std         278.300951\n",
       "min           0.000000\n",
       "25%         138.187500\n",
       "50%         348.015000\n",
       "75%         559.552500\n",
       "max        1724.830000\n",
       "Name: mb_used, dtype: float64"
      ]
     },
     "execution_count": 17,
     "metadata": {},
     "output_type": "execute_result"
    }
   ],
   "source": [
    "net['mb_used'].describe()"
   ]
  },
  {
   "cell_type": "code",
   "execution_count": 18,
   "metadata": {},
   "outputs": [
    {
     "data": {
      "image/png": "[encoded data removed]",
      "text/plain": [
       "<Figure size 432x288 with 1 Axes>"
      ]
     },
     "metadata": {
      "needs_background": "light"
     },
     "output_type": "display_data"
    }
   ],
   "source": [
    "import matplotlib.pyplot as plt\n",
    "net.boxplot(column='mb_used', vert=False)\n",
    "plt.title('Диаграмма рассеяния использования трафика')\n",
    "plt.xlabel('Количество использованных Мб')\n",
    "plt.show()"
   ]
  },
  {
   "cell_type": "code",
   "execution_count": 19,
   "metadata": {},
   "outputs": [
    {
     "data": {
      "text/plain": [
       "0.13118155773916304"
      ]
     },
     "execution_count": 19,
     "metadata": {},
     "output_type": "execute_result"
    }
   ],
   "source": [
    "len(net.query('mb_used==0'))/len(net)"
   ]
  },
  {
   "cell_type": "markdown",
   "metadata": {},
   "source": [
    "Минимальное значение сессии - 0 мб, можно предположить, что это прерванные интернет-сессии, в результате которых не были загружены страницы. Подобные сессии составляют около 13% от всех наблюдений. На диаграмме рассеяния мы видим достаточно плотный хвост выбросов, однако если посмотреть на значения данных выбросов, то ими являются  все сессии, которые затрачивают примерно от 1200 до 1724 Мб, возможно в данном случае клиенты тратили мобильный трафик на длительный просмотр видео. При этом половина всех сессий затрачивала не более 348 Мб. При этом мы наблюдаем достаточно высокое стандартное отклонение размером около 278Мб. Также учитывая, что медианное значение ниже среднего, можно говорить о том, что распределение интернет-сессий скошено вправо. Проверим это на гистограмме ниже."
   ]
  },
  {
   "cell_type": "code",
   "execution_count": 20,
   "metadata": {},
   "outputs": [
    {
     "data": {
      "image/png": "[encoded data removed]",
      "text/plain": [
       "<Figure size 432x288 with 1 Axes>"
      ]
     },
     "metadata": {
      "needs_background": "light"
     },
     "output_type": "display_data"
    }
   ],
   "source": [
    "net['mb_used'].hist(bins=75)\n",
    "plt.title('Распределение сессий использования трафика')\n",
    "plt.xlabel('Количество использованных Мб')\n",
    "plt.ylabel('Количество сессий')\n",
    "plt.show()"
   ]
  },
  {
   "cell_type": "code",
   "execution_count": 21,
   "metadata": {},
   "outputs": [
    {
     "data": {
      "text/html": [
       "<div>\n",
       "<style scoped>\n",
       "    .dataframe tbody tr th:only-of-type {\n",
       "        vertical-align: middle;\n",
       "    }\n",
       "\n",
       "    .dataframe tbody tr th {\n",
       "        vertical-align: top;\n",
       "    }\n",
       "\n",
       "    .dataframe thead th {\n",
       "        text-align: right;\n",
       "    }\n",
       "</style>\n",
       "<table border=\"1\" class=\"dataframe\">\n",
       "  <thead>\n",
       "    <tr style=\"text-align: right;\">\n",
       "      <th></th>\n",
       "      <th>id</th>\n",
       "      <th>message_date</th>\n",
       "      <th>user_id</th>\n",
       "    </tr>\n",
       "  </thead>\n",
       "  <tbody>\n",
       "    <tr>\n",
       "      <td>0</td>\n",
       "      <td>1000_0</td>\n",
       "      <td>2018-06-27</td>\n",
       "      <td>1000</td>\n",
       "    </tr>\n",
       "    <tr>\n",
       "      <td>1</td>\n",
       "      <td>1000_1</td>\n",
       "      <td>2018-10-08</td>\n",
       "      <td>1000</td>\n",
       "    </tr>\n",
       "    <tr>\n",
       "      <td>2</td>\n",
       "      <td>1000_2</td>\n",
       "      <td>2018-08-04</td>\n",
       "      <td>1000</td>\n",
       "    </tr>\n",
       "    <tr>\n",
       "      <td>3</td>\n",
       "      <td>1000_3</td>\n",
       "      <td>2018-06-16</td>\n",
       "      <td>1000</td>\n",
       "    </tr>\n",
       "    <tr>\n",
       "      <td>4</td>\n",
       "      <td>1000_4</td>\n",
       "      <td>2018-12-05</td>\n",
       "      <td>1000</td>\n",
       "    </tr>\n",
       "    <tr>\n",
       "      <td>...</td>\n",
       "      <td>...</td>\n",
       "      <td>...</td>\n",
       "      <td>...</td>\n",
       "    </tr>\n",
       "    <tr>\n",
       "      <td>123031</td>\n",
       "      <td>1499_179</td>\n",
       "      <td>2018-12-12</td>\n",
       "      <td>1499</td>\n",
       "    </tr>\n",
       "    <tr>\n",
       "      <td>123032</td>\n",
       "      <td>1499_180</td>\n",
       "      <td>2018-09-28</td>\n",
       "      <td>1499</td>\n",
       "    </tr>\n",
       "    <tr>\n",
       "      <td>123033</td>\n",
       "      <td>1499_181</td>\n",
       "      <td>2018-09-27</td>\n",
       "      <td>1499</td>\n",
       "    </tr>\n",
       "    <tr>\n",
       "      <td>123034</td>\n",
       "      <td>1499_182</td>\n",
       "      <td>2018-11-15</td>\n",
       "      <td>1499</td>\n",
       "    </tr>\n",
       "    <tr>\n",
       "      <td>123035</td>\n",
       "      <td>1499_183</td>\n",
       "      <td>2018-11-16</td>\n",
       "      <td>1499</td>\n",
       "    </tr>\n",
       "  </tbody>\n",
       "</table>\n",
       "<p>123036 rows × 3 columns</p>\n",
       "</div>"
      ],
      "text/plain": [
       "              id message_date  user_id\n",
       "0         1000_0   2018-06-27     1000\n",
       "1         1000_1   2018-10-08     1000\n",
       "2         1000_2   2018-08-04     1000\n",
       "3         1000_3   2018-06-16     1000\n",
       "4         1000_4   2018-12-05     1000\n",
       "...          ...          ...      ...\n",
       "123031  1499_179   2018-12-12     1499\n",
       "123032  1499_180   2018-09-28     1499\n",
       "123033  1499_181   2018-09-27     1499\n",
       "123034  1499_182   2018-11-15     1499\n",
       "123035  1499_183   2018-11-16     1499\n",
       "\n",
       "[123036 rows x 3 columns]"
      ]
     },
     "execution_count": 21,
     "metadata": {},
     "output_type": "execute_result"
    }
   ],
   "source": [
    "sms=pd.read_csv('/datasets/messages.csv')\n",
    "sms"
   ]
  },
  {
   "cell_type": "code",
   "execution_count": 22,
   "metadata": {},
   "outputs": [
    {
     "name": "stdout",
     "output_type": "stream",
     "text": [
      "<class 'pandas.core.frame.DataFrame'>\n",
      "RangeIndex: 123036 entries, 0 to 123035\n",
      "Data columns (total 3 columns):\n",
      "id              123036 non-null object\n",
      "message_date    123036 non-null object\n",
      "user_id         123036 non-null int64\n",
      "dtypes: int64(1), object(2)\n",
      "memory usage: 2.8+ MB\n"
     ]
    }
   ],
   "source": [
    "sms.info()"
   ]
  },
  {
   "cell_type": "code",
   "execution_count": 23,
   "metadata": {},
   "outputs": [
    {
     "data": {
      "text/plain": [
       "426"
      ]
     },
     "execution_count": 23,
     "metadata": {},
     "output_type": "execute_result"
    }
   ],
   "source": [
    "sms['user_id'].nunique()"
   ]
  },
  {
   "cell_type": "markdown",
   "metadata": {},
   "source": [
    "При первоначальном изучении данных по отправке смс, мы видим, что:  \n",
    "* необходимо заменить тип данных по переменной даты отправки смс на формат даты\n",
    "* по 74 клиентам из выборки отсутствуют данные  - скорее всего, они не отправляют смс соббщения, а предпочитают общение исключительно в мессенджерах или же только через звонки. Данный факт следует учесть при последующем объединении таблиц - включить в итоговую таблицу все 500 клиентов, пропущенные значения по отправленным смс - заменить на 0."
   ]
  },
  {
   "cell_type": "markdown",
   "metadata": {},
   "source": [
    "Далее изучим таблицу по условиям тарифов."
   ]
  },
  {
   "cell_type": "code",
   "execution_count": 24,
   "metadata": {},
   "outputs": [
    {
     "data": {
      "text/html": [
       "<div>\n",
       "<style scoped>\n",
       "    .dataframe tbody tr th:only-of-type {\n",
       "        vertical-align: middle;\n",
       "    }\n",
       "\n",
       "    .dataframe tbody tr th {\n",
       "        vertical-align: top;\n",
       "    }\n",
       "\n",
       "    .dataframe thead th {\n",
       "        text-align: right;\n",
       "    }\n",
       "</style>\n",
       "<table border=\"1\" class=\"dataframe\">\n",
       "  <thead>\n",
       "    <tr style=\"text-align: right;\">\n",
       "      <th></th>\n",
       "      <th>messages_included</th>\n",
       "      <th>mb_per_month_included</th>\n",
       "      <th>minutes_included</th>\n",
       "      <th>rub_monthly_fee</th>\n",
       "      <th>rub_per_gb</th>\n",
       "      <th>rub_per_message</th>\n",
       "      <th>rub_per_minute</th>\n",
       "      <th>tariff_name</th>\n",
       "    </tr>\n",
       "  </thead>\n",
       "  <tbody>\n",
       "    <tr>\n",
       "      <td>0</td>\n",
       "      <td>50</td>\n",
       "      <td>15360</td>\n",
       "      <td>500</td>\n",
       "      <td>550</td>\n",
       "      <td>200</td>\n",
       "      <td>3</td>\n",
       "      <td>3</td>\n",
       "      <td>smart</td>\n",
       "    </tr>\n",
       "    <tr>\n",
       "      <td>1</td>\n",
       "      <td>1000</td>\n",
       "      <td>30720</td>\n",
       "      <td>3000</td>\n",
       "      <td>1950</td>\n",
       "      <td>150</td>\n",
       "      <td>1</td>\n",
       "      <td>1</td>\n",
       "      <td>ultra</td>\n",
       "    </tr>\n",
       "  </tbody>\n",
       "</table>\n",
       "</div>"
      ],
      "text/plain": [
       "   messages_included  mb_per_month_included  minutes_included  \\\n",
       "0                 50                  15360               500   \n",
       "1               1000                  30720              3000   \n",
       "\n",
       "   rub_monthly_fee  rub_per_gb  rub_per_message  rub_per_minute tariff_name  \n",
       "0              550         200                3               3       smart  \n",
       "1             1950         150                1               1       ultra  "
      ]
     },
     "execution_count": 24,
     "metadata": {},
     "output_type": "execute_result"
    }
   ],
   "source": [
    "tariff=pd.read_csv('/datasets/tariffs.csv')\n",
    "tariff"
   ]
  },
  {
   "cell_type": "markdown",
   "metadata": {},
   "source": [
    "В условиях тарифов мы видим, что изначально включенный пакет по интернет - трафику рассчитывается в мегабайтах. В случае исчерпания лимита трафика, далее уже указывается цена за 1 гигабайт. Следовательно, клиент не может далее докупать мегабайты, а должен сразу оплачивать 1 гигабайт интернета. Данную особенность необходимо учесть при расчете выручки с клиентов."
   ]
  },
  {
   "cell_type": "markdown",
   "metadata": {},
   "source": [
    "### Вывод"
   ]
  },
  {
   "cell_type": "markdown",
   "metadata": {},
   "source": [
    "В результате первичного изучения данных мы определили следующие необходимые шаги для дальнейшей предобработки данных:\n",
    "* приведение дат в таблицах клиентов, звоноков, смс и интернет-трафика к соответсвующему типу данных\n",
    "* округление вверх использованных мегабайтов и длительности звонков и последующему приведению к целочисленному типу\n",
    "* соединять таблицы на основе выборки из 500 клиентов, а полученные пропущенные значения по звонкам, смс и интернет-трафику заменить на ноль\n",
    "* при расчете выручки с клиентов, учитывать, что в случае исчерпания лимита по трафику, далее цена взымается сразу за 1 Гб\n"
   ]
  },
  {
   "cell_type": "markdown",
   "metadata": {},
   "source": [
    "<a id=\"step3\"></a> \n",
    "## Предобработка данных "
   ]
  },
  {
   "cell_type": "markdown",
   "metadata": {},
   "source": [
    "Приведем все даты в таблицах к соответствующему типу данных"
   ]
  },
  {
   "cell_type": "code",
   "execution_count": 25,
   "metadata": {},
   "outputs": [],
   "source": [
    "calls['call_date'] = pd.to_datetime(calls['call_date'],format='%Y/%m/%d')\n",
    "net['session_date'] = pd.to_datetime(net['session_date'],format='%Y/%m/%d')\n",
    "sms['message_date'] = pd.to_datetime(sms['message_date'],format='%Y/%m/%d')\n",
    "users['reg_date'] = pd.to_datetime(users['reg_date'],format='%Y/%m/%d')\n",
    "users['churn_date'] = pd.to_datetime(users['churn_date'],format='%Y/%m/%d')"
   ]
  },
  {
   "cell_type": "markdown",
   "metadata": {},
   "source": [
    "Округлим значения длительности звонков и трафика сессий и приведем к целочисленному типу"
   ]
  },
  {
   "cell_type": "code",
   "execution_count": 26,
   "metadata": {},
   "outputs": [],
   "source": [
    "import numpy as np\n",
    "calls['duration']=calls['duration'].apply(np.ceil).astype('int64')\n",
    "net['mb_used']=net['mb_used'].apply(np.ceil).astype('int64')"
   ]
  },
  {
   "cell_type": "markdown",
   "metadata": {},
   "source": [
    "Для сведения таблиц создадим отдельную таблицу, где сохраним все id клиентов и их дату регистрации"
   ]
  },
  {
   "cell_type": "code",
   "execution_count": 27,
   "metadata": {},
   "outputs": [
    {
     "data": {
      "text/html": [
       "<div>\n",
       "<style scoped>\n",
       "    .dataframe tbody tr th:only-of-type {\n",
       "        vertical-align: middle;\n",
       "    }\n",
       "\n",
       "    .dataframe tbody tr th {\n",
       "        vertical-align: top;\n",
       "    }\n",
       "\n",
       "    .dataframe thead th {\n",
       "        text-align: right;\n",
       "    }\n",
       "</style>\n",
       "<table border=\"1\" class=\"dataframe\">\n",
       "  <thead>\n",
       "    <tr style=\"text-align: right;\">\n",
       "      <th></th>\n",
       "      <th>user_id</th>\n",
       "      <th>reg_date</th>\n",
       "    </tr>\n",
       "  </thead>\n",
       "  <tbody>\n",
       "    <tr>\n",
       "      <td>0</td>\n",
       "      <td>1000</td>\n",
       "      <td>2018-05-25</td>\n",
       "    </tr>\n",
       "    <tr>\n",
       "      <td>1</td>\n",
       "      <td>1001</td>\n",
       "      <td>2018-11-01</td>\n",
       "    </tr>\n",
       "    <tr>\n",
       "      <td>2</td>\n",
       "      <td>1002</td>\n",
       "      <td>2018-06-17</td>\n",
       "    </tr>\n",
       "    <tr>\n",
       "      <td>3</td>\n",
       "      <td>1003</td>\n",
       "      <td>2018-08-17</td>\n",
       "    </tr>\n",
       "    <tr>\n",
       "      <td>4</td>\n",
       "      <td>1004</td>\n",
       "      <td>2018-05-14</td>\n",
       "    </tr>\n",
       "  </tbody>\n",
       "</table>\n",
       "</div>"
      ],
      "text/plain": [
       "   user_id   reg_date\n",
       "0     1000 2018-05-25\n",
       "1     1001 2018-11-01\n",
       "2     1002 2018-06-17\n",
       "3     1003 2018-08-17\n",
       "4     1004 2018-05-14"
      ]
     },
     "execution_count": 27,
     "metadata": {},
     "output_type": "execute_result"
    }
   ],
   "source": [
    "user = users.groupby(['user_id'])['reg_date'].min().reset_index()\n",
    "user.head()\n"
   ]
  },
  {
   "cell_type": "markdown",
   "metadata": {},
   "source": [
    "Из даты регистрации выделим отдельно месяц."
   ]
  },
  {
   "cell_type": "code",
   "execution_count": 28,
   "metadata": {},
   "outputs": [],
   "source": [
    "user['reg_month'] = user['reg_date'].values.astype('datetime64[M]')"
   ]
  },
  {
   "cell_type": "markdown",
   "metadata": {},
   "source": [
    "Далее рассчитаем все месяцы регистрации представленные в выборке"
   ]
  },
  {
   "cell_type": "code",
   "execution_count": 29,
   "metadata": {},
   "outputs": [
    {
     "data": {
      "text/plain": [
       "DatetimeIndex(['2018-01-01', '2018-02-01', '2018-03-01', '2018-04-01',\n",
       "               '2018-05-01', '2018-06-01', '2018-07-01', '2018-08-01',\n",
       "               '2018-09-01', '2018-10-01', '2018-11-01', '2018-12-01'],\n",
       "              dtype='datetime64[ns]', freq='MS')"
      ]
     },
     "execution_count": 29,
     "metadata": {},
     "output_type": "execute_result"
    }
   ],
   "source": [
    "min_month = users['reg_date'].values.astype('datetime64[M]').min()\n",
    "max_month = users['reg_date'].values.astype('datetime64[M]').max()\n",
    "pd.date_range(min_month,max_month,freq='MS')"
   ]
  },
  {
   "cell_type": "code",
   "execution_count": 30,
   "metadata": {},
   "outputs": [],
   "source": [
    "dr = pd.DataFrame(pd.date_range(min_month,max_month,freq='MS'))\n",
    "dr.columns = ['month']\n"
   ]
  },
  {
   "cell_type": "markdown",
   "metadata": {},
   "source": [
    "Соединим две таблицы."
   ]
  },
  {
   "cell_type": "code",
   "execution_count": 31,
   "metadata": {},
   "outputs": [
    {
     "data": {
      "text/html": [
       "<div>\n",
       "<style scoped>\n",
       "    .dataframe tbody tr th:only-of-type {\n",
       "        vertical-align: middle;\n",
       "    }\n",
       "\n",
       "    .dataframe tbody tr th {\n",
       "        vertical-align: top;\n",
       "    }\n",
       "\n",
       "    .dataframe thead th {\n",
       "        text-align: right;\n",
       "    }\n",
       "</style>\n",
       "<table border=\"1\" class=\"dataframe\">\n",
       "  <thead>\n",
       "    <tr style=\"text-align: right;\">\n",
       "      <th></th>\n",
       "      <th>month</th>\n",
       "      <th>key</th>\n",
       "      <th>user_id</th>\n",
       "      <th>reg_date</th>\n",
       "      <th>reg_month</th>\n",
       "    </tr>\n",
       "  </thead>\n",
       "  <tbody>\n",
       "    <tr>\n",
       "      <td>0</td>\n",
       "      <td>2018-01-01</td>\n",
       "      <td>1</td>\n",
       "      <td>1000</td>\n",
       "      <td>2018-05-25</td>\n",
       "      <td>2018-05-01</td>\n",
       "    </tr>\n",
       "    <tr>\n",
       "      <td>1</td>\n",
       "      <td>2018-01-01</td>\n",
       "      <td>1</td>\n",
       "      <td>1001</td>\n",
       "      <td>2018-11-01</td>\n",
       "      <td>2018-11-01</td>\n",
       "    </tr>\n",
       "    <tr>\n",
       "      <td>2</td>\n",
       "      <td>2018-01-01</td>\n",
       "      <td>1</td>\n",
       "      <td>1002</td>\n",
       "      <td>2018-06-17</td>\n",
       "      <td>2018-06-01</td>\n",
       "    </tr>\n",
       "    <tr>\n",
       "      <td>3</td>\n",
       "      <td>2018-01-01</td>\n",
       "      <td>1</td>\n",
       "      <td>1003</td>\n",
       "      <td>2018-08-17</td>\n",
       "      <td>2018-08-01</td>\n",
       "    </tr>\n",
       "    <tr>\n",
       "      <td>4</td>\n",
       "      <td>2018-01-01</td>\n",
       "      <td>1</td>\n",
       "      <td>1004</td>\n",
       "      <td>2018-05-14</td>\n",
       "      <td>2018-05-01</td>\n",
       "    </tr>\n",
       "    <tr>\n",
       "      <td>...</td>\n",
       "      <td>...</td>\n",
       "      <td>...</td>\n",
       "      <td>...</td>\n",
       "      <td>...</td>\n",
       "      <td>...</td>\n",
       "    </tr>\n",
       "    <tr>\n",
       "      <td>5995</td>\n",
       "      <td>2018-12-01</td>\n",
       "      <td>1</td>\n",
       "      <td>1495</td>\n",
       "      <td>2018-08-28</td>\n",
       "      <td>2018-08-01</td>\n",
       "    </tr>\n",
       "    <tr>\n",
       "      <td>5996</td>\n",
       "      <td>2018-12-01</td>\n",
       "      <td>1</td>\n",
       "      <td>1496</td>\n",
       "      <td>2018-01-27</td>\n",
       "      <td>2018-01-01</td>\n",
       "    </tr>\n",
       "    <tr>\n",
       "      <td>5997</td>\n",
       "      <td>2018-12-01</td>\n",
       "      <td>1</td>\n",
       "      <td>1497</td>\n",
       "      <td>2018-10-09</td>\n",
       "      <td>2018-10-01</td>\n",
       "    </tr>\n",
       "    <tr>\n",
       "      <td>5998</td>\n",
       "      <td>2018-12-01</td>\n",
       "      <td>1</td>\n",
       "      <td>1498</td>\n",
       "      <td>2018-07-19</td>\n",
       "      <td>2018-07-01</td>\n",
       "    </tr>\n",
       "    <tr>\n",
       "      <td>5999</td>\n",
       "      <td>2018-12-01</td>\n",
       "      <td>1</td>\n",
       "      <td>1499</td>\n",
       "      <td>2018-09-27</td>\n",
       "      <td>2018-09-01</td>\n",
       "    </tr>\n",
       "  </tbody>\n",
       "</table>\n",
       "<p>6000 rows × 5 columns</p>\n",
       "</div>"
      ],
      "text/plain": [
       "          month  key  user_id   reg_date  reg_month\n",
       "0    2018-01-01    1     1000 2018-05-25 2018-05-01\n",
       "1    2018-01-01    1     1001 2018-11-01 2018-11-01\n",
       "2    2018-01-01    1     1002 2018-06-17 2018-06-01\n",
       "3    2018-01-01    1     1003 2018-08-17 2018-08-01\n",
       "4    2018-01-01    1     1004 2018-05-14 2018-05-01\n",
       "...         ...  ...      ...        ...        ...\n",
       "5995 2018-12-01    1     1495 2018-08-28 2018-08-01\n",
       "5996 2018-12-01    1     1496 2018-01-27 2018-01-01\n",
       "5997 2018-12-01    1     1497 2018-10-09 2018-10-01\n",
       "5998 2018-12-01    1     1498 2018-07-19 2018-07-01\n",
       "5999 2018-12-01    1     1499 2018-09-27 2018-09-01\n",
       "\n",
       "[6000 rows x 5 columns]"
      ]
     },
     "execution_count": 31,
     "metadata": {},
     "output_type": "execute_result"
    }
   ],
   "source": [
    "dr['key'] = 1\n",
    "user['key'] = 1\n",
    "report = dr.merge(user,on='key')\n",
    "len(report)\n",
    "report['reg_month']=report['reg_date'].values.astype('datetime64[M]')\n",
    "report"
   ]
  },
  {
   "cell_type": "markdown",
   "metadata": {},
   "source": [
    "Видим что у нас есть строки с месяцами, когда пользователь еще не был зарегистрирован."
   ]
  },
  {
   "cell_type": "code",
   "execution_count": 32,
   "metadata": {},
   "outputs": [
    {
     "data": {
      "text/plain": [
       "3259"
      ]
     },
     "execution_count": 32,
     "metadata": {},
     "output_type": "execute_result"
    }
   ],
   "source": [
    "len(report[report['month']>=report['reg_month']])"
   ]
  },
  {
   "cell_type": "markdown",
   "metadata": {},
   "source": [
    "Оставим только корректные строки, которые показывают месяцы для пользователя начиная с месяца его регистрации и далее."
   ]
  },
  {
   "cell_type": "code",
   "execution_count": 33,
   "metadata": {},
   "outputs": [],
   "source": [
    "report = report[report['month']>=report['reg_month']]\n"
   ]
  },
  {
   "cell_type": "markdown",
   "metadata": {},
   "source": [
    "В таблицах с трафиком, звонками и смс создадим отдельную колонку с месяцами данных событий."
   ]
  },
  {
   "cell_type": "code",
   "execution_count": 34,
   "metadata": {},
   "outputs": [],
   "source": [
    "calls['month'] = calls['call_date'].values.astype('datetime64[M]')\n",
    "net['month'] = net['session_date'].values.astype('datetime64[M]')\n",
    "sms['month'] = sms['message_date'].values.astype('datetime64[M]')\n"
   ]
  },
  {
   "cell_type": "markdown",
   "metadata": {},
   "source": [
    "Перед тем как свести все данные в одну общую таблицу рассчитаем показатели для каждого клиента, которые будут в неё включены, а именно:\n",
    "* количество звонков в каждом месяце и суммарное количество израсходованных минут\n",
    "* количество отправленных сообщений по месяцам\n",
    "* объем израсходованного интернет-трафика по месяцам"
   ]
  },
  {
   "cell_type": "code",
   "execution_count": 35,
   "metadata": {},
   "outputs": [],
   "source": [
    "#количество звонков в каждом месяце и суммарное количество израсходованных минут\n",
    "calls_amount=calls.groupby(['user_id','month'])[['duration']].agg(['count', 'sum']).reset_index()\n",
    "calls_amount.columns=['user_id','month','amount_calls', 'total_dur']\n"
   ]
  },
  {
   "cell_type": "code",
   "execution_count": 36,
   "metadata": {},
   "outputs": [],
   "source": [
    "#количество отправленных сообщений по месяцам\n",
    "sms_amount=sms.groupby(['user_id','month'])[['id']].agg(['count']).reset_index()\n",
    "sms_amount.columns=['user_id','month','sms']"
   ]
  },
  {
   "cell_type": "code",
   "execution_count": 37,
   "metadata": {},
   "outputs": [],
   "source": [
    "#объем израсходованного интернет-трафика по месяцам;\n",
    "net_amount=net.groupby(['user_id','month'])[['mb_used']].agg(['sum']).reset_index()\n",
    "net_amount.columns=['user_id','month','mb_used']"
   ]
  },
  {
   "cell_type": "markdown",
   "metadata": {},
   "source": [
    "Из полученных сводных таблиц составим общую, где по каждому клиенту будет отражена информация по звонкам, смс и трафику в каждом месяце."
   ]
  },
  {
   "cell_type": "code",
   "execution_count": 38,
   "metadata": {},
   "outputs": [
    {
     "data": {
      "text/html": [
       "<div>\n",
       "<style scoped>\n",
       "    .dataframe tbody tr th:only-of-type {\n",
       "        vertical-align: middle;\n",
       "    }\n",
       "\n",
       "    .dataframe tbody tr th {\n",
       "        vertical-align: top;\n",
       "    }\n",
       "\n",
       "    .dataframe thead th {\n",
       "        text-align: right;\n",
       "    }\n",
       "</style>\n",
       "<table border=\"1\" class=\"dataframe\">\n",
       "  <thead>\n",
       "    <tr style=\"text-align: right;\">\n",
       "      <th></th>\n",
       "      <th>month</th>\n",
       "      <th>key</th>\n",
       "      <th>user_id</th>\n",
       "      <th>reg_date</th>\n",
       "      <th>reg_month</th>\n",
       "      <th>amount_calls</th>\n",
       "      <th>total_dur</th>\n",
       "      <th>sms</th>\n",
       "      <th>mb_used</th>\n",
       "    </tr>\n",
       "  </thead>\n",
       "  <tbody>\n",
       "    <tr>\n",
       "      <td>0</td>\n",
       "      <td>2018-01-01</td>\n",
       "      <td>1</td>\n",
       "      <td>1005</td>\n",
       "      <td>2018-01-25</td>\n",
       "      <td>2018-01-01</td>\n",
       "      <td>15.0</td>\n",
       "      <td>95.0</td>\n",
       "      <td>7.0</td>\n",
       "      <td>2730.0</td>\n",
       "    </tr>\n",
       "    <tr>\n",
       "      <td>1</td>\n",
       "      <td>2018-01-01</td>\n",
       "      <td>1</td>\n",
       "      <td>1032</td>\n",
       "      <td>2018-01-04</td>\n",
       "      <td>2018-01-01</td>\n",
       "      <td>61.0</td>\n",
       "      <td>380.0</td>\n",
       "      <td>38.0</td>\n",
       "      <td>24147.0</td>\n",
       "    </tr>\n",
       "    <tr>\n",
       "      <td>2</td>\n",
       "      <td>2018-01-01</td>\n",
       "      <td>1</td>\n",
       "      <td>1045</td>\n",
       "      <td>2018-01-30</td>\n",
       "      <td>2018-01-01</td>\n",
       "      <td>1.0</td>\n",
       "      <td>9.0</td>\n",
       "      <td>5.0</td>\n",
       "      <td>2348.0</td>\n",
       "    </tr>\n",
       "    <tr>\n",
       "      <td>3</td>\n",
       "      <td>2018-01-01</td>\n",
       "      <td>1</td>\n",
       "      <td>1055</td>\n",
       "      <td>2018-01-02</td>\n",
       "      <td>2018-01-01</td>\n",
       "      <td>64.0</td>\n",
       "      <td>551.0</td>\n",
       "      <td>30.0</td>\n",
       "      <td>17111.0</td>\n",
       "    </tr>\n",
       "    <tr>\n",
       "      <td>4</td>\n",
       "      <td>2018-01-01</td>\n",
       "      <td>1</td>\n",
       "      <td>1071</td>\n",
       "      <td>2018-01-09</td>\n",
       "      <td>2018-01-01</td>\n",
       "      <td>24.0</td>\n",
       "      <td>194.0</td>\n",
       "      <td>16.0</td>\n",
       "      <td>15622.0</td>\n",
       "    </tr>\n",
       "  </tbody>\n",
       "</table>\n",
       "</div>"
      ],
      "text/plain": [
       "       month  key  user_id   reg_date  reg_month  amount_calls  total_dur  \\\n",
       "0 2018-01-01    1     1005 2018-01-25 2018-01-01          15.0       95.0   \n",
       "1 2018-01-01    1     1032 2018-01-04 2018-01-01          61.0      380.0   \n",
       "2 2018-01-01    1     1045 2018-01-30 2018-01-01           1.0        9.0   \n",
       "3 2018-01-01    1     1055 2018-01-02 2018-01-01          64.0      551.0   \n",
       "4 2018-01-01    1     1071 2018-01-09 2018-01-01          24.0      194.0   \n",
       "\n",
       "    sms  mb_used  \n",
       "0   7.0   2730.0  \n",
       "1  38.0  24147.0  \n",
       "2   5.0   2348.0  \n",
       "3  30.0  17111.0  \n",
       "4  16.0  15622.0  "
      ]
     },
     "execution_count": 38,
     "metadata": {},
     "output_type": "execute_result"
    }
   ],
   "source": [
    "report1 = report.merge(calls_amount,how='left',on=['user_id','month'])\n",
    "report2 = report1.merge(sms_amount,how='left',on=['user_id','month'])\n",
    "report3 = report2.merge(net_amount,how='left',on=['user_id','month'])\n",
    "report3.head()"
   ]
  },
  {
   "cell_type": "markdown",
   "metadata": {},
   "source": [
    "В данной таблице нам еще не хватает ряда характеристик клиентов, а также условий их тарифов."
   ]
  },
  {
   "cell_type": "code",
   "execution_count": 39,
   "metadata": {},
   "outputs": [],
   "source": [
    "user_table=users[['user_id','tariff','city','age']]"
   ]
  },
  {
   "cell_type": "code",
   "execution_count": 40,
   "metadata": {},
   "outputs": [],
   "source": [
    "tariff.rename(columns={'tariff_name': 'tariff'},inplace=True)\n",
    "us_table=user_table.merge(tariff,how='left',on=['tariff'])"
   ]
  },
  {
   "cell_type": "code",
   "execution_count": 41,
   "metadata": {},
   "outputs": [
    {
     "data": {
      "text/html": [
       "<div>\n",
       "<style scoped>\n",
       "    .dataframe tbody tr th:only-of-type {\n",
       "        vertical-align: middle;\n",
       "    }\n",
       "\n",
       "    .dataframe tbody tr th {\n",
       "        vertical-align: top;\n",
       "    }\n",
       "\n",
       "    .dataframe thead th {\n",
       "        text-align: right;\n",
       "    }\n",
       "</style>\n",
       "<table border=\"1\" class=\"dataframe\">\n",
       "  <thead>\n",
       "    <tr style=\"text-align: right;\">\n",
       "      <th></th>\n",
       "      <th>user_id</th>\n",
       "      <th>tariff</th>\n",
       "      <th>city</th>\n",
       "      <th>age</th>\n",
       "      <th>messages_included</th>\n",
       "      <th>mb_per_month_included</th>\n",
       "      <th>minutes_included</th>\n",
       "      <th>rub_monthly_fee</th>\n",
       "      <th>rub_per_gb</th>\n",
       "      <th>rub_per_message</th>\n",
       "      <th>rub_per_minute</th>\n",
       "    </tr>\n",
       "  </thead>\n",
       "  <tbody>\n",
       "    <tr>\n",
       "      <td>0</td>\n",
       "      <td>1000</td>\n",
       "      <td>ultra</td>\n",
       "      <td>Краснодар</td>\n",
       "      <td>52</td>\n",
       "      <td>1000</td>\n",
       "      <td>30720</td>\n",
       "      <td>3000</td>\n",
       "      <td>1950</td>\n",
       "      <td>150</td>\n",
       "      <td>1</td>\n",
       "      <td>1</td>\n",
       "    </tr>\n",
       "    <tr>\n",
       "      <td>1</td>\n",
       "      <td>1001</td>\n",
       "      <td>smart</td>\n",
       "      <td>Москва</td>\n",
       "      <td>41</td>\n",
       "      <td>50</td>\n",
       "      <td>15360</td>\n",
       "      <td>500</td>\n",
       "      <td>550</td>\n",
       "      <td>200</td>\n",
       "      <td>3</td>\n",
       "      <td>3</td>\n",
       "    </tr>\n",
       "    <tr>\n",
       "      <td>2</td>\n",
       "      <td>1002</td>\n",
       "      <td>smart</td>\n",
       "      <td>Стерлитамак</td>\n",
       "      <td>59</td>\n",
       "      <td>50</td>\n",
       "      <td>15360</td>\n",
       "      <td>500</td>\n",
       "      <td>550</td>\n",
       "      <td>200</td>\n",
       "      <td>3</td>\n",
       "      <td>3</td>\n",
       "    </tr>\n",
       "    <tr>\n",
       "      <td>3</td>\n",
       "      <td>1003</td>\n",
       "      <td>ultra</td>\n",
       "      <td>Москва</td>\n",
       "      <td>23</td>\n",
       "      <td>1000</td>\n",
       "      <td>30720</td>\n",
       "      <td>3000</td>\n",
       "      <td>1950</td>\n",
       "      <td>150</td>\n",
       "      <td>1</td>\n",
       "      <td>1</td>\n",
       "    </tr>\n",
       "    <tr>\n",
       "      <td>4</td>\n",
       "      <td>1004</td>\n",
       "      <td>ultra</td>\n",
       "      <td>Новокузнецк</td>\n",
       "      <td>68</td>\n",
       "      <td>1000</td>\n",
       "      <td>30720</td>\n",
       "      <td>3000</td>\n",
       "      <td>1950</td>\n",
       "      <td>150</td>\n",
       "      <td>1</td>\n",
       "      <td>1</td>\n",
       "    </tr>\n",
       "    <tr>\n",
       "      <td>...</td>\n",
       "      <td>...</td>\n",
       "      <td>...</td>\n",
       "      <td>...</td>\n",
       "      <td>...</td>\n",
       "      <td>...</td>\n",
       "      <td>...</td>\n",
       "      <td>...</td>\n",
       "      <td>...</td>\n",
       "      <td>...</td>\n",
       "      <td>...</td>\n",
       "      <td>...</td>\n",
       "    </tr>\n",
       "    <tr>\n",
       "      <td>495</td>\n",
       "      <td>1495</td>\n",
       "      <td>ultra</td>\n",
       "      <td>Иркутск</td>\n",
       "      <td>65</td>\n",
       "      <td>1000</td>\n",
       "      <td>30720</td>\n",
       "      <td>3000</td>\n",
       "      <td>1950</td>\n",
       "      <td>150</td>\n",
       "      <td>1</td>\n",
       "      <td>1</td>\n",
       "    </tr>\n",
       "    <tr>\n",
       "      <td>496</td>\n",
       "      <td>1496</td>\n",
       "      <td>smart</td>\n",
       "      <td>Вологда</td>\n",
       "      <td>36</td>\n",
       "      <td>50</td>\n",
       "      <td>15360</td>\n",
       "      <td>500</td>\n",
       "      <td>550</td>\n",
       "      <td>200</td>\n",
       "      <td>3</td>\n",
       "      <td>3</td>\n",
       "    </tr>\n",
       "    <tr>\n",
       "      <td>497</td>\n",
       "      <td>1497</td>\n",
       "      <td>smart</td>\n",
       "      <td>Челябинск</td>\n",
       "      <td>32</td>\n",
       "      <td>50</td>\n",
       "      <td>15360</td>\n",
       "      <td>500</td>\n",
       "      <td>550</td>\n",
       "      <td>200</td>\n",
       "      <td>3</td>\n",
       "      <td>3</td>\n",
       "    </tr>\n",
       "    <tr>\n",
       "      <td>498</td>\n",
       "      <td>1498</td>\n",
       "      <td>smart</td>\n",
       "      <td>Владикавказ</td>\n",
       "      <td>68</td>\n",
       "      <td>50</td>\n",
       "      <td>15360</td>\n",
       "      <td>500</td>\n",
       "      <td>550</td>\n",
       "      <td>200</td>\n",
       "      <td>3</td>\n",
       "      <td>3</td>\n",
       "    </tr>\n",
       "    <tr>\n",
       "      <td>499</td>\n",
       "      <td>1499</td>\n",
       "      <td>smart</td>\n",
       "      <td>Пермь</td>\n",
       "      <td>35</td>\n",
       "      <td>50</td>\n",
       "      <td>15360</td>\n",
       "      <td>500</td>\n",
       "      <td>550</td>\n",
       "      <td>200</td>\n",
       "      <td>3</td>\n",
       "      <td>3</td>\n",
       "    </tr>\n",
       "  </tbody>\n",
       "</table>\n",
       "<p>500 rows × 11 columns</p>\n",
       "</div>"
      ],
      "text/plain": [
       "     user_id tariff         city  age  messages_included  \\\n",
       "0       1000  ultra    Краснодар   52               1000   \n",
       "1       1001  smart       Москва   41                 50   \n",
       "2       1002  smart  Стерлитамак   59                 50   \n",
       "3       1003  ultra       Москва   23               1000   \n",
       "4       1004  ultra  Новокузнецк   68               1000   \n",
       "..       ...    ...          ...  ...                ...   \n",
       "495     1495  ultra      Иркутск   65               1000   \n",
       "496     1496  smart      Вологда   36                 50   \n",
       "497     1497  smart    Челябинск   32                 50   \n",
       "498     1498  smart  Владикавказ   68                 50   \n",
       "499     1499  smart        Пермь   35                 50   \n",
       "\n",
       "     mb_per_month_included  minutes_included  rub_monthly_fee  rub_per_gb  \\\n",
       "0                    30720              3000             1950         150   \n",
       "1                    15360               500              550         200   \n",
       "2                    15360               500              550         200   \n",
       "3                    30720              3000             1950         150   \n",
       "4                    30720              3000             1950         150   \n",
       "..                     ...               ...              ...         ...   \n",
       "495                  30720              3000             1950         150   \n",
       "496                  15360               500              550         200   \n",
       "497                  15360               500              550         200   \n",
       "498                  15360               500              550         200   \n",
       "499                  15360               500              550         200   \n",
       "\n",
       "     rub_per_message  rub_per_minute  \n",
       "0                  1               1  \n",
       "1                  3               3  \n",
       "2                  3               3  \n",
       "3                  1               1  \n",
       "4                  1               1  \n",
       "..               ...             ...  \n",
       "495                1               1  \n",
       "496                3               3  \n",
       "497                3               3  \n",
       "498                3               3  \n",
       "499                3               3  \n",
       "\n",
       "[500 rows x 11 columns]"
      ]
     },
     "execution_count": 41,
     "metadata": {},
     "output_type": "execute_result"
    }
   ],
   "source": [
    "us_table"
   ]
  },
  {
   "cell_type": "markdown",
   "metadata": {},
   "source": [
    "Присоединим к таблице с показателями по клиентам, основные характеристики клиентов и условия их тарифов."
   ]
  },
  {
   "cell_type": "code",
   "execution_count": 42,
   "metadata": {},
   "outputs": [],
   "source": [
    "df=report3.merge(us_table, how='left', on='user_id')"
   ]
  },
  {
   "cell_type": "code",
   "execution_count": 43,
   "metadata": {},
   "outputs": [
    {
     "data": {
      "text/html": [
       "<div>\n",
       "<style scoped>\n",
       "    .dataframe tbody tr th:only-of-type {\n",
       "        vertical-align: middle;\n",
       "    }\n",
       "\n",
       "    .dataframe tbody tr th {\n",
       "        vertical-align: top;\n",
       "    }\n",
       "\n",
       "    .dataframe thead th {\n",
       "        text-align: right;\n",
       "    }\n",
       "</style>\n",
       "<table border=\"1\" class=\"dataframe\">\n",
       "  <thead>\n",
       "    <tr style=\"text-align: right;\">\n",
       "      <th></th>\n",
       "      <th>month</th>\n",
       "      <th>key</th>\n",
       "      <th>user_id</th>\n",
       "      <th>reg_date</th>\n",
       "      <th>reg_month</th>\n",
       "      <th>amount_calls</th>\n",
       "      <th>total_dur</th>\n",
       "      <th>sms</th>\n",
       "      <th>mb_used</th>\n",
       "      <th>tariff</th>\n",
       "      <th>city</th>\n",
       "      <th>age</th>\n",
       "      <th>messages_included</th>\n",
       "      <th>mb_per_month_included</th>\n",
       "      <th>minutes_included</th>\n",
       "      <th>rub_monthly_fee</th>\n",
       "      <th>rub_per_gb</th>\n",
       "      <th>rub_per_message</th>\n",
       "      <th>rub_per_minute</th>\n",
       "    </tr>\n",
       "  </thead>\n",
       "  <tbody>\n",
       "    <tr>\n",
       "      <td>0</td>\n",
       "      <td>2018-01-01</td>\n",
       "      <td>1</td>\n",
       "      <td>1005</td>\n",
       "      <td>2018-01-25</td>\n",
       "      <td>2018-01-01</td>\n",
       "      <td>15.0</td>\n",
       "      <td>95.0</td>\n",
       "      <td>7.0</td>\n",
       "      <td>2730.0</td>\n",
       "      <td>smart</td>\n",
       "      <td>Набережные Челны</td>\n",
       "      <td>67</td>\n",
       "      <td>50</td>\n",
       "      <td>15360</td>\n",
       "      <td>500</td>\n",
       "      <td>550</td>\n",
       "      <td>200</td>\n",
       "      <td>3</td>\n",
       "      <td>3</td>\n",
       "    </tr>\n",
       "    <tr>\n",
       "      <td>1</td>\n",
       "      <td>2018-01-01</td>\n",
       "      <td>1</td>\n",
       "      <td>1032</td>\n",
       "      <td>2018-01-04</td>\n",
       "      <td>2018-01-01</td>\n",
       "      <td>61.0</td>\n",
       "      <td>380.0</td>\n",
       "      <td>38.0</td>\n",
       "      <td>24147.0</td>\n",
       "      <td>smart</td>\n",
       "      <td>Ульяновск</td>\n",
       "      <td>31</td>\n",
       "      <td>50</td>\n",
       "      <td>15360</td>\n",
       "      <td>500</td>\n",
       "      <td>550</td>\n",
       "      <td>200</td>\n",
       "      <td>3</td>\n",
       "      <td>3</td>\n",
       "    </tr>\n",
       "    <tr>\n",
       "      <td>2</td>\n",
       "      <td>2018-01-01</td>\n",
       "      <td>1</td>\n",
       "      <td>1045</td>\n",
       "      <td>2018-01-30</td>\n",
       "      <td>2018-01-01</td>\n",
       "      <td>1.0</td>\n",
       "      <td>9.0</td>\n",
       "      <td>5.0</td>\n",
       "      <td>2348.0</td>\n",
       "      <td>smart</td>\n",
       "      <td>Улан-Удэ</td>\n",
       "      <td>48</td>\n",
       "      <td>50</td>\n",
       "      <td>15360</td>\n",
       "      <td>500</td>\n",
       "      <td>550</td>\n",
       "      <td>200</td>\n",
       "      <td>3</td>\n",
       "      <td>3</td>\n",
       "    </tr>\n",
       "    <tr>\n",
       "      <td>3</td>\n",
       "      <td>2018-01-01</td>\n",
       "      <td>1</td>\n",
       "      <td>1055</td>\n",
       "      <td>2018-01-02</td>\n",
       "      <td>2018-01-01</td>\n",
       "      <td>64.0</td>\n",
       "      <td>551.0</td>\n",
       "      <td>30.0</td>\n",
       "      <td>17111.0</td>\n",
       "      <td>smart</td>\n",
       "      <td>Казань</td>\n",
       "      <td>39</td>\n",
       "      <td>50</td>\n",
       "      <td>15360</td>\n",
       "      <td>500</td>\n",
       "      <td>550</td>\n",
       "      <td>200</td>\n",
       "      <td>3</td>\n",
       "      <td>3</td>\n",
       "    </tr>\n",
       "    <tr>\n",
       "      <td>4</td>\n",
       "      <td>2018-01-01</td>\n",
       "      <td>1</td>\n",
       "      <td>1071</td>\n",
       "      <td>2018-01-09</td>\n",
       "      <td>2018-01-01</td>\n",
       "      <td>24.0</td>\n",
       "      <td>194.0</td>\n",
       "      <td>16.0</td>\n",
       "      <td>15622.0</td>\n",
       "      <td>smart</td>\n",
       "      <td>Омск</td>\n",
       "      <td>20</td>\n",
       "      <td>50</td>\n",
       "      <td>15360</td>\n",
       "      <td>500</td>\n",
       "      <td>550</td>\n",
       "      <td>200</td>\n",
       "      <td>3</td>\n",
       "      <td>3</td>\n",
       "    </tr>\n",
       "    <tr>\n",
       "      <td>...</td>\n",
       "      <td>...</td>\n",
       "      <td>...</td>\n",
       "      <td>...</td>\n",
       "      <td>...</td>\n",
       "      <td>...</td>\n",
       "      <td>...</td>\n",
       "      <td>...</td>\n",
       "      <td>...</td>\n",
       "      <td>...</td>\n",
       "      <td>...</td>\n",
       "      <td>...</td>\n",
       "      <td>...</td>\n",
       "      <td>...</td>\n",
       "      <td>...</td>\n",
       "      <td>...</td>\n",
       "      <td>...</td>\n",
       "      <td>...</td>\n",
       "      <td>...</td>\n",
       "      <td>...</td>\n",
       "    </tr>\n",
       "    <tr>\n",
       "      <td>3254</td>\n",
       "      <td>2018-12-01</td>\n",
       "      <td>1</td>\n",
       "      <td>1495</td>\n",
       "      <td>2018-08-28</td>\n",
       "      <td>2018-08-01</td>\n",
       "      <td>155.0</td>\n",
       "      <td>1031.0</td>\n",
       "      <td>84.0</td>\n",
       "      <td>23450.0</td>\n",
       "      <td>ultra</td>\n",
       "      <td>Иркутск</td>\n",
       "      <td>65</td>\n",
       "      <td>1000</td>\n",
       "      <td>30720</td>\n",
       "      <td>3000</td>\n",
       "      <td>1950</td>\n",
       "      <td>150</td>\n",
       "      <td>1</td>\n",
       "      <td>1</td>\n",
       "    </tr>\n",
       "    <tr>\n",
       "      <td>3255</td>\n",
       "      <td>2018-12-01</td>\n",
       "      <td>1</td>\n",
       "      <td>1496</td>\n",
       "      <td>2018-01-27</td>\n",
       "      <td>2018-01-01</td>\n",
       "      <td>80.0</td>\n",
       "      <td>518.0</td>\n",
       "      <td>51.0</td>\n",
       "      <td>20757.0</td>\n",
       "      <td>smart</td>\n",
       "      <td>Вологда</td>\n",
       "      <td>36</td>\n",
       "      <td>50</td>\n",
       "      <td>15360</td>\n",
       "      <td>500</td>\n",
       "      <td>550</td>\n",
       "      <td>200</td>\n",
       "      <td>3</td>\n",
       "      <td>3</td>\n",
       "    </tr>\n",
       "    <tr>\n",
       "      <td>3256</td>\n",
       "      <td>2018-12-01</td>\n",
       "      <td>1</td>\n",
       "      <td>1497</td>\n",
       "      <td>2018-10-09</td>\n",
       "      <td>2018-10-01</td>\n",
       "      <td>71.0</td>\n",
       "      <td>545.0</td>\n",
       "      <td>17.0</td>\n",
       "      <td>19940.0</td>\n",
       "      <td>smart</td>\n",
       "      <td>Челябинск</td>\n",
       "      <td>32</td>\n",
       "      <td>50</td>\n",
       "      <td>15360</td>\n",
       "      <td>500</td>\n",
       "      <td>550</td>\n",
       "      <td>200</td>\n",
       "      <td>3</td>\n",
       "      <td>3</td>\n",
       "    </tr>\n",
       "    <tr>\n",
       "      <td>3257</td>\n",
       "      <td>2018-12-01</td>\n",
       "      <td>1</td>\n",
       "      <td>1498</td>\n",
       "      <td>2018-07-19</td>\n",
       "      <td>2018-07-01</td>\n",
       "      <td>NaN</td>\n",
       "      <td>NaN</td>\n",
       "      <td>NaN</td>\n",
       "      <td>NaN</td>\n",
       "      <td>smart</td>\n",
       "      <td>Владикавказ</td>\n",
       "      <td>68</td>\n",
       "      <td>50</td>\n",
       "      <td>15360</td>\n",
       "      <td>500</td>\n",
       "      <td>550</td>\n",
       "      <td>200</td>\n",
       "      <td>3</td>\n",
       "      <td>3</td>\n",
       "    </tr>\n",
       "    <tr>\n",
       "      <td>3258</td>\n",
       "      <td>2018-12-01</td>\n",
       "      <td>1</td>\n",
       "      <td>1499</td>\n",
       "      <td>2018-09-27</td>\n",
       "      <td>2018-09-01</td>\n",
       "      <td>69.0</td>\n",
       "      <td>492.0</td>\n",
       "      <td>66.0</td>\n",
       "      <td>13077.0</td>\n",
       "      <td>smart</td>\n",
       "      <td>Пермь</td>\n",
       "      <td>35</td>\n",
       "      <td>50</td>\n",
       "      <td>15360</td>\n",
       "      <td>500</td>\n",
       "      <td>550</td>\n",
       "      <td>200</td>\n",
       "      <td>3</td>\n",
       "      <td>3</td>\n",
       "    </tr>\n",
       "  </tbody>\n",
       "</table>\n",
       "<p>3259 rows × 19 columns</p>\n",
       "</div>"
      ],
      "text/plain": [
       "          month  key  user_id   reg_date  reg_month  amount_calls  total_dur  \\\n",
       "0    2018-01-01    1     1005 2018-01-25 2018-01-01          15.0       95.0   \n",
       "1    2018-01-01    1     1032 2018-01-04 2018-01-01          61.0      380.0   \n",
       "2    2018-01-01    1     1045 2018-01-30 2018-01-01           1.0        9.0   \n",
       "3    2018-01-01    1     1055 2018-01-02 2018-01-01          64.0      551.0   \n",
       "4    2018-01-01    1     1071 2018-01-09 2018-01-01          24.0      194.0   \n",
       "...         ...  ...      ...        ...        ...           ...        ...   \n",
       "3254 2018-12-01    1     1495 2018-08-28 2018-08-01         155.0     1031.0   \n",
       "3255 2018-12-01    1     1496 2018-01-27 2018-01-01          80.0      518.0   \n",
       "3256 2018-12-01    1     1497 2018-10-09 2018-10-01          71.0      545.0   \n",
       "3257 2018-12-01    1     1498 2018-07-19 2018-07-01           NaN        NaN   \n",
       "3258 2018-12-01    1     1499 2018-09-27 2018-09-01          69.0      492.0   \n",
       "\n",
       "       sms  mb_used tariff              city  age  messages_included  \\\n",
       "0      7.0   2730.0  smart  Набережные Челны   67                 50   \n",
       "1     38.0  24147.0  smart         Ульяновск   31                 50   \n",
       "2      5.0   2348.0  smart          Улан-Удэ   48                 50   \n",
       "3     30.0  17111.0  smart            Казань   39                 50   \n",
       "4     16.0  15622.0  smart              Омск   20                 50   \n",
       "...    ...      ...    ...               ...  ...                ...   \n",
       "3254  84.0  23450.0  ultra           Иркутск   65               1000   \n",
       "3255  51.0  20757.0  smart           Вологда   36                 50   \n",
       "3256  17.0  19940.0  smart         Челябинск   32                 50   \n",
       "3257   NaN      NaN  smart       Владикавказ   68                 50   \n",
       "3258  66.0  13077.0  smart             Пермь   35                 50   \n",
       "\n",
       "      mb_per_month_included  minutes_included  rub_monthly_fee  rub_per_gb  \\\n",
       "0                     15360               500              550         200   \n",
       "1                     15360               500              550         200   \n",
       "2                     15360               500              550         200   \n",
       "3                     15360               500              550         200   \n",
       "4                     15360               500              550         200   \n",
       "...                     ...               ...              ...         ...   \n",
       "3254                  30720              3000             1950         150   \n",
       "3255                  15360               500              550         200   \n",
       "3256                  15360               500              550         200   \n",
       "3257                  15360               500              550         200   \n",
       "3258                  15360               500              550         200   \n",
       "\n",
       "      rub_per_message  rub_per_minute  \n",
       "0                   3               3  \n",
       "1                   3               3  \n",
       "2                   3               3  \n",
       "3                   3               3  \n",
       "4                   3               3  \n",
       "...               ...             ...  \n",
       "3254                1               1  \n",
       "3255                3               3  \n",
       "3256                3               3  \n",
       "3257                3               3  \n",
       "3258                3               3  \n",
       "\n",
       "[3259 rows x 19 columns]"
      ]
     },
     "execution_count": 43,
     "metadata": {},
     "output_type": "execute_result"
    }
   ],
   "source": [
    "df"
   ]
  },
  {
   "cell_type": "markdown",
   "metadata": {},
   "source": [
    "Проверим, что данные по всем клиентам присутствуют в итоговой таблице."
   ]
  },
  {
   "cell_type": "code",
   "execution_count": 44,
   "metadata": {},
   "outputs": [
    {
     "data": {
      "text/plain": [
       "500"
      ]
     },
     "execution_count": 44,
     "metadata": {},
     "output_type": "execute_result"
    }
   ],
   "source": [
    "df['user_id'].nunique()"
   ]
  },
  {
   "cell_type": "markdown",
   "metadata": {},
   "source": [
    "Изучим основную информацию по нашей итоговой таблице."
   ]
  },
  {
   "cell_type": "code",
   "execution_count": 45,
   "metadata": {},
   "outputs": [
    {
     "name": "stdout",
     "output_type": "stream",
     "text": [
      "<class 'pandas.core.frame.DataFrame'>\n",
      "Int64Index: 3259 entries, 0 to 3258\n",
      "Data columns (total 19 columns):\n",
      "month                    3259 non-null datetime64[ns]\n",
      "key                      3259 non-null int64\n",
      "user_id                  3259 non-null int64\n",
      "reg_date                 3259 non-null datetime64[ns]\n",
      "reg_month                3259 non-null datetime64[ns]\n",
      "amount_calls             3174 non-null float64\n",
      "total_dur                3174 non-null float64\n",
      "sms                      2717 non-null float64\n",
      "mb_used                  3203 non-null float64\n",
      "tariff                   3259 non-null object\n",
      "city                     3259 non-null object\n",
      "age                      3259 non-null int64\n",
      "messages_included        3259 non-null int64\n",
      "mb_per_month_included    3259 non-null int64\n",
      "minutes_included         3259 non-null int64\n",
      "rub_monthly_fee          3259 non-null int64\n",
      "rub_per_gb               3259 non-null int64\n",
      "rub_per_message          3259 non-null int64\n",
      "rub_per_minute           3259 non-null int64\n",
      "dtypes: datetime64[ns](3), float64(4), int64(10), object(2)\n",
      "memory usage: 509.2+ KB\n"
     ]
    }
   ],
   "source": [
    "df.info()"
   ]
  },
  {
   "cell_type": "markdown",
   "metadata": {},
   "source": [
    "Мы видим пропущенные значения по смс, звонкам и интернет-трафику, которые появились из-за того, что не все 500 клиентов пользовались каждой из этих услуг, поэтому заполним пропуски нолями."
   ]
  },
  {
   "cell_type": "code",
   "execution_count": 46,
   "metadata": {},
   "outputs": [],
   "source": [
    "df=df.fillna(0)"
   ]
  },
  {
   "cell_type": "markdown",
   "metadata": {},
   "source": [
    "Также можно отметить, что после рассчетов ряда показателей, они приняли не целочисленный тип данных, что также стоит исправить."
   ]
  },
  {
   "cell_type": "code",
   "execution_count": 47,
   "metadata": {},
   "outputs": [
    {
     "name": "stdout",
     "output_type": "stream",
     "text": [
      "<class 'pandas.core.frame.DataFrame'>\n",
      "Int64Index: 3259 entries, 0 to 3258\n",
      "Data columns (total 19 columns):\n",
      "month                    3259 non-null datetime64[ns]\n",
      "key                      3259 non-null int64\n",
      "user_id                  3259 non-null int64\n",
      "reg_date                 3259 non-null datetime64[ns]\n",
      "reg_month                3259 non-null datetime64[ns]\n",
      "amount_calls             3259 non-null int64\n",
      "total_dur                3259 non-null int64\n",
      "sms                      3259 non-null int64\n",
      "mb_used                  3259 non-null int64\n",
      "tariff                   3259 non-null object\n",
      "city                     3259 non-null object\n",
      "age                      3259 non-null int64\n",
      "messages_included        3259 non-null int64\n",
      "mb_per_month_included    3259 non-null int64\n",
      "minutes_included         3259 non-null int64\n",
      "rub_monthly_fee          3259 non-null int64\n",
      "rub_per_gb               3259 non-null int64\n",
      "rub_per_message          3259 non-null int64\n",
      "rub_per_minute           3259 non-null int64\n",
      "dtypes: datetime64[ns](3), int64(14), object(2)\n",
      "memory usage: 509.2+ KB\n"
     ]
    }
   ],
   "source": [
    "df[['amount_calls','total_dur','mb_used','sms']]=df[['amount_calls','total_dur','mb_used','sms']].astype('int64')\n",
    "df.info()"
   ]
  },
  {
   "cell_type": "markdown",
   "metadata": {},
   "source": [
    "Далее имея все необходимые данные, рассчитаем выручку с каждого клиента."
   ]
  },
  {
   "cell_type": "code",
   "execution_count": 48,
   "metadata": {},
   "outputs": [],
   "source": [
    "#сначала учтем особенность исчерпания лимита трафика - если лимит закончился - пользователь платит сразу за Гб.\n",
    "#создаддим пременную, которая отражает использование трафика сверх лимита, перевдя в Гб и округлив значения вверх до целых\n",
    "df['gb_over']=((df['mb_used']-df['mb_per_month_included'])/1024).apply(np.ceil).astype('int64')"
   ]
  },
  {
   "cell_type": "code",
   "execution_count": 49,
   "metadata": {},
   "outputs": [],
   "source": [
    "#прописываем функцию для расчета платы сверх тарифной стоимости, в случае исчерпания лимитов\n",
    "def over_tariff(row):\n",
    "    sms = (row['sms'] - row['messages_included']) * row['rub_per_message']\n",
    "    calls = (row['total_dur'] - row['minutes_included']) * row['rub_per_minute']\n",
    "    gb = row['gb_over']*row['rub_per_gb']\n",
    "    total = 0\n",
    "    for i in [sms, calls, gb]:\n",
    "        if i > 0:\n",
    "            total += i\n",
    "    return total\n",
    "\n",
    "df['over_tariff'] = df.apply(lambda x: over_tariff(x), axis=1)\n",
    "\n",
    "#рассчитываем ежемесячную выручку с клиента\n",
    "df['revenue']=df['over_tariff']+df['rub_monthly_fee'] "
   ]
  },
  {
   "cell_type": "markdown",
   "metadata": {},
   "source": [
    "### Вывод"
   ]
  },
  {
   "cell_type": "markdown",
   "metadata": {},
   "source": [
    "На данном этапе мы заменили тип данных, где это это требовалось, произвели расчет необходимых метрик и свели все данные в одну таблицу, которая будет использована нами для дальнейшего анализа поведения клиентов тарифов \"смарт\" и \"ультра\"."
   ]
  },
  {
   "cell_type": "markdown",
   "metadata": {},
   "source": [
    "<a id=\"step4\"></a> \n",
    "## Анализ данных"
   ]
  },
  {
   "cell_type": "markdown",
   "metadata": {},
   "source": [
    "Сделаем сводную таблицу, рассчитав сколько каждому клиенту требуется в среднем минут, смс и интернет трафика. А также определим среднюю выручку в месяц с каждого клиента."
   ]
  },
  {
   "cell_type": "code",
   "execution_count": 50,
   "metadata": {},
   "outputs": [
    {
     "data": {
      "text/html": [
       "<div>\n",
       "<style scoped>\n",
       "    .dataframe tbody tr th:only-of-type {\n",
       "        vertical-align: middle;\n",
       "    }\n",
       "\n",
       "    .dataframe tbody tr th {\n",
       "        vertical-align: top;\n",
       "    }\n",
       "\n",
       "    .dataframe thead th {\n",
       "        text-align: right;\n",
       "    }\n",
       "</style>\n",
       "<table border=\"1\" class=\"dataframe\">\n",
       "  <thead>\n",
       "    <tr style=\"text-align: right;\">\n",
       "      <th></th>\n",
       "      <th></th>\n",
       "      <th>mb_used</th>\n",
       "      <th>over_tariff</th>\n",
       "      <th>revenue</th>\n",
       "      <th>sms</th>\n",
       "      <th>total_dur</th>\n",
       "    </tr>\n",
       "    <tr>\n",
       "      <th>user_id</th>\n",
       "      <th>tariff</th>\n",
       "      <th></th>\n",
       "      <th></th>\n",
       "      <th></th>\n",
       "      <th></th>\n",
       "      <th></th>\n",
       "    </tr>\n",
       "  </thead>\n",
       "  <tbody>\n",
       "    <tr>\n",
       "      <td>1000</td>\n",
       "      <td>ultra</td>\n",
       "      <td>14325.5</td>\n",
       "      <td>0.0</td>\n",
       "      <td>1950.0</td>\n",
       "      <td>65.0</td>\n",
       "      <td>339.0</td>\n",
       "    </tr>\n",
       "    <tr>\n",
       "      <td>1001</td>\n",
       "      <td>smart</td>\n",
       "      <td>16252.5</td>\n",
       "      <td>400.0</td>\n",
       "      <td>950.0</td>\n",
       "      <td>0.0</td>\n",
       "      <td>422.0</td>\n",
       "    </tr>\n",
       "    <tr>\n",
       "      <td>1002</td>\n",
       "      <td>smart</td>\n",
       "      <td>17601.0</td>\n",
       "      <td>600.0</td>\n",
       "      <td>1150.0</td>\n",
       "      <td>11.0</td>\n",
       "      <td>214.0</td>\n",
       "    </tr>\n",
       "    <tr>\n",
       "      <td>1003</td>\n",
       "      <td>ultra</td>\n",
       "      <td>11368.0</td>\n",
       "      <td>0.0</td>\n",
       "      <td>1950.0</td>\n",
       "      <td>83.0</td>\n",
       "      <td>824.0</td>\n",
       "    </tr>\n",
       "    <tr>\n",
       "      <td>1004</td>\n",
       "      <td>ultra</td>\n",
       "      <td>17828.5</td>\n",
       "      <td>0.0</td>\n",
       "      <td>1950.0</td>\n",
       "      <td>154.5</td>\n",
       "      <td>132.5</td>\n",
       "    </tr>\n",
       "    <tr>\n",
       "      <td>...</td>\n",
       "      <td>...</td>\n",
       "      <td>...</td>\n",
       "      <td>...</td>\n",
       "      <td>...</td>\n",
       "      <td>...</td>\n",
       "      <td>...</td>\n",
       "    </tr>\n",
       "    <tr>\n",
       "      <td>1495</td>\n",
       "      <td>ultra</td>\n",
       "      <td>29393.0</td>\n",
       "      <td>0.0</td>\n",
       "      <td>1950.0</td>\n",
       "      <td>82.0</td>\n",
       "      <td>954.0</td>\n",
       "    </tr>\n",
       "    <tr>\n",
       "      <td>1496</td>\n",
       "      <td>smart</td>\n",
       "      <td>24067.5</td>\n",
       "      <td>1963.5</td>\n",
       "      <td>2513.5</td>\n",
       "      <td>41.5</td>\n",
       "      <td>524.0</td>\n",
       "    </tr>\n",
       "    <tr>\n",
       "      <td>1497</td>\n",
       "      <td>smart</td>\n",
       "      <td>14174.0</td>\n",
       "      <td>0.0</td>\n",
       "      <td>550.0</td>\n",
       "      <td>17.0</td>\n",
       "      <td>490.0</td>\n",
       "    </tr>\n",
       "    <tr>\n",
       "      <td>1498</td>\n",
       "      <td>smart</td>\n",
       "      <td>14045.0</td>\n",
       "      <td>600.0</td>\n",
       "      <td>1150.0</td>\n",
       "      <td>31.0</td>\n",
       "      <td>211.0</td>\n",
       "    </tr>\n",
       "    <tr>\n",
       "      <td>1499</td>\n",
       "      <td>smart</td>\n",
       "      <td>15443.0</td>\n",
       "      <td>324.0</td>\n",
       "      <td>874.0</td>\n",
       "      <td>53.5</td>\n",
       "      <td>470.5</td>\n",
       "    </tr>\n",
       "  </tbody>\n",
       "</table>\n",
       "<p>500 rows × 5 columns</p>\n",
       "</div>"
      ],
      "text/plain": [
       "                mb_used  over_tariff  revenue    sms  total_dur\n",
       "user_id tariff                                                 \n",
       "1000    ultra   14325.5          0.0   1950.0   65.0      339.0\n",
       "1001    smart   16252.5        400.0    950.0    0.0      422.0\n",
       "1002    smart   17601.0        600.0   1150.0   11.0      214.0\n",
       "1003    ultra   11368.0          0.0   1950.0   83.0      824.0\n",
       "1004    ultra   17828.5          0.0   1950.0  154.5      132.5\n",
       "...                 ...          ...      ...    ...        ...\n",
       "1495    ultra   29393.0          0.0   1950.0   82.0      954.0\n",
       "1496    smart   24067.5       1963.5   2513.5   41.5      524.0\n",
       "1497    smart   14174.0          0.0    550.0   17.0      490.0\n",
       "1498    smart   14045.0        600.0   1150.0   31.0      211.0\n",
       "1499    smart   15443.0        324.0    874.0   53.5      470.5\n",
       "\n",
       "[500 rows x 5 columns]"
      ]
     },
     "execution_count": 50,
     "metadata": {},
     "output_type": "execute_result"
    }
   ],
   "source": [
    "dfg=df.pivot_table(index=['user_id','tariff'], values=['total_dur', 'sms', 'mb_used', 'revenue','over_tariff'], aggfunc='median')\n",
    "dfg"
   ]
  },
  {
   "cell_type": "markdown",
   "metadata": {},
   "source": [
    "Создадим отдельные выборки по тарифам."
   ]
  },
  {
   "cell_type": "code",
   "execution_count": 51,
   "metadata": {},
   "outputs": [],
   "source": [
    "dfg_smart=dfg.query('tariff==\"smart\"')\n",
    "dfg_ultra=dfg.query('tariff==\"ultra\"')\n"
   ]
  },
  {
   "cell_type": "code",
   "execution_count": 52,
   "metadata": {},
   "outputs": [
    {
     "data": {
      "text/plain": [
       "351"
      ]
     },
     "execution_count": 52,
     "metadata": {},
     "output_type": "execute_result"
    }
   ],
   "source": [
    "len(dfg_smart)"
   ]
  },
  {
   "cell_type": "code",
   "execution_count": 53,
   "metadata": {},
   "outputs": [
    {
     "data": {
      "text/plain": [
       "149"
      ]
     },
     "execution_count": 53,
     "metadata": {},
     "output_type": "execute_result"
    }
   ],
   "source": [
    "len(dfg_ultra)"
   ]
  },
  {
   "cell_type": "markdown",
   "metadata": {},
   "source": [
    "В выборке с тарифом смарт клиентов больше более чем в 2 раза, чем в выборке с тарифом ультра."
   ]
  },
  {
   "cell_type": "code",
   "execution_count": 54,
   "metadata": {
    "scrolled": false
   },
   "outputs": [
    {
     "data": {
      "text/plain": [
       "0.8461538461538461"
      ]
     },
     "execution_count": 54,
     "metadata": {},
     "output_type": "execute_result"
    }
   ],
   "source": [
    "len(dfg_smart.query('over_tariff>0'))/len(dfg_smart)"
   ]
  },
  {
   "cell_type": "code",
   "execution_count": 55,
   "metadata": {},
   "outputs": [
    {
     "data": {
      "text/plain": [
       "0.1476510067114094"
      ]
     },
     "execution_count": 55,
     "metadata": {},
     "output_type": "execute_result"
    }
   ],
   "source": [
    "len(dfg_ultra.query('over_tariff>0'))/len(dfg_ultra)"
   ]
  },
  {
   "cell_type": "markdown",
   "metadata": {},
   "source": [
    "Около 85% клиентов тарифа смарт выходит за лимиты пакета услуг и платит сверх ежемесячной платы, в то время как только 15% абонентов \"ультра\" не укладываются в ограничения тарифа."
   ]
  },
  {
   "cell_type": "markdown",
   "metadata": {},
   "source": [
    "Далее рассмотрим средние показатели по каждому тарифу, а также их стандартное отклонение и дисперсию.\n",
    "\n"
   ]
  },
  {
   "cell_type": "code",
   "execution_count": 56,
   "metadata": {},
   "outputs": [
    {
     "data": {
      "text/html": [
       "<div>\n",
       "<style scoped>\n",
       "    .dataframe tbody tr th:only-of-type {\n",
       "        vertical-align: middle;\n",
       "    }\n",
       "\n",
       "    .dataframe tbody tr th {\n",
       "        vertical-align: top;\n",
       "    }\n",
       "\n",
       "    .dataframe thead tr th {\n",
       "        text-align: left;\n",
       "    }\n",
       "\n",
       "    .dataframe thead tr:last-of-type th {\n",
       "        text-align: right;\n",
       "    }\n",
       "</style>\n",
       "<table border=\"1\" class=\"dataframe\">\n",
       "  <thead>\n",
       "    <tr>\n",
       "      <th></th>\n",
       "      <th colspan=\"4\" halign=\"left\">mean</th>\n",
       "      <th colspan=\"4\" halign=\"left\">median</th>\n",
       "      <th colspan=\"4\" halign=\"left\">var</th>\n",
       "      <th colspan=\"4\" halign=\"left\">std</th>\n",
       "    </tr>\n",
       "    <tr>\n",
       "      <th></th>\n",
       "      <th>mb_used</th>\n",
       "      <th>revenue</th>\n",
       "      <th>sms</th>\n",
       "      <th>total_dur</th>\n",
       "      <th>mb_used</th>\n",
       "      <th>revenue</th>\n",
       "      <th>sms</th>\n",
       "      <th>total_dur</th>\n",
       "      <th>mb_used</th>\n",
       "      <th>revenue</th>\n",
       "      <th>sms</th>\n",
       "      <th>total_dur</th>\n",
       "      <th>mb_used</th>\n",
       "      <th>revenue</th>\n",
       "      <th>sms</th>\n",
       "      <th>total_dur</th>\n",
       "    </tr>\n",
       "    <tr>\n",
       "      <th>tariff</th>\n",
       "      <th></th>\n",
       "      <th></th>\n",
       "      <th></th>\n",
       "      <th></th>\n",
       "      <th></th>\n",
       "      <th></th>\n",
       "      <th></th>\n",
       "      <th></th>\n",
       "      <th></th>\n",
       "      <th></th>\n",
       "      <th></th>\n",
       "      <th></th>\n",
       "      <th></th>\n",
       "      <th></th>\n",
       "      <th></th>\n",
       "      <th></th>\n",
       "    </tr>\n",
       "  </thead>\n",
       "  <tbody>\n",
       "    <tr>\n",
       "      <td>smart</td>\n",
       "      <td>16691.854701</td>\n",
       "      <td>1298.735043</td>\n",
       "      <td>33.310541</td>\n",
       "      <td>433.779202</td>\n",
       "      <td>16807.0</td>\n",
       "      <td>1150.0</td>\n",
       "      <td>28.0</td>\n",
       "      <td>436.5</td>\n",
       "      <td>1.917326e+07</td>\n",
       "      <td>529611.229597</td>\n",
       "      <td>774.013289</td>\n",
       "      <td>26932.791823</td>\n",
       "      <td>4378.728076</td>\n",
       "      <td>727.743931</td>\n",
       "      <td>27.821094</td>\n",
       "      <td>164.112132</td>\n",
       "    </tr>\n",
       "    <tr>\n",
       "      <td>ultra</td>\n",
       "      <td>19766.765101</td>\n",
       "      <td>2048.154362</td>\n",
       "      <td>55.862416</td>\n",
       "      <td>547.124161</td>\n",
       "      <td>19105.0</td>\n",
       "      <td>1950.0</td>\n",
       "      <td>47.0</td>\n",
       "      <td>532.5</td>\n",
       "      <td>8.008200e+07</td>\n",
       "      <td>77678.158444</td>\n",
       "      <td>2438.242767</td>\n",
       "      <td>95948.992926</td>\n",
       "      <td>8948.854583</td>\n",
       "      <td>278.708016</td>\n",
       "      <td>49.378566</td>\n",
       "      <td>309.756344</td>\n",
       "    </tr>\n",
       "  </tbody>\n",
       "</table>\n",
       "</div>"
      ],
      "text/plain": [
       "                mean                                       median          \\\n",
       "             mb_used      revenue        sms   total_dur  mb_used revenue   \n",
       "tariff                                                                      \n",
       "smart   16691.854701  1298.735043  33.310541  433.779202  16807.0  1150.0   \n",
       "ultra   19766.765101  2048.154362  55.862416  547.124161  19105.0  1950.0   \n",
       "\n",
       "                                 var                              \\\n",
       "         sms total_dur       mb_used        revenue          sms   \n",
       "tariff                                                             \n",
       "smart   28.0     436.5  1.917326e+07  529611.229597   774.013289   \n",
       "ultra   47.0     532.5  8.008200e+07   77678.158444  2438.242767   \n",
       "\n",
       "                              std                                     \n",
       "           total_dur      mb_used     revenue        sms   total_dur  \n",
       "tariff                                                                \n",
       "smart   26932.791823  4378.728076  727.743931  27.821094  164.112132  \n",
       "ultra   95948.992926  8948.854583  278.708016  49.378566  309.756344  "
      ]
     },
     "execution_count": 56,
     "metadata": {},
     "output_type": "execute_result"
    }
   ],
   "source": [
    "dfg_st=dfg.pivot_table(index='tariff',values=['total_dur', 'sms', 'mb_used', 'revenue'],\n",
    "                       aggfunc=['mean','median','var','std'])\n",
    "dfg_st"
   ]
  },
  {
   "cell_type": "markdown",
   "metadata": {},
   "source": [
    "**Количество минут**\n",
    "\n",
    "В среднем пользователям тарифа смарт требуется около 437 минут в месяц, что составляет около 87% израсходования лимита, в то время как клиентам тарифа ультра необходимо около 533 минут - около 18% от лимита. При этом также стоит отметить, что стандартное отклонение по расходавнию минут у клиентов \"ультра\" почти в два раза выше, чем у клиентов \"смарт\". Это говорит о том, что разброс значений количества использованных минут выше в выборке у клиентов с тарифом \"ультра\", возможно, на это повлиял меньший размер выборки. Но основываясь на тех данных, которые имеются, мы можем говорить о том, что использование минут клиентами ультра менее предсказуемо."
   ]
  },
  {
   "cell_type": "markdown",
   "metadata": {},
   "source": [
    "**Количество СМС**\n",
    "\n",
    "\n",
    "Клиенты тарифа смарт в среднем отправляют 28 сообщений в месяц, используя 56% от лимита. Клиенты тарифа ультра в среднем пишут 47 смс в месяц, расходуя  около 0,05% лимита. Стандартные отклонения по данной величине примерно равны средним значениям в каждой выборке по тарифу."
   ]
  },
  {
   "cell_type": "markdown",
   "metadata": {},
   "source": [
    "**Интернет-трафик**\n",
    "\n",
    "В среднем пользователи тарифа смарт расходуют около 16807 Мб в месяц, превышая лимит примерно на 9%. Клиенты с тарифом \"ультра\" расходуют в среднем 19105 Мб в месяц, не выходя рамки лимита и расходуя его на 62%. При этом, исходя из значений стандартного отклонения, разброс значений по использованию трафика у клиентов тарифа ультра выше.\n",
    "\n"
   ]
  },
  {
   "cell_type": "markdown",
   "metadata": {},
   "source": [
    "**Средняя выручка**\n",
    "\n",
    "Средняя выручка с клиентов тарифа смарт составляет 1150 рублей, то есть клиент в среднем переплачивает в размере еще одной стоимости своего тарифа в месяц. Средняя выручка с клиента тарифа ультра составляет 1950 рублей, что непосредственно равняется ежемесячной плате по пакету предоставляемых услуг."
   ]
  },
  {
   "cell_type": "markdown",
   "metadata": {},
   "source": [
    "Расчет показателей с полными данными"
   ]
  },
  {
   "cell_type": "code",
   "execution_count": 57,
   "metadata": {},
   "outputs": [
    {
     "data": {
      "text/html": [
       "<div>\n",
       "<style scoped>\n",
       "    .dataframe tbody tr th:only-of-type {\n",
       "        vertical-align: middle;\n",
       "    }\n",
       "\n",
       "    .dataframe tbody tr th {\n",
       "        vertical-align: top;\n",
       "    }\n",
       "\n",
       "    .dataframe thead tr th {\n",
       "        text-align: left;\n",
       "    }\n",
       "\n",
       "    .dataframe thead tr:last-of-type th {\n",
       "        text-align: right;\n",
       "    }\n",
       "</style>\n",
       "<table border=\"1\" class=\"dataframe\">\n",
       "  <thead>\n",
       "    <tr>\n",
       "      <th></th>\n",
       "      <th colspan=\"4\" halign=\"left\">mean</th>\n",
       "      <th colspan=\"4\" halign=\"left\">median</th>\n",
       "      <th colspan=\"4\" halign=\"left\">var</th>\n",
       "      <th colspan=\"4\" halign=\"left\">std</th>\n",
       "    </tr>\n",
       "    <tr>\n",
       "      <th></th>\n",
       "      <th>mb_used</th>\n",
       "      <th>revenue</th>\n",
       "      <th>sms</th>\n",
       "      <th>total_dur</th>\n",
       "      <th>mb_used</th>\n",
       "      <th>revenue</th>\n",
       "      <th>sms</th>\n",
       "      <th>total_dur</th>\n",
       "      <th>mb_used</th>\n",
       "      <th>revenue</th>\n",
       "      <th>sms</th>\n",
       "      <th>total_dur</th>\n",
       "      <th>mb_used</th>\n",
       "      <th>revenue</th>\n",
       "      <th>sms</th>\n",
       "      <th>total_dur</th>\n",
       "    </tr>\n",
       "    <tr>\n",
       "      <th>tariff</th>\n",
       "      <th></th>\n",
       "      <th></th>\n",
       "      <th></th>\n",
       "      <th></th>\n",
       "      <th></th>\n",
       "      <th></th>\n",
       "      <th></th>\n",
       "      <th></th>\n",
       "      <th></th>\n",
       "      <th></th>\n",
       "      <th></th>\n",
       "      <th></th>\n",
       "      <th></th>\n",
       "      <th></th>\n",
       "      <th></th>\n",
       "      <th></th>\n",
       "    </tr>\n",
       "  </thead>\n",
       "  <tbody>\n",
       "    <tr>\n",
       "      <td>smart</td>\n",
       "      <td>16056.307590</td>\n",
       "      <td>1286.707057</td>\n",
       "      <td>33.028407</td>\n",
       "      <td>413.482912</td>\n",
       "      <td>16457.0</td>\n",
       "      <td>1013</td>\n",
       "      <td>28</td>\n",
       "      <td>419</td>\n",
       "      <td>3.695481e+07</td>\n",
       "      <td>672595.439013</td>\n",
       "      <td>800.072017</td>\n",
       "      <td>37674.978060</td>\n",
       "      <td>6079.046729</td>\n",
       "      <td>820.119161</td>\n",
       "      <td>28.285544</td>\n",
       "      <td>194.100433</td>\n",
       "    </tr>\n",
       "    <tr>\n",
       "      <td>ultra</td>\n",
       "      <td>19080.117296</td>\n",
       "      <td>2068.538767</td>\n",
       "      <td>48.333002</td>\n",
       "      <td>515.630219</td>\n",
       "      <td>19033.5</td>\n",
       "      <td>1950</td>\n",
       "      <td>37</td>\n",
       "      <td>508</td>\n",
       "      <td>1.075748e+08</td>\n",
       "      <td>140792.788048</td>\n",
       "      <td>2287.368601</td>\n",
       "      <td>104439.857156</td>\n",
       "      <td>10371.828992</td>\n",
       "      <td>375.223651</td>\n",
       "      <td>47.826442</td>\n",
       "      <td>323.171560</td>\n",
       "    </tr>\n",
       "  </tbody>\n",
       "</table>\n",
       "</div>"
      ],
      "text/plain": [
       "                mean                                       median              \\\n",
       "             mb_used      revenue        sms   total_dur  mb_used revenue sms   \n",
       "tariff                                                                          \n",
       "smart   16056.307590  1286.707057  33.028407  413.482912  16457.0    1013  28   \n",
       "ultra   19080.117296  2068.538767  48.333002  515.630219  19033.5    1950  37   \n",
       "\n",
       "                           var                                             \\\n",
       "       total_dur       mb_used        revenue          sms      total_dur   \n",
       "tariff                                                                      \n",
       "smart        419  3.695481e+07  672595.439013   800.072017   37674.978060   \n",
       "ultra        508  1.075748e+08  140792.788048  2287.368601  104439.857156   \n",
       "\n",
       "                 std                                     \n",
       "             mb_used     revenue        sms   total_dur  \n",
       "tariff                                                   \n",
       "smart    6079.046729  820.119161  28.285544  194.100433  \n",
       "ultra   10371.828992  375.223651  47.826442  323.171560  "
      ]
     },
     "execution_count": 57,
     "metadata": {},
     "output_type": "execute_result"
    }
   ],
   "source": [
    "df1=df.pivot_table(index='tariff',values=['total_dur', 'sms', 'mb_used', 'revenue'],\n",
    "                       aggfunc=['mean','median','var','std'])\n",
    "df1\n"
   ]
  },
  {
   "cell_type": "markdown",
   "metadata": {},
   "source": [
    "**Количество минут**\n",
    "\n",
    "В среднем пользователям тарифа смарт требуется около 419 минут в месяц, что составляет около 83% израсходования лимита, в то время как клиентам тарифа ультра необходимо около 508 минут - около 17% от лимита. При этом также стоит отметить, что стандартное отклонение по расходавнию минут у клиентов \"ультра\" в 1,7 раза выше, чем у клиентов \"смарт\". Это говорит о том, что разброс значений количества использованных минут выше в выборке у клиентов с тарифом \"ультра\", возможно, на это повлиял меньший размер выборки. Но основываясь на тех данных, которые имеются, мы можем говорить о том, что использование минут клиентами ультра менее предсказуемо."
   ]
  },
  {
   "cell_type": "markdown",
   "metadata": {},
   "source": [
    "**Количество СМС**\n",
    "\n",
    "\n",
    "Клиенты тарифа смарт в среднем отправляют 28 сообщений в месяц, используя 56% от лимита. Клиенты тарифа ультра в среднем пишут 37 смс в месяц, расходуя  около 0,04% лимита. Стандартное отклонения по данной величине у пользователей тарифа смарт примерно равно среднему значению, а выборке тарифа ультра данный показатель снова выше, что указывает на бОльший разброс значений."
   ]
  },
  {
   "cell_type": "markdown",
   "metadata": {},
   "source": [
    "##### **Интернет-трафик**\n",
    "\n",
    "В среднем пользователи тарифа смарт расходуют около 16457 Мб в месяц, превышая лимит примерно на 8%. Клиенты с тарифом \"ультра\" расходуют в среднем 19033 Мб в месяц, не выходя рамки лимита и расходуя его на 62%. При этом, исходя из значений стандартного отклонения, разброс значений по использованию трафика у клиентов тарифа ультра выше.\n",
    "\n"
   ]
  },
  {
   "cell_type": "markdown",
   "metadata": {},
   "source": [
    "**Средняя выручка**\n",
    "\n",
    "Средняя выручка с клиентов тарифа смарт составляет 1013 рублей, то есть клиент в среднем переплачивает 84% от одной стоимости своего тарифа в месяц. Средняя выручка с клиента тарифа ультра составляет 1950 рублей, что непосредственно равняется ежемесячной плате по пакету предоставляемых услуг."
   ]
  },
  {
   "cell_type": "markdown",
   "metadata": {},
   "source": [
    "*Для наглядности представленных выше данных построим диаграммы размаха.*"
   ]
  },
  {
   "cell_type": "code",
   "execution_count": 58,
   "metadata": {},
   "outputs": [],
   "source": [
    "df_smart=df.query('tariff==\"smart\"')\n",
    "df_ultra=df.query('tariff==\"ultra\"')"
   ]
  },
  {
   "cell_type": "code",
   "execution_count": 59,
   "metadata": {},
   "outputs": [
    {
     "data": {
      "image/png": "[encoded data removed]",
      "text/plain": [
       "<Figure size 432x288 with 1 Axes>"
      ]
     },
     "metadata": {
      "needs_background": "light"
     },
     "output_type": "display_data"
    },
    {
     "data": {
      "image/png": "[encoded data removed]",
      "text/plain": [
       "<Figure size 432x288 with 1 Axes>"
      ]
     },
     "metadata": {
      "needs_background": "light"
     },
     "output_type": "display_data"
    },
    {
     "data": {
      "image/png": "[encoded data removed]",
      "text/plain": [
       "<Figure size 432x288 with 1 Axes>"
      ]
     },
     "metadata": {
      "needs_background": "light"
     },
     "output_type": "display_data"
    },
    {
     "data": {
      "image/png": "[encoded data removed]",
      "text/plain": [
       "<Figure size 432x288 with 1 Axes>"
      ]
     },
     "metadata": {
      "needs_background": "light"
     },
     "output_type": "display_data"
    }
   ],
   "source": [
    "import seaborn as sns\n",
    "df_smart=df_smart.assign(Tariff=\"Smart\")\n",
    "df_ultra=df_ultra.assign(Tariff=\"Ultra\")\n",
    "cdf = pd.concat([df_smart, df_ultra])\n",
    "\n",
    "\n",
    "dict_label= {'total_dur':{'title':'Сравнение количества использованных минут','ylabel':'Количество минут'},\n",
    "            'sms': {'title':'Сравнение количества отправленных смс','ylabel':'Количество отправленных смс'},\n",
    "             'mb_used':{'title':'Сравнение использования трафика','ylabel':'Количество использованных Мб'},\n",
    "            'revenue':{'title':'Сравнение выручки','ylabel':'Выручка в рублях с одного клиента в месяц'}}\n",
    "\n",
    "for key, value in dict_label.items():\n",
    "    ax = sns.boxplot(y=key, x='Tariff', data=cdf)\n",
    "    plt.xlabel('Наименование тарифа')\n",
    "    plt.ylabel(value['ylabel'])\n",
    "    plt.title(value['title'])\n",
    "    plt.show()\n",
    "\n"
   ]
  },
  {
   "cell_type": "markdown",
   "metadata": {},
   "source": [
    "На диаграммах рассеяния видно, что разброс значений величин использования минут, мегабайт и смс у пользователей тарифа \"ультра\" выше, чем у клиентов \"смарт\". Данный факт подтверждался дисперсией и стандартным отклонением в ранее представленной таблице. Также стоит отметить, что в выборке по тарифу \"смарт\" присутствует больше выбросов. "
   ]
  },
  {
   "cell_type": "markdown",
   "metadata": {},
   "source": [
    "*Рассмотрим также распределения показателей использования минут, интернет-трафика и смс.*"
   ]
  },
  {
   "cell_type": "code",
   "execution_count": 60,
   "metadata": {},
   "outputs": [
    {
     "data": {
      "image/png": "[encoded data removed]",
      "text/plain": [
       "<Figure size 432x288 with 1 Axes>"
      ]
     },
     "metadata": {
      "needs_background": "light"
     },
     "output_type": "display_data"
    },
    {
     "data": {
      "image/png": "[encoded data removed]",
      "text/plain": [
       "<Figure size 432x288 with 1 Axes>"
      ]
     },
     "metadata": {
      "needs_background": "light"
     },
     "output_type": "display_data"
    },
    {
     "data": {
      "image/png": "[encoded data removed]",
      "text/plain": [
       "<Figure size 432x288 with 1 Axes>"
      ]
     },
     "metadata": {
      "needs_background": "light"
     },
     "output_type": "display_data"
    }
   ],
   "source": [
    "dict_label= {'total_dur':{'title':'Распределение количества использованных минут','xlabel':'Количество использованных минут'},\n",
    "            'sms': {'title':'Распределение количества отправленных смс','xlabel':'Количество отправленных смс'},\n",
    "             'mb_used':{'title':'Распределение использования интернет-трафика','xlabel':'Количество использованных Мб'}}\n",
    "\n",
    "for key, value in dict_label.items():\n",
    "    sns.distplot(df_smart[key],kde=False, label=\"smart\")\n",
    "    sns.distplot(df_ultra[key], kde=False, label=\"ultra\")\n",
    "    plt.legend()\n",
    "    plt.xlabel(value['xlabel'])\n",
    "    plt.title(value['title'])\n",
    "    plt.ylabel('Количество клиентов')\n",
    "    plt.show()\n",
    "   "
   ]
  },
  {
   "cell_type": "markdown",
   "metadata": {},
   "source": [
    "Из сравнительных графиков распределений мы видим, что в выборке по тарифу \"смарт\" по всем видам услуг имеется ярко выраженная мода в сравнении с выборкой по тарифу \"ультра\". Также можно вновь подтвердить вывод о том, что разброс значений в выборке \"ультра\" по смс, минутам и мегабайтам выше. Данный факт можно объяснить различными предположениями:\n",
    "\n",
    "* во-первых, размер выборки по тарифу смарт меньше в 2,3 раза, а значит в ней может быть большее отконение от истинной средней величины\n",
    "* во-вторых, около 85% пользователей тарифа смарт не выходят за установленные лимиты, а зачастую у них остаются еще и неизрасходованные минуты, смс и мегабайты. Иными словами, в рамках тарифа \"ультра\" пользователи имеют бОльшую свободу действий, в то время как клиенты \"смарт\" наоборот склонны исчерпывать свои лимиты и доплачивать сверх ежемесячной платы."
   ]
  },
  {
   "cell_type": "markdown",
   "metadata": {},
   "source": [
    "Годовые тенденции в потреблении услуг и платах</font>"
   ]
  },
  {
   "cell_type": "code",
   "execution_count": 61,
   "metadata": {},
   "outputs": [
    {
     "data": {
      "image/png": "[encoded data removed]",
      "text/plain": [
       "<Figure size 432x288 with 1 Axes>"
      ]
     },
     "metadata": {
      "needs_background": "light"
     },
     "output_type": "display_data"
    },
    {
     "data": {
      "image/png": "[encoded data removed]",
      "text/plain": [
       "<Figure size 432x288 with 1 Axes>"
      ]
     },
     "metadata": {
      "needs_background": "light"
     },
     "output_type": "display_data"
    },
    {
     "data": {
      "image/png": "[encoded data removed]",
      "text/plain": [
       "<Figure size 432x288 with 1 Axes>"
      ]
     },
     "metadata": {
      "needs_background": "light"
     },
     "output_type": "display_data"
    },
    {
     "data": {
      "image/png": "[encoded data removed]",
      "text/plain": [
       "<Figure size 432x288 with 1 Axes>"
      ]
     },
     "metadata": {
      "needs_background": "light"
     },
     "output_type": "display_data"
    }
   ],
   "source": [
    "dict_l= {'total_dur':{'title':'Среднее количество использованных минут в 2018 году','ylabel':'Среднее количество минут'},\n",
    "            'sms': {'title':'Среднее количество отправленных смс в 2018 году','ylabel':'Среднее количество отправленных смс'},\n",
    "             'mb_used':{'title':'Среднее количество использованных мегабайт в 2018 году','ylabel':'Среднее количество использованных Мб'},\n",
    "            'revenue':{'title':'Средняя выручка в 2018 году','ylabel':'Средняя выручка в рублях \\n с одного клиента в месяц'}}\n",
    "\n",
    "for key, value in dict_l.items():\n",
    "    df_sm=df_smart.pivot_table(index='month', values=key, aggfunc=['median'])\n",
    "    df_ul=df_ultra.pivot_table(index='month', values=key, aggfunc=['median'])\n",
    "    ak=df_sm.merge(df_ul, on='month')\n",
    "    g=ak.plot(logy=True,grid=True)\n",
    "    plt.xlabel('Месяц')\n",
    "    plt.ylabel(value['ylabel'])\n",
    "    plt.title(value['title'])\n",
    "    plt.legend(['Smart', 'Ultra'])\n",
    "    plt.show()\n"
   ]
  },
  {
   "cell_type": "code",
   "execution_count": 62,
   "metadata": {},
   "outputs": [
    {
     "data": {
      "text/html": [
       "<div>\n",
       "<style scoped>\n",
       "    .dataframe tbody tr th:only-of-type {\n",
       "        vertical-align: middle;\n",
       "    }\n",
       "\n",
       "    .dataframe tbody tr th {\n",
       "        vertical-align: top;\n",
       "    }\n",
       "\n",
       "    .dataframe thead tr th {\n",
       "        text-align: left;\n",
       "    }\n",
       "\n",
       "    .dataframe thead tr:last-of-type th {\n",
       "        text-align: right;\n",
       "    }\n",
       "</style>\n",
       "<table border=\"1\" class=\"dataframe\">\n",
       "  <thead>\n",
       "    <tr>\n",
       "      <th></th>\n",
       "      <th>count</th>\n",
       "    </tr>\n",
       "    <tr>\n",
       "      <th></th>\n",
       "      <th>user_id</th>\n",
       "    </tr>\n",
       "    <tr>\n",
       "      <th>month</th>\n",
       "      <th></th>\n",
       "    </tr>\n",
       "  </thead>\n",
       "  <tbody>\n",
       "    <tr>\n",
       "      <td>2018-01-01</td>\n",
       "      <td>9</td>\n",
       "    </tr>\n",
       "    <tr>\n",
       "      <td>2018-02-01</td>\n",
       "      <td>24</td>\n",
       "    </tr>\n",
       "    <tr>\n",
       "      <td>2018-03-01</td>\n",
       "      <td>37</td>\n",
       "    </tr>\n",
       "    <tr>\n",
       "      <td>2018-04-01</td>\n",
       "      <td>55</td>\n",
       "    </tr>\n",
       "    <tr>\n",
       "      <td>2018-05-01</td>\n",
       "      <td>67</td>\n",
       "    </tr>\n",
       "    <tr>\n",
       "      <td>2018-06-01</td>\n",
       "      <td>84</td>\n",
       "    </tr>\n",
       "    <tr>\n",
       "      <td>2018-07-01</td>\n",
       "      <td>91</td>\n",
       "    </tr>\n",
       "    <tr>\n",
       "      <td>2018-08-01</td>\n",
       "      <td>107</td>\n",
       "    </tr>\n",
       "    <tr>\n",
       "      <td>2018-09-01</td>\n",
       "      <td>116</td>\n",
       "    </tr>\n",
       "    <tr>\n",
       "      <td>2018-10-01</td>\n",
       "      <td>126</td>\n",
       "    </tr>\n",
       "    <tr>\n",
       "      <td>2018-11-01</td>\n",
       "      <td>141</td>\n",
       "    </tr>\n",
       "    <tr>\n",
       "      <td>2018-12-01</td>\n",
       "      <td>149</td>\n",
       "    </tr>\n",
       "  </tbody>\n",
       "</table>\n",
       "</div>"
      ],
      "text/plain": [
       "             count\n",
       "           user_id\n",
       "month             \n",
       "2018-01-01       9\n",
       "2018-02-01      24\n",
       "2018-03-01      37\n",
       "2018-04-01      55\n",
       "2018-05-01      67\n",
       "2018-06-01      84\n",
       "2018-07-01      91\n",
       "2018-08-01     107\n",
       "2018-09-01     116\n",
       "2018-10-01     126\n",
       "2018-11-01     141\n",
       "2018-12-01     149"
      ]
     },
     "execution_count": 62,
     "metadata": {},
     "output_type": "execute_result"
    }
   ],
   "source": [
    "df_ultra.pivot_table(index='month', values='user_id', aggfunc=['count'])"
   ]
  },
  {
   "cell_type": "markdown",
   "metadata": {},
   "source": [
    "На графиках представленных выше можно заметить, что в течние 2018 года наблюдается тенденция роста использования всех видов услуг пакета у пользователей обоих тарифов, не считая резкого снижения у пользователей тарифа ультра в феврале. Снижение в феврале количества использованных минут, Мб и смс у тарифа ультра может объясняться, тем, что данные за январь представлены всего по 9 клиентам, и они не были достаточно репрезентативны, в феврале количество клиентов выросло уже до 24, соответсвенно и средний показатель мог значительно измениться. Также можно предположить, что данное снижение было связано с перебоями поставки услуг у оператора, если таковые были зафиксированы в данный период.\n",
    "\n",
    "Что касается выручки, то клиенты тарифы ультра стабильно приносят компании значительно больше денег, в то время как выручка с клиентов тарифа смарт имеет ряд значительных колебаний в начале года и в конце имеет тенденцию роста, однако все еще в значительной мере не достигая уровня вырчуки с тарифа ультра."
   ]
  },
  {
   "cell_type": "markdown",
   "metadata": {},
   "source": [
    "Cколько в сумме принес каждый тариф"
   ]
  },
  {
   "cell_type": "code",
   "execution_count": 63,
   "metadata": {},
   "outputs": [
    {
     "data": {
      "text/html": [
       "<div>\n",
       "<style scoped>\n",
       "    .dataframe tbody tr th:only-of-type {\n",
       "        vertical-align: middle;\n",
       "    }\n",
       "\n",
       "    .dataframe tbody tr th {\n",
       "        vertical-align: top;\n",
       "    }\n",
       "\n",
       "    .dataframe thead tr th {\n",
       "        text-align: left;\n",
       "    }\n",
       "\n",
       "    .dataframe thead tr:last-of-type th {\n",
       "        text-align: right;\n",
       "    }\n",
       "</style>\n",
       "<table border=\"1\" class=\"dataframe\">\n",
       "  <thead>\n",
       "    <tr>\n",
       "      <th></th>\n",
       "      <th>count</th>\n",
       "      <th>sum</th>\n",
       "    </tr>\n",
       "    <tr>\n",
       "      <th></th>\n",
       "      <th>revenue</th>\n",
       "      <th>revenue</th>\n",
       "    </tr>\n",
       "    <tr>\n",
       "      <th>tariff</th>\n",
       "      <th></th>\n",
       "      <th></th>\n",
       "    </tr>\n",
       "  </thead>\n",
       "  <tbody>\n",
       "    <tr>\n",
       "      <td>smart</td>\n",
       "      <td>2253</td>\n",
       "      <td>2898951</td>\n",
       "    </tr>\n",
       "    <tr>\n",
       "      <td>ultra</td>\n",
       "      <td>1006</td>\n",
       "      <td>2080950</td>\n",
       "    </tr>\n",
       "  </tbody>\n",
       "</table>\n",
       "</div>"
      ],
      "text/plain": [
       "         count      sum\n",
       "       revenue  revenue\n",
       "tariff                 \n",
       "smart     2253  2898951\n",
       "ultra     1006  2080950"
      ]
     },
     "execution_count": 63,
     "metadata": {},
     "output_type": "execute_result"
    }
   ],
   "source": [
    "df.pivot_table(index='tariff', values='revenue', aggfunc=['count','sum'])"
   ]
  },
  {
   "cell_type": "markdown",
   "metadata": {},
   "source": [
    "Суммарно за год тариф смарт принес примерно на 28% выручки больше, однако необходимо отметить что и платежей по тарифу смарт совершалось примерно на 55% больше. "
   ]
  },
  {
   "cell_type": "markdown",
   "metadata": {},
   "source": [
    "### Вывод"
   ]
  },
  {
   "cell_type": "markdown",
   "metadata": {},
   "source": [
    "В результате анализа использования пакета услуг различных тарифов можно сделать следующие выводы о клиентах:\n",
    "\n",
    "* около 85% клиентов тарифа смарт выходит за лимиты пакета услуг и платит сверх ежемесячной платы, в то время как только 15% абонентов \"ультра\" не укладываются в ограничения тарифа;\n",
    "* разброс значений в выборке тарифа \"ультра\" по смс, минутам и мегабайтам выше и поведение клиентов данного тарифа сложнее прогнозировать;\n",
    "* средняя вырчка с клиента тарифа \"смарт\" составляет 1013 рублей в месяц, а с пользователя тарифа \"ультра\"-1950 рублей в месяц;\n",
    "* у клиентов обоих тарифов наблюдается рост спроса на использование предоставляемых услуг: звонки, смс и интернет-трафик;\n",
    "* клиенты тарифы ультра стабильно приносят компании значительно больше денег, в то время как выручка с клиентов тарифа смарт имеет ряд значительных колебаний в течение года и не достигает уровня выручки с тарифа ультра;\n",
    "* в 2018 году суммарная вырчука с тарифа смарт выше на 28%, при этом платежей по тарифу смарт совершалось примерно на 55% больше. Учитывая, что средняя выручка с клиента тарифа ультра выше,  потенциальный рост клиентов ультра мог бы принести компании бОльшую выручку чем с клиентов тарифа смарт. Однако для подтверждения данного вывода нам необходимо проверить гипотезу о разнице средних выручек между тарифами.\n",
    "\n"
   ]
  },
  {
   "cell_type": "markdown",
   "metadata": {},
   "source": [
    "<a id=\"step5\"></a> \n",
    "## Проверка гипотез"
   ]
  },
  {
   "cell_type": "markdown",
   "metadata": {},
   "source": [
    "* ***средняя выручка пользователей тарифов «Ультра» и «Смарт» различается***"
   ]
  },
  {
   "cell_type": "markdown",
   "metadata": {},
   "source": [
    "Для проверки гипотезы о равенстве среднего двух генеральных совокупностей по взятым из них выборкам, применяется метод scipy.stats.ttest_ind. Сформулируем нулевую и альтернативную гипотезы:\n",
    "\n",
    "* ***H0***: средняя выручка пользователей тарифов «Ультра» **равна** средней выручке пользователей тарифов «Смарт»\n",
    "* ***H1***: средняя выручка пользователей тарифов «Ультра» **не равна** средней выручке пользователей тарифов «Смарт»\n",
    "\n",
    "Проверим нулевую гипотезу на пятипроцентном уровне значимости."
   ]
  },
  {
   "cell_type": "code",
   "execution_count": 64,
   "metadata": {},
   "outputs": [
    {
     "name": "stdout",
     "output_type": "stream",
     "text": [
      "p-значение: 7.980167481905681e-164\n",
      "Отвергаем нулевую гипотезу\n"
     ]
    }
   ],
   "source": [
    "from scipy import stats as st\n",
    "alpha = 0.05\n",
    "results = st.ttest_ind(df_smart['revenue'],df_ultra['revenue'])\n",
    "print('p-значение:', results.pvalue)\n",
    "\n",
    "if (results.pvalue < alpha):\n",
    "    print(\"Отвергаем нулевую гипотезу\")\n",
    "else:\n",
    "    print(\"Не получилось отвергнуть нулевую гипотезу\")"
   ]
  },
  {
   "cell_type": "markdown",
   "metadata": {},
   "source": [
    "На пятипроцентном уровне значимости мы можем отвергнуть нулевую гипотезу о том, что средняя вырчука с пользователей разных тарифов равна. А значит, средняя выручка с клиентов разных тарифов различается."
   ]
  },
  {
   "cell_type": "markdown",
   "metadata": {},
   "source": [
    "* ***средняя выручка пользователей из Москвы отличается от выручки пользователей из других регионов***"
   ]
  },
  {
   "cell_type": "code",
   "execution_count": 65,
   "metadata": {},
   "outputs": [],
   "source": [
    "#создадим выборки для проверки гипотезы\n",
    "df_other=df.query('city!=\"Москва\"')\n",
    "df_moscow=df.query('city == \"Москва\"')"
   ]
  },
  {
   "cell_type": "markdown",
   "metadata": {},
   "source": [
    "Для проверки гипотезы о равенстве среднего двух генеральных совокупностей по взятым из них выборкам, применяется метод scipy.stats.ttest_ind. Сформулируем нулевую и альтернативную гипотезы:\n",
    "\n",
    "* ***H0***: средняя выручка пользователей из Москвы **равна** средней выручке пользователей из других регионов\n",
    "* ***H1***: средняя выручка пользователей из Москвы **не равна** средней выручке пользователей из других регионов\n",
    "\n",
    "Проверим нулевую гипотезу на пятипроцентном уровне значимости."
   ]
  },
  {
   "cell_type": "code",
   "execution_count": 66,
   "metadata": {},
   "outputs": [
    {
     "name": "stdout",
     "output_type": "stream",
     "text": [
      "p-значение: 0.4319222953257701\n",
      "Не получилось отвергнуть нулевую гипотезу\n"
     ]
    }
   ],
   "source": [
    "alpha = 0.05\n",
    "results = st.ttest_ind(df_other['revenue'],df_moscow['revenue'])\n",
    "print('p-значение:', results.pvalue)\n",
    "\n",
    "if (results.pvalue < alpha):\n",
    "    print(\"Отвергаем нулевую гипотезу\")\n",
    "else:\n",
    "    print(\"Не получилось отвергнуть нулевую гипотезу\")"
   ]
  },
  {
   "cell_type": "markdown",
   "metadata": {},
   "source": [
    "На пятипроцентном уровне значимости у нас нет оснований отвергнуть нулевую гипотезу о том, что средняя выручка с клиентов из москвы равна средней выручке с клиентов из других регионов."
   ]
  },
  {
   "cell_type": "markdown",
   "metadata": {},
   "source": [
    "### Вывод"
   ]
  },
  {
   "cell_type": "markdown",
   "metadata": {},
   "source": [
    "На даном этапе мы выяснили, что средняя вырчка с клиентов действительно отличается в зависмости от используемых ими тарифов, а также не подтвердили гипотезу о том, что средняя вырчука зависит от региона клиента."
   ]
  },
  {
   "cell_type": "markdown",
   "metadata": {},
   "source": [
    "<a id=\"step6\"></a> \n",
    "## Общий вывод"
   ]
  },
  {
   "cell_type": "markdown",
   "metadata": {},
   "source": [
    "В результате проведенного анализа базы данных клиентов федерального оператора сотовой связи \"Мегалайн\" мы можем сделать следующие выводы:\n",
    "\n",
    "* около 85% клиентов тарифа \"смарт\" выходит за лимиты пакета услуг и платит сверх ежемесячной платы, в то время как только 15% абонентов \"ультра\" не укладываются в ограничения тарифа;\n",
    "* разброс значений в выборке тарифа \"ультра\" по смс, минутам и мегабайтам выше, клиенты данного тарифа имеют бОльшую свободу действий в рамках установленных лимитов и их поведение сложнее прогнозировать;\n",
    "* у клиентов обоих тарифов наблюдается рост спроса на использование предоставляемых услуг: звонки, смс и интернет-трафик;\n",
    "* гипотеза о том, что средняя вырчука с клиентов из Москвы отличается от средней выручки с клиентов из других регионов не подтвердилась.\n",
    "\n",
    "Учитывая ряд следующих факторов:\n",
    "\n",
    "* на пятипроцентном уровне значимости мы можем говорить о том, что средняя выручка с клиента зависит от используемого им тарифа: средняя выручка с клиента тарифа \"смарт\" составляет 1013 рублей в месяц, а с пользователя тарифа \"ультра\"-1950 рублей в месяц;\n",
    "* клиенты тарифы ультра стабильно приносят компании значительно больше денег, в то время как средняя выручка с клиентов тарифа смарт имеет ряд значительных колебаний в течение года и не достигает уровня средней выручки с тарифа ультра;\n",
    "* несмотря на то, что в 2018 году суммарная вырчука с тарифа смарт выше на 28%, при этом платежей по тарифу смарт совершалось примерно на 55% больше;\n",
    "\n",
    "мы можем говорить о том, что потенциальный рост клиентов с тарифом \"ультра\" может принести бОльшую выручку компании, следовательно, в рекламных расходах стоит отдавать больше предпочтения продвижению тарифа \"ультра\". Также зная, что клиенты тарифы смарт склонны регулярно выходить за лимиты ограничений своего тарифа, можно предлагать им сменить тариф на \"ультра\", делая акцент на то, что в рамках данного тарифного плана у них будет больше свободы действий и не придется совершать доплаты сверх ежемесячного платежа.\n",
    "\n",
    "\n"
   ]
  }
 ],
 "metadata": {
  "kernelspec": {
   "display_name": "Python 3",
   "language": "python",
   "name": "python3"
  },
  "language_info": {
   "codemirror_mode": {
    "name": "ipython",
    "version": 3
   },
   "file_extension": ".py",
   "mimetype": "text/x-python",
   "name": "python",
   "nbconvert_exporter": "python",
   "pygments_lexer": "ipython3",
   "version": "3.8.3"
  },
  "toc": {
   "base_numbering": 1,
   "nav_menu": {},
   "number_sections": true,
   "sideBar": true,
   "skip_h1_title": true,
   "title_cell": "Table of Contents",
   "title_sidebar": "Contents",
   "toc_cell": false,
   "toc_position": {},
   "toc_section_display": true,
   "toc_window_display": false
  }
 },
 "nbformat": 4,
 "nbformat_minor": 2
}
